{
 "cells": [
  {
   "cell_type": "markdown",
   "metadata": {},
   "source": [
    "# PMDA\n",
    "\n",
    "PMDA implements a simple map-reduce scheme for parallel trajectory analysis for MDAnalysis. The trajectory is partitioned into blocks and analysis is performed separately and in parallel on each block (“map”). The results from each block are gathered and combined (“reduce”). PMDA contains a number of pre-defined analysis classes that are modelled after functionality in MDAnalysis.analysis and that can be used right away. However, often it can be almost as easy to write your own parallel class."
   ]
  },
  {
   "cell_type": "code",
   "execution_count": 1,
   "metadata": {},
   "outputs": [
    {
     "ename": "ModuleNotFoundError",
     "evalue": "No module named '__main__.util'; '__main__' is not a package",
     "output_type": "error",
     "traceback": [
      "\u001b[0;31m---------------------------------------------------------------------------\u001b[0m",
      "\u001b[0;31mModuleNotFoundError\u001b[0m                       Traceback (most recent call last)",
      "\u001b[0;32m<ipython-input-1-45732dfc8240>\u001b[0m in \u001b[0;36m<module>\u001b[0;34m\u001b[0m\n\u001b[1;32m     28\u001b[0m \u001b[0;32mimport\u001b[0m \u001b[0mnumpy\u001b[0m \u001b[0;32mas\u001b[0m \u001b[0mnp\u001b[0m\u001b[0;34m\u001b[0m\u001b[0m\n\u001b[1;32m     29\u001b[0m \u001b[0;34m\u001b[0m\u001b[0m\n\u001b[0;32m---> 30\u001b[0;31m \u001b[0;32mfrom\u001b[0m \u001b[0;34m.\u001b[0m\u001b[0mutil\u001b[0m \u001b[0;32mimport\u001b[0m \u001b[0mtimeit\u001b[0m\u001b[0;34m,\u001b[0m \u001b[0mmake_balanced_slices\u001b[0m\u001b[0;34m\u001b[0m\u001b[0m\n\u001b[0m\u001b[1;32m     31\u001b[0m \u001b[0;34m\u001b[0m\u001b[0m\n\u001b[1;32m     32\u001b[0m \u001b[0;34m\u001b[0m\u001b[0m\n",
      "\u001b[0;31mModuleNotFoundError\u001b[0m: No module named '__main__.util'; '__main__' is not a package"
     ]
    }
   ],
   "source": [
    "# %load parallel.py\n",
    "# vim: tabstop=4 expandtab shiftwidth=4 softtabstop=4\n",
    "#\n",
    "# PMDA\n",
    "# Copyright (c) 2017 The MDAnalysis Development Team and contributors\n",
    "# (see the file AUTHORS for the full list of names)\n",
    "#\n",
    "# Released under the GNU Public Licence, v2 or any higher version\n",
    "\"\"\"\n",
    "Parallel Analysis building blocks --- :mod:`pmda.parallel`\n",
    "==========================================================\n",
    "\n",
    "A collection of useful building blocks for creating Analysis\n",
    "classes.\n",
    "\n",
    "\"\"\"\n",
    "from __future__ import absolute_import, division\n",
    "from contextlib import contextmanager\n",
    "import warnings\n",
    "\n",
    "from six.moves import range\n",
    "\n",
    "import MDAnalysis as mda\n",
    "from dask.delayed import delayed\n",
    "import dask\n",
    "import dask.distributed\n",
    "from joblib import cpu_count\n",
    "import numpy as np\n",
    "\n",
    "from .util import timeit, make_balanced_slices\n",
    "\n",
    "\n",
    "class Timing(object):\n",
    "    \"\"\"\n",
    "    store various timeing results of obtained during a parallel analysis run\n",
    "    \"\"\"\n",
    "\n",
    "    def __init__(self, io, compute, total, universe, prepare, conclude):\n",
    "        self._io = io\n",
    "        self._compute = compute\n",
    "        self._total = total\n",
    "        self._cumulate = np.sum(io) + np.sum(compute)\n",
    "        self._universe = universe\n",
    "        self._prepare = prepare\n",
    "        self._conclude = conclude\n",
    "\n",
    "    @property\n",
    "    def io(self):\n",
    "        \"\"\"io time per frame\"\"\"\n",
    "        return self._io\n",
    "\n",
    "    @property\n",
    "    def compute(self):\n",
    "        \"\"\"compute time per frame\"\"\"\n",
    "        return self._compute\n",
    "\n",
    "    @property\n",
    "    def total(self):\n",
    "        \"\"\"wall time\"\"\"\n",
    "        return self._total\n",
    "\n",
    "    @property\n",
    "    def cumulate_time(self):\n",
    "        \"\"\"cumulative time of io and compute for each frame. This isn't equal to\n",
    "        `self.total / n_jobs` because `self.total` also includes the scheduler\n",
    "        overhead\n",
    "\n",
    "        \"\"\"\n",
    "        return self._cumulate\n",
    "\n",
    "    @property\n",
    "    def universe(self):\n",
    "        \"\"\"time to create a universe for each block\"\"\"\n",
    "        return self._universe\n",
    "\n",
    "    @property\n",
    "    def prepare(self):\n",
    "        \"\"\"time to prepare\"\"\"\n",
    "        return self._prepare\n",
    "\n",
    "    @property\n",
    "    def conclude(self):\n",
    "        \"\"\"time to conclude\"\"\"\n",
    "        return self._conclude\n",
    "\n",
    "\n",
    "class ParallelAnalysisBase(object):\n",
    "    \"\"\"Base class for defining parallel multi frame analysis\n",
    "\n",
    "    The class it is designed as a template for creating multiframe analyses.\n",
    "    This class will automatically take care of setting up the trajectory\n",
    "    reader for iterating in parallel.\n",
    "\n",
    "    To parallelize the analysis ``ParallelAnalysisBase`` separates the\n",
    "    trajectory into work blocks containing multiple frames. The number of\n",
    "    blocks is equal to the number of available cores or dask workers. This\n",
    "    minimizes the number of python processes that are started during a\n",
    "    calculation. Accumulation of frames within a block happens in the\n",
    "    `self._reduce` function. A consequence when using dask is that adding\n",
    "    additional workers during a computation will not result in an reduction\n",
    "    of run-time.\n",
    "\n",
    "\n",
    "    To define a new Analysis,\n",
    "    :class:`~pmda.parallel.ParallelAnalysisBase` needs to be\n",
    "    subclassed and\n",
    "    :meth:`~pmda.parallel.ParallelAnalysisBase._single_frame` and\n",
    "    :meth:`~pmda.parallel.ParallelAnalysisBase._conclude` must be\n",
    "    defined. It is also possible to define\n",
    "    :meth:`~~pmda.parallel.ParallelAnalysisBase._prepare` for\n",
    "    pre-processing and :meth:`~~pmda.parallel.ParallelAnalysisBase._reduce`\n",
    "    for custom reduce operation on the work blocks. See the example below.\n",
    "\n",
    "    .. code-block:: python\n",
    "\n",
    "       class NewAnalysis(ParallelAnalysisBase):\n",
    "           def __init__(self, atomgroup, parameter):\n",
    "               self._ag = atomgroup\n",
    "               super(NewAnalysis, self).__init__(atomgroup.universe,\n",
    "                                                 self._ag)\n",
    "\n",
    "           def _single_frame(self, ts, agroups):\n",
    "               # REQUIRED\n",
    "               # called for every frame. ``ts`` contains the current time step\n",
    "               # and ``agroups`` a tuple of atomgroups that are updated to the\n",
    "               # current frame. Return result of `some_function` for a single\n",
    "               # frame\n",
    "               return some_function(agroups[0], self._parameter)\n",
    "\n",
    "           def _conclude(self):\n",
    "               # REQUIRED\n",
    "               # Called once iteration on the trajectory is finished. Results\n",
    "               # for each frame are stored in ``self._results`` in a per block\n",
    "               # basis. Here those results should be moved and reshaped into a\n",
    "               # sensible new variable.\n",
    "               self.results = np.hstack(self._results)\n",
    "               # Apply normalisation and averaging to results here if wanted.\n",
    "               self.results /= np.sum(self.results\n",
    "\n",
    "           @staticmethod\n",
    "           def _reduce(res, result_single_frame):\n",
    "               # NOT REQUIRED\n",
    "               # Called for every frame. ``res`` contains all the results\n",
    "               # before current time step, and ``result_single_frame`` is the\n",
    "               # result of self._single_frame for the current time step. The\n",
    "               # return value is the updated ``res``. The default is to append\n",
    "               # results to a python list. This approach is sufficient for\n",
    "               # time-series data.\n",
    "               res.append(results_single_frame)\n",
    "               # This is not suitable for every analysis. To add results over\n",
    "               # multiple frames this function can be overwritten. The default\n",
    "               # value for ``res`` is an empty list. Here we change the type to\n",
    "               # the return type of `self._single_frame`. Afterwards we can\n",
    "               # safely use addition to accumulate the results.\n",
    "               if res == []:\n",
    "                   res = result_single_frame\n",
    "               else:\n",
    "                   res += result_single_frame\n",
    "               # If you overwrite this function *always* return the updated\n",
    "               # ``res`` at the end.\n",
    "               return res\n",
    "\n",
    "    Afterwards the new analysis can be run like this.\n",
    "\n",
    "    .. code-block:: python\n",
    "\n",
    "       na = NewAnalysis(u.select_atoms('name CA'), 35).run()\n",
    "       print(na.result)\n",
    "\n",
    "    \"\"\"\n",
    "\n",
    "    def __init__(self, universe, atomgroups):\n",
    "        \"\"\"Parameters\n",
    "        ----------\n",
    "        Universe : :class:`~MDAnalysis.core.groups.Universe`\n",
    "            a :class:`MDAnalysis.core.groups.Universe` (the\n",
    "            `atomgroups` must belong to this Universe)\n",
    "\n",
    "        atomgroups : tuple of :class:`~MDAnalysis.core.groups.AtomGroup`\n",
    "            atomgroups that are iterated in parallel\n",
    "\n",
    "        Attributes\n",
    "        ----------\n",
    "        _results : list\n",
    "            The raw data from each process are stored as a list of\n",
    "            lists, with each sublist containing the return values from\n",
    "            :meth:`pmda.parallel.ParallelAnalysisBase._single_frame`.\n",
    "\n",
    "        \"\"\"\n",
    "        self._trajectory = universe.trajectory\n",
    "        self._top = universe.filename\n",
    "        self._traj = universe.trajectory.filename\n",
    "        self._indices = [ag.indices for ag in atomgroups]\n",
    "\n",
    "    @contextmanager\n",
    "    def readonly_attributes(self):\n",
    "        \"\"\"Set the attributes of this class to be read only\n",
    "\n",
    "        Useful to avoid the class being modified when passing it around.\n",
    "\n",
    "        To be used as a context manager::\n",
    "\n",
    "          with analysis.readonly_attributes():\n",
    "              some_function(analysis)\n",
    "\n",
    "        \"\"\"\n",
    "        self._attr_lock = True\n",
    "        yield\n",
    "        self._attr_lock = False\n",
    "\n",
    "    def __setattr__(self, key, val):\n",
    "        # guards to stop people assigning to self when they shouldn't\n",
    "        # if locked, the only attribute you can modify is _attr_lock\n",
    "        # if self._attr_lock isn't set, default to unlocked\n",
    "        if key == '_attr_lock' or not getattr(self, '_attr_lock', False):\n",
    "            super(ParallelAnalysisBase, self).__setattr__(key, val)\n",
    "        else:\n",
    "            # raise HalError(\"I'm sorry Dave, I'm afraid I can't do that\")\n",
    "            raise AttributeError(\"Can't set attribute at this time\")\n",
    "\n",
    "    def _conclude(self):\n",
    "        \"\"\"Finalise the results you've gathered.\n",
    "\n",
    "        Called at the end of the run() method to finish everything up.\n",
    "\n",
    "        In general this method should unpack :attr:`self._results` to\n",
    "        sensible variables.\n",
    "\n",
    "        \"\"\"\n",
    "        pass\n",
    "\n",
    "    def _prepare(self):\n",
    "        \"\"\"additional preparation to run\"\"\"\n",
    "        pass\n",
    "\n",
    "    def _single_frame(self, ts, atomgroups):\n",
    "        \"\"\"Perform computation on a single trajectory frame.\n",
    "\n",
    "        Must return computed values as a list. You can only **read**\n",
    "        from member variables stored in ``self``. Changing them during\n",
    "        a run will result in undefined behavior. `ts` and any of the\n",
    "        atomgroups can be changed (but changes will be overwritten\n",
    "        when the next time step is read).\n",
    "\n",
    "        Parameters\n",
    "        ----------\n",
    "        ts : :class:`~MDAnalysis.coordinates.base.Timestep`\n",
    "            The current coordinate frame (time step) in the\n",
    "            trajectory.\n",
    "        atomgroups : tuple\n",
    "            Tuple of :class:`~MDAnalysis.core.groups.AtomGroup`\n",
    "            instances that are updated to the current frame.\n",
    "\n",
    "        Returns\n",
    "        -------\n",
    "        values : anything\n",
    "            The output from the computation over a single frame must\n",
    "            be returned. The `value` will be added to a list for each\n",
    "            block and the list of blocks is stored as :attr:`_results`\n",
    "            before :meth:`_conclude` is run. In order to simplify\n",
    "            processing, the `values` should be \"simple\" shallow data\n",
    "            structures such as arrays or lists of numbers.\n",
    "\n",
    "        \"\"\"\n",
    "        raise NotImplementedError\n",
    "\n",
    "    def run(self,\n",
    "            start=None,\n",
    "            stop=None,\n",
    "            step=None,\n",
    "            n_jobs=1,\n",
    "            n_blocks=None):\n",
    "        \"\"\"Perform the calculation\n",
    "\n",
    "        Parameters\n",
    "        ----------\n",
    "        start : int, optional\n",
    "            start frame of analysis\n",
    "        stop : int, optional\n",
    "            stop frame of analysis\n",
    "        step : int, optional\n",
    "            number of frames to skip between each analysed frame\n",
    "        n_jobs : int, optional\n",
    "            number of jobs to start, if `-1` use number of logical cpu cores.\n",
    "            This argument will be ignored when the distributed scheduler is\n",
    "            used\n",
    "        n_blocks : int, optional\n",
    "            number of blocks to divide trajectory into. If ``None`` set equal\n",
    "            to n_jobs or number of available workers in scheduler.\n",
    "\n",
    "        \"\"\"\n",
    "        # are we using a distributed scheduler or should we use\n",
    "        # multiprocessing?\n",
    "        scheduler = dask.config.get('scheduler', None)\n",
    "        if scheduler is None:\n",
    "            # maybe we can grab a global worker\n",
    "            try:\n",
    "                scheduler = dask.distributed.worker.get_client()\n",
    "            except ValueError:\n",
    "                pass\n",
    "\n",
    "        if n_jobs == -1:\n",
    "            n_jobs = cpu_count()\n",
    "\n",
    "        # we could not find a global scheduler to use and we ask for a single\n",
    "        # job. Therefore we run this on the single threaded scheduler for\n",
    "        # debugging.\n",
    "        if scheduler is None and n_jobs == 1:\n",
    "            scheduler = 'single-threaded'\n",
    "\n",
    "        # fall back to multiprocessing, we tried everything\n",
    "        if scheduler is None:\n",
    "            scheduler = 'multiprocessing'\n",
    "\n",
    "        if n_blocks is None:\n",
    "            if scheduler == 'multiprocessing':\n",
    "                n_blocks = n_jobs\n",
    "            elif isinstance(scheduler, dask.distributed.Client):\n",
    "                n_blocks = len(scheduler.ncores())\n",
    "            else:\n",
    "                n_blocks = 1\n",
    "                warnings.warn(\n",
    "                    \"Couldn't guess ideal number of blocks from scheduler. \"\n",
    "                    \"Setting n_blocks=1. \"\n",
    "                    \"Please provide `n_blocks` in call to method.\")\n",
    "\n",
    "        scheduler_kwargs = {'scheduler': scheduler}\n",
    "        if scheduler == 'multiprocessing':\n",
    "            scheduler_kwargs['num_workers'] = n_jobs\n",
    "\n",
    "        start, stop, step = self._trajectory.check_slice_indices(\n",
    "            start, stop, step)\n",
    "        n_frames = len(range(start, stop, step))\n",
    "\n",
    "        if n_frames == 0:\n",
    "            warnings.warn(\"run() analyses no frames: check start/stop/step\")\n",
    "        if n_frames < n_blocks:\n",
    "            warnings.warn(\"run() uses more blocks than frames: \"\n",
    "                          \"decrease n_blocks\")\n",
    "\n",
    "        slices = make_balanced_slices(n_frames, n_blocks,\n",
    "                                      start=start, stop=stop, step=step)\n",
    "\n",
    "        with timeit() as total:\n",
    "            with timeit() as prepare:\n",
    "                self._prepare()\n",
    "            time_prepare = prepare.elapsed\n",
    "            blocks = []\n",
    "            with self.readonly_attributes():\n",
    "                for bslice in slices:\n",
    "                    task = delayed(\n",
    "                        self._dask_helper, pure=False)(\n",
    "                            bslice,\n",
    "                            self._indices,\n",
    "                            self._top,\n",
    "                            self._traj, )\n",
    "                    blocks.append(task)\n",
    "                blocks = delayed(blocks)\n",
    "                res = blocks.compute(**scheduler_kwargs)\n",
    "            # hack to handle n_frames == 0 in this framework\n",
    "            if len(res) == 0:\n",
    "                # everything else wants list of block tuples\n",
    "                res = [([], [], [], 0)]\n",
    "            self._results = np.asarray([el[0] for el in res])\n",
    "            with timeit() as conclude:\n",
    "                self._conclude()\n",
    "\n",
    "        self.timing = Timing(\n",
    "            np.hstack([el[1] for el in res]),\n",
    "            np.hstack([el[2] for el in res]), total.elapsed,\n",
    "            np.array([el[3] for el in res]), time_prepare, conclude.elapsed)\n",
    "        return self\n",
    "\n",
    "    def _dask_helper(self, bslice, indices, top, traj):\n",
    "        \"\"\"helper function to actually setup dask graph\"\"\"\n",
    "        with timeit() as b_universe:\n",
    "            u = mda.Universe(top, traj)\n",
    "            agroups = [u.atoms[idx] for idx in indices]\n",
    "\n",
    "        res = []\n",
    "        times_io = []\n",
    "        times_compute = []\n",
    "        # NOTE: bslice.stop cannot be None! Always make sure\n",
    "        #       that it comes from  _trajectory.check_slice_indices()!\n",
    "        for i in range(bslice.start, bslice.stop, bslice.step):\n",
    "            with timeit() as b_io:\n",
    "                # explicit instead of 'for ts in u.trajectory[bslice]'\n",
    "                # so that we can get accurate timing.\n",
    "                ts = u.trajectory[i]\n",
    "            with timeit() as b_compute:\n",
    "                res = self._reduce(res, self._single_frame(ts, agroups))\n",
    "            times_io.append(b_io.elapsed)\n",
    "            times_compute.append(b_compute.elapsed)\n",
    "\n",
    "        return np.asarray(res), np.asarray(times_io), np.asarray(\n",
    "            times_compute), b_universe.elapsed\n",
    "\n",
    "    @staticmethod\n",
    "    def _reduce(res, result_single_frame):\n",
    "        \"\"\" 'append' action for a time series\"\"\"\n",
    "        res.append(result_single_frame)\n",
    "        return res\n"
   ]
  },
  {
   "cell_type": "markdown",
   "metadata": {},
   "source": []
  },
  {
   "cell_type": "code",
   "execution_count": 2,
   "metadata": {},
   "outputs": [
    {
     "data": {
      "image/png": "[encoded data removed]",
      "text/plain": [
       "<IPython.core.display.Image object>"
      ]
     },
     "execution_count": 2,
     "metadata": {},
     "output_type": "execute_result"
    }
   ],
   "source": [
    "from IPython.core.display import Image\n",
    "Image('bcmk.png')"
   ]
  },
  {
   "cell_type": "markdown",
   "metadata": {},
   "source": [
    "# Tutorial\n",
    "\n",
    "This tutorial introduces basic use of PMDA:\n",
    "\n",
    "- Pre-defined parallel analysis tasks.\n",
    "- Building new parallel analysis modules with the `pmda.custom.AnalysisFromFunction`.\n",
    "- Building new parallel analysis with `pmda.parallel.ParallelAnalysisBase`.\n",
    "\n",
    "Here, we use pmda to perform a protein-ion binding analysis."
   ]
  },
  {
   "cell_type": "code",
   "execution_count": 1,
   "metadata": {},
   "outputs": [],
   "source": [
    "import MDAnalysis as mda\n",
    "import numpy as np\n",
    "import pmda\n",
    "import dask\n",
    "from MDAnalysisData import datasets\n",
    "import nglview as nv"
   ]
  },
  {
   "cell_type": "code",
   "execution_count": 2,
   "metadata": {},
   "outputs": [
    {
     "name": "stdout",
     "output_type": "stream",
     "text": [
      "0.19.2\n",
      "0.2.0\n",
      "0.19.3\n"
     ]
    }
   ],
   "source": [
    "print(mda.__version__)\n",
    "print(pmda.__version__)\n",
    "print(dask.__version__)"
   ]
  },
  {
   "cell_type": "markdown",
   "metadata": {},
   "source": [
    "Load data using MDAnalysisData."
   ]
  },
  {
   "cell_type": "code",
   "execution_count": 3,
   "metadata": {},
   "outputs": [
    {
     "name": "stdout",
     "output_type": "stream",
     "text": [
      ".. -*- coding: utf-8 -*-\n",
      "\n",
      ".. _`nhaa-equilibrium-dataset`:\n",
      "\n",
      "NhaA equilibrium trajectory dataset\n",
      "===================================\n",
      "\n",
      "Molecular dynamics (MD) trajectory of the NhaA membrane protein in a\n",
      "POPE:POPG 4:1 model membrane. The equilibrium simulation was performed\n",
      "in the NPT ensemble at T=300K and P=1 bar. The system was simulated\n",
      "with Gromacs 5.1.4, using the CHARMM36 force field, the TIP3P explicit\n",
      "water model, and NaCl at approximately 100 mM concentration. \n",
      "\n",
      "Trajectory frames were saved every 100 ps for a total of 500 ns\n",
      "simulated time. The topology only contains the protein, membrane and\n",
      "ions (because the water molecules were stripped from the trajectory to\n",
      "save space).\n",
      "\n",
      "The topology is contained in the NhaA_non_water.gro file. The trajectory is contained in the NhaA_non_water.xtc file.\n",
      "\n",
      "\n",
      "Notes\n",
      "-----\n",
      "\n",
      "Data set characteristics:\n",
      "\n",
      " :size: 1.07 GB\n",
      " :number of trajectories: 1\n",
      " :number of frames:  5000\n",
      " :number of particles: 60702\n",
      " :creator: Ian Kenney, Shujie Fan\n",
      " :URL:  `10.6084/m9.figshare.7185203.v2 <https://doi.org/10.6084/m9.figshare.7185203.v2>`_\n",
      " :license: `CC-BY 4.0 <https://creativecommons.org/licenses/by/4.0/legalcode>`_\n",
      " :reference: [Kenney2018]_\n",
      "\n",
      "\n",
      ".. [Kenney2018]  M. Kenney, Ian; Fan, Shujie; Beckstein, Oliver (2018): Molecular dynamics\n",
      "           trajectory of membrane protein NhaA. figshare. Dataset.\n",
      "\t   MDAnalysis. figshare. Fileset. doi:\n",
      "\t   `10.6084/m9.figshare.7185203.v2\n",
      "\t   <https://doi.org/10.6084/m9.figshare.7185203.v2>`_\n",
      "\n",
      "\n"
     ]
    }
   ],
   "source": [
    "nhaa = datasets.fetch_nhaa_equilibrium()\n",
    "print(nhaa['DESCR'])"
   ]
  },
  {
   "cell_type": "code",
   "execution_count": 4,
   "metadata": {},
   "outputs": [
    {
     "data": {
      "text/plain": [
       "<Universe with 60702 atoms>"
      ]
     },
     "execution_count": 4,
     "metadata": {},
     "output_type": "execute_result"
    }
   ],
   "source": [
    "u = mda.Universe(nhaa.topology, nhaa.trajectory)\n",
    "u"
   ]
  },
  {
   "cell_type": "code",
   "execution_count": 6,
   "metadata": {},
   "outputs": [
    {
     "data": {
      "application/vnd.jupyter.widget-view+json": {
       "model_id": "5dfe52a099f34574abcd3123e57b5f8e",
       "version_major": 2,
       "version_minor": 0
      },
      "text/plain": [
       "NGLWidget(count=5001)"
      ]
     },
     "metadata": {},
     "output_type": "display_data"
    }
   ],
   "source": [
    "w = nv.show_mdanalysis(u.select_atoms('protein or resname POPE POPG'))\n",
    "w"
   ]
  },
  {
   "cell_type": "markdown",
   "metadata": {},
   "source": [
    "## Pre-defined parallel analysis task pmda.rms\n",
    "\n",
    "### rmsd calculation\n",
    "We can use the pmda.rms to calculate RMSD(t) of the C-alpha atoms. The process is similar to using MDAnalysis.rms. We take the initial frame of the trajectory as a reference. "
   ]
  },
  {
   "cell_type": "code",
   "execution_count": 8,
   "metadata": {},
   "outputs": [],
   "source": [
    "from pmda import rms"
   ]
  },
  {
   "cell_type": "code",
   "execution_count": 9,
   "metadata": {},
   "outputs": [
    {
     "data": {
      "text/plain": [
       "<AtomGroup with 752 atoms>"
      ]
     },
     "execution_count": 9,
     "metadata": {},
     "output_type": "execute_result"
    }
   ],
   "source": [
    "ca = u.select_atoms('name CA')\n",
    "ca"
   ]
  },
  {
   "cell_type": "code",
   "execution_count": 10,
   "metadata": {},
   "outputs": [],
   "source": [
    "u.trajectory[0]\n",
    "ref = u.select_atoms('name CA')"
   ]
  },
  {
   "cell_type": "code",
   "execution_count": 11,
   "metadata": {},
   "outputs": [
    {
     "data": {
      "text/plain": [
       "<AtomGroup with 752 atoms>"
      ]
     },
     "execution_count": 11,
     "metadata": {},
     "output_type": "execute_result"
    }
   ],
   "source": [
    "ref"
   ]
  },
  {
   "cell_type": "code",
   "execution_count": 12,
   "metadata": {},
   "outputs": [],
   "source": [
    "rmsd = rms.RMSD(ca, ref)"
   ]
  },
  {
   "cell_type": "markdown",
   "metadata": {},
   "source": [
    "We can set the number of cores used in this calculatoin by setting n_jobs or n_blocks. And we compare the time needed to perform the RMSD calculation with 1 cores and 4 cores. As shown here, for my computer, the difference is 3.8s."
   ]
  },
  {
   "cell_type": "code",
   "execution_count": 13,
   "metadata": {},
   "outputs": [
    {
     "name": "stderr",
     "output_type": "stream",
     "text": [
      "/home/shujie/anaconda3/envs/py36/lib/python3.6/site-packages/pmda/parallel.py:323: UserWarning: Couldn't guess ideal number of blocks from scheduler. Setting n_blocks=1. Please provide `n_blocks` in call to method.\n",
      "  \"Couldn't guess ideal number of blocks from scheduler. \"\n"
     ]
    },
    {
     "name": "stdout",
     "output_type": "stream",
     "text": [
      "CPU times: user 37 s, sys: 790 ms, total: 37.8 s\n",
      "Wall time: 19.5 s\n",
      "CPU times: user 227 ms, sys: 20.2 ms, total: 247 ms\n",
      "Wall time: 13.9 s\n"
     ]
    },
    {
     "data": {
      "text/plain": [
       "<pmda.rms.RMSD at 0x7ff00b803fd0>"
      ]
     },
     "execution_count": 13,
     "metadata": {},
     "output_type": "execute_result"
    }
   ],
   "source": [
    "%time rmsd.run(n_jobs=1, n_blocks=1)\n",
    "%time rmsd.run(n_jobs=4, n_blocks=4)"
   ]
  },
  {
   "cell_type": "markdown",
   "metadata": {},
   "source": [
    "For pmda, there is an attribute `timing` which stores various timeing results of obtained during a parallel analysis run."
   ]
  },
  {
   "cell_type": "code",
   "execution_count": 14,
   "metadata": {},
   "outputs": [
    {
     "name": "stdout",
     "output_type": "stream",
     "text": [
      "13.944822072982788\n",
      "4.5299530029296875e-06\n"
     ]
    }
   ],
   "source": [
    "print(rmsd.timing.total)\n",
    "print(rmsd.timing.prepare)"
   ]
  },
  {
   "cell_type": "markdown",
   "metadata": {},
   "source": [
    "The result is stored in rmsd.rmsd. The second column is time, and the thrid column is rmsd."
   ]
  },
  {
   "cell_type": "code",
   "execution_count": 15,
   "metadata": {},
   "outputs": [
    {
     "data": {
      "text/plain": [
       "array([[0.00000000e+00, 0.00000000e+00, 1.92753278e-06],\n",
       "       [1.00000000e+00, 1.00000000e+02, 7.18287539e-01],\n",
       "       [2.00000000e+00, 2.00000000e+02, 8.92467347e-01],\n",
       "       ...,\n",
       "       [4.99800000e+03, 4.99800000e+05, 2.92425479e+00],\n",
       "       [4.99900000e+03, 4.99900000e+05, 2.75057827e+00],\n",
       "       [5.00000000e+03, 5.00000000e+05, 2.80371466e+00]])"
      ]
     },
     "execution_count": 15,
     "metadata": {},
     "output_type": "execute_result"
    }
   ],
   "source": [
    "rmsd.rmsd"
   ]
  },
  {
   "cell_type": "code",
   "execution_count": 16,
   "metadata": {},
   "outputs": [],
   "source": [
    "import matplotlib.pyplot as plt\n",
    "%matplotlib inline"
   ]
  },
  {
   "cell_type": "code",
   "execution_count": 17,
   "metadata": {},
   "outputs": [
    {
     "data": {
      "text/plain": [
       "<matplotlib.legend.Legend at 0x7ff0095f3d68>"
      ]
     },
     "execution_count": 17,
     "metadata": {},
     "output_type": "execute_result"
    },
    {
     "data": {
      "image/png": "[encoded data removed]",
      "text/plain": [
       "<Figure size 432x288 with 1 Axes>"
      ]
     },
     "metadata": {
      "needs_background": "light"
     },
     "output_type": "display_data"
    }
   ],
   "source": [
    "ax1 = plt.subplot(111)\n",
    "ax1.plot(rmsd.rmsd[:,1], rmsd.rmsd[:,2], label='NhaA')\n",
    "ax1.set_xlabel(\"time (ps)\")\n",
    "ax1.set_ylabel(r\"RMSD ($\\AA$)\")\n",
    "ax1.legend(loc=\"best\")"
   ]
  },
  {
   "cell_type": "markdown",
   "metadata": {},
   "source": [
    "## Building new parallel analysis modules with the pmda.custom.AnalysisFromFunction\n",
    "\n",
    "One easy way to check whether sodium ions are binded to the protein is to look at the coordinates of sodium ions. Here, we use `pmda.custom.AnalysisFromFunction` to build a new parallel analysis module to gather the coordinates of each timestep."
   ]
  },
  {
   "cell_type": "code",
   "execution_count": 21,
   "metadata": {},
   "outputs": [],
   "source": [
    "from pmda import custom"
   ]
  },
  {
   "cell_type": "code",
   "execution_count": null,
   "metadata": {},
   "outputs": [],
   "source": [
    "# %load ~/pmda/pmda/custom.py\n",
    "# vim: tabstop=4 expandtab shiftwidth=4 softtabstop=4\n",
    "#\n",
    "# PMDA\n",
    "# Copyright (c) 2017 The MDAnalysis Development Team and contributors\n",
    "# (see the file AUTHORS for the full list of names)\n",
    "#\n",
    "# Released under the GNU Public Licence, v2 or any higher version\n",
    "\"\"\"\n",
    "Parallel Analysis helper --- :mod:`pmda.custom`\n",
    "===============================================\n",
    "\n",
    "This module contains the class `AnalysisFromFunction` and the decorator\n",
    "`analysis_class`. Both can be used to generate custom analysis classes that can\n",
    "be run in parallel from functions that take one or more atom groups from the\n",
    "same universe and return a value.\n",
    "\n",
    "\"\"\"\n",
    "from __future__ import absolute_import\n",
    "\n",
    "from MDAnalysis.core.groups import AtomGroup\n",
    "from MDAnalysis.core.universe import Universe\n",
    "from MDAnalysis.coordinates.base import ProtoReader\n",
    "import numpy as np\n",
    "\n",
    "from .parallel import ParallelAnalysisBase\n",
    "\n",
    "\n",
    "class AnalysisFromFunction(ParallelAnalysisBase):\n",
    "    \"\"\"\n",
    "    Create an analysis from a function working on AtomGroups\n",
    "\n",
    "    The function that is used\n",
    "\n",
    "    Attributes\n",
    "    ----------\n",
    "    results : ndarray\n",
    "        results of calculation are stored after call to ``run``\n",
    "\n",
    "    Example\n",
    "    -------\n",
    "    >>> # Create a new function to analyze a single frame\n",
    "    >>> def rotation_matrix(mobile, ref):\n",
    "    >>>     return mda.analysis.align.rotation_matrix(mobile, ref)[0]\n",
    "    >>> # now run an analysis using the standalone function\n",
    "    >>> rot = AnalysisFromFunction(rotation_matrix,\n",
    "                                   trajectory, mobile, ref).run()\n",
    "    >>> print(rot.results)\n",
    "\n",
    "    Raises\n",
    "    ------\n",
    "    ValueError : if ``function`` has the same kwargs as ``BaseAnalysis``\n",
    "\n",
    "    See Also\n",
    "    --------\n",
    "    analysis_class\n",
    "    \"\"\"\n",
    "\n",
    "    def __init__(self, function, universe, *args, **kwargs):\n",
    "        \"\"\"Parameters\n",
    "        ----------\n",
    "        function : callable\n",
    "            function to evaluate at each frame. The first arguments are assumed\n",
    "            to be 'mobile' Atomgroups if they belong to the same universe. All\n",
    "            other Atomgroups are assumed to be reference. Here 'mobile' means\n",
    "            they will be iterated over.\n",
    "        Universe : :class:`~MDAnalysis.core.groups.Universe`\n",
    "            a :class:`MDAnalysis.core.groups.Universe` (the\n",
    "            `atomgroups` must belong to this Universe)\n",
    "        *args : list\n",
    "           arguments for ``function``\n",
    "        **kwargs : dict\n",
    "           keyword arguments for ``function``. keyword arguments with name\n",
    "           'universe' or 'atomgroups' will be ignored! Mobile atomgroups to\n",
    "           analyze can not be passed as keyword arguments currently.\n",
    "\n",
    "        \"\"\"\n",
    "\n",
    "        self.function = function\n",
    "\n",
    "        # collect all atomgroups with the same trajectory object as universe\n",
    "        trajectory = universe.trajectory\n",
    "        arg_ags = []\n",
    "        self.other_args = []\n",
    "        for arg in args:\n",
    "            if isinstance(arg,\n",
    "                          AtomGroup) and arg.universe.trajectory == trajectory:\n",
    "                arg_ags.append(arg)\n",
    "            else:\n",
    "                self.other_args.append(arg)\n",
    "\n",
    "        super(AnalysisFromFunction, self).__init__(universe, arg_ags)\n",
    "        self.kwargs = kwargs\n",
    "\n",
    "    def _prepare(self):\n",
    "        self.results = []\n",
    "\n",
    "    def _single_frame(self, ts, atomgroups):\n",
    "        args = atomgroups + self.other_args\n",
    "        return self.function(*args, **self.kwargs)\n",
    "\n",
    "    def _conclude(self):\n",
    "        self.results = np.vstack(self._results)\n",
    "\n",
    "\n",
    "def analysis_class(function):\n",
    "    \"\"\"Transform a function operating on a single frame to an analysis class\n",
    "\n",
    "    Parameters\n",
    "    ----------\n",
    "    function : callable\n",
    "        The function that can analyze a single or more atomgroups. It is always\n",
    "        assumed that the mobile atomgroups (which will be iterated over) come\n",
    "        first. All atomgroups that come directly after the first that are part\n",
    "        of the same universe will iterated over\n",
    "\n",
    "    Returns\n",
    "    -------\n",
    "    A new AnalysisClass with function as analysis\n",
    "\n",
    "    Example\n",
    "    -------\n",
    "    For an usage in a library we recommend the following style:\n",
    "\n",
    "    >>> def rotation_matrix(mobile, ref):\n",
    "    >>>     return mda.analysis.align.rotation_matrix(mobile, ref)[0]\n",
    "    >>> RotationMatrix = analysis_class(rotation_matrix)\n",
    "\n",
    "    It can also be used as a decorator:\n",
    "\n",
    "    >>> @analysis_class\n",
    "    >>> def RotationMatrix(mobile, ref):\n",
    "    >>>     return mda.analysis.align.rotation_matrix(mobile, ref)[0]\n",
    "\n",
    "    >>> rot = RotationMatrix(u.trajectory, mobile, ref, step=2).run()\n",
    "    >>> print(rot.results)\n",
    "\n",
    "    See Also\n",
    "    --------\n",
    "    AnalysisFromFunction\n",
    "\n",
    "    \"\"\"\n",
    "\n",
    "    class WrapperClass(AnalysisFromFunction):\n",
    "        \"\"\"Custom Analysis Function\"\"\"\n",
    "\n",
    "        def __init__(self, trajectory=None, *args, **kwargs):\n",
    "            if not (isinstance(trajectory, ProtoReader) or isinstance(\n",
    "                    trajectory, Universe)):\n",
    "                print(type(trajectory))\n",
    "                raise ValueError(\n",
    "                    \"First argument needs to be an MDAnalysis reader object.\")\n",
    "            super(WrapperClass, self).__init__(function, trajectory, *args,\n",
    "                                               **kwargs)\n",
    "\n",
    "    return WrapperClass\n"
   ]
  },
  {
   "cell_type": "markdown",
   "metadata": {},
   "source": [
    "Select all sodium ions in the system."
   ]
  },
  {
   "cell_type": "code",
   "execution_count": 18,
   "metadata": {},
   "outputs": [
    {
     "data": {
      "text/plain": [
       "<AtomGroup with 121 atoms>"
      ]
     },
     "execution_count": 18,
     "metadata": {},
     "output_type": "execute_result"
    }
   ],
   "source": [
    "SOD = u.select_atoms('resname SOD')\n",
    "SOD"
   ]
  },
  {
   "cell_type": "code",
   "execution_count": 19,
   "metadata": {},
   "outputs": [],
   "source": [
    "def Z_SOD(ag):\n",
    "    Z = [ag.positions[i][2] for i in range(ag.n_atoms)]\n",
    "    T = [ag.universe.trajectory.time]\n",
    "    return np.append(T, Z)"
   ]
  },
  {
   "cell_type": "code",
   "execution_count": 22,
   "metadata": {},
   "outputs": [
    {
     "data": {
      "text/plain": [
       "array([[0.00000000e+00, 4.91300011e+01, 8.40500031e+01, ...,\n",
       "        2.06300011e+01, 8.04000015e+01, 2.11800003e+01],\n",
       "       [1.00000000e+02, 4.77100029e+01, 8.89199982e+01, ...,\n",
       "        1.31100006e+01, 9.01600037e+01, 2.73900013e+01],\n",
       "       [2.00000000e+02, 4.82200012e+01, 9.40100021e+01, ...,\n",
       "        1.15400009e+01, 7.62300034e+01, 2.73400021e+01],\n",
       "       ...,\n",
       "       [4.99800000e+05, 4.77900009e+01, 2.65900021e+01, ...,\n",
       "        7.23499985e+01, 6.85100021e+01, 8.97000046e+01],\n",
       "       [4.99900000e+05, 4.88500023e+01, 1.85799999e+01, ...,\n",
       "        8.13600082e+01, 7.34000015e+01, 8.61600037e+01],\n",
       "       [5.00000000e+05, 4.91100006e+01, 1.24700012e+01, ...,\n",
       "        7.90599976e+01, 7.90599976e+01, 7.82900085e+01]])"
      ]
     },
     "execution_count": 22,
     "metadata": {},
     "output_type": "execute_result"
    }
   ],
   "source": [
    "parallel_z = custom.AnalysisFromFunction(Z_SOD, u, SOD)\n",
    "parallel_z.run(n_jobs=4);\n",
    "parallel_z.results"
   ]
  },
  {
   "cell_type": "code",
   "execution_count": 23,
   "metadata": {},
   "outputs": [],
   "source": [
    "t = parallel_z.results[:,0]\n",
    "z = parallel_z.results[:,1:]"
   ]
  },
  {
   "cell_type": "code",
   "execution_count": 24,
   "metadata": {},
   "outputs": [
    {
     "data": {
      "image/png": "[encoded data removed]",
      "text/plain": [
       "<Figure size 432x288 with 1 Axes>"
      ]
     },
     "metadata": {
      "needs_background": "light"
     },
     "output_type": "display_data"
    }
   ],
   "source": [
    "plt.plot(t/1000, z, '.')\n",
    "plt.xlabel('time(ns)');\n",
    "plt.ylabel('z ($\\AA$)');"
   ]
  },
  {
   "cell_type": "markdown",
   "metadata": {},
   "source": [
    "## Pre-defined parallel analysis task pmda.rdf\n",
    "\n",
    "\n",
    "### RDF calculatoin\n",
    "\n",
    "RDF(radial distribution function) describes how density varies as a function of distance from a reference particle. RDF can provide important information such as the most likely distance between ligand and binding sites. between ligand and the structure of the solvation shells of a ligand in binding sites.\n",
    "Here, we calculate the RDF between sodium ions and oxygen atoms of aspartates in NhaA using pmda.rdf."
   ]
  },
  {
   "cell_type": "code",
   "execution_count": 25,
   "metadata": {},
   "outputs": [],
   "source": [
    "from pmda import rdf"
   ]
  },
  {
   "cell_type": "markdown",
   "metadata": {},
   "source": [
    "Select all aspartate in the system."
   ]
  },
  {
   "cell_type": "code",
   "execution_count": 26,
   "metadata": {},
   "outputs": [
    {
     "data": {
      "text/plain": [
       "<AtomGroup with 240 atoms>"
      ]
     },
     "execution_count": 26,
     "metadata": {},
     "output_type": "execute_result"
    }
   ],
   "source": [
    "ASP = u.select_atoms('resname ASP')\n",
    "ASP"
   ]
  },
  {
   "cell_type": "code",
   "execution_count": 27,
   "metadata": {},
   "outputs": [
    {
     "data": {
      "text/plain": [
       "array([ 11,  40,  65, 119, 133, 163, 164, 178, 282, 354,  11,  40,  65,\n",
       "       119, 133, 163, 164, 178, 282, 354])"
      ]
     },
     "execution_count": 27,
     "metadata": {},
     "output_type": "execute_result"
    }
   ],
   "source": [
    "ASP.residues.resids"
   ]
  },
  {
   "cell_type": "markdown",
   "metadata": {},
   "source": [
    "As shown here, one aspartate has three oxygen atoms, and the two oxygen atoms with negative charge form the binding sites."
   ]
  },
  {
   "cell_type": "code",
   "execution_count": 28,
   "metadata": {},
   "outputs": [
    {
     "data": {
      "image/png": "[encoded data removed]",
      "text/plain": [
       "<IPython.core.display.Image object>"
      ]
     },
     "execution_count": 28,
     "metadata": {},
     "output_type": "execute_result"
    }
   ],
   "source": [
    "Image('Aspartic_Acidph.png')\n",
    "# https://en.wikipedia.org/wiki/Aspartic_acid"
   ]
  },
  {
   "cell_type": "markdown",
   "metadata": {},
   "source": [
    "Select OD1 and OD2 in aspartates."
   ]
  },
  {
   "cell_type": "code",
   "execution_count": 29,
   "metadata": {},
   "outputs": [
    {
     "data": {
      "text/plain": [
       "<AtomGroup with 40 atoms>"
      ]
     },
     "execution_count": 29,
     "metadata": {},
     "output_type": "execute_result"
    }
   ],
   "source": [
    "O_ASP = ASP.select_atoms('name OD1 or name OD2')\n",
    "O_ASP"
   ]
  },
  {
   "cell_type": "markdown",
   "metadata": {},
   "source": [
    "Use rdf.InterRDF calculate rdf between SOD and oxygen of ASP, with the cutoff=5.0 angstrom."
   ]
  },
  {
   "cell_type": "code",
   "execution_count": 30,
   "metadata": {},
   "outputs": [],
   "source": [
    "rdf_SOD_O = rdf.InterRDF(SOD, O_ASP, nbins=100, range=(0.0, 5.0))"
   ]
  },
  {
   "cell_type": "code",
   "execution_count": 31,
   "metadata": {},
   "outputs": [
    {
     "data": {
      "text/plain": [
       "15.20395040512085"
      ]
     },
     "execution_count": 31,
     "metadata": {},
     "output_type": "execute_result"
    }
   ],
   "source": [
    "rdf_SOD_O.run(n_jobs=4);\n",
    "rdf_SOD_O.timing.total"
   ]
  },
  {
   "cell_type": "markdown",
   "metadata": {},
   "source": [
    "The results are restored in rdf_SOD_O.bins and rdf_SOD_O.rdf, which come from numpy.histogram."
   ]
  },
  {
   "cell_type": "code",
   "execution_count": 32,
   "metadata": {},
   "outputs": [
    {
     "data": {
      "text/plain": [
       "array([0.025, 0.075, 0.125, 0.175, 0.225, 0.275, 0.325, 0.375, 0.425,\n",
       "       0.475, 0.525, 0.575, 0.625, 0.675, 0.725, 0.775, 0.825, 0.875,\n",
       "       0.925, 0.975, 1.025, 1.075, 1.125, 1.175, 1.225, 1.275, 1.325,\n",
       "       1.375, 1.425, 1.475, 1.525, 1.575, 1.625, 1.675, 1.725, 1.775,\n",
       "       1.825, 1.875, 1.925, 1.975, 2.025, 2.075, 2.125, 2.175, 2.225,\n",
       "       2.275, 2.325, 2.375, 2.425, 2.475, 2.525, 2.575, 2.625, 2.675,\n",
       "       2.725, 2.775, 2.825, 2.875, 2.925, 2.975, 3.025, 3.075, 3.125,\n",
       "       3.175, 3.225, 3.275, 3.325, 3.375, 3.425, 3.475, 3.525, 3.575,\n",
       "       3.625, 3.675, 3.725, 3.775, 3.825, 3.875, 3.925, 3.975, 4.025,\n",
       "       4.075, 4.125, 4.175, 4.225, 4.275, 4.325, 4.375, 4.425, 4.475,\n",
       "       4.525, 4.575, 4.625, 4.675, 4.725, 4.775, 4.825, 4.875, 4.925,\n",
       "       4.975])"
      ]
     },
     "execution_count": 32,
     "metadata": {},
     "output_type": "execute_result"
    }
   ],
   "source": [
    "rdf_SOD_O.bins"
   ]
  },
  {
   "cell_type": "code",
   "execution_count": 33,
   "metadata": {},
   "outputs": [
    {
     "data": {
      "text/plain": [
       "array([ 0.        ,  0.        ,  0.        ,  0.        ,  0.        ,\n",
       "        0.        ,  0.        ,  0.        ,  0.        ,  0.        ,\n",
       "        0.        ,  0.        ,  0.        ,  0.        ,  0.        ,\n",
       "        0.        ,  0.        ,  0.        ,  0.        ,  0.        ,\n",
       "        0.        ,  0.        ,  0.        ,  0.        ,  0.        ,\n",
       "        0.        ,  0.        ,  0.        ,  0.        ,  0.        ,\n",
       "        0.        ,  0.        ,  0.        ,  0.        ,  0.        ,\n",
       "        0.        ,  0.        ,  0.        ,  0.        ,  0.        ,\n",
       "        0.        ,  0.19613377,  1.91168798, 12.01993346, 33.37706443,\n",
       "       53.69969986, 58.3061599 , 51.65179561, 38.4383747 , 27.87875008,\n",
       "       19.69183757, 13.40136249,  9.55944004,  6.9893064 ,  5.05454283,\n",
       "        4.11856632,  3.4214629 ,  2.96292699,  2.36896434,  2.26880253,\n",
       "        1.97908183,  1.90532255,  1.90249257,  2.19676022,  1.94873462,\n",
       "        2.11714893,  2.07093005,  2.17478093,  2.3037254 ,  2.30007336,\n",
       "        2.45428461,  2.90738872,  2.69206493,  3.05702069,  3.10399275,\n",
       "        3.24618858,  3.21318514,  3.66822317,  3.69108899,  3.42659604,\n",
       "        3.72426612,  3.36784947,  3.88779164,  4.22051064,  4.32096163,\n",
       "        4.5798869 ,  4.74047473,  4.69647219,  4.65323672,  4.44206416,\n",
       "        4.13821692,  3.66719388,  3.71554729,  3.61073581,  3.26993414,\n",
       "        3.24708285,  2.86574911,  2.94545823,  2.50683583,  2.54768972])"
      ]
     },
     "execution_count": 33,
     "metadata": {},
     "output_type": "execute_result"
    }
   ],
   "source": [
    "rdf_SOD_O.rdf"
   ]
  },
  {
   "cell_type": "markdown",
   "metadata": {},
   "source": [
    "Plot RDF, we can see there's an obvious peak at 2.3 angstroms, so the oxygen atoms in the binding sites should fall within 3 angstroms the sodium ions."
   ]
  },
  {
   "cell_type": "code",
   "execution_count": 34,
   "metadata": {
    "scrolled": true
   },
   "outputs": [
    {
     "data": {
      "text/plain": [
       "<function matplotlib.pyplot.show(*args, **kw)>"
      ]
     },
     "execution_count": 34,
     "metadata": {},
     "output_type": "execute_result"
    },
    {
     "data": {
      "image/png": "[encoded data removed]",
      "text/plain": [
       "<Figure size 432x288 with 1 Axes>"
      ]
     },
     "metadata": {
      "needs_background": "light"
     },
     "output_type": "display_data"
    }
   ],
   "source": [
    "fig = plt.figure()\n",
    "ax = fig.add_subplot(111)\n",
    "ax.plot(rdf_SOD_O.bins, rdf_SOD_O.rdf)\n",
    "ax.set_xlabel('Distance ($\\AA$)')\n",
    "ax.set_ylabel('Distribution')\n",
    "plt.show"
   ]
  },
  {
   "cell_type": "markdown",
   "metadata": {},
   "source": [
    "## Building new parallel analysis with pmda.parallel.ParallelAnalysisBase."
   ]
  },
  {
   "cell_type": "markdown",
   "metadata": {},
   "source": [
    "Now, we know that the binding sites include oxygen atoms from aspartates. But there are 20 aspartates in the system, not all of them contribute to the binding. So, here we build a user-defined parallel analysis to find out which aspartate binds to sodium ions."
   ]
  },
  {
   "cell_type": "markdown",
   "metadata": {},
   "source": [
    "From the results of rdf calculation, the oxygen atoms binding to sodium should fall within 3 angstroms from sodium ions. So we can try to use the selection keyword 'around', which selects all atoms a certain cutoff away from another selection. "
   ]
  },
  {
   "cell_type": "markdown",
   "metadata": {},
   "source": [
    "Note: When using 'around', the atom groups or universe should contain atom groups after keyword 'around'."
   ]
  },
  {
   "cell_type": "code",
   "execution_count": 35,
   "metadata": {},
   "outputs": [
    {
     "data": {
      "text/plain": [
       "<AtomGroup with 0 atoms>"
      ]
     },
     "execution_count": 35,
     "metadata": {},
     "output_type": "execute_result"
    }
   ],
   "source": [
    "binding_ASP = ASP.select_atoms('resname ASP and around {} (resname SOD)'.format(3.0))\n",
    "binding_ASP"
   ]
  },
  {
   "cell_type": "markdown",
   "metadata": {},
   "source": [
    "We can generate an atomgroup contains ASP and SOD by using '+'."
   ]
  },
  {
   "cell_type": "code",
   "execution_count": 36,
   "metadata": {},
   "outputs": [
    {
     "data": {
      "text/plain": [
       "<AtomGroup with 361 atoms>"
      ]
     },
     "execution_count": 36,
     "metadata": {},
     "output_type": "execute_result"
    }
   ],
   "source": [
    "ASP_SOD = ASP+SOD\n",
    "ASP_SOD"
   ]
  },
  {
   "cell_type": "code",
   "execution_count": 37,
   "metadata": {},
   "outputs": [
    {
     "data": {
      "text/plain": [
       "array([154, 530])"
      ]
     },
     "execution_count": 37,
     "metadata": {},
     "output_type": "execute_result"
    }
   ],
   "source": [
    "binding_ASP = ASP_SOD.select_atoms('resname ASP and around {} (resname SOD)'.format(3.0))\n",
    "binding_ASP.residues.ix"
   ]
  },
  {
   "cell_type": "markdown",
   "metadata": {},
   "source": [
    "And we build a function to do this single frame analysis. Here, we use np.unique to avoid record the same residue twice or more."
   ]
  },
  {
   "cell_type": "code",
   "execution_count": 38,
   "metadata": {},
   "outputs": [],
   "source": [
    "def asp_finder(asp_sod, cutoff):\n",
    "    # Generate AtomGroup of binding sites\n",
    "    sites = asp_sod.select_atoms('resname ASP and around {} (resname SOD)'.format(\n",
    "           cutoff))\n",
    "    # Generate the list of the resids of binding sites\n",
    "    ix = np.unique(np.array(sites.residues.ix))\n",
    "    return ix"
   ]
  },
  {
   "cell_type": "code",
   "execution_count": 39,
   "metadata": {},
   "outputs": [
    {
     "data": {
      "text/plain": [
       "array([154, 530])"
      ]
     },
     "execution_count": 39,
     "metadata": {},
     "output_type": "execute_result"
    }
   ],
   "source": [
    "binding_ASP_ix = asp_finder(ASP_SOD, cutoff=3.0)\n",
    "binding_ASP_ix"
   ]
  },
  {
   "cell_type": "markdown",
   "metadata": {},
   "source": [
    "Now, using pmda.custom to parallel it."
   ]
  },
  {
   "cell_type": "code",
   "execution_count": 40,
   "metadata": {},
   "outputs": [
    {
     "ename": "ValueError",
     "evalue": "all the input array dimensions except for the concatenation axis must match exactly",
     "output_type": "error",
     "traceback": [
      "\u001b[0;31m---------------------------------------------------------------------------\u001b[0m",
      "\u001b[0;31mValueError\u001b[0m                                Traceback (most recent call last)",
      "\u001b[0;32m<ipython-input-40-8cdb2713196f>\u001b[0m in \u001b[0;36m<module>\u001b[0;34m\u001b[0m\n\u001b[1;32m      1\u001b[0m \u001b[0masp1\u001b[0m \u001b[0;34m=\u001b[0m \u001b[0mcustom\u001b[0m\u001b[0;34m.\u001b[0m\u001b[0mAnalysisFromFunction\u001b[0m\u001b[0;34m(\u001b[0m\u001b[0masp_finder\u001b[0m\u001b[0;34m,\u001b[0m \u001b[0mu\u001b[0m\u001b[0;34m,\u001b[0m \u001b[0;34m(\u001b[0m\u001b[0mASP\u001b[0m\u001b[0;34m+\u001b[0m\u001b[0mSOD\u001b[0m\u001b[0;34m)\u001b[0m\u001b[0;34m,\u001b[0m \u001b[0mcutoff\u001b[0m\u001b[0;34m=\u001b[0m\u001b[0;36m3.0\u001b[0m\u001b[0;34m)\u001b[0m\u001b[0;34m\u001b[0m\u001b[0m\n\u001b[0;32m----> 2\u001b[0;31m \u001b[0masp1\u001b[0m\u001b[0;34m.\u001b[0m\u001b[0mrun\u001b[0m\u001b[0;34m(\u001b[0m\u001b[0mn_jobs\u001b[0m\u001b[0;34m=\u001b[0m\u001b[0;36m4\u001b[0m\u001b[0;34m)\u001b[0m\u001b[0;34m;\u001b[0m\u001b[0;34m\u001b[0m\u001b[0m\n\u001b[0m\u001b[1;32m      3\u001b[0m \u001b[0masp1\u001b[0m\u001b[0;34m.\u001b[0m\u001b[0mresults\u001b[0m\u001b[0;34m\u001b[0m\u001b[0m\n",
      "\u001b[0;32m~/anaconda3/envs/py36/lib/python3.6/site-packages/pmda/parallel.py\u001b[0m in \u001b[0;36mrun\u001b[0;34m(self, start, stop, step, n_jobs, n_blocks)\u001b[0m\n\u001b[1;32m    364\u001b[0m             \u001b[0mself\u001b[0m\u001b[0;34m.\u001b[0m\u001b[0m_results\u001b[0m \u001b[0;34m=\u001b[0m \u001b[0mnp\u001b[0m\u001b[0;34m.\u001b[0m\u001b[0masarray\u001b[0m\u001b[0;34m(\u001b[0m\u001b[0;34m[\u001b[0m\u001b[0mel\u001b[0m\u001b[0;34m[\u001b[0m\u001b[0;36m0\u001b[0m\u001b[0;34m]\u001b[0m \u001b[0;32mfor\u001b[0m \u001b[0mel\u001b[0m \u001b[0;32min\u001b[0m \u001b[0mres\u001b[0m\u001b[0;34m]\u001b[0m\u001b[0;34m)\u001b[0m\u001b[0;34m\u001b[0m\u001b[0m\n\u001b[1;32m    365\u001b[0m             \u001b[0;32mwith\u001b[0m \u001b[0mtimeit\u001b[0m\u001b[0;34m(\u001b[0m\u001b[0;34m)\u001b[0m \u001b[0;32mas\u001b[0m \u001b[0mconclude\u001b[0m\u001b[0;34m:\u001b[0m\u001b[0;34m\u001b[0m\u001b[0m\n\u001b[0;32m--> 366\u001b[0;31m                 \u001b[0mself\u001b[0m\u001b[0;34m.\u001b[0m\u001b[0m_conclude\u001b[0m\u001b[0;34m(\u001b[0m\u001b[0;34m)\u001b[0m\u001b[0;34m\u001b[0m\u001b[0m\n\u001b[0m\u001b[1;32m    367\u001b[0m \u001b[0;34m\u001b[0m\u001b[0m\n\u001b[1;32m    368\u001b[0m         self.timing = Timing(\n",
      "\u001b[0;32m~/anaconda3/envs/py36/lib/python3.6/site-packages/pmda/custom.py\u001b[0m in \u001b[0;36m_conclude\u001b[0;34m(self)\u001b[0m\n\u001b[1;32m    101\u001b[0m \u001b[0;34m\u001b[0m\u001b[0m\n\u001b[1;32m    102\u001b[0m     \u001b[0;32mdef\u001b[0m \u001b[0m_conclude\u001b[0m\u001b[0;34m(\u001b[0m\u001b[0mself\u001b[0m\u001b[0;34m)\u001b[0m\u001b[0;34m:\u001b[0m\u001b[0;34m\u001b[0m\u001b[0m\n\u001b[0;32m--> 103\u001b[0;31m         \u001b[0mself\u001b[0m\u001b[0;34m.\u001b[0m\u001b[0mresults\u001b[0m \u001b[0;34m=\u001b[0m \u001b[0mnp\u001b[0m\u001b[0;34m.\u001b[0m\u001b[0mvstack\u001b[0m\u001b[0;34m(\u001b[0m\u001b[0mself\u001b[0m\u001b[0;34m.\u001b[0m\u001b[0m_results\u001b[0m\u001b[0;34m)\u001b[0m\u001b[0;34m\u001b[0m\u001b[0m\n\u001b[0m\u001b[1;32m    104\u001b[0m \u001b[0;34m\u001b[0m\u001b[0m\n\u001b[1;32m    105\u001b[0m \u001b[0;34m\u001b[0m\u001b[0m\n",
      "\u001b[0;32m~/anaconda3/envs/py36/lib/python3.6/site-packages/numpy/core/shape_base.py\u001b[0m in \u001b[0;36mvstack\u001b[0;34m(tup)\u001b[0m\n\u001b[1;32m    232\u001b[0m \u001b[0;34m\u001b[0m\u001b[0m\n\u001b[1;32m    233\u001b[0m     \"\"\"\n\u001b[0;32m--> 234\u001b[0;31m     \u001b[0;32mreturn\u001b[0m \u001b[0m_nx\u001b[0m\u001b[0;34m.\u001b[0m\u001b[0mconcatenate\u001b[0m\u001b[0;34m(\u001b[0m\u001b[0;34m[\u001b[0m\u001b[0matleast_2d\u001b[0m\u001b[0;34m(\u001b[0m\u001b[0m_m\u001b[0m\u001b[0;34m)\u001b[0m \u001b[0;32mfor\u001b[0m \u001b[0m_m\u001b[0m \u001b[0;32min\u001b[0m \u001b[0mtup\u001b[0m\u001b[0;34m]\u001b[0m\u001b[0;34m,\u001b[0m \u001b[0;36m0\u001b[0m\u001b[0;34m)\u001b[0m\u001b[0;34m\u001b[0m\u001b[0m\n\u001b[0m\u001b[1;32m    235\u001b[0m \u001b[0;34m\u001b[0m\u001b[0m\n\u001b[1;32m    236\u001b[0m \u001b[0;32mdef\u001b[0m \u001b[0mhstack\u001b[0m\u001b[0;34m(\u001b[0m\u001b[0mtup\u001b[0m\u001b[0;34m)\u001b[0m\u001b[0;34m:\u001b[0m\u001b[0;34m\u001b[0m\u001b[0m\n",
      "\u001b[0;31mValueError\u001b[0m: all the input array dimensions except for the concatenation axis must match exactly"
     ]
    }
   ],
   "source": [
    "asp1 = custom.AnalysisFromFunction(asp_finder, u, (ASP+SOD), cutoff=3.0)\n",
    "asp1.run(n_jobs=4);\n",
    "asp1.results"
   ]
  },
  {
   "cell_type": "markdown",
   "metadata": {},
   "source": [
    "So, it raises an error. Why? Let's look at asp1._results."
   ]
  },
  {
   "cell_type": "code",
   "execution_count": 41,
   "metadata": {},
   "outputs": [
    {
     "data": {
      "text/plain": [
       "array([array([array([154, 530]), array([154, 530]), array([154, 530]), ...,\n",
       "       array([154, 530]), array([154, 530]), array([154, 530])],\n",
       "      dtype=object),\n",
       "       array([array([154, 530]), array([154, 530]), array([153, 154, 530]), ...,\n",
       "       array([153, 154, 530]), array([530]),\n",
       "       array([153, 154, 344, 529, 530])], dtype=object),\n",
       "       array([array([153, 344, 529, 530]), array([153, 406, 529, 530]),\n",
       "       array([153, 154, 406, 529, 530]), ..., array([153, 530]),\n",
       "       array([153, 154, 530]), array([153, 154, 530])], dtype=object),\n",
       "       array([array([153, 154, 530]), array([153, 529]), array([153, 154, 530]),\n",
       "       ..., array([153, 154, 485, 529, 530]), array([153, 154, 529, 530]),\n",
       "       array([153, 154, 529, 530])], dtype=object)], dtype=object)"
      ]
     },
     "execution_count": 41,
     "metadata": {},
     "output_type": "execute_result"
    }
   ],
   "source": [
    "asp1._results"
   ]
  },
  {
   "cell_type": "markdown",
   "metadata": {},
   "source": [
    "We can see that this is an array that each element is an array with different sizes. This array cannot be stacked by np.vstack, and self._conclude failed. So we can't use pmda.costom to parallelize this function. Now, we should use `ParallelAnalysisBase` class."
   ]
  },
  {
   "cell_type": "code",
   "execution_count": null,
   "metadata": {},
   "outputs": [],
   "source": [
    "# %load bsites.py\n",
    "from __future__ import absolute_import, division\n",
    "\n",
    "import numpy as np\n",
    "\n",
    "from pmda.parallel import ParallelAnalysisBase\n",
    "\n",
    "class bsites_finder(ParallelAnalysisBase):\n",
    "    \"\"\"Bingding sites finder for MD simulaton trajectory\n",
    "    \n",
    "    Arguments\n",
    "    ---------\n",
    "    u : Universe\n",
    "          a Universe that contains g1 and g2.\n",
    "    g1 : AtomGroup\n",
    "          Target atoms.\n",
    "    g2 : AtomGroup\n",
    "          Potential binding sites.\n",
    "    cutoff : int (optional)\n",
    "          Maximum of the distance between ions and binding sites\n",
    "    \"\"\"\n",
    "    def __init__(self, u, g1, g2, cutoff=5.0):\n",
    "        super(bsites_finder, self).__init__(u, (g1, g2))\n",
    "        self.cutoff=cutoff\n",
    " \n",
    "    def _prepare(self):\n",
    "        self.ids = None\n",
    "\n",
    "    def _single_frame(self, ts, atomgroups):\n",
    "        g1, g2 = atomgroups\n",
    "        ag = g1+g2\n",
    "        # Generate selection strings for ions and binding sites\n",
    "        id1 = ' '.join(str(id) for id in g1.resids)\n",
    "        id2 = ' '.join(str(id) for id in g2.resids)\n",
    "        # Generate AtomGroup of binding sites\n",
    "        sites = ag.select_atoms('resid {0} and around {1} (resid {2})'.format(\n",
    "               id1, self.cutoff, id2))\n",
    "        # Generate the list of the resids of binding sites\n",
    "        ids = np.unique(np.array(sites.residues.ix))\n",
    "        return ids\n",
    "\n",
    "    def _conclude(self,):\n",
    "        self.ids = np.array([])\n",
    "        for result in self._results:\n",
    "            self.ids = np.append(self.ids, result)\n",
    "\n",
    "    @staticmethod\n",
    "    def _reduce(res, result_single_frame):\n",
    "        if isinstance(res, list) and len(res) == 0:\n",
    "            # Initialization of the result\n",
    "            # Convert res from an empty list to a numpy array\n",
    "            # which has the same shape as the single frame result\n",
    "            res = result_single_frame\n",
    "        else:\n",
    "            # Append new single frame result to res\n",
    "            res = np.append(res, result_single_frame)\n",
    "        return res\n"
   ]
  },
  {
   "cell_type": "code",
   "execution_count": 42,
   "metadata": {},
   "outputs": [],
   "source": [
    "from bsites import bsites_finder"
   ]
  },
  {
   "cell_type": "code",
   "execution_count": 43,
   "metadata": {},
   "outputs": [],
   "source": [
    "asp2 = bsites_finder(u, ASP, SOD, cutoff=3.0)"
   ]
  },
  {
   "cell_type": "code",
   "execution_count": 44,
   "metadata": {},
   "outputs": [
    {
     "data": {
      "text/plain": [
       "<bsites.bsites_finder at 0x7ff00967b0b8>"
      ]
     },
     "execution_count": 44,
     "metadata": {},
     "output_type": "execute_result"
    }
   ],
   "source": [
    "asp2.run(n_jobs=4)"
   ]
  },
  {
   "cell_type": "code",
   "execution_count": 45,
   "metadata": {},
   "outputs": [
    {
     "data": {
      "text/plain": [
       "array([154., 530., 154., ..., 154., 529., 530.])"
      ]
     },
     "execution_count": 45,
     "metadata": {},
     "output_type": "execute_result"
    }
   ],
   "source": [
    "asp2.ids"
   ]
  },
  {
   "cell_type": "markdown",
   "metadata": {},
   "source": [
    "Then, we can use np.unique to get the counts of the ids."
   ]
  },
  {
   "cell_type": "code",
   "execution_count": 47,
   "metadata": {},
   "outputs": [
    {
     "name": "stdout",
     "output_type": "stream",
     "text": [
      "[  1.  30. 109. 123. 153. 154. 168. 272. 344. 377. 406. 431. 485. 499.\n",
      " 529. 530. 544. 648. 720.]\n",
      "[  26  107   92  154 3350 3778  101  115  100   32   73    3   53    2\n",
      " 1570 4932  109  125   84]\n"
     ]
    }
   ],
   "source": [
    "ids, counts = np.unique(asp2.ids, return_counts=True)\n",
    "print(ids)\n",
    "print(counts)"
   ]
  },
  {
   "cell_type": "code",
   "execution_count": 49,
   "metadata": {},
   "outputs": [
    {
     "data": {
      "text/plain": [
       "163"
      ]
     },
     "execution_count": 49,
     "metadata": {},
     "output_type": "execute_result"
    }
   ],
   "source": [
    "u.atoms.residues[153].resid"
   ]
  },
  {
   "cell_type": "code",
   "execution_count": 48,
   "metadata": {
    "scrolled": false
   },
   "outputs": [
    {
     "data": {
      "text/plain": [
       "['D11',\n",
       " 'D40',\n",
       " 'D119',\n",
       " 'D133',\n",
       " 'D163',\n",
       " 'D164',\n",
       " 'D178',\n",
       " 'D282',\n",
       " 'D354',\n",
       " 'D11',\n",
       " 'D40',\n",
       " 'D65',\n",
       " 'D119',\n",
       " 'D133',\n",
       " 'D163',\n",
       " 'D164',\n",
       " 'D178',\n",
       " 'D282',\n",
       " 'D354']"
      ]
     },
     "execution_count": 48,
     "metadata": {},
     "output_type": "execute_result"
    }
   ],
   "source": [
    "ids_str = ['D{}'.format(u.atoms.residues[int(n)].resid) for n in ids]\n",
    "ids_str"
   ]
  },
  {
   "cell_type": "code",
   "execution_count": 50,
   "metadata": {},
   "outputs": [
    {
     "name": "stdout",
     "output_type": "stream",
     "text": [
      "['D11', 'D40', 'D119', 'D133', 'D163', 'D164', 'D178', 'D282', 'D354', 'D11', 'D40', 'D65', 'D119', 'D133', 'D163', 'D164', 'D178', 'D282', 'D354']\n"
     ]
    }
   ],
   "source": [
    "print(ids_str)"
   ]
  },
  {
   "cell_type": "code",
   "execution_count": 51,
   "metadata": {},
   "outputs": [],
   "source": [
    "ind = range(len(ids))"
   ]
  },
  {
   "cell_type": "code",
   "execution_count": 52,
   "metadata": {},
   "outputs": [
    {
     "data": {
      "text/plain": [
       "Text(0.5,0,'residue index')"
      ]
     },
     "execution_count": 52,
     "metadata": {},
     "output_type": "execute_result"
    },
    {
     "data": {
      "image/png": "[encoded data removed]",
      "text/plain": [
       "<Figure size 864x360 with 1 Axes>"
      ]
     },
     "metadata": {
      "needs_background": "light"
     },
     "output_type": "display_data"
    }
   ],
   "source": [
    "fig = plt.figure(figsize=(12,5))\n",
    "ax = fig.add_subplot(1,1,1)\n",
    "ax.bar(ind, counts/5000)\n",
    "plt.xticks(ind, ids_str);\n",
    "plt.xlabel('residue index')"
   ]
  },
  {
   "cell_type": "code",
   "execution_count": null,
   "metadata": {},
   "outputs": [],
   "source": []
  }
 ],
 "metadata": {
  "kernelspec": {
   "display_name": "Python 3",
   "language": "python",
   "name": "python3"
  },
  "language_info": {
   "codemirror_mode": {
    "name": "ipython",
    "version": 3
   },
   "file_extension": ".py",
   "mimetype": "text/x-python",
   "name": "python",
   "nbconvert_exporter": "python",
   "pygments_lexer": "ipython3",
   "version": "3.6.6"
  }
 },
 "nbformat": 4,
 "nbformat_minor": 2
}
