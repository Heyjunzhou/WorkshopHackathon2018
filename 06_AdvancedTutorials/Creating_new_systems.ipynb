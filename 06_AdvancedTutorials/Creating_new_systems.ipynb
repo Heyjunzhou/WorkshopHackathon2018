{
 "cells": [
  {
   "cell_type": "markdown",
   "metadata": {},
   "source": [
    "### Creating new systems with MDAnalysis\n",
    "\n",
    "Whilst `MDAnalysis` is designed for reading pre existing simulation files, there is also some features which allow the construction of systems"
   ]
  },
  {
   "cell_type": "markdown",
   "metadata": {},
   "source": [
    "### Universe.empty and adding new attributes\n",
    "\n",
    "The `Universe` object can also be constructed from the `Universe.empty` method, which is similar to `np.zeros`."
   ]
  },
  {
   "cell_type": "code",
   "execution_count": 1,
   "metadata": {},
   "outputs": [],
   "source": [
    "import MDAnalysis as mda\n",
    "\n",
    "mda.Universe.empty?"
   ]
  },
  {
   "cell_type": "markdown",
   "metadata": {},
   "source": [
    "Here we create an 20 atom Universe, with a trajectory attached.  The positions of all atoms will initially be zero"
   ]
  },
  {
   "cell_type": "code",
   "execution_count": 2,
   "metadata": {},
   "outputs": [
    {
     "name": "stderr",
     "output_type": "stream",
     "text": [
      "/Users/richardgowers/code/mdanalysis/package/MDAnalysis/core/universe.py:472: UserWarning: Multiple residues specified but no atom_resindex given.  All atoms will be placed in first Residue.\n",
      "  UserWarning)\n"
     ]
    }
   ],
   "source": [
    "u = mda.Universe.empty(n_atoms=21, n_residues=7,\n",
    "                       trajectory=True)"
   ]
  },
  {
   "cell_type": "code",
   "execution_count": 3,
   "metadata": {},
   "outputs": [
    {
     "name": "stdout",
     "output_type": "stream",
     "text": [
      "<AtomGroup [<Atom 1:>, <Atom 2:>, <Atom 3:>, ..., <Atom 19:>, <Atom 20:>, <Atom 21:>]>\n",
      "<ResidueGroup [<Residue>, <Residue>, <Residue>, <Residue>, <Residue>, <Residue>, <Residue>]>\n"
     ]
    }
   ],
   "source": [
    "print(u.atoms)\n",
    "print(u.residues)"
   ]
  },
  {
   "cell_type": "code",
   "execution_count": 4,
   "metadata": {},
   "outputs": [],
   "source": [
    "for i, res in enumerate(u.residues):\n",
    "    u.atoms[i * 3: (i + 1) * 3].residue = res"
   ]
  },
  {
   "cell_type": "markdown",
   "metadata": {},
   "source": [
    "We can then add various topology attributes to these atoms"
   ]
  },
  {
   "cell_type": "code",
   "execution_count": 5,
   "metadata": {},
   "outputs": [],
   "source": [
    "u.add_TopologyAttr('masses', values=[10.0] * 21)\n",
    "u.add_TopologyAttr('names', values=['A'] * 21)\n",
    "u.add_TopologyAttr('types', values=['Ca'] * 21)\n",
    "u.add_TopologyAttr('resids', values=range(7))\n"
   ]
  },
  {
   "cell_type": "markdown",
   "metadata": {},
   "source": [
    "And finally we can write this `Universe` out to a file"
   ]
  },
  {
   "cell_type": "code",
   "execution_count": 6,
   "metadata": {},
   "outputs": [
    {
     "name": "stderr",
     "output_type": "stream",
     "text": [
      "/Users/richardgowers/code/mdanalysis/package/MDAnalysis/coordinates/GRO.py:408: UserWarning: Supplied AtomGroup was missing the following attributes: resnames. These will be written with default values. Alternatively these can be supplied as keyword arguments.\n",
      "  \"\".format(miss=', '.join(missing_topology)))\n"
     ]
    }
   ],
   "source": [
    "u.atoms.write('new.gro')"
   ]
  }
 ],
 "metadata": {
  "kernelspec": {
   "display_name": "Python 3",
   "language": "python",
   "name": "python3"
  },
  "language_info": {
   "codemirror_mode": {
    "name": "ipython",
    "version": 3
   },
   "file_extension": ".py",
   "mimetype": "text/x-python",
   "name": "python",
   "nbconvert_exporter": "python",
   "pygments_lexer": "ipython3",
   "version": "3.6.6"
  }
 },
 "nbformat": 4,
 "nbformat_minor": 2
}
