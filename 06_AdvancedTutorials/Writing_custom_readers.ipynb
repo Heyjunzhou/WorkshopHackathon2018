{
 "cells": [
  {
   "cell_type": "markdown",
   "metadata": {},
   "source": [
    "## Writing a Custom Reader for MDAnalysis\n",
    "\n",
    "MDAnalysis is designed to work with whatever data format you can throw at it,\n",
    "however occaisionally you will find yourself with a file it cannot read.\n",
    "This can be because the file you want to load is a strange/ancient format,\n",
    "is badly formatted, or comes from an unusual source (eg SI of paper)\n",
    "\n",
    "These notebook demonstrates how to add support for these weird and wonderful files.\n",
    "To quickly recap some nomenclature:\n",
    " - `Parser`s read the topology information (names, types, etc) which does not vary over time\n",
    " - `Reader`s read coordinates, velocities and forces over time (a trajectory)\n",
    " - `Writer`s write these trajectory files back out\n",
    "\n",
    "You can dynamically add these to `MDAnalysis` without having to modify the package itself.\n",
    "This is useful for reading a single one off file, or when prototyping new functionality.\n",
    "In this notebook, an example of writing each of these will be demonstrated."
   ]
  },
  {
   "cell_type": "markdown",
   "metadata": {},
   "source": [
    "### Our odd file\n",
    "\n",
    "In this directory is a file called `atoms.csv`, which bizarrely for this field, is a csv file of data.  This file has 5 columns, the first is the name, the second a colour(!?), and the last three are the coordinates.\n",
    "\n",
    "To read this oddity, we will need to write a new `Parser` and `Reader`"
   ]
  },
  {
   "cell_type": "code",
   "execution_count": 1,
   "metadata": {},
   "outputs": [
    {
     "name": "stdout",
     "output_type": "stream",
     "text": [
      "N,Red,52.02,43.559998,31.55\r\n",
      "H1,Red,51.19,44.109997,31.72\r\n",
      "H2,Red,51.550003,42.83,31.04\r\n",
      "H3,Red,52.47,43.18,32.37\r\n",
      "CA,Green,53.06,44.21,30.75\r\n",
      "HA,Green,53.829998,43.47,30.539999\r\n",
      "CB,Green,52.57,44.739998,29.41\r\n",
      "HB1,Green,51.89,44.039997,28.929998\r\n",
      "HB2,Green,52.02,45.64,29.66\r\n",
      "CG,Yellow,53.71,45.11,28.45\r\n"
     ]
    }
   ],
   "source": [
    "!head atoms.csv"
   ]
  },
  {
   "cell_type": "markdown",
   "metadata": {},
   "source": [
    "### Writing a Parser\n",
    "\n",
    "A `Parser` is responsible for reading all non time dependent attributes of a `Universe`.  This typically includes attributes such as atoms' names, masses and charge.\n",
    "\n",
    "In `MDAnalysis`, parsers should inherit from the `MDAnalysis.topology.base.TopologyReaderBase` class.  By subclassing from this, the new parser automatically becomes known to MDAnalysis!\n",
    "\n",
    "All that is left is to implement a `parse` function, which must return a `Topology` object:"
   ]
  },
  {
   "cell_type": "code",
   "execution_count": 2,
   "metadata": {},
   "outputs": [],
   "source": [
    "from MDAnalysis.topology.base import TopologyReaderBase\n",
    "from MDAnalysis.core.topology import Topology\n",
    "from MDAnalysis.core import topologyattrs\n",
    "import numpy as np\n",
    "\n",
    "class CSVParser(TopologyReaderBase):\n",
    "    format = 'csv'\n",
    "    \n",
    "    def parse(self, **kwargs):\n",
    "        names = []\n",
    "        with open(self.filename, 'r') as file_in:\n",
    "            for line in file_in:\n",
    "                names.append(line.split(',')[0])\n",
    "                \n",
    "        n_atoms = len(names)\n",
    "       \n",
    "        attrs = [topologyattrs.Atomnames(np.array(names))]\n",
    "    \n",
    "        return Topology(n_atoms=n_atoms, n_res=1, n_seg=1,\n",
    "                        attrs=attrs)"
   ]
  },
  {
   "cell_type": "markdown",
   "metadata": {},
   "source": [
    "We can now load our file, and check that the names have been read:"
   ]
  },
  {
   "cell_type": "code",
   "execution_count": 3,
   "metadata": {},
   "outputs": [
    {
     "name": "stdout",
     "output_type": "stream",
     "text": [
      "['N' 'H1' 'H2' 'H3' 'CA' 'HA' 'CB' 'HB1' 'HB2' 'CG' 'HG1' 'HG2' 'SD' 'CE']\n"
     ]
    }
   ],
   "source": [
    "import MDAnalysis as mda\n",
    "\n",
    "u = mda.Universe('atoms.csv')\n",
    "\n",
    "print(u.atoms.names)"
   ]
  },
  {
   "cell_type": "markdown",
   "metadata": {},
   "source": [
    "Accessing positions will however raise an error"
   ]
  },
  {
   "cell_type": "code",
   "execution_count": 4,
   "metadata": {},
   "outputs": [
    {
     "ename": "AttributeError",
     "evalue": "AtomGroup has no attribute positions",
     "output_type": "error",
     "traceback": [
      "\u001b[0;31m---------------------------------------------------------------------------\u001b[0m",
      "\u001b[0;31mAttributeError\u001b[0m                            Traceback (most recent call last)",
      "\u001b[0;32m<ipython-input-4-60d0ec7e4db1>\u001b[0m in \u001b[0;36m<module>\u001b[0;34m()\u001b[0m\n\u001b[0;32m----> 1\u001b[0;31m \u001b[0mu\u001b[0m\u001b[0;34m.\u001b[0m\u001b[0matoms\u001b[0m\u001b[0;34m.\u001b[0m\u001b[0mpositions\u001b[0m\u001b[0;34m\u001b[0m\u001b[0m\n\u001b[0m",
      "\u001b[0;32m~/code/mdanalysis/package/MDAnalysis/core/groups.py\u001b[0m in \u001b[0;36m__getattr__\u001b[0;34m(self, attr)\u001b[0m\n\u001b[1;32m   1822\u001b[0m                 \u001b[0;32mpass\u001b[0m\u001b[0;34m\u001b[0m\u001b[0m\n\u001b[1;32m   1823\u001b[0m         raise AttributeError(\"{cls} has no attribute {attr}\".format(\n\u001b[0;32m-> 1824\u001b[0;31m             cls=self.__class__.__name__, attr=attr))\n\u001b[0m\u001b[1;32m   1825\u001b[0m \u001b[0;34m\u001b[0m\u001b[0m\n\u001b[1;32m   1826\u001b[0m     \u001b[0;32mdef\u001b[0m \u001b[0m__reduce__\u001b[0m\u001b[0;34m(\u001b[0m\u001b[0mself\u001b[0m\u001b[0;34m)\u001b[0m\u001b[0;34m:\u001b[0m\u001b[0;34m\u001b[0m\u001b[0m\n",
      "\u001b[0;31mAttributeError\u001b[0m: AtomGroup has no attribute positions"
     ]
    }
   ],
   "source": [
    "u.atoms.positions"
   ]
  },
  {
   "cell_type": "markdown",
   "metadata": {},
   "source": [
    "### Writing a Reader\n",
    "\n",
    "Readers should inherit from `MDAnalysis.coordinates.base.ReaderBase`.\n",
    "They then need to implement the `_read_first_frame` method,\n",
    "which should create a `Timestep` object and fill this with data from `self.filename`."
   ]
  },
  {
   "cell_type": "code",
   "execution_count": 6,
   "metadata": {},
   "outputs": [],
   "source": [
    "from MDAnalysis.coordinates import base\n",
    "\n",
    "class CSVReader(base.SingleFrameReaderBase):\n",
    "    # This line defines the file extension\n",
    "    format = 'csv'\n",
    "    \n",
    "    def _read_first_frame(self):\n",
    "        coords = []\n",
    "        with open(self.filename, 'r') as file_in:\n",
    "            for line in file_in:\n",
    "                coords.append(line.split(',')[2:])\n",
    "                \n",
    "        self.n_atoms = len(coords)\n",
    "        self.ts = ts = base.Timestep(n_atoms=self.n_atoms)\n",
    "        ts.positions = coords\n",
    "        \n",
    "        return ts"
   ]
  },
  {
   "cell_type": "code",
   "execution_count": 7,
   "metadata": {},
   "outputs": [],
   "source": [
    "u = mda.Universe('atoms.csv')"
   ]
  },
  {
   "cell_type": "code",
   "execution_count": 8,
   "metadata": {},
   "outputs": [
    {
     "data": {
      "text/plain": [
       "array(['N', 'H1', 'H2', 'H3', 'CA', 'HA', 'CB', 'HB1', 'HB2', 'CG', 'HG1',\n",
       "       'HG2', 'SD', 'CE'], dtype=object)"
      ]
     },
     "execution_count": 8,
     "metadata": {},
     "output_type": "execute_result"
    }
   ],
   "source": [
    "u.atoms.names"
   ]
  },
  {
   "cell_type": "code",
   "execution_count": 9,
   "metadata": {},
   "outputs": [
    {
     "data": {
      "text/plain": [
       "array([[52.02    , 43.559998, 31.55    ],\n",
       "       [51.19    , 44.109997, 31.72    ],\n",
       "       [51.550003, 42.83    , 31.04    ],\n",
       "       [52.47    , 43.18    , 32.37    ],\n",
       "       [53.06    , 44.21    , 30.75    ],\n",
       "       [53.829998, 43.47    , 30.539999],\n",
       "       [52.57    , 44.739998, 29.41    ],\n",
       "       [51.89    , 44.039997, 28.929998],\n",
       "       [52.02    , 45.64    , 29.66    ],\n",
       "       [53.71    , 45.11    , 28.45    ],\n",
       "       [53.47    , 45.66    , 27.539999],\n",
       "       [54.39    , 45.73    , 29.03    ],\n",
       "       [54.640003, 43.68    , 27.84    ],\n",
       "       [53.35    , 43.12    , 26.7     ]], dtype=float32)"
      ]
     },
     "execution_count": 9,
     "metadata": {},
     "output_type": "execute_result"
    }
   ],
   "source": [
    "u.atoms.positions"
   ]
  },
  {
   "cell_type": "markdown",
   "metadata": {},
   "source": [
    "### Adding new attributes\n",
    "\n",
    "Our file also had a novel 'colour' field.\n",
    "\n",
    "We can include this data in `AtomGroup` objects by defining a new topology attribute:"
   ]
  },
  {
   "cell_type": "code",
   "execution_count": 10,
   "metadata": {},
   "outputs": [],
   "source": [
    "from MDAnalysis.topology.base import TopologyReaderBase\n",
    "from MDAnalysis.core.topology import Topology\n",
    "from MDAnalysis.core import topologyattrs\n",
    "import numpy as np\n",
    "\n",
    "\n",
    "class AtomColors(topologyattrs.AtomAttr):\n",
    "    attrname = 'colors'\n",
    "    singular = 'color'\n",
    "    per_object = 'atom'\n",
    "    dtype = object\n",
    "\n",
    "\n",
    "class CSVParser(TopologyReaderBase):\n",
    "    format = 'csv'\n",
    "    \n",
    "    def parse(self, **kwargs):\n",
    "        names = []\n",
    "        colors = []\n",
    "        with open(self.filename, 'r') as file_in:\n",
    "            for line in file_in:\n",
    "                names.append(line.split(',')[0])\n",
    "                colors.append(line.split(',')[1])\n",
    "\n",
    "        n_atoms = len(names)\n",
    "       \n",
    "        attrs = [\n",
    "            topologyattrs.Atomnames(np.array(names)),\n",
    "            AtomColors(np.array(colors)),\n",
    "        ]\n",
    "    \n",
    "        return Topology(n_atoms=n_atoms, n_res=1, n_seg=1,\n",
    "                        attrs=attrs)"
   ]
  },
  {
   "cell_type": "code",
   "execution_count": 11,
   "metadata": {},
   "outputs": [],
   "source": [
    "u = mda.Universe('atoms.csv')"
   ]
  },
  {
   "cell_type": "code",
   "execution_count": 12,
   "metadata": {},
   "outputs": [
    {
     "data": {
      "text/plain": [
       "array(['Red', 'Red', 'Red', 'Red', 'Green', 'Green', 'Green', 'Green',\n",
       "       'Green', 'Yellow', 'Yellow', 'Yellow', 'Yellow', 'Yellow'],\n",
       "      dtype=object)"
      ]
     },
     "execution_count": 12,
     "metadata": {},
     "output_type": "execute_result"
    }
   ],
   "source": [
    "u.atoms.colors"
   ]
  }
 ],
 "metadata": {
  "kernelspec": {
   "display_name": "Python 3",
   "language": "python",
   "name": "python3"
  },
  "language_info": {
   "codemirror_mode": {
    "name": "ipython",
    "version": 3
   },
   "file_extension": ".py",
   "mimetype": "text/x-python",
   "name": "python",
   "nbconvert_exporter": "python",
   "pygments_lexer": "ipython3",
   "version": "3.6.6"
  }
 },
 "nbformat": 4,
 "nbformat_minor": 2
}
