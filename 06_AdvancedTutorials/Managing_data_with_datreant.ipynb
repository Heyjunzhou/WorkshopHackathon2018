{
 "cells": [
  {
   "cell_type": "markdown",
   "metadata": {},
   "source": [
    "## Managing data with datreant\n",
    "\n",
    "`datreant` is a Python package for managing data across many different directories.\n",
    "We'll jump straight in to a messy directory of simulation results,\n",
    "these are moderately organised, but are a little scattered:\n",
    "\n",
    "```\n",
    "datreant_data\n",
    " +-- other_dir\n",
    " |   +-- sim_T300\n",
    " |   +-- sim_T400\n",
    " |   +-- sim_T500\n",
    " |   +-- sim_T600\n",
    " +-- sim_T100\n",
    " +-- sim_T200\n",
    " +-- sim_T300\n",
    " +-- sim_T400\n",
    "```\n",
    "\n",
    "Using `datreant` we can quickly find all directories we have previously tagged"
   ]
  },
  {
   "cell_type": "code",
   "execution_count": 26,
   "metadata": {},
   "outputs": [],
   "source": [
    "from asciitree import LeftAligned\n",
    "from collections import OrderedDict as OD"
   ]
  },
  {
   "cell_type": "code",
   "execution_count": 43,
   "metadata": {},
   "outputs": [],
   "source": [
    "contents = OD(\n",
    "   datreant_data=OD(\n",
    "       other_dir=OD(\n",
    "           sim_T300={},\n",
    "           sim_T400={},\n",
    "           sim_T500={},\n",
    "           sim_T600={},\n",
    "       ),\n",
    "       sim_T100={},\n",
    "       sim_T200={},\n",
    "       sim_T300={},\n",
    "       sim_T400={},\n",
    "   )\n",
    ")"
   ]
  },
  {
   "cell_type": "code",
   "execution_count": 44,
   "metadata": {},
   "outputs": [
    {
     "name": "stdout",
     "output_type": "stream",
     "text": [
      "datreant_data\n",
      " +-- other_dir\n",
      " |   +-- sim_T300\n",
      " |   +-- sim_T400\n",
      " |   +-- sim_T500\n",
      " |   +-- sim_T600\n",
      " +-- sim_T100\n",
      " +-- sim_T200\n",
      " +-- sim_T300\n",
      " +-- sim_T400\n"
     ]
    }
   ],
   "source": [
    "print(LeftAligned()(contents))"
   ]
  },
  {
   "cell_type": "code",
   "execution_count": 24,
   "metadata": {},
   "outputs": [
    {
     "data": {
      "text/plain": [
       "<Bundle(['foo', 'sim_T100', 'sim_T200', 'sim_T300', 'sim_T500', 'sim_T600', 'sim_T300', 'sim_T400', 'sim_T400'])>"
      ]
     },
     "execution_count": 24,
     "metadata": {},
     "output_type": "execute_result"
    }
   ],
   "source": [
    "import datreant as dtr\n",
    "import os\n",
    "\n",
    "treants = dtr.discover('.')  # find all datreant objects in this directory\n",
    "\n",
    "treants"
   ]
  },
  {
   "cell_type": "markdown",
   "metadata": {},
   "source": [
    "From these results, we can then query"
   ]
  },
  {
   "cell_type": "code",
   "execution_count": 7,
   "metadata": {},
   "outputs": [
    {
     "data": {
      "text/plain": [
       "{'Simulation'}"
      ]
     },
     "execution_count": 7,
     "metadata": {},
     "output_type": "execute_result"
    }
   ],
   "source": [
    "treants.tags.any"
   ]
  },
  {
   "cell_type": "code",
   "execution_count": 8,
   "metadata": {},
   "outputs": [
    {
     "data": {
      "text/plain": [
       "<AggCategories({'temperature': [100, 200, 300, 500, 600, 300, 400, 400]})>"
      ]
     },
     "execution_count": 8,
     "metadata": {},
     "output_type": "execute_result"
    }
   ],
   "source": [
    "treants.categories"
   ]
  },
  {
   "cell_type": "code",
   "execution_count": 9,
   "metadata": {},
   "outputs": [
    {
     "data": {
      "text/plain": [
       "<Bundle(['sim_T300', 'sim_T300'])>"
      ]
     },
     "execution_count": 9,
     "metadata": {},
     "output_type": "execute_result"
    }
   ],
   "source": [
    "treants.get(temperature=300)"
   ]
  },
  {
   "cell_type": "code",
   "execution_count": 10,
   "metadata": {},
   "outputs": [
    {
     "name": "stdout",
     "output_type": "stream",
     "text": [
      "/Users/richardgowers/code/WorkshopHackathon2018/06_AdvancedTutorials/datreant_data/sim_T200/\n"
     ]
    }
   ],
   "source": [
    "for t in treants.get(temperature=200):\n",
    "    print(t.abspath)"
   ]
  },
  {
   "cell_type": "markdown",
   "metadata": {},
   "source": [
    "### datreant objects\n",
    "\n",
    "explain Treant, Bundle, Leaf?"
   ]
  },
  {
   "cell_type": "markdown",
   "metadata": {},
   "source": [
    "### Constructing your own datreant database\n",
    "\n",
    "Now we've seen how this can work onc"
   ]
  },
  {
   "cell_type": "code",
   "execution_count": 19,
   "metadata": {},
   "outputs": [],
   "source": [
    "dtr.Treant?"
   ]
  },
  {
   "cell_type": "code",
   "execution_count": 20,
   "metadata": {},
   "outputs": [
    {
     "data": {
      "text/plain": [
       "<Treant: 'foo'>"
      ]
     },
     "execution_count": 20,
     "metadata": {},
     "output_type": "execute_result"
    }
   ],
   "source": [
    "dtr.Treant('foo')"
   ]
  },
  {
   "cell_type": "code",
   "execution_count": 21,
   "metadata": {},
   "outputs": [
    {
     "data": {
      "text/plain": [
       "True"
      ]
     },
     "execution_count": 21,
     "metadata": {},
     "output_type": "execute_result"
    }
   ],
   "source": [
    "dtr.Treant('foo').exists"
   ]
  },
  {
   "cell_type": "markdown",
   "metadata": {},
   "source": [
    "### How does it actually work?\n",
    "\n",
    "Datreant works by storing small files to keep track of directories that you have tagged.\n",
    "These are kept in a \"hidden\" directory called `.datreant`."
   ]
  },
  {
   "cell_type": "code",
   "execution_count": 3,
   "metadata": {},
   "outputs": [
    {
     "name": "stdout",
     "output_type": "stream",
     "text": [
      "{\"temperature\": 100}\n",
      "[\"Simulation\"]\n"
     ]
    }
   ],
   "source": [
    "with open('./sim_T100/.datreant/categories.json', 'r') as inf:\n",
    "    print(inf.read())\n",
    "with open('./sim_T100/.datreant/tags.json', 'r') as inf:\n",
    "    print(inf.read())"
   ]
  },
  {
   "cell_type": "markdown",
   "metadata": {},
   "source": [
    "This simple implementation means that you can freely rearrange your results directories (eg move them from your HPC cluster to long term storage) without destroying the `Treant` objects you have created."
   ]
  },
  {
   "cell_type": "markdown",
   "metadata": {},
   "source": [
    "### Future work\n",
    "\n",
    "datreant is being actively developed and a command line interface (cli) is currently being added.\n",
    "\n",
    "For more information on this, talk to David or Richard and check out the repository during the hackathon on Tuesday!"
   ]
  }
 ],
 "metadata": {
  "kernelspec": {
   "display_name": "Python 3",
   "language": "python",
   "name": "python3"
  },
  "language_info": {
   "codemirror_mode": {
    "name": "ipython",
    "version": 3
   },
   "file_extension": ".py",
   "mimetype": "text/x-python",
   "name": "python",
   "nbconvert_exporter": "python",
   "pygments_lexer": "ipython3",
   "version": "3.6.6"
  }
 },
 "nbformat": 4,
 "nbformat_minor": 2
}
