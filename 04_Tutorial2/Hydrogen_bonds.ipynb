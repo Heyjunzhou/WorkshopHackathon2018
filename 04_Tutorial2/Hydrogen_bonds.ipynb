{
 "cells": [
  {
   "cell_type": "markdown",
   "metadata": {},
   "source": [
    "# Calculating distances using the `lib.distances` module, and looking at hydrogen bonds"
   ]
  },
  {
   "cell_type": "markdown",
   "metadata": {},
   "source": [
    "### In this notebook we'll see how to use the functions of the `distances` module to generate contact maps and   we will use them to find  hydrogen bonds."
   ]
  },
  {
   "cell_type": "code",
   "execution_count": 1,
   "metadata": {},
   "outputs": [
    {
     "data": {
      "text/plain": [
       "'0.19.0'"
      ]
     },
     "execution_count": 1,
     "metadata": {},
     "output_type": "execute_result"
    }
   ],
   "source": [
    "import matplotlib.pyplot as plt\n",
    "import seaborn as sns\n",
    "import numpy as np\n",
    "import MDAnalysis as mda\n",
    "import MDAnalysisData as data\n",
    "from MDAnalysis.lib import distances\n",
    "import nglview as nv\n",
    "mda.__version__"
   ]
  },
  {
   "cell_type": "markdown",
   "metadata": {},
   "source": [
    "Create a Universe by loading the coordinates of a PEG - poly(ethyleneglycol) chain $HO(CH2CH2)_{20}OH$ "
   ]
  },
  {
   "cell_type": "code",
   "execution_count": null,
   "metadata": {
    "collapsed": true
   },
   "outputs": [],
   "source": [
    "polymer = data.datasets.fetch_PEG_1chain()\n",
    "\n",
    "u = mda.Universe(polymer['topology'], polymer['trajectory'])"
   ]
  },
  {
   "cell_type": "code",
   "execution_count": 6,
   "metadata": {
    "collapsed": true
   },
   "outputs": [],
   "source": [
    "u=mda.Universe('tutorial_MDA/PEG.prmtop','tutorial_MDA/PEG_03_prod.nc')"
   ]
  },
  {
   "cell_type": "code",
   "execution_count": 7,
   "metadata": {},
   "outputs": [
    {
     "data": {
      "text/plain": [
       "<NCDFReader tutorial_MDA/PEG_03_prod.nc with 50 frames of 13406 atoms>"
      ]
     },
     "execution_count": 7,
     "metadata": {},
     "output_type": "execute_result"
    }
   ],
   "source": [
    "u.trajectory"
   ]
  },
  {
   "cell_type": "markdown",
   "metadata": {},
   "source": [
    "We loaded a trajectory with 50 frames, but for the first part of this tutorial we'll limit ourselves to look at one frame."
   ]
  },
  {
   "cell_type": "markdown",
   "metadata": {},
   "source": [
    "### 1. Using distance_array and self_distance array to build contact maps\n",
    "\n",
    "We can calculate quickly all possible distances between atomgroups and plot the resulting contact maps in 2D.\n",
    "- **self_distance array** only takes one atomgroup\n",
    "- **distance_array** takes two atomgroups and, unlike the calc_bonds/angles/dihedrals functions, they don't have to contain the same number of atoms.\n",
    "- **capped_distance** and **self_capped_distance** are particularly useful when dealing with a big system: instead of looking for all possible distances, only considers atoms within a certain distance threshold."
   ]
  },
  {
   "cell_type": "markdown",
   "metadata": {},
   "source": [
    "#### 1.1 Difference between `self_distance` and `self_capped_distance`"
   ]
  },
  {
   "cell_type": "markdown",
   "metadata": {},
   "source": [
    "Select all oxygen atoms belonging to the polymer:"
   ]
  },
  {
   "cell_type": "code",
   "execution_count": 39,
   "metadata": {
    "collapsed": true
   },
   "outputs": [],
   "source": [
    "C=u.atoms.select_atoms('name C*')"
   ]
  },
  {
   "cell_type": "code",
   "execution_count": 40,
   "metadata": {},
   "outputs": [
    {
     "data": {
      "text/plain": [
       "<AtomGroup with 40 atoms>"
      ]
     },
     "execution_count": 40,
     "metadata": {},
     "output_type": "execute_result"
    }
   ],
   "source": [
    "C"
   ]
  },
  {
   "cell_type": "code",
   "execution_count": 78,
   "metadata": {
    "collapsed": true
   },
   "outputs": [],
   "source": [
    "d_CC = distances.self_distance_array(C.positions, box=u.dimensions)"
   ]
  },
  {
   "cell_type": "code",
   "execution_count": 79,
   "metadata": {},
   "outputs": [
    {
     "data": {
      "image/png": "[encoded data removed]",
      "text/plain": [
       "<Figure size 432x288 with 1 Axes>"
      ]
     },
     "metadata": {},
     "output_type": "display_data"
    }
   ],
   "source": [
    "fig, ax = plt.subplots()\n",
    "ax.hist(d_CC, bins=20)\n",
    "plt.show()"
   ]
  },
  {
   "cell_type": "markdown",
   "metadata": {},
   "source": [
    "The result as is doesn't look super-informative, as we only have one polymer chain and the C-C distances obviously grow with the chain length. But we can also use this function to compare different frames of a trajectory."
   ]
  },
  {
   "cell_type": "markdown",
   "metadata": {},
   "source": [
    "If we filter the `d_CC` array to exclude distances larger than 2 Å:"
   ]
  },
  {
   "cell_type": "code",
   "execution_count": 80,
   "metadata": {
    "collapsed": true
   },
   "outputs": [],
   "source": [
    "small=np.where(d_CC<2)"
   ]
  },
  {
   "cell_type": "code",
   "execution_count": 81,
   "metadata": {
    "collapsed": true
   },
   "outputs": [],
   "source": [
    "d_CC=d_CC[small]"
   ]
  },
  {
   "cell_type": "markdown",
   "metadata": {},
   "source": [
    ".. We get a much more readable plot:"
   ]
  },
  {
   "cell_type": "code",
   "execution_count": 82,
   "metadata": {},
   "outputs": [
    {
     "data": {
      "image/png": "[encoded data removed]",
      "text/plain": [
       "<Figure size 432x288 with 1 Axes>"
      ]
     },
     "metadata": {},
     "output_type": "display_data"
    }
   ],
   "source": [
    "fig, ax = plt.subplots()\n",
    "ax.hist(d_CC, bins=20)\n",
    "plt.show()"
   ]
  },
  {
   "cell_type": "markdown",
   "metadata": {},
   "source": [
    "But there is a faster way of doing this. `self_capped_distance` allows us to directly apply a threshold, by specifying `max_cutoff`:"
   ]
  },
  {
   "cell_type": "code",
   "execution_count": 83,
   "metadata": {
    "collapsed": true
   },
   "outputs": [],
   "source": [
    "d_CC = distances.self_capped_distance(C.positions, max_cutoff=2, box=u.dimensions)"
   ]
  },
  {
   "cell_type": "code",
   "execution_count": 84,
   "metadata": {},
   "outputs": [
    {
     "data": {
      "text/plain": [
       "(array([[ 0,  1],\n",
       "        [ 2,  3],\n",
       "        [ 4,  5],\n",
       "        [ 6,  7],\n",
       "        [ 8,  9],\n",
       "        [10, 11],\n",
       "        [12, 13],\n",
       "        [14, 15],\n",
       "        [16, 17],\n",
       "        [18, 19],\n",
       "        [20, 21],\n",
       "        [22, 23],\n",
       "        [24, 25],\n",
       "        [26, 27],\n",
       "        [28, 29],\n",
       "        [30, 31],\n",
       "        [32, 33],\n",
       "        [34, 35],\n",
       "        [36, 37],\n",
       "        [38, 39]]),\n",
       " array([1.5448847 , 1.53748981, 1.54263255, 1.51901582, 1.5687225 ,\n",
       "        1.60642799, 1.5794497 , 1.49239203, 1.54278599, 1.53936505,\n",
       "        1.63340531, 1.53800251, 1.53203517, 1.57960042, 1.51562869,\n",
       "        1.5262019 , 1.52047071, 1.54710616, 1.55148517, 1.5337478 ]))"
      ]
     },
     "execution_count": 84,
     "metadata": {},
     "output_type": "execute_result"
    }
   ],
   "source": [
    "d_CC"
   ]
  },
  {
   "cell_type": "markdown",
   "metadata": {},
   "source": [
    "d_CC now contains a distribution of distances between neighboring carbons (cutoff=2). \n",
    "We could have used `calc_bonds`, but in this case we don't need to worry about slicing. "
   ]
  },
  {
   "cell_type": "markdown",
   "metadata": {},
   "source": [
    "Now if we plot d_CC as a histogram we should see the same result as before:"
   ]
  },
  {
   "cell_type": "code",
   "execution_count": 85,
   "metadata": {},
   "outputs": [
    {
     "data": {
      "image/png": "[encoded data removed]",
      "text/plain": [
       "<Figure size 432x288 with 1 Axes>"
      ]
     },
     "metadata": {},
     "output_type": "display_data"
    }
   ],
   "source": [
    "fig, ax = plt.subplots()\n",
    "ax.hist(d_CC[1], bins=20)\n",
    "plt.show()"
   ]
  },
  {
   "cell_type": "markdown",
   "metadata": {},
   "source": [
    "#### 1.2 Using `distance_array` to calculate contact maps"
   ]
  },
  {
   "cell_type": "markdown",
   "metadata": {},
   "source": [
    "Generate a contact map between C and O atoms.\n",
    "First, make the corresponding atomselections:"
   ]
  },
  {
   "cell_type": "code",
   "execution_count": 71,
   "metadata": {
    "collapsed": true
   },
   "outputs": [],
   "source": [
    "C=u.atoms.select_atoms('name C*')\n",
    "O=u.atoms.select_atoms('type os oh')"
   ]
  },
  {
   "cell_type": "markdown",
   "metadata": {},
   "source": [
    "Then, call `distance_array`:"
   ]
  },
  {
   "cell_type": "code",
   "execution_count": 75,
   "metadata": {
    "collapsed": true
   },
   "outputs": [],
   "source": [
    "d_CO = distances.distance_array(C.positions, O.positions, box=u.dimensions)"
   ]
  },
  {
   "cell_type": "code",
   "execution_count": 73,
   "metadata": {},
   "outputs": [
    {
     "data": {
      "text/plain": [
       "(40, 21)"
      ]
     },
     "execution_count": 73,
     "metadata": {},
     "output_type": "execute_result"
    }
   ],
   "source": [
    "d_CO.shape"
   ]
  },
  {
   "cell_type": "markdown",
   "metadata": {},
   "source": [
    "`distance_array` returns a bidimensional array that we can plot in 2D to generate a contact map:"
   ]
  },
  {
   "cell_type": "code",
   "execution_count": 76,
   "metadata": {},
   "outputs": [
    {
     "data": {
      "image/png": "[encoded data removed]",
      "text/plain": [
       "<Figure size 432x288 with 2 Axes>"
      ]
     },
     "metadata": {},
     "output_type": "display_data"
    }
   ],
   "source": [
    "fig, ax = plt.subplots()\n",
    "img=ax.imshow(d_CO)\n",
    "plt.colorbar(img)\n",
    "plt.show()"
   ]
  },
  {
   "cell_type": "markdown",
   "metadata": {},
   "source": [
    "### 2. Calculate hydrogen bonds between PEG and water\n",
    "\n",
    "MDAnalysis.analysis already contains a hbonds module, but we're gonna build a function from scratch in order to play with the *distances* methods we've seen thus far."
   ]
  },
  {
   "cell_type": "markdown",
   "metadata": {},
   "source": [
    "1) Select hydrogen bond acceptors (PEG oxygens):"
   ]
  },
  {
   "cell_type": "code",
   "execution_count": 37,
   "metadata": {},
   "outputs": [
    {
     "data": {
      "text/plain": [
       "< Timestep 49 with unit cell dimensions [53.79785  43.960857 57.188725 90.       90.       90.      ] >"
      ]
     },
     "execution_count": 37,
     "metadata": {},
     "output_type": "execute_result"
    }
   ],
   "source": [
    "u.trajectory[-1]"
   ]
  },
  {
   "cell_type": "code",
   "execution_count": 38,
   "metadata": {
    "collapsed": true
   },
   "outputs": [],
   "source": [
    "Acceptors=u.atoms.select_atoms(\"type os oh\")"
   ]
  },
  {
   "cell_type": "code",
   "execution_count": 39,
   "metadata": {},
   "outputs": [
    {
     "data": {
      "text/plain": [
       "<AtomGroup with 21 atoms>"
      ]
     },
     "execution_count": 39,
     "metadata": {},
     "output_type": "execute_result"
    }
   ],
   "source": [
    "Acceptors"
   ]
  },
  {
   "cell_type": "markdown",
   "metadata": {},
   "source": [
    "2) Select hydrogens (from water)"
   ]
  },
  {
   "cell_type": "code",
   "execution_count": 40,
   "metadata": {
    "collapsed": true
   },
   "outputs": [],
   "source": [
    "Hydrogens=u.atoms.select_atoms(\"type HW\")"
   ]
  },
  {
   "cell_type": "code",
   "execution_count": 41,
   "metadata": {},
   "outputs": [
    {
     "data": {
      "text/plain": [
       "<AtomGroup with 8842 atoms>"
      ]
     },
     "execution_count": 41,
     "metadata": {},
     "output_type": "execute_result"
    }
   ],
   "source": [
    "Hydrogens"
   ]
  },
  {
   "cell_type": "markdown",
   "metadata": {},
   "source": [
    "3) Pick the water molecules closest to the PEG chain using the **distance** (or **capped_distance**) method.\n",
    "\n",
    " A reasonable distance cutoff is 3 Å. We also need to consider pbc (u.dimensions).\n",
    " \n",
    " A useful feature of **distance**/**capped_distance** is that we can choose whether we need to return the distances, or only the list of Hydrogen, Acceptor pairs that satisfy our conditions. \n",
    " \n",
    "Another advantage of **capped_distance** is the speed. If your Universe is very big or you have a lot of solvent molecules, you'll see significant speedups."
   ]
  },
  {
   "cell_type": "code",
   "execution_count": 43,
   "metadata": {},
   "outputs": [
    {
     "name": "stdout",
     "output_type": "stream",
     "text": [
      "100 loops, best of 3: 4.45 ms per loop\n"
     ]
    }
   ],
   "source": [
    "distances.capped_distance(Hydrogens.positions, Acceptors.positions, max_cutoff=3.0, box=u.dimensions)"
   ]
  },
  {
   "cell_type": "markdown",
   "metadata": {},
   "source": [
    "Now we assign the indeces of Hydrogens and Acceptors forming the hydrogen bonds, which are returned by **capped_distance**:"
   ]
  },
  {
   "cell_type": "code",
   "execution_count": 44,
   "metadata": {
    "collapsed": true
   },
   "outputs": [],
   "source": [
    "d=distances.capped_distance(Hydrogens.positions, Acceptors.positions, max_cutoff=3, box=u.dimensions, return_distances=False)"
   ]
  },
  {
   "cell_type": "code",
   "execution_count": 49,
   "metadata": {
    "collapsed": true
   },
   "outputs": [],
   "source": [
    "Hidx, Aidx = d.T"
   ]
  },
  {
   "cell_type": "markdown",
   "metadata": {},
   "source": [
    "4) Select the Oxygen donors corresponding to the Hydrogens.\n",
    "\n",
    "Since we'll use **calc_angles** to select the suitable O-H-A interactions,\n",
    "we need to have a list of Oxygen donors that corresponds to the Hydrogens (there are 2 HW per OW). We then iterate over the list of Hydrogens and recover the Oxygen atom that belongs to the same residue:"
   ]
  },
  {
   "cell_type": "code",
   "execution_count": 50,
   "metadata": {
    "collapsed": true
   },
   "outputs": [],
   "source": [
    "Donors = []\n",
    "for H in Hydrogens:\n",
    "    O = H.bonded_atoms[0]\n",
    "    Donors.append(O)"
   ]
  },
  {
   "cell_type": "code",
   "execution_count": 51,
   "metadata": {},
   "outputs": [
    {
     "data": {
      "text/plain": [
       "[<Atom 144: O of type OW of resname WAT, resid 2 and segid SYSTEM>,\n",
       " <Atom 144: O of type OW of resname WAT, resid 2 and segid SYSTEM>,\n",
       " <Atom 147: O of type OW of resname WAT, resid 3 and segid SYSTEM>,\n",
       " <Atom 147: O of type OW of resname WAT, resid 3 and segid SYSTEM>,\n",
       " <Atom 150: O of type OW of resname WAT, resid 4 and segid SYSTEM>,\n",
       " <Atom 150: O of type OW of resname WAT, resid 4 and segid SYSTEM>,\n",
       " <Atom 153: O of type OW of resname WAT, resid 5 and segid SYSTEM>,\n",
       " <Atom 153: O of type OW of resname WAT, resid 5 and segid SYSTEM>,\n",
       " <Atom 156: O of type OW of resname WAT, resid 6 and segid SYSTEM>,\n",
       " <Atom 156: O of type OW of resname WAT, resid 6 and segid SYSTEM>,\n",
       " <Atom 159: O of type OW of resname WAT, resid 7 and segid SYSTEM>,\n",
       " <Atom 159: O of type OW of resname WAT, resid 7 and segid SYSTEM>,\n",
       " <Atom 162: O of type OW of resname WAT, resid 8 and segid SYSTEM>,\n",
       " <Atom 162: O of type OW of resname WAT, resid 8 and segid SYSTEM>,\n",
       " <Atom 165: O of type OW of resname WAT, resid 9 and segid SYSTEM>,\n",
       " <Atom 165: O of type OW of resname WAT, resid 9 and segid SYSTEM>,\n",
       " <Atom 168: O of type OW of resname WAT, resid 10 and segid SYSTEM>,\n",
       " <Atom 168: O of type OW of resname WAT, resid 10 and segid SYSTEM>,\n",
       " <Atom 171: O of type OW of resname WAT, resid 11 and segid SYSTEM>,\n",
       " <Atom 171: O of type OW of resname WAT, resid 11 and segid SYSTEM>,\n",
       " <Atom 174: O of type OW of resname WAT, resid 12 and segid SYSTEM>,\n",
       " <Atom 174: O of type OW of resname WAT, resid 12 and segid SYSTEM>,\n",
       " <Atom 177: O of type OW of resname WAT, resid 13 and segid SYSTEM>,\n",
       " <Atom 177: O of type OW of resname WAT, resid 13 and segid SYSTEM>,\n",
       " <Atom 180: O of type OW of resname WAT, resid 14 and segid SYSTEM>,\n",
       " <Atom 180: O of type OW of resname WAT, resid 14 and segid SYSTEM>,\n",
       " <Atom 183: O of type OW of resname WAT, resid 15 and segid SYSTEM>,\n",
       " <Atom 183: O of type OW of resname WAT, resid 15 and segid SYSTEM>,\n",
       " <Atom 186: O of type OW of resname WAT, resid 16 and segid SYSTEM>,\n",
       " <Atom 186: O of type OW of resname WAT, resid 16 and segid SYSTEM>,\n",
       " <Atom 189: O of type OW of resname WAT, resid 17 and segid SYSTEM>,\n",
       " <Atom 189: O of type OW of resname WAT, resid 17 and segid SYSTEM>,\n",
       " <Atom 192: O of type OW of resname WAT, resid 18 and segid SYSTEM>,\n",
       " <Atom 192: O of type OW of resname WAT, resid 18 and segid SYSTEM>,\n",
       " <Atom 195: O of type OW of resname WAT, resid 19 and segid SYSTEM>,\n",
       " <Atom 195: O of type OW of resname WAT, resid 19 and segid SYSTEM>,\n",
       " <Atom 198: O of type OW of resname WAT, resid 20 and segid SYSTEM>,\n",
       " <Atom 198: O of type OW of resname WAT, resid 20 and segid SYSTEM>,\n",
       " <Atom 201: O of type OW of resname WAT, resid 21 and segid SYSTEM>,\n",
       " <Atom 201: O of type OW of resname WAT, resid 21 and segid SYSTEM>,\n",
       " <Atom 204: O of type OW of resname WAT, resid 22 and segid SYSTEM>,\n",
       " <Atom 204: O of type OW of resname WAT, resid 22 and segid SYSTEM>,\n",
       " <Atom 207: O of type OW of resname WAT, resid 23 and segid SYSTEM>,\n",
       " <Atom 207: O of type OW of resname WAT, resid 23 and segid SYSTEM>,\n",
       " <Atom 210: O of type OW of resname WAT, resid 24 and segid SYSTEM>,\n",
       " <Atom 210: O of type OW of resname WAT, resid 24 and segid SYSTEM>,\n",
       " <Atom 213: O of type OW of resname WAT, resid 25 and segid SYSTEM>,\n",
       " <Atom 213: O of type OW of resname WAT, resid 25 and segid SYSTEM>,\n",
       " <Atom 216: O of type OW of resname WAT, resid 26 and segid SYSTEM>,\n",
       " <Atom 216: O of type OW of resname WAT, resid 26 and segid SYSTEM>,\n",
       " <Atom 219: O of type OW of resname WAT, resid 27 and segid SYSTEM>,\n",
       " <Atom 219: O of type OW of resname WAT, resid 27 and segid SYSTEM>,\n",
       " <Atom 222: O of type OW of resname WAT, resid 28 and segid SYSTEM>,\n",
       " <Atom 222: O of type OW of resname WAT, resid 28 and segid SYSTEM>,\n",
       " <Atom 225: O of type OW of resname WAT, resid 29 and segid SYSTEM>,\n",
       " <Atom 225: O of type OW of resname WAT, resid 29 and segid SYSTEM>,\n",
       " <Atom 228: O of type OW of resname WAT, resid 30 and segid SYSTEM>,\n",
       " <Atom 228: O of type OW of resname WAT, resid 30 and segid SYSTEM>,\n",
       " <Atom 231: O of type OW of resname WAT, resid 31 and segid SYSTEM>,\n",
       " <Atom 231: O of type OW of resname WAT, resid 31 and segid SYSTEM>,\n",
       " <Atom 234: O of type OW of resname WAT, resid 32 and segid SYSTEM>,\n",
       " <Atom 234: O of type OW of resname WAT, resid 32 and segid SYSTEM>,\n",
       " <Atom 237: O of type OW of resname WAT, resid 33 and segid SYSTEM>,\n",
       " <Atom 237: O of type OW of resname WAT, resid 33 and segid SYSTEM>,\n",
       " <Atom 240: O of type OW of resname WAT, resid 34 and segid SYSTEM>,\n",
       " <Atom 240: O of type OW of resname WAT, resid 34 and segid SYSTEM>,\n",
       " <Atom 243: O of type OW of resname WAT, resid 35 and segid SYSTEM>,\n",
       " <Atom 243: O of type OW of resname WAT, resid 35 and segid SYSTEM>,\n",
       " <Atom 246: O of type OW of resname WAT, resid 36 and segid SYSTEM>,\n",
       " <Atom 246: O of type OW of resname WAT, resid 36 and segid SYSTEM>,\n",
       " <Atom 249: O of type OW of resname WAT, resid 37 and segid SYSTEM>,\n",
       " <Atom 249: O of type OW of resname WAT, resid 37 and segid SYSTEM>,\n",
       " <Atom 252: O of type OW of resname WAT, resid 38 and segid SYSTEM>,\n",
       " <Atom 252: O of type OW of resname WAT, resid 38 and segid SYSTEM>,\n",
       " <Atom 255: O of type OW of resname WAT, resid 39 and segid SYSTEM>,\n",
       " <Atom 255: O of type OW of resname WAT, resid 39 and segid SYSTEM>,\n",
       " <Atom 258: O of type OW of resname WAT, resid 40 and segid SYSTEM>,\n",
       " <Atom 258: O of type OW of resname WAT, resid 40 and segid SYSTEM>,\n",
       " <Atom 261: O of type OW of resname WAT, resid 41 and segid SYSTEM>,\n",
       " <Atom 261: O of type OW of resname WAT, resid 41 and segid SYSTEM>,\n",
       " <Atom 264: O of type OW of resname WAT, resid 42 and segid SYSTEM>,\n",
       " <Atom 264: O of type OW of resname WAT, resid 42 and segid SYSTEM>,\n",
       " <Atom 267: O of type OW of resname WAT, resid 43 and segid SYSTEM>,\n",
       " <Atom 267: O of type OW of resname WAT, resid 43 and segid SYSTEM>,\n",
       " <Atom 270: O of type OW of resname WAT, resid 44 and segid SYSTEM>,\n",
       " <Atom 270: O of type OW of resname WAT, resid 44 and segid SYSTEM>,\n",
       " <Atom 273: O of type OW of resname WAT, resid 45 and segid SYSTEM>,\n",
       " <Atom 273: O of type OW of resname WAT, resid 45 and segid SYSTEM>,\n",
       " <Atom 276: O of type OW of resname WAT, resid 46 and segid SYSTEM>,\n",
       " <Atom 276: O of type OW of resname WAT, resid 46 and segid SYSTEM>,\n",
       " <Atom 279: O of type OW of resname WAT, resid 47 and segid SYSTEM>,\n",
       " <Atom 279: O of type OW of resname WAT, resid 47 and segid SYSTEM>,\n",
       " <Atom 282: O of type OW of resname WAT, resid 48 and segid SYSTEM>,\n",
       " <Atom 282: O of type OW of resname WAT, resid 48 and segid SYSTEM>,\n",
       " <Atom 285: O of type OW of resname WAT, resid 49 and segid SYSTEM>,\n",
       " <Atom 285: O of type OW of resname WAT, resid 49 and segid SYSTEM>,\n",
       " <Atom 288: O of type OW of resname WAT, resid 50 and segid SYSTEM>,\n",
       " <Atom 288: O of type OW of resname WAT, resid 50 and segid SYSTEM>,\n",
       " <Atom 291: O of type OW of resname WAT, resid 51 and segid SYSTEM>,\n",
       " <Atom 291: O of type OW of resname WAT, resid 51 and segid SYSTEM>,\n",
       " <Atom 294: O of type OW of resname WAT, resid 52 and segid SYSTEM>,\n",
       " <Atom 294: O of type OW of resname WAT, resid 52 and segid SYSTEM>,\n",
       " <Atom 297: O of type OW of resname WAT, resid 53 and segid SYSTEM>,\n",
       " <Atom 297: O of type OW of resname WAT, resid 53 and segid SYSTEM>,\n",
       " <Atom 300: O of type OW of resname WAT, resid 54 and segid SYSTEM>,\n",
       " <Atom 300: O of type OW of resname WAT, resid 54 and segid SYSTEM>,\n",
       " <Atom 303: O of type OW of resname WAT, resid 55 and segid SYSTEM>,\n",
       " <Atom 303: O of type OW of resname WAT, resid 55 and segid SYSTEM>,\n",
       " <Atom 306: O of type OW of resname WAT, resid 56 and segid SYSTEM>,\n",
       " <Atom 306: O of type OW of resname WAT, resid 56 and segid SYSTEM>,\n",
       " <Atom 309: O of type OW of resname WAT, resid 57 and segid SYSTEM>,\n",
       " <Atom 309: O of type OW of resname WAT, resid 57 and segid SYSTEM>,\n",
       " <Atom 312: O of type OW of resname WAT, resid 58 and segid SYSTEM>,\n",
       " <Atom 312: O of type OW of resname WAT, resid 58 and segid SYSTEM>,\n",
       " <Atom 315: O of type OW of resname WAT, resid 59 and segid SYSTEM>,\n",
       " <Atom 315: O of type OW of resname WAT, resid 59 and segid SYSTEM>,\n",
       " <Atom 318: O of type OW of resname WAT, resid 60 and segid SYSTEM>,\n",
       " <Atom 318: O of type OW of resname WAT, resid 60 and segid SYSTEM>,\n",
       " <Atom 321: O of type OW of resname WAT, resid 61 and segid SYSTEM>,\n",
       " <Atom 321: O of type OW of resname WAT, resid 61 and segid SYSTEM>,\n",
       " <Atom 324: O of type OW of resname WAT, resid 62 and segid SYSTEM>,\n",
       " <Atom 324: O of type OW of resname WAT, resid 62 and segid SYSTEM>,\n",
       " <Atom 327: O of type OW of resname WAT, resid 63 and segid SYSTEM>,\n",
       " <Atom 327: O of type OW of resname WAT, resid 63 and segid SYSTEM>,\n",
       " <Atom 330: O of type OW of resname WAT, resid 64 and segid SYSTEM>,\n",
       " <Atom 330: O of type OW of resname WAT, resid 64 and segid SYSTEM>,\n",
       " <Atom 333: O of type OW of resname WAT, resid 65 and segid SYSTEM>,\n",
       " <Atom 333: O of type OW of resname WAT, resid 65 and segid SYSTEM>,\n",
       " <Atom 336: O of type OW of resname WAT, resid 66 and segid SYSTEM>,\n",
       " <Atom 336: O of type OW of resname WAT, resid 66 and segid SYSTEM>,\n",
       " <Atom 339: O of type OW of resname WAT, resid 67 and segid SYSTEM>,\n",
       " <Atom 339: O of type OW of resname WAT, resid 67 and segid SYSTEM>,\n",
       " <Atom 342: O of type OW of resname WAT, resid 68 and segid SYSTEM>,\n",
       " <Atom 342: O of type OW of resname WAT, resid 68 and segid SYSTEM>,\n",
       " <Atom 345: O of type OW of resname WAT, resid 69 and segid SYSTEM>,\n",
       " <Atom 345: O of type OW of resname WAT, resid 69 and segid SYSTEM>,\n",
       " <Atom 348: O of type OW of resname WAT, resid 70 and segid SYSTEM>,\n",
       " <Atom 348: O of type OW of resname WAT, resid 70 and segid SYSTEM>,\n",
       " <Atom 351: O of type OW of resname WAT, resid 71 and segid SYSTEM>,\n",
       " <Atom 351: O of type OW of resname WAT, resid 71 and segid SYSTEM>,\n",
       " <Atom 354: O of type OW of resname WAT, resid 72 and segid SYSTEM>,\n",
       " <Atom 354: O of type OW of resname WAT, resid 72 and segid SYSTEM>,\n",
       " <Atom 357: O of type OW of resname WAT, resid 73 and segid SYSTEM>,\n",
       " <Atom 357: O of type OW of resname WAT, resid 73 and segid SYSTEM>,\n",
       " <Atom 360: O of type OW of resname WAT, resid 74 and segid SYSTEM>,\n",
       " <Atom 360: O of type OW of resname WAT, resid 74 and segid SYSTEM>,\n",
       " <Atom 363: O of type OW of resname WAT, resid 75 and segid SYSTEM>,\n",
       " <Atom 363: O of type OW of resname WAT, resid 75 and segid SYSTEM>,\n",
       " <Atom 366: O of type OW of resname WAT, resid 76 and segid SYSTEM>,\n",
       " <Atom 366: O of type OW of resname WAT, resid 76 and segid SYSTEM>,\n",
       " <Atom 369: O of type OW of resname WAT, resid 77 and segid SYSTEM>,\n",
       " <Atom 369: O of type OW of resname WAT, resid 77 and segid SYSTEM>,\n",
       " <Atom 372: O of type OW of resname WAT, resid 78 and segid SYSTEM>,\n",
       " <Atom 372: O of type OW of resname WAT, resid 78 and segid SYSTEM>,\n",
       " <Atom 375: O of type OW of resname WAT, resid 79 and segid SYSTEM>,\n",
       " <Atom 375: O of type OW of resname WAT, resid 79 and segid SYSTEM>,\n",
       " <Atom 378: O of type OW of resname WAT, resid 80 and segid SYSTEM>,\n",
       " <Atom 378: O of type OW of resname WAT, resid 80 and segid SYSTEM>,\n",
       " <Atom 381: O of type OW of resname WAT, resid 81 and segid SYSTEM>,\n",
       " <Atom 381: O of type OW of resname WAT, resid 81 and segid SYSTEM>,\n",
       " <Atom 384: O of type OW of resname WAT, resid 82 and segid SYSTEM>,\n",
       " <Atom 384: O of type OW of resname WAT, resid 82 and segid SYSTEM>,\n",
       " <Atom 387: O of type OW of resname WAT, resid 83 and segid SYSTEM>,\n",
       " <Atom 387: O of type OW of resname WAT, resid 83 and segid SYSTEM>,\n",
       " <Atom 390: O of type OW of resname WAT, resid 84 and segid SYSTEM>,\n",
       " <Atom 390: O of type OW of resname WAT, resid 84 and segid SYSTEM>,\n",
       " <Atom 393: O of type OW of resname WAT, resid 85 and segid SYSTEM>,\n",
       " <Atom 393: O of type OW of resname WAT, resid 85 and segid SYSTEM>,\n",
       " <Atom 396: O of type OW of resname WAT, resid 86 and segid SYSTEM>,\n",
       " <Atom 396: O of type OW of resname WAT, resid 86 and segid SYSTEM>,\n",
       " <Atom 399: O of type OW of resname WAT, resid 87 and segid SYSTEM>,\n",
       " <Atom 399: O of type OW of resname WAT, resid 87 and segid SYSTEM>,\n",
       " <Atom 402: O of type OW of resname WAT, resid 88 and segid SYSTEM>,\n",
       " <Atom 402: O of type OW of resname WAT, resid 88 and segid SYSTEM>,\n",
       " <Atom 405: O of type OW of resname WAT, resid 89 and segid SYSTEM>,\n",
       " <Atom 405: O of type OW of resname WAT, resid 89 and segid SYSTEM>,\n",
       " <Atom 408: O of type OW of resname WAT, resid 90 and segid SYSTEM>,\n",
       " <Atom 408: O of type OW of resname WAT, resid 90 and segid SYSTEM>,\n",
       " <Atom 411: O of type OW of resname WAT, resid 91 and segid SYSTEM>,\n",
       " <Atom 411: O of type OW of resname WAT, resid 91 and segid SYSTEM>,\n",
       " <Atom 414: O of type OW of resname WAT, resid 92 and segid SYSTEM>,\n",
       " <Atom 414: O of type OW of resname WAT, resid 92 and segid SYSTEM>,\n",
       " <Atom 417: O of type OW of resname WAT, resid 93 and segid SYSTEM>,\n",
       " <Atom 417: O of type OW of resname WAT, resid 93 and segid SYSTEM>,\n",
       " <Atom 420: O of type OW of resname WAT, resid 94 and segid SYSTEM>,\n",
       " <Atom 420: O of type OW of resname WAT, resid 94 and segid SYSTEM>,\n",
       " <Atom 423: O of type OW of resname WAT, resid 95 and segid SYSTEM>,\n",
       " <Atom 423: O of type OW of resname WAT, resid 95 and segid SYSTEM>,\n",
       " <Atom 426: O of type OW of resname WAT, resid 96 and segid SYSTEM>,\n",
       " <Atom 426: O of type OW of resname WAT, resid 96 and segid SYSTEM>,\n",
       " <Atom 429: O of type OW of resname WAT, resid 97 and segid SYSTEM>,\n",
       " <Atom 429: O of type OW of resname WAT, resid 97 and segid SYSTEM>,\n",
       " <Atom 432: O of type OW of resname WAT, resid 98 and segid SYSTEM>,\n",
       " <Atom 432: O of type OW of resname WAT, resid 98 and segid SYSTEM>,\n",
       " <Atom 435: O of type OW of resname WAT, resid 99 and segid SYSTEM>,\n",
       " <Atom 435: O of type OW of resname WAT, resid 99 and segid SYSTEM>,\n",
       " <Atom 438: O of type OW of resname WAT, resid 100 and segid SYSTEM>,\n",
       " <Atom 438: O of type OW of resname WAT, resid 100 and segid SYSTEM>,\n",
       " <Atom 441: O of type OW of resname WAT, resid 101 and segid SYSTEM>,\n",
       " <Atom 441: O of type OW of resname WAT, resid 101 and segid SYSTEM>,\n",
       " <Atom 444: O of type OW of resname WAT, resid 102 and segid SYSTEM>,\n",
       " <Atom 444: O of type OW of resname WAT, resid 102 and segid SYSTEM>,\n",
       " <Atom 447: O of type OW of resname WAT, resid 103 and segid SYSTEM>,\n",
       " <Atom 447: O of type OW of resname WAT, resid 103 and segid SYSTEM>,\n",
       " <Atom 450: O of type OW of resname WAT, resid 104 and segid SYSTEM>,\n",
       " <Atom 450: O of type OW of resname WAT, resid 104 and segid SYSTEM>,\n",
       " <Atom 453: O of type OW of resname WAT, resid 105 and segid SYSTEM>,\n",
       " <Atom 453: O of type OW of resname WAT, resid 105 and segid SYSTEM>,\n",
       " <Atom 456: O of type OW of resname WAT, resid 106 and segid SYSTEM>,\n",
       " <Atom 456: O of type OW of resname WAT, resid 106 and segid SYSTEM>,\n",
       " <Atom 459: O of type OW of resname WAT, resid 107 and segid SYSTEM>,\n",
       " <Atom 459: O of type OW of resname WAT, resid 107 and segid SYSTEM>,\n",
       " <Atom 462: O of type OW of resname WAT, resid 108 and segid SYSTEM>,\n",
       " <Atom 462: O of type OW of resname WAT, resid 108 and segid SYSTEM>,\n",
       " <Atom 465: O of type OW of resname WAT, resid 109 and segid SYSTEM>,\n",
       " <Atom 465: O of type OW of resname WAT, resid 109 and segid SYSTEM>,\n",
       " <Atom 468: O of type OW of resname WAT, resid 110 and segid SYSTEM>,\n",
       " <Atom 468: O of type OW of resname WAT, resid 110 and segid SYSTEM>,\n",
       " <Atom 471: O of type OW of resname WAT, resid 111 and segid SYSTEM>,\n",
       " <Atom 471: O of type OW of resname WAT, resid 111 and segid SYSTEM>,\n",
       " <Atom 474: O of type OW of resname WAT, resid 112 and segid SYSTEM>,\n",
       " <Atom 474: O of type OW of resname WAT, resid 112 and segid SYSTEM>,\n",
       " <Atom 477: O of type OW of resname WAT, resid 113 and segid SYSTEM>,\n",
       " <Atom 477: O of type OW of resname WAT, resid 113 and segid SYSTEM>,\n",
       " <Atom 480: O of type OW of resname WAT, resid 114 and segid SYSTEM>,\n",
       " <Atom 480: O of type OW of resname WAT, resid 114 and segid SYSTEM>,\n",
       " <Atom 483: O of type OW of resname WAT, resid 115 and segid SYSTEM>,\n",
       " <Atom 483: O of type OW of resname WAT, resid 115 and segid SYSTEM>,\n",
       " <Atom 486: O of type OW of resname WAT, resid 116 and segid SYSTEM>,\n",
       " <Atom 486: O of type OW of resname WAT, resid 116 and segid SYSTEM>,\n",
       " <Atom 489: O of type OW of resname WAT, resid 117 and segid SYSTEM>,\n",
       " <Atom 489: O of type OW of resname WAT, resid 117 and segid SYSTEM>,\n",
       " <Atom 492: O of type OW of resname WAT, resid 118 and segid SYSTEM>,\n",
       " <Atom 492: O of type OW of resname WAT, resid 118 and segid SYSTEM>,\n",
       " <Atom 495: O of type OW of resname WAT, resid 119 and segid SYSTEM>,\n",
       " <Atom 495: O of type OW of resname WAT, resid 119 and segid SYSTEM>,\n",
       " <Atom 498: O of type OW of resname WAT, resid 120 and segid SYSTEM>,\n",
       " <Atom 498: O of type OW of resname WAT, resid 120 and segid SYSTEM>,\n",
       " <Atom 501: O of type OW of resname WAT, resid 121 and segid SYSTEM>,\n",
       " <Atom 501: O of type OW of resname WAT, resid 121 and segid SYSTEM>,\n",
       " <Atom 504: O of type OW of resname WAT, resid 122 and segid SYSTEM>,\n",
       " <Atom 504: O of type OW of resname WAT, resid 122 and segid SYSTEM>,\n",
       " <Atom 507: O of type OW of resname WAT, resid 123 and segid SYSTEM>,\n",
       " <Atom 507: O of type OW of resname WAT, resid 123 and segid SYSTEM>,\n",
       " <Atom 510: O of type OW of resname WAT, resid 124 and segid SYSTEM>,\n",
       " <Atom 510: O of type OW of resname WAT, resid 124 and segid SYSTEM>,\n",
       " <Atom 513: O of type OW of resname WAT, resid 125 and segid SYSTEM>,\n",
       " <Atom 513: O of type OW of resname WAT, resid 125 and segid SYSTEM>,\n",
       " <Atom 516: O of type OW of resname WAT, resid 126 and segid SYSTEM>,\n",
       " <Atom 516: O of type OW of resname WAT, resid 126 and segid SYSTEM>,\n",
       " <Atom 519: O of type OW of resname WAT, resid 127 and segid SYSTEM>,\n",
       " <Atom 519: O of type OW of resname WAT, resid 127 and segid SYSTEM>,\n",
       " <Atom 522: O of type OW of resname WAT, resid 128 and segid SYSTEM>,\n",
       " <Atom 522: O of type OW of resname WAT, resid 128 and segid SYSTEM>,\n",
       " <Atom 525: O of type OW of resname WAT, resid 129 and segid SYSTEM>,\n",
       " <Atom 525: O of type OW of resname WAT, resid 129 and segid SYSTEM>,\n",
       " <Atom 528: O of type OW of resname WAT, resid 130 and segid SYSTEM>,\n",
       " <Atom 528: O of type OW of resname WAT, resid 130 and segid SYSTEM>,\n",
       " <Atom 531: O of type OW of resname WAT, resid 131 and segid SYSTEM>,\n",
       " <Atom 531: O of type OW of resname WAT, resid 131 and segid SYSTEM>,\n",
       " <Atom 534: O of type OW of resname WAT, resid 132 and segid SYSTEM>,\n",
       " <Atom 534: O of type OW of resname WAT, resid 132 and segid SYSTEM>,\n",
       " <Atom 537: O of type OW of resname WAT, resid 133 and segid SYSTEM>,\n",
       " <Atom 537: O of type OW of resname WAT, resid 133 and segid SYSTEM>,\n",
       " <Atom 540: O of type OW of resname WAT, resid 134 and segid SYSTEM>,\n",
       " <Atom 540: O of type OW of resname WAT, resid 134 and segid SYSTEM>,\n",
       " <Atom 543: O of type OW of resname WAT, resid 135 and segid SYSTEM>,\n",
       " <Atom 543: O of type OW of resname WAT, resid 135 and segid SYSTEM>,\n",
       " <Atom 546: O of type OW of resname WAT, resid 136 and segid SYSTEM>,\n",
       " <Atom 546: O of type OW of resname WAT, resid 136 and segid SYSTEM>,\n",
       " <Atom 549: O of type OW of resname WAT, resid 137 and segid SYSTEM>,\n",
       " <Atom 549: O of type OW of resname WAT, resid 137 and segid SYSTEM>,\n",
       " <Atom 552: O of type OW of resname WAT, resid 138 and segid SYSTEM>,\n",
       " <Atom 552: O of type OW of resname WAT, resid 138 and segid SYSTEM>,\n",
       " <Atom 555: O of type OW of resname WAT, resid 139 and segid SYSTEM>,\n",
       " <Atom 555: O of type OW of resname WAT, resid 139 and segid SYSTEM>,\n",
       " <Atom 558: O of type OW of resname WAT, resid 140 and segid SYSTEM>,\n",
       " <Atom 558: O of type OW of resname WAT, resid 140 and segid SYSTEM>,\n",
       " <Atom 561: O of type OW of resname WAT, resid 141 and segid SYSTEM>,\n",
       " <Atom 561: O of type OW of resname WAT, resid 141 and segid SYSTEM>,\n",
       " <Atom 564: O of type OW of resname WAT, resid 142 and segid SYSTEM>,\n",
       " <Atom 564: O of type OW of resname WAT, resid 142 and segid SYSTEM>,\n",
       " <Atom 567: O of type OW of resname WAT, resid 143 and segid SYSTEM>,\n",
       " <Atom 567: O of type OW of resname WAT, resid 143 and segid SYSTEM>,\n",
       " <Atom 570: O of type OW of resname WAT, resid 144 and segid SYSTEM>,\n",
       " <Atom 570: O of type OW of resname WAT, resid 144 and segid SYSTEM>,\n",
       " <Atom 573: O of type OW of resname WAT, resid 145 and segid SYSTEM>,\n",
       " <Atom 573: O of type OW of resname WAT, resid 145 and segid SYSTEM>,\n",
       " <Atom 576: O of type OW of resname WAT, resid 146 and segid SYSTEM>,\n",
       " <Atom 576: O of type OW of resname WAT, resid 146 and segid SYSTEM>,\n",
       " <Atom 579: O of type OW of resname WAT, resid 147 and segid SYSTEM>,\n",
       " <Atom 579: O of type OW of resname WAT, resid 147 and segid SYSTEM>,\n",
       " <Atom 582: O of type OW of resname WAT, resid 148 and segid SYSTEM>,\n",
       " <Atom 582: O of type OW of resname WAT, resid 148 and segid SYSTEM>,\n",
       " <Atom 585: O of type OW of resname WAT, resid 149 and segid SYSTEM>,\n",
       " <Atom 585: O of type OW of resname WAT, resid 149 and segid SYSTEM>,\n",
       " <Atom 588: O of type OW of resname WAT, resid 150 and segid SYSTEM>,\n",
       " <Atom 588: O of type OW of resname WAT, resid 150 and segid SYSTEM>,\n",
       " <Atom 591: O of type OW of resname WAT, resid 151 and segid SYSTEM>,\n",
       " <Atom 591: O of type OW of resname WAT, resid 151 and segid SYSTEM>,\n",
       " <Atom 594: O of type OW of resname WAT, resid 152 and segid SYSTEM>,\n",
       " <Atom 594: O of type OW of resname WAT, resid 152 and segid SYSTEM>,\n",
       " <Atom 597: O of type OW of resname WAT, resid 153 and segid SYSTEM>,\n",
       " <Atom 597: O of type OW of resname WAT, resid 153 and segid SYSTEM>,\n",
       " <Atom 600: O of type OW of resname WAT, resid 154 and segid SYSTEM>,\n",
       " <Atom 600: O of type OW of resname WAT, resid 154 and segid SYSTEM>,\n",
       " <Atom 603: O of type OW of resname WAT, resid 155 and segid SYSTEM>,\n",
       " <Atom 603: O of type OW of resname WAT, resid 155 and segid SYSTEM>,\n",
       " <Atom 606: O of type OW of resname WAT, resid 156 and segid SYSTEM>,\n",
       " <Atom 606: O of type OW of resname WAT, resid 156 and segid SYSTEM>,\n",
       " <Atom 609: O of type OW of resname WAT, resid 157 and segid SYSTEM>,\n",
       " <Atom 609: O of type OW of resname WAT, resid 157 and segid SYSTEM>,\n",
       " <Atom 612: O of type OW of resname WAT, resid 158 and segid SYSTEM>,\n",
       " <Atom 612: O of type OW of resname WAT, resid 158 and segid SYSTEM>,\n",
       " <Atom 615: O of type OW of resname WAT, resid 159 and segid SYSTEM>,\n",
       " <Atom 615: O of type OW of resname WAT, resid 159 and segid SYSTEM>,\n",
       " <Atom 618: O of type OW of resname WAT, resid 160 and segid SYSTEM>,\n",
       " <Atom 618: O of type OW of resname WAT, resid 160 and segid SYSTEM>,\n",
       " <Atom 621: O of type OW of resname WAT, resid 161 and segid SYSTEM>,\n",
       " <Atom 621: O of type OW of resname WAT, resid 161 and segid SYSTEM>,\n",
       " <Atom 624: O of type OW of resname WAT, resid 162 and segid SYSTEM>,\n",
       " <Atom 624: O of type OW of resname WAT, resid 162 and segid SYSTEM>,\n",
       " <Atom 627: O of type OW of resname WAT, resid 163 and segid SYSTEM>,\n",
       " <Atom 627: O of type OW of resname WAT, resid 163 and segid SYSTEM>,\n",
       " <Atom 630: O of type OW of resname WAT, resid 164 and segid SYSTEM>,\n",
       " <Atom 630: O of type OW of resname WAT, resid 164 and segid SYSTEM>,\n",
       " <Atom 633: O of type OW of resname WAT, resid 165 and segid SYSTEM>,\n",
       " <Atom 633: O of type OW of resname WAT, resid 165 and segid SYSTEM>,\n",
       " <Atom 636: O of type OW of resname WAT, resid 166 and segid SYSTEM>,\n",
       " <Atom 636: O of type OW of resname WAT, resid 166 and segid SYSTEM>,\n",
       " <Atom 639: O of type OW of resname WAT, resid 167 and segid SYSTEM>,\n",
       " <Atom 639: O of type OW of resname WAT, resid 167 and segid SYSTEM>,\n",
       " <Atom 642: O of type OW of resname WAT, resid 168 and segid SYSTEM>,\n",
       " <Atom 642: O of type OW of resname WAT, resid 168 and segid SYSTEM>,\n",
       " <Atom 645: O of type OW of resname WAT, resid 169 and segid SYSTEM>,\n",
       " <Atom 645: O of type OW of resname WAT, resid 169 and segid SYSTEM>,\n",
       " <Atom 648: O of type OW of resname WAT, resid 170 and segid SYSTEM>,\n",
       " <Atom 648: O of type OW of resname WAT, resid 170 and segid SYSTEM>,\n",
       " <Atom 651: O of type OW of resname WAT, resid 171 and segid SYSTEM>,\n",
       " <Atom 651: O of type OW of resname WAT, resid 171 and segid SYSTEM>,\n",
       " <Atom 654: O of type OW of resname WAT, resid 172 and segid SYSTEM>,\n",
       " <Atom 654: O of type OW of resname WAT, resid 172 and segid SYSTEM>,\n",
       " <Atom 657: O of type OW of resname WAT, resid 173 and segid SYSTEM>,\n",
       " <Atom 657: O of type OW of resname WAT, resid 173 and segid SYSTEM>,\n",
       " <Atom 660: O of type OW of resname WAT, resid 174 and segid SYSTEM>,\n",
       " <Atom 660: O of type OW of resname WAT, resid 174 and segid SYSTEM>,\n",
       " <Atom 663: O of type OW of resname WAT, resid 175 and segid SYSTEM>,\n",
       " <Atom 663: O of type OW of resname WAT, resid 175 and segid SYSTEM>,\n",
       " <Atom 666: O of type OW of resname WAT, resid 176 and segid SYSTEM>,\n",
       " <Atom 666: O of type OW of resname WAT, resid 176 and segid SYSTEM>,\n",
       " <Atom 669: O of type OW of resname WAT, resid 177 and segid SYSTEM>,\n",
       " <Atom 669: O of type OW of resname WAT, resid 177 and segid SYSTEM>,\n",
       " <Atom 672: O of type OW of resname WAT, resid 178 and segid SYSTEM>,\n",
       " <Atom 672: O of type OW of resname WAT, resid 178 and segid SYSTEM>,\n",
       " <Atom 675: O of type OW of resname WAT, resid 179 and segid SYSTEM>,\n",
       " <Atom 675: O of type OW of resname WAT, resid 179 and segid SYSTEM>,\n",
       " <Atom 678: O of type OW of resname WAT, resid 180 and segid SYSTEM>,\n",
       " <Atom 678: O of type OW of resname WAT, resid 180 and segid SYSTEM>,\n",
       " <Atom 681: O of type OW of resname WAT, resid 181 and segid SYSTEM>,\n",
       " <Atom 681: O of type OW of resname WAT, resid 181 and segid SYSTEM>,\n",
       " <Atom 684: O of type OW of resname WAT, resid 182 and segid SYSTEM>,\n",
       " <Atom 684: O of type OW of resname WAT, resid 182 and segid SYSTEM>,\n",
       " <Atom 687: O of type OW of resname WAT, resid 183 and segid SYSTEM>,\n",
       " <Atom 687: O of type OW of resname WAT, resid 183 and segid SYSTEM>,\n",
       " <Atom 690: O of type OW of resname WAT, resid 184 and segid SYSTEM>,\n",
       " <Atom 690: O of type OW of resname WAT, resid 184 and segid SYSTEM>,\n",
       " <Atom 693: O of type OW of resname WAT, resid 185 and segid SYSTEM>,\n",
       " <Atom 693: O of type OW of resname WAT, resid 185 and segid SYSTEM>,\n",
       " <Atom 696: O of type OW of resname WAT, resid 186 and segid SYSTEM>,\n",
       " <Atom 696: O of type OW of resname WAT, resid 186 and segid SYSTEM>,\n",
       " <Atom 699: O of type OW of resname WAT, resid 187 and segid SYSTEM>,\n",
       " <Atom 699: O of type OW of resname WAT, resid 187 and segid SYSTEM>,\n",
       " <Atom 702: O of type OW of resname WAT, resid 188 and segid SYSTEM>,\n",
       " <Atom 702: O of type OW of resname WAT, resid 188 and segid SYSTEM>,\n",
       " <Atom 705: O of type OW of resname WAT, resid 189 and segid SYSTEM>,\n",
       " <Atom 705: O of type OW of resname WAT, resid 189 and segid SYSTEM>,\n",
       " <Atom 708: O of type OW of resname WAT, resid 190 and segid SYSTEM>,\n",
       " <Atom 708: O of type OW of resname WAT, resid 190 and segid SYSTEM>,\n",
       " <Atom 711: O of type OW of resname WAT, resid 191 and segid SYSTEM>,\n",
       " <Atom 711: O of type OW of resname WAT, resid 191 and segid SYSTEM>,\n",
       " <Atom 714: O of type OW of resname WAT, resid 192 and segid SYSTEM>,\n",
       " <Atom 714: O of type OW of resname WAT, resid 192 and segid SYSTEM>,\n",
       " <Atom 717: O of type OW of resname WAT, resid 193 and segid SYSTEM>,\n",
       " <Atom 717: O of type OW of resname WAT, resid 193 and segid SYSTEM>,\n",
       " <Atom 720: O of type OW of resname WAT, resid 194 and segid SYSTEM>,\n",
       " <Atom 720: O of type OW of resname WAT, resid 194 and segid SYSTEM>,\n",
       " <Atom 723: O of type OW of resname WAT, resid 195 and segid SYSTEM>,\n",
       " <Atom 723: O of type OW of resname WAT, resid 195 and segid SYSTEM>,\n",
       " <Atom 726: O of type OW of resname WAT, resid 196 and segid SYSTEM>,\n",
       " <Atom 726: O of type OW of resname WAT, resid 196 and segid SYSTEM>,\n",
       " <Atom 729: O of type OW of resname WAT, resid 197 and segid SYSTEM>,\n",
       " <Atom 729: O of type OW of resname WAT, resid 197 and segid SYSTEM>,\n",
       " <Atom 732: O of type OW of resname WAT, resid 198 and segid SYSTEM>,\n",
       " <Atom 732: O of type OW of resname WAT, resid 198 and segid SYSTEM>,\n",
       " <Atom 735: O of type OW of resname WAT, resid 199 and segid SYSTEM>,\n",
       " <Atom 735: O of type OW of resname WAT, resid 199 and segid SYSTEM>,\n",
       " <Atom 738: O of type OW of resname WAT, resid 200 and segid SYSTEM>,\n",
       " <Atom 738: O of type OW of resname WAT, resid 200 and segid SYSTEM>,\n",
       " <Atom 741: O of type OW of resname WAT, resid 201 and segid SYSTEM>,\n",
       " <Atom 741: O of type OW of resname WAT, resid 201 and segid SYSTEM>,\n",
       " <Atom 744: O of type OW of resname WAT, resid 202 and segid SYSTEM>,\n",
       " <Atom 744: O of type OW of resname WAT, resid 202 and segid SYSTEM>,\n",
       " <Atom 747: O of type OW of resname WAT, resid 203 and segid SYSTEM>,\n",
       " <Atom 747: O of type OW of resname WAT, resid 203 and segid SYSTEM>,\n",
       " <Atom 750: O of type OW of resname WAT, resid 204 and segid SYSTEM>,\n",
       " <Atom 750: O of type OW of resname WAT, resid 204 and segid SYSTEM>,\n",
       " <Atom 753: O of type OW of resname WAT, resid 205 and segid SYSTEM>,\n",
       " <Atom 753: O of type OW of resname WAT, resid 205 and segid SYSTEM>,\n",
       " <Atom 756: O of type OW of resname WAT, resid 206 and segid SYSTEM>,\n",
       " <Atom 756: O of type OW of resname WAT, resid 206 and segid SYSTEM>,\n",
       " <Atom 759: O of type OW of resname WAT, resid 207 and segid SYSTEM>,\n",
       " <Atom 759: O of type OW of resname WAT, resid 207 and segid SYSTEM>,\n",
       " <Atom 762: O of type OW of resname WAT, resid 208 and segid SYSTEM>,\n",
       " <Atom 762: O of type OW of resname WAT, resid 208 and segid SYSTEM>,\n",
       " <Atom 765: O of type OW of resname WAT, resid 209 and segid SYSTEM>,\n",
       " <Atom 765: O of type OW of resname WAT, resid 209 and segid SYSTEM>,\n",
       " <Atom 768: O of type OW of resname WAT, resid 210 and segid SYSTEM>,\n",
       " <Atom 768: O of type OW of resname WAT, resid 210 and segid SYSTEM>,\n",
       " <Atom 771: O of type OW of resname WAT, resid 211 and segid SYSTEM>,\n",
       " <Atom 771: O of type OW of resname WAT, resid 211 and segid SYSTEM>,\n",
       " <Atom 774: O of type OW of resname WAT, resid 212 and segid SYSTEM>,\n",
       " <Atom 774: O of type OW of resname WAT, resid 212 and segid SYSTEM>,\n",
       " <Atom 777: O of type OW of resname WAT, resid 213 and segid SYSTEM>,\n",
       " <Atom 777: O of type OW of resname WAT, resid 213 and segid SYSTEM>,\n",
       " <Atom 780: O of type OW of resname WAT, resid 214 and segid SYSTEM>,\n",
       " <Atom 780: O of type OW of resname WAT, resid 214 and segid SYSTEM>,\n",
       " <Atom 783: O of type OW of resname WAT, resid 215 and segid SYSTEM>,\n",
       " <Atom 783: O of type OW of resname WAT, resid 215 and segid SYSTEM>,\n",
       " <Atom 786: O of type OW of resname WAT, resid 216 and segid SYSTEM>,\n",
       " <Atom 786: O of type OW of resname WAT, resid 216 and segid SYSTEM>,\n",
       " <Atom 789: O of type OW of resname WAT, resid 217 and segid SYSTEM>,\n",
       " <Atom 789: O of type OW of resname WAT, resid 217 and segid SYSTEM>,\n",
       " <Atom 792: O of type OW of resname WAT, resid 218 and segid SYSTEM>,\n",
       " <Atom 792: O of type OW of resname WAT, resid 218 and segid SYSTEM>,\n",
       " <Atom 795: O of type OW of resname WAT, resid 219 and segid SYSTEM>,\n",
       " <Atom 795: O of type OW of resname WAT, resid 219 and segid SYSTEM>,\n",
       " <Atom 798: O of type OW of resname WAT, resid 220 and segid SYSTEM>,\n",
       " <Atom 798: O of type OW of resname WAT, resid 220 and segid SYSTEM>,\n",
       " <Atom 801: O of type OW of resname WAT, resid 221 and segid SYSTEM>,\n",
       " <Atom 801: O of type OW of resname WAT, resid 221 and segid SYSTEM>,\n",
       " <Atom 804: O of type OW of resname WAT, resid 222 and segid SYSTEM>,\n",
       " <Atom 804: O of type OW of resname WAT, resid 222 and segid SYSTEM>,\n",
       " <Atom 807: O of type OW of resname WAT, resid 223 and segid SYSTEM>,\n",
       " <Atom 807: O of type OW of resname WAT, resid 223 and segid SYSTEM>,\n",
       " <Atom 810: O of type OW of resname WAT, resid 224 and segid SYSTEM>,\n",
       " <Atom 810: O of type OW of resname WAT, resid 224 and segid SYSTEM>,\n",
       " <Atom 813: O of type OW of resname WAT, resid 225 and segid SYSTEM>,\n",
       " <Atom 813: O of type OW of resname WAT, resid 225 and segid SYSTEM>,\n",
       " <Atom 816: O of type OW of resname WAT, resid 226 and segid SYSTEM>,\n",
       " <Atom 816: O of type OW of resname WAT, resid 226 and segid SYSTEM>,\n",
       " <Atom 819: O of type OW of resname WAT, resid 227 and segid SYSTEM>,\n",
       " <Atom 819: O of type OW of resname WAT, resid 227 and segid SYSTEM>,\n",
       " <Atom 822: O of type OW of resname WAT, resid 228 and segid SYSTEM>,\n",
       " <Atom 822: O of type OW of resname WAT, resid 228 and segid SYSTEM>,\n",
       " <Atom 825: O of type OW of resname WAT, resid 229 and segid SYSTEM>,\n",
       " <Atom 825: O of type OW of resname WAT, resid 229 and segid SYSTEM>,\n",
       " <Atom 828: O of type OW of resname WAT, resid 230 and segid SYSTEM>,\n",
       " <Atom 828: O of type OW of resname WAT, resid 230 and segid SYSTEM>,\n",
       " <Atom 831: O of type OW of resname WAT, resid 231 and segid SYSTEM>,\n",
       " <Atom 831: O of type OW of resname WAT, resid 231 and segid SYSTEM>,\n",
       " <Atom 834: O of type OW of resname WAT, resid 232 and segid SYSTEM>,\n",
       " <Atom 834: O of type OW of resname WAT, resid 232 and segid SYSTEM>,\n",
       " <Atom 837: O of type OW of resname WAT, resid 233 and segid SYSTEM>,\n",
       " <Atom 837: O of type OW of resname WAT, resid 233 and segid SYSTEM>,\n",
       " <Atom 840: O of type OW of resname WAT, resid 234 and segid SYSTEM>,\n",
       " <Atom 840: O of type OW of resname WAT, resid 234 and segid SYSTEM>,\n",
       " <Atom 843: O of type OW of resname WAT, resid 235 and segid SYSTEM>,\n",
       " <Atom 843: O of type OW of resname WAT, resid 235 and segid SYSTEM>,\n",
       " <Atom 846: O of type OW of resname WAT, resid 236 and segid SYSTEM>,\n",
       " <Atom 846: O of type OW of resname WAT, resid 236 and segid SYSTEM>,\n",
       " <Atom 849: O of type OW of resname WAT, resid 237 and segid SYSTEM>,\n",
       " <Atom 849: O of type OW of resname WAT, resid 237 and segid SYSTEM>,\n",
       " <Atom 852: O of type OW of resname WAT, resid 238 and segid SYSTEM>,\n",
       " <Atom 852: O of type OW of resname WAT, resid 238 and segid SYSTEM>,\n",
       " <Atom 855: O of type OW of resname WAT, resid 239 and segid SYSTEM>,\n",
       " <Atom 855: O of type OW of resname WAT, resid 239 and segid SYSTEM>,\n",
       " <Atom 858: O of type OW of resname WAT, resid 240 and segid SYSTEM>,\n",
       " <Atom 858: O of type OW of resname WAT, resid 240 and segid SYSTEM>,\n",
       " <Atom 861: O of type OW of resname WAT, resid 241 and segid SYSTEM>,\n",
       " <Atom 861: O of type OW of resname WAT, resid 241 and segid SYSTEM>,\n",
       " <Atom 864: O of type OW of resname WAT, resid 242 and segid SYSTEM>,\n",
       " <Atom 864: O of type OW of resname WAT, resid 242 and segid SYSTEM>,\n",
       " <Atom 867: O of type OW of resname WAT, resid 243 and segid SYSTEM>,\n",
       " <Atom 867: O of type OW of resname WAT, resid 243 and segid SYSTEM>,\n",
       " <Atom 870: O of type OW of resname WAT, resid 244 and segid SYSTEM>,\n",
       " <Atom 870: O of type OW of resname WAT, resid 244 and segid SYSTEM>,\n",
       " <Atom 873: O of type OW of resname WAT, resid 245 and segid SYSTEM>,\n",
       " <Atom 873: O of type OW of resname WAT, resid 245 and segid SYSTEM>,\n",
       " <Atom 876: O of type OW of resname WAT, resid 246 and segid SYSTEM>,\n",
       " <Atom 876: O of type OW of resname WAT, resid 246 and segid SYSTEM>,\n",
       " <Atom 879: O of type OW of resname WAT, resid 247 and segid SYSTEM>,\n",
       " <Atom 879: O of type OW of resname WAT, resid 247 and segid SYSTEM>,\n",
       " <Atom 882: O of type OW of resname WAT, resid 248 and segid SYSTEM>,\n",
       " <Atom 882: O of type OW of resname WAT, resid 248 and segid SYSTEM>,\n",
       " <Atom 885: O of type OW of resname WAT, resid 249 and segid SYSTEM>,\n",
       " <Atom 885: O of type OW of resname WAT, resid 249 and segid SYSTEM>,\n",
       " <Atom 888: O of type OW of resname WAT, resid 250 and segid SYSTEM>,\n",
       " <Atom 888: O of type OW of resname WAT, resid 250 and segid SYSTEM>,\n",
       " <Atom 891: O of type OW of resname WAT, resid 251 and segid SYSTEM>,\n",
       " <Atom 891: O of type OW of resname WAT, resid 251 and segid SYSTEM>,\n",
       " <Atom 894: O of type OW of resname WAT, resid 252 and segid SYSTEM>,\n",
       " <Atom 894: O of type OW of resname WAT, resid 252 and segid SYSTEM>,\n",
       " <Atom 897: O of type OW of resname WAT, resid 253 and segid SYSTEM>,\n",
       " <Atom 897: O of type OW of resname WAT, resid 253 and segid SYSTEM>,\n",
       " <Atom 900: O of type OW of resname WAT, resid 254 and segid SYSTEM>,\n",
       " <Atom 900: O of type OW of resname WAT, resid 254 and segid SYSTEM>,\n",
       " <Atom 903: O of type OW of resname WAT, resid 255 and segid SYSTEM>,\n",
       " <Atom 903: O of type OW of resname WAT, resid 255 and segid SYSTEM>,\n",
       " <Atom 906: O of type OW of resname WAT, resid 256 and segid SYSTEM>,\n",
       " <Atom 906: O of type OW of resname WAT, resid 256 and segid SYSTEM>,\n",
       " <Atom 909: O of type OW of resname WAT, resid 257 and segid SYSTEM>,\n",
       " <Atom 909: O of type OW of resname WAT, resid 257 and segid SYSTEM>,\n",
       " <Atom 912: O of type OW of resname WAT, resid 258 and segid SYSTEM>,\n",
       " <Atom 912: O of type OW of resname WAT, resid 258 and segid SYSTEM>,\n",
       " <Atom 915: O of type OW of resname WAT, resid 259 and segid SYSTEM>,\n",
       " <Atom 915: O of type OW of resname WAT, resid 259 and segid SYSTEM>,\n",
       " <Atom 918: O of type OW of resname WAT, resid 260 and segid SYSTEM>,\n",
       " <Atom 918: O of type OW of resname WAT, resid 260 and segid SYSTEM>,\n",
       " <Atom 921: O of type OW of resname WAT, resid 261 and segid SYSTEM>,\n",
       " <Atom 921: O of type OW of resname WAT, resid 261 and segid SYSTEM>,\n",
       " <Atom 924: O of type OW of resname WAT, resid 262 and segid SYSTEM>,\n",
       " <Atom 924: O of type OW of resname WAT, resid 262 and segid SYSTEM>,\n",
       " <Atom 927: O of type OW of resname WAT, resid 263 and segid SYSTEM>,\n",
       " <Atom 927: O of type OW of resname WAT, resid 263 and segid SYSTEM>,\n",
       " <Atom 930: O of type OW of resname WAT, resid 264 and segid SYSTEM>,\n",
       " <Atom 930: O of type OW of resname WAT, resid 264 and segid SYSTEM>,\n",
       " <Atom 933: O of type OW of resname WAT, resid 265 and segid SYSTEM>,\n",
       " <Atom 933: O of type OW of resname WAT, resid 265 and segid SYSTEM>,\n",
       " <Atom 936: O of type OW of resname WAT, resid 266 and segid SYSTEM>,\n",
       " <Atom 936: O of type OW of resname WAT, resid 266 and segid SYSTEM>,\n",
       " <Atom 939: O of type OW of resname WAT, resid 267 and segid SYSTEM>,\n",
       " <Atom 939: O of type OW of resname WAT, resid 267 and segid SYSTEM>,\n",
       " <Atom 942: O of type OW of resname WAT, resid 268 and segid SYSTEM>,\n",
       " <Atom 942: O of type OW of resname WAT, resid 268 and segid SYSTEM>,\n",
       " <Atom 945: O of type OW of resname WAT, resid 269 and segid SYSTEM>,\n",
       " <Atom 945: O of type OW of resname WAT, resid 269 and segid SYSTEM>,\n",
       " <Atom 948: O of type OW of resname WAT, resid 270 and segid SYSTEM>,\n",
       " <Atom 948: O of type OW of resname WAT, resid 270 and segid SYSTEM>,\n",
       " <Atom 951: O of type OW of resname WAT, resid 271 and segid SYSTEM>,\n",
       " <Atom 951: O of type OW of resname WAT, resid 271 and segid SYSTEM>,\n",
       " <Atom 954: O of type OW of resname WAT, resid 272 and segid SYSTEM>,\n",
       " <Atom 954: O of type OW of resname WAT, resid 272 and segid SYSTEM>,\n",
       " <Atom 957: O of type OW of resname WAT, resid 273 and segid SYSTEM>,\n",
       " <Atom 957: O of type OW of resname WAT, resid 273 and segid SYSTEM>,\n",
       " <Atom 960: O of type OW of resname WAT, resid 274 and segid SYSTEM>,\n",
       " <Atom 960: O of type OW of resname WAT, resid 274 and segid SYSTEM>,\n",
       " <Atom 963: O of type OW of resname WAT, resid 275 and segid SYSTEM>,\n",
       " <Atom 963: O of type OW of resname WAT, resid 275 and segid SYSTEM>,\n",
       " <Atom 966: O of type OW of resname WAT, resid 276 and segid SYSTEM>,\n",
       " <Atom 966: O of type OW of resname WAT, resid 276 and segid SYSTEM>,\n",
       " <Atom 969: O of type OW of resname WAT, resid 277 and segid SYSTEM>,\n",
       " <Atom 969: O of type OW of resname WAT, resid 277 and segid SYSTEM>,\n",
       " <Atom 972: O of type OW of resname WAT, resid 278 and segid SYSTEM>,\n",
       " <Atom 972: O of type OW of resname WAT, resid 278 and segid SYSTEM>,\n",
       " <Atom 975: O of type OW of resname WAT, resid 279 and segid SYSTEM>,\n",
       " <Atom 975: O of type OW of resname WAT, resid 279 and segid SYSTEM>,\n",
       " <Atom 978: O of type OW of resname WAT, resid 280 and segid SYSTEM>,\n",
       " <Atom 978: O of type OW of resname WAT, resid 280 and segid SYSTEM>,\n",
       " <Atom 981: O of type OW of resname WAT, resid 281 and segid SYSTEM>,\n",
       " <Atom 981: O of type OW of resname WAT, resid 281 and segid SYSTEM>,\n",
       " <Atom 984: O of type OW of resname WAT, resid 282 and segid SYSTEM>,\n",
       " <Atom 984: O of type OW of resname WAT, resid 282 and segid SYSTEM>,\n",
       " <Atom 987: O of type OW of resname WAT, resid 283 and segid SYSTEM>,\n",
       " <Atom 987: O of type OW of resname WAT, resid 283 and segid SYSTEM>,\n",
       " <Atom 990: O of type OW of resname WAT, resid 284 and segid SYSTEM>,\n",
       " <Atom 990: O of type OW of resname WAT, resid 284 and segid SYSTEM>,\n",
       " <Atom 993: O of type OW of resname WAT, resid 285 and segid SYSTEM>,\n",
       " <Atom 993: O of type OW of resname WAT, resid 285 and segid SYSTEM>,\n",
       " <Atom 996: O of type OW of resname WAT, resid 286 and segid SYSTEM>,\n",
       " <Atom 996: O of type OW of resname WAT, resid 286 and segid SYSTEM>,\n",
       " <Atom 999: O of type OW of resname WAT, resid 287 and segid SYSTEM>,\n",
       " <Atom 999: O of type OW of resname WAT, resid 287 and segid SYSTEM>,\n",
       " <Atom 1002: O of type OW of resname WAT, resid 288 and segid SYSTEM>,\n",
       " <Atom 1002: O of type OW of resname WAT, resid 288 and segid SYSTEM>,\n",
       " <Atom 1005: O of type OW of resname WAT, resid 289 and segid SYSTEM>,\n",
       " <Atom 1005: O of type OW of resname WAT, resid 289 and segid SYSTEM>,\n",
       " <Atom 1008: O of type OW of resname WAT, resid 290 and segid SYSTEM>,\n",
       " <Atom 1008: O of type OW of resname WAT, resid 290 and segid SYSTEM>,\n",
       " <Atom 1011: O of type OW of resname WAT, resid 291 and segid SYSTEM>,\n",
       " <Atom 1011: O of type OW of resname WAT, resid 291 and segid SYSTEM>,\n",
       " <Atom 1014: O of type OW of resname WAT, resid 292 and segid SYSTEM>,\n",
       " <Atom 1014: O of type OW of resname WAT, resid 292 and segid SYSTEM>,\n",
       " <Atom 1017: O of type OW of resname WAT, resid 293 and segid SYSTEM>,\n",
       " <Atom 1017: O of type OW of resname WAT, resid 293 and segid SYSTEM>,\n",
       " <Atom 1020: O of type OW of resname WAT, resid 294 and segid SYSTEM>,\n",
       " <Atom 1020: O of type OW of resname WAT, resid 294 and segid SYSTEM>,\n",
       " <Atom 1023: O of type OW of resname WAT, resid 295 and segid SYSTEM>,\n",
       " <Atom 1023: O of type OW of resname WAT, resid 295 and segid SYSTEM>,\n",
       " <Atom 1026: O of type OW of resname WAT, resid 296 and segid SYSTEM>,\n",
       " <Atom 1026: O of type OW of resname WAT, resid 296 and segid SYSTEM>,\n",
       " <Atom 1029: O of type OW of resname WAT, resid 297 and segid SYSTEM>,\n",
       " <Atom 1029: O of type OW of resname WAT, resid 297 and segid SYSTEM>,\n",
       " <Atom 1032: O of type OW of resname WAT, resid 298 and segid SYSTEM>,\n",
       " <Atom 1032: O of type OW of resname WAT, resid 298 and segid SYSTEM>,\n",
       " <Atom 1035: O of type OW of resname WAT, resid 299 and segid SYSTEM>,\n",
       " <Atom 1035: O of type OW of resname WAT, resid 299 and segid SYSTEM>,\n",
       " <Atom 1038: O of type OW of resname WAT, resid 300 and segid SYSTEM>,\n",
       " <Atom 1038: O of type OW of resname WAT, resid 300 and segid SYSTEM>,\n",
       " <Atom 1041: O of type OW of resname WAT, resid 301 and segid SYSTEM>,\n",
       " <Atom 1041: O of type OW of resname WAT, resid 301 and segid SYSTEM>,\n",
       " <Atom 1044: O of type OW of resname WAT, resid 302 and segid SYSTEM>,\n",
       " <Atom 1044: O of type OW of resname WAT, resid 302 and segid SYSTEM>,\n",
       " <Atom 1047: O of type OW of resname WAT, resid 303 and segid SYSTEM>,\n",
       " <Atom 1047: O of type OW of resname WAT, resid 303 and segid SYSTEM>,\n",
       " <Atom 1050: O of type OW of resname WAT, resid 304 and segid SYSTEM>,\n",
       " <Atom 1050: O of type OW of resname WAT, resid 304 and segid SYSTEM>,\n",
       " <Atom 1053: O of type OW of resname WAT, resid 305 and segid SYSTEM>,\n",
       " <Atom 1053: O of type OW of resname WAT, resid 305 and segid SYSTEM>,\n",
       " <Atom 1056: O of type OW of resname WAT, resid 306 and segid SYSTEM>,\n",
       " <Atom 1056: O of type OW of resname WAT, resid 306 and segid SYSTEM>,\n",
       " <Atom 1059: O of type OW of resname WAT, resid 307 and segid SYSTEM>,\n",
       " <Atom 1059: O of type OW of resname WAT, resid 307 and segid SYSTEM>,\n",
       " <Atom 1062: O of type OW of resname WAT, resid 308 and segid SYSTEM>,\n",
       " <Atom 1062: O of type OW of resname WAT, resid 308 and segid SYSTEM>,\n",
       " <Atom 1065: O of type OW of resname WAT, resid 309 and segid SYSTEM>,\n",
       " <Atom 1065: O of type OW of resname WAT, resid 309 and segid SYSTEM>,\n",
       " <Atom 1068: O of type OW of resname WAT, resid 310 and segid SYSTEM>,\n",
       " <Atom 1068: O of type OW of resname WAT, resid 310 and segid SYSTEM>,\n",
       " <Atom 1071: O of type OW of resname WAT, resid 311 and segid SYSTEM>,\n",
       " <Atom 1071: O of type OW of resname WAT, resid 311 and segid SYSTEM>,\n",
       " <Atom 1074: O of type OW of resname WAT, resid 312 and segid SYSTEM>,\n",
       " <Atom 1074: O of type OW of resname WAT, resid 312 and segid SYSTEM>,\n",
       " <Atom 1077: O of type OW of resname WAT, resid 313 and segid SYSTEM>,\n",
       " <Atom 1077: O of type OW of resname WAT, resid 313 and segid SYSTEM>,\n",
       " <Atom 1080: O of type OW of resname WAT, resid 314 and segid SYSTEM>,\n",
       " <Atom 1080: O of type OW of resname WAT, resid 314 and segid SYSTEM>,\n",
       " <Atom 1083: O of type OW of resname WAT, resid 315 and segid SYSTEM>,\n",
       " <Atom 1083: O of type OW of resname WAT, resid 315 and segid SYSTEM>,\n",
       " <Atom 1086: O of type OW of resname WAT, resid 316 and segid SYSTEM>,\n",
       " <Atom 1086: O of type OW of resname WAT, resid 316 and segid SYSTEM>,\n",
       " <Atom 1089: O of type OW of resname WAT, resid 317 and segid SYSTEM>,\n",
       " <Atom 1089: O of type OW of resname WAT, resid 317 and segid SYSTEM>,\n",
       " <Atom 1092: O of type OW of resname WAT, resid 318 and segid SYSTEM>,\n",
       " <Atom 1092: O of type OW of resname WAT, resid 318 and segid SYSTEM>,\n",
       " <Atom 1095: O of type OW of resname WAT, resid 319 and segid SYSTEM>,\n",
       " <Atom 1095: O of type OW of resname WAT, resid 319 and segid SYSTEM>,\n",
       " <Atom 1098: O of type OW of resname WAT, resid 320 and segid SYSTEM>,\n",
       " <Atom 1098: O of type OW of resname WAT, resid 320 and segid SYSTEM>,\n",
       " <Atom 1101: O of type OW of resname WAT, resid 321 and segid SYSTEM>,\n",
       " <Atom 1101: O of type OW of resname WAT, resid 321 and segid SYSTEM>,\n",
       " <Atom 1104: O of type OW of resname WAT, resid 322 and segid SYSTEM>,\n",
       " <Atom 1104: O of type OW of resname WAT, resid 322 and segid SYSTEM>,\n",
       " <Atom 1107: O of type OW of resname WAT, resid 323 and segid SYSTEM>,\n",
       " <Atom 1107: O of type OW of resname WAT, resid 323 and segid SYSTEM>,\n",
       " <Atom 1110: O of type OW of resname WAT, resid 324 and segid SYSTEM>,\n",
       " <Atom 1110: O of type OW of resname WAT, resid 324 and segid SYSTEM>,\n",
       " <Atom 1113: O of type OW of resname WAT, resid 325 and segid SYSTEM>,\n",
       " <Atom 1113: O of type OW of resname WAT, resid 325 and segid SYSTEM>,\n",
       " <Atom 1116: O of type OW of resname WAT, resid 326 and segid SYSTEM>,\n",
       " <Atom 1116: O of type OW of resname WAT, resid 326 and segid SYSTEM>,\n",
       " <Atom 1119: O of type OW of resname WAT, resid 327 and segid SYSTEM>,\n",
       " <Atom 1119: O of type OW of resname WAT, resid 327 and segid SYSTEM>,\n",
       " <Atom 1122: O of type OW of resname WAT, resid 328 and segid SYSTEM>,\n",
       " <Atom 1122: O of type OW of resname WAT, resid 328 and segid SYSTEM>,\n",
       " <Atom 1125: O of type OW of resname WAT, resid 329 and segid SYSTEM>,\n",
       " <Atom 1125: O of type OW of resname WAT, resid 329 and segid SYSTEM>,\n",
       " <Atom 1128: O of type OW of resname WAT, resid 330 and segid SYSTEM>,\n",
       " <Atom 1128: O of type OW of resname WAT, resid 330 and segid SYSTEM>,\n",
       " <Atom 1131: O of type OW of resname WAT, resid 331 and segid SYSTEM>,\n",
       " <Atom 1131: O of type OW of resname WAT, resid 331 and segid SYSTEM>,\n",
       " <Atom 1134: O of type OW of resname WAT, resid 332 and segid SYSTEM>,\n",
       " <Atom 1134: O of type OW of resname WAT, resid 332 and segid SYSTEM>,\n",
       " <Atom 1137: O of type OW of resname WAT, resid 333 and segid SYSTEM>,\n",
       " <Atom 1137: O of type OW of resname WAT, resid 333 and segid SYSTEM>,\n",
       " <Atom 1140: O of type OW of resname WAT, resid 334 and segid SYSTEM>,\n",
       " <Atom 1140: O of type OW of resname WAT, resid 334 and segid SYSTEM>,\n",
       " <Atom 1143: O of type OW of resname WAT, resid 335 and segid SYSTEM>,\n",
       " <Atom 1143: O of type OW of resname WAT, resid 335 and segid SYSTEM>,\n",
       " <Atom 1146: O of type OW of resname WAT, resid 336 and segid SYSTEM>,\n",
       " <Atom 1146: O of type OW of resname WAT, resid 336 and segid SYSTEM>,\n",
       " <Atom 1149: O of type OW of resname WAT, resid 337 and segid SYSTEM>,\n",
       " <Atom 1149: O of type OW of resname WAT, resid 337 and segid SYSTEM>,\n",
       " <Atom 1152: O of type OW of resname WAT, resid 338 and segid SYSTEM>,\n",
       " <Atom 1152: O of type OW of resname WAT, resid 338 and segid SYSTEM>,\n",
       " <Atom 1155: O of type OW of resname WAT, resid 339 and segid SYSTEM>,\n",
       " <Atom 1155: O of type OW of resname WAT, resid 339 and segid SYSTEM>,\n",
       " <Atom 1158: O of type OW of resname WAT, resid 340 and segid SYSTEM>,\n",
       " <Atom 1158: O of type OW of resname WAT, resid 340 and segid SYSTEM>,\n",
       " <Atom 1161: O of type OW of resname WAT, resid 341 and segid SYSTEM>,\n",
       " <Atom 1161: O of type OW of resname WAT, resid 341 and segid SYSTEM>,\n",
       " <Atom 1164: O of type OW of resname WAT, resid 342 and segid SYSTEM>,\n",
       " <Atom 1164: O of type OW of resname WAT, resid 342 and segid SYSTEM>,\n",
       " <Atom 1167: O of type OW of resname WAT, resid 343 and segid SYSTEM>,\n",
       " <Atom 1167: O of type OW of resname WAT, resid 343 and segid SYSTEM>,\n",
       " <Atom 1170: O of type OW of resname WAT, resid 344 and segid SYSTEM>,\n",
       " <Atom 1170: O of type OW of resname WAT, resid 344 and segid SYSTEM>,\n",
       " <Atom 1173: O of type OW of resname WAT, resid 345 and segid SYSTEM>,\n",
       " <Atom 1173: O of type OW of resname WAT, resid 345 and segid SYSTEM>,\n",
       " <Atom 1176: O of type OW of resname WAT, resid 346 and segid SYSTEM>,\n",
       " <Atom 1176: O of type OW of resname WAT, resid 346 and segid SYSTEM>,\n",
       " <Atom 1179: O of type OW of resname WAT, resid 347 and segid SYSTEM>,\n",
       " <Atom 1179: O of type OW of resname WAT, resid 347 and segid SYSTEM>,\n",
       " <Atom 1182: O of type OW of resname WAT, resid 348 and segid SYSTEM>,\n",
       " <Atom 1182: O of type OW of resname WAT, resid 348 and segid SYSTEM>,\n",
       " <Atom 1185: O of type OW of resname WAT, resid 349 and segid SYSTEM>,\n",
       " <Atom 1185: O of type OW of resname WAT, resid 349 and segid SYSTEM>,\n",
       " <Atom 1188: O of type OW of resname WAT, resid 350 and segid SYSTEM>,\n",
       " <Atom 1188: O of type OW of resname WAT, resid 350 and segid SYSTEM>,\n",
       " <Atom 1191: O of type OW of resname WAT, resid 351 and segid SYSTEM>,\n",
       " <Atom 1191: O of type OW of resname WAT, resid 351 and segid SYSTEM>,\n",
       " <Atom 1194: O of type OW of resname WAT, resid 352 and segid SYSTEM>,\n",
       " <Atom 1194: O of type OW of resname WAT, resid 352 and segid SYSTEM>,\n",
       " <Atom 1197: O of type OW of resname WAT, resid 353 and segid SYSTEM>,\n",
       " <Atom 1197: O of type OW of resname WAT, resid 353 and segid SYSTEM>,\n",
       " <Atom 1200: O of type OW of resname WAT, resid 354 and segid SYSTEM>,\n",
       " <Atom 1200: O of type OW of resname WAT, resid 354 and segid SYSTEM>,\n",
       " <Atom 1203: O of type OW of resname WAT, resid 355 and segid SYSTEM>,\n",
       " <Atom 1203: O of type OW of resname WAT, resid 355 and segid SYSTEM>,\n",
       " <Atom 1206: O of type OW of resname WAT, resid 356 and segid SYSTEM>,\n",
       " <Atom 1206: O of type OW of resname WAT, resid 356 and segid SYSTEM>,\n",
       " <Atom 1209: O of type OW of resname WAT, resid 357 and segid SYSTEM>,\n",
       " <Atom 1209: O of type OW of resname WAT, resid 357 and segid SYSTEM>,\n",
       " <Atom 1212: O of type OW of resname WAT, resid 358 and segid SYSTEM>,\n",
       " <Atom 1212: O of type OW of resname WAT, resid 358 and segid SYSTEM>,\n",
       " <Atom 1215: O of type OW of resname WAT, resid 359 and segid SYSTEM>,\n",
       " <Atom 1215: O of type OW of resname WAT, resid 359 and segid SYSTEM>,\n",
       " <Atom 1218: O of type OW of resname WAT, resid 360 and segid SYSTEM>,\n",
       " <Atom 1218: O of type OW of resname WAT, resid 360 and segid SYSTEM>,\n",
       " <Atom 1221: O of type OW of resname WAT, resid 361 and segid SYSTEM>,\n",
       " <Atom 1221: O of type OW of resname WAT, resid 361 and segid SYSTEM>,\n",
       " <Atom 1224: O of type OW of resname WAT, resid 362 and segid SYSTEM>,\n",
       " <Atom 1224: O of type OW of resname WAT, resid 362 and segid SYSTEM>,\n",
       " <Atom 1227: O of type OW of resname WAT, resid 363 and segid SYSTEM>,\n",
       " <Atom 1227: O of type OW of resname WAT, resid 363 and segid SYSTEM>,\n",
       " <Atom 1230: O of type OW of resname WAT, resid 364 and segid SYSTEM>,\n",
       " <Atom 1230: O of type OW of resname WAT, resid 364 and segid SYSTEM>,\n",
       " <Atom 1233: O of type OW of resname WAT, resid 365 and segid SYSTEM>,\n",
       " <Atom 1233: O of type OW of resname WAT, resid 365 and segid SYSTEM>,\n",
       " <Atom 1236: O of type OW of resname WAT, resid 366 and segid SYSTEM>,\n",
       " <Atom 1236: O of type OW of resname WAT, resid 366 and segid SYSTEM>,\n",
       " <Atom 1239: O of type OW of resname WAT, resid 367 and segid SYSTEM>,\n",
       " <Atom 1239: O of type OW of resname WAT, resid 367 and segid SYSTEM>,\n",
       " <Atom 1242: O of type OW of resname WAT, resid 368 and segid SYSTEM>,\n",
       " <Atom 1242: O of type OW of resname WAT, resid 368 and segid SYSTEM>,\n",
       " <Atom 1245: O of type OW of resname WAT, resid 369 and segid SYSTEM>,\n",
       " <Atom 1245: O of type OW of resname WAT, resid 369 and segid SYSTEM>,\n",
       " <Atom 1248: O of type OW of resname WAT, resid 370 and segid SYSTEM>,\n",
       " <Atom 1248: O of type OW of resname WAT, resid 370 and segid SYSTEM>,\n",
       " <Atom 1251: O of type OW of resname WAT, resid 371 and segid SYSTEM>,\n",
       " <Atom 1251: O of type OW of resname WAT, resid 371 and segid SYSTEM>,\n",
       " <Atom 1254: O of type OW of resname WAT, resid 372 and segid SYSTEM>,\n",
       " <Atom 1254: O of type OW of resname WAT, resid 372 and segid SYSTEM>,\n",
       " <Atom 1257: O of type OW of resname WAT, resid 373 and segid SYSTEM>,\n",
       " <Atom 1257: O of type OW of resname WAT, resid 373 and segid SYSTEM>,\n",
       " <Atom 1260: O of type OW of resname WAT, resid 374 and segid SYSTEM>,\n",
       " <Atom 1260: O of type OW of resname WAT, resid 374 and segid SYSTEM>,\n",
       " <Atom 1263: O of type OW of resname WAT, resid 375 and segid SYSTEM>,\n",
       " <Atom 1263: O of type OW of resname WAT, resid 375 and segid SYSTEM>,\n",
       " <Atom 1266: O of type OW of resname WAT, resid 376 and segid SYSTEM>,\n",
       " <Atom 1266: O of type OW of resname WAT, resid 376 and segid SYSTEM>,\n",
       " <Atom 1269: O of type OW of resname WAT, resid 377 and segid SYSTEM>,\n",
       " <Atom 1269: O of type OW of resname WAT, resid 377 and segid SYSTEM>,\n",
       " <Atom 1272: O of type OW of resname WAT, resid 378 and segid SYSTEM>,\n",
       " <Atom 1272: O of type OW of resname WAT, resid 378 and segid SYSTEM>,\n",
       " <Atom 1275: O of type OW of resname WAT, resid 379 and segid SYSTEM>,\n",
       " <Atom 1275: O of type OW of resname WAT, resid 379 and segid SYSTEM>,\n",
       " <Atom 1278: O of type OW of resname WAT, resid 380 and segid SYSTEM>,\n",
       " <Atom 1278: O of type OW of resname WAT, resid 380 and segid SYSTEM>,\n",
       " <Atom 1281: O of type OW of resname WAT, resid 381 and segid SYSTEM>,\n",
       " <Atom 1281: O of type OW of resname WAT, resid 381 and segid SYSTEM>,\n",
       " <Atom 1284: O of type OW of resname WAT, resid 382 and segid SYSTEM>,\n",
       " <Atom 1284: O of type OW of resname WAT, resid 382 and segid SYSTEM>,\n",
       " <Atom 1287: O of type OW of resname WAT, resid 383 and segid SYSTEM>,\n",
       " <Atom 1287: O of type OW of resname WAT, resid 383 and segid SYSTEM>,\n",
       " <Atom 1290: O of type OW of resname WAT, resid 384 and segid SYSTEM>,\n",
       " <Atom 1290: O of type OW of resname WAT, resid 384 and segid SYSTEM>,\n",
       " <Atom 1293: O of type OW of resname WAT, resid 385 and segid SYSTEM>,\n",
       " <Atom 1293: O of type OW of resname WAT, resid 385 and segid SYSTEM>,\n",
       " <Atom 1296: O of type OW of resname WAT, resid 386 and segid SYSTEM>,\n",
       " <Atom 1296: O of type OW of resname WAT, resid 386 and segid SYSTEM>,\n",
       " <Atom 1299: O of type OW of resname WAT, resid 387 and segid SYSTEM>,\n",
       " <Atom 1299: O of type OW of resname WAT, resid 387 and segid SYSTEM>,\n",
       " <Atom 1302: O of type OW of resname WAT, resid 388 and segid SYSTEM>,\n",
       " <Atom 1302: O of type OW of resname WAT, resid 388 and segid SYSTEM>,\n",
       " <Atom 1305: O of type OW of resname WAT, resid 389 and segid SYSTEM>,\n",
       " <Atom 1305: O of type OW of resname WAT, resid 389 and segid SYSTEM>,\n",
       " <Atom 1308: O of type OW of resname WAT, resid 390 and segid SYSTEM>,\n",
       " <Atom 1308: O of type OW of resname WAT, resid 390 and segid SYSTEM>,\n",
       " <Atom 1311: O of type OW of resname WAT, resid 391 and segid SYSTEM>,\n",
       " <Atom 1311: O of type OW of resname WAT, resid 391 and segid SYSTEM>,\n",
       " <Atom 1314: O of type OW of resname WAT, resid 392 and segid SYSTEM>,\n",
       " <Atom 1314: O of type OW of resname WAT, resid 392 and segid SYSTEM>,\n",
       " <Atom 1317: O of type OW of resname WAT, resid 393 and segid SYSTEM>,\n",
       " <Atom 1317: O of type OW of resname WAT, resid 393 and segid SYSTEM>,\n",
       " <Atom 1320: O of type OW of resname WAT, resid 394 and segid SYSTEM>,\n",
       " <Atom 1320: O of type OW of resname WAT, resid 394 and segid SYSTEM>,\n",
       " <Atom 1323: O of type OW of resname WAT, resid 395 and segid SYSTEM>,\n",
       " <Atom 1323: O of type OW of resname WAT, resid 395 and segid SYSTEM>,\n",
       " <Atom 1326: O of type OW of resname WAT, resid 396 and segid SYSTEM>,\n",
       " <Atom 1326: O of type OW of resname WAT, resid 396 and segid SYSTEM>,\n",
       " <Atom 1329: O of type OW of resname WAT, resid 397 and segid SYSTEM>,\n",
       " <Atom 1329: O of type OW of resname WAT, resid 397 and segid SYSTEM>,\n",
       " <Atom 1332: O of type OW of resname WAT, resid 398 and segid SYSTEM>,\n",
       " <Atom 1332: O of type OW of resname WAT, resid 398 and segid SYSTEM>,\n",
       " <Atom 1335: O of type OW of resname WAT, resid 399 and segid SYSTEM>,\n",
       " <Atom 1335: O of type OW of resname WAT, resid 399 and segid SYSTEM>,\n",
       " <Atom 1338: O of type OW of resname WAT, resid 400 and segid SYSTEM>,\n",
       " <Atom 1338: O of type OW of resname WAT, resid 400 and segid SYSTEM>,\n",
       " <Atom 1341: O of type OW of resname WAT, resid 401 and segid SYSTEM>,\n",
       " <Atom 1341: O of type OW of resname WAT, resid 401 and segid SYSTEM>,\n",
       " <Atom 1344: O of type OW of resname WAT, resid 402 and segid SYSTEM>,\n",
       " <Atom 1344: O of type OW of resname WAT, resid 402 and segid SYSTEM>,\n",
       " <Atom 1347: O of type OW of resname WAT, resid 403 and segid SYSTEM>,\n",
       " <Atom 1347: O of type OW of resname WAT, resid 403 and segid SYSTEM>,\n",
       " <Atom 1350: O of type OW of resname WAT, resid 404 and segid SYSTEM>,\n",
       " <Atom 1350: O of type OW of resname WAT, resid 404 and segid SYSTEM>,\n",
       " <Atom 1353: O of type OW of resname WAT, resid 405 and segid SYSTEM>,\n",
       " <Atom 1353: O of type OW of resname WAT, resid 405 and segid SYSTEM>,\n",
       " <Atom 1356: O of type OW of resname WAT, resid 406 and segid SYSTEM>,\n",
       " <Atom 1356: O of type OW of resname WAT, resid 406 and segid SYSTEM>,\n",
       " <Atom 1359: O of type OW of resname WAT, resid 407 and segid SYSTEM>,\n",
       " <Atom 1359: O of type OW of resname WAT, resid 407 and segid SYSTEM>,\n",
       " <Atom 1362: O of type OW of resname WAT, resid 408 and segid SYSTEM>,\n",
       " <Atom 1362: O of type OW of resname WAT, resid 408 and segid SYSTEM>,\n",
       " <Atom 1365: O of type OW of resname WAT, resid 409 and segid SYSTEM>,\n",
       " <Atom 1365: O of type OW of resname WAT, resid 409 and segid SYSTEM>,\n",
       " <Atom 1368: O of type OW of resname WAT, resid 410 and segid SYSTEM>,\n",
       " <Atom 1368: O of type OW of resname WAT, resid 410 and segid SYSTEM>,\n",
       " <Atom 1371: O of type OW of resname WAT, resid 411 and segid SYSTEM>,\n",
       " <Atom 1371: O of type OW of resname WAT, resid 411 and segid SYSTEM>,\n",
       " <Atom 1374: O of type OW of resname WAT, resid 412 and segid SYSTEM>,\n",
       " <Atom 1374: O of type OW of resname WAT, resid 412 and segid SYSTEM>,\n",
       " <Atom 1377: O of type OW of resname WAT, resid 413 and segid SYSTEM>,\n",
       " <Atom 1377: O of type OW of resname WAT, resid 413 and segid SYSTEM>,\n",
       " <Atom 1380: O of type OW of resname WAT, resid 414 and segid SYSTEM>,\n",
       " <Atom 1380: O of type OW of resname WAT, resid 414 and segid SYSTEM>,\n",
       " <Atom 1383: O of type OW of resname WAT, resid 415 and segid SYSTEM>,\n",
       " <Atom 1383: O of type OW of resname WAT, resid 415 and segid SYSTEM>,\n",
       " <Atom 1386: O of type OW of resname WAT, resid 416 and segid SYSTEM>,\n",
       " <Atom 1386: O of type OW of resname WAT, resid 416 and segid SYSTEM>,\n",
       " <Atom 1389: O of type OW of resname WAT, resid 417 and segid SYSTEM>,\n",
       " <Atom 1389: O of type OW of resname WAT, resid 417 and segid SYSTEM>,\n",
       " <Atom 1392: O of type OW of resname WAT, resid 418 and segid SYSTEM>,\n",
       " <Atom 1392: O of type OW of resname WAT, resid 418 and segid SYSTEM>,\n",
       " <Atom 1395: O of type OW of resname WAT, resid 419 and segid SYSTEM>,\n",
       " <Atom 1395: O of type OW of resname WAT, resid 419 and segid SYSTEM>,\n",
       " <Atom 1398: O of type OW of resname WAT, resid 420 and segid SYSTEM>,\n",
       " <Atom 1398: O of type OW of resname WAT, resid 420 and segid SYSTEM>,\n",
       " <Atom 1401: O of type OW of resname WAT, resid 421 and segid SYSTEM>,\n",
       " <Atom 1401: O of type OW of resname WAT, resid 421 and segid SYSTEM>,\n",
       " <Atom 1404: O of type OW of resname WAT, resid 422 and segid SYSTEM>,\n",
       " <Atom 1404: O of type OW of resname WAT, resid 422 and segid SYSTEM>,\n",
       " <Atom 1407: O of type OW of resname WAT, resid 423 and segid SYSTEM>,\n",
       " <Atom 1407: O of type OW of resname WAT, resid 423 and segid SYSTEM>,\n",
       " <Atom 1410: O of type OW of resname WAT, resid 424 and segid SYSTEM>,\n",
       " <Atom 1410: O of type OW of resname WAT, resid 424 and segid SYSTEM>,\n",
       " <Atom 1413: O of type OW of resname WAT, resid 425 and segid SYSTEM>,\n",
       " <Atom 1413: O of type OW of resname WAT, resid 425 and segid SYSTEM>,\n",
       " <Atom 1416: O of type OW of resname WAT, resid 426 and segid SYSTEM>,\n",
       " <Atom 1416: O of type OW of resname WAT, resid 426 and segid SYSTEM>,\n",
       " <Atom 1419: O of type OW of resname WAT, resid 427 and segid SYSTEM>,\n",
       " <Atom 1419: O of type OW of resname WAT, resid 427 and segid SYSTEM>,\n",
       " <Atom 1422: O of type OW of resname WAT, resid 428 and segid SYSTEM>,\n",
       " <Atom 1422: O of type OW of resname WAT, resid 428 and segid SYSTEM>,\n",
       " <Atom 1425: O of type OW of resname WAT, resid 429 and segid SYSTEM>,\n",
       " <Atom 1425: O of type OW of resname WAT, resid 429 and segid SYSTEM>,\n",
       " <Atom 1428: O of type OW of resname WAT, resid 430 and segid SYSTEM>,\n",
       " <Atom 1428: O of type OW of resname WAT, resid 430 and segid SYSTEM>,\n",
       " <Atom 1431: O of type OW of resname WAT, resid 431 and segid SYSTEM>,\n",
       " <Atom 1431: O of type OW of resname WAT, resid 431 and segid SYSTEM>,\n",
       " <Atom 1434: O of type OW of resname WAT, resid 432 and segid SYSTEM>,\n",
       " <Atom 1434: O of type OW of resname WAT, resid 432 and segid SYSTEM>,\n",
       " <Atom 1437: O of type OW of resname WAT, resid 433 and segid SYSTEM>,\n",
       " <Atom 1437: O of type OW of resname WAT, resid 433 and segid SYSTEM>,\n",
       " <Atom 1440: O of type OW of resname WAT, resid 434 and segid SYSTEM>,\n",
       " <Atom 1440: O of type OW of resname WAT, resid 434 and segid SYSTEM>,\n",
       " <Atom 1443: O of type OW of resname WAT, resid 435 and segid SYSTEM>,\n",
       " <Atom 1443: O of type OW of resname WAT, resid 435 and segid SYSTEM>,\n",
       " <Atom 1446: O of type OW of resname WAT, resid 436 and segid SYSTEM>,\n",
       " <Atom 1446: O of type OW of resname WAT, resid 436 and segid SYSTEM>,\n",
       " <Atom 1449: O of type OW of resname WAT, resid 437 and segid SYSTEM>,\n",
       " <Atom 1449: O of type OW of resname WAT, resid 437 and segid SYSTEM>,\n",
       " <Atom 1452: O of type OW of resname WAT, resid 438 and segid SYSTEM>,\n",
       " <Atom 1452: O of type OW of resname WAT, resid 438 and segid SYSTEM>,\n",
       " <Atom 1455: O of type OW of resname WAT, resid 439 and segid SYSTEM>,\n",
       " <Atom 1455: O of type OW of resname WAT, resid 439 and segid SYSTEM>,\n",
       " <Atom 1458: O of type OW of resname WAT, resid 440 and segid SYSTEM>,\n",
       " <Atom 1458: O of type OW of resname WAT, resid 440 and segid SYSTEM>,\n",
       " <Atom 1461: O of type OW of resname WAT, resid 441 and segid SYSTEM>,\n",
       " <Atom 1461: O of type OW of resname WAT, resid 441 and segid SYSTEM>,\n",
       " <Atom 1464: O of type OW of resname WAT, resid 442 and segid SYSTEM>,\n",
       " <Atom 1464: O of type OW of resname WAT, resid 442 and segid SYSTEM>,\n",
       " <Atom 1467: O of type OW of resname WAT, resid 443 and segid SYSTEM>,\n",
       " <Atom 1467: O of type OW of resname WAT, resid 443 and segid SYSTEM>,\n",
       " <Atom 1470: O of type OW of resname WAT, resid 444 and segid SYSTEM>,\n",
       " <Atom 1470: O of type OW of resname WAT, resid 444 and segid SYSTEM>,\n",
       " <Atom 1473: O of type OW of resname WAT, resid 445 and segid SYSTEM>,\n",
       " <Atom 1473: O of type OW of resname WAT, resid 445 and segid SYSTEM>,\n",
       " <Atom 1476: O of type OW of resname WAT, resid 446 and segid SYSTEM>,\n",
       " <Atom 1476: O of type OW of resname WAT, resid 446 and segid SYSTEM>,\n",
       " <Atom 1479: O of type OW of resname WAT, resid 447 and segid SYSTEM>,\n",
       " <Atom 1479: O of type OW of resname WAT, resid 447 and segid SYSTEM>,\n",
       " <Atom 1482: O of type OW of resname WAT, resid 448 and segid SYSTEM>,\n",
       " <Atom 1482: O of type OW of resname WAT, resid 448 and segid SYSTEM>,\n",
       " <Atom 1485: O of type OW of resname WAT, resid 449 and segid SYSTEM>,\n",
       " <Atom 1485: O of type OW of resname WAT, resid 449 and segid SYSTEM>,\n",
       " <Atom 1488: O of type OW of resname WAT, resid 450 and segid SYSTEM>,\n",
       " <Atom 1488: O of type OW of resname WAT, resid 450 and segid SYSTEM>,\n",
       " <Atom 1491: O of type OW of resname WAT, resid 451 and segid SYSTEM>,\n",
       " <Atom 1491: O of type OW of resname WAT, resid 451 and segid SYSTEM>,\n",
       " <Atom 1494: O of type OW of resname WAT, resid 452 and segid SYSTEM>,\n",
       " <Atom 1494: O of type OW of resname WAT, resid 452 and segid SYSTEM>,\n",
       " <Atom 1497: O of type OW of resname WAT, resid 453 and segid SYSTEM>,\n",
       " <Atom 1497: O of type OW of resname WAT, resid 453 and segid SYSTEM>,\n",
       " <Atom 1500: O of type OW of resname WAT, resid 454 and segid SYSTEM>,\n",
       " <Atom 1500: O of type OW of resname WAT, resid 454 and segid SYSTEM>,\n",
       " <Atom 1503: O of type OW of resname WAT, resid 455 and segid SYSTEM>,\n",
       " <Atom 1503: O of type OW of resname WAT, resid 455 and segid SYSTEM>,\n",
       " <Atom 1506: O of type OW of resname WAT, resid 456 and segid SYSTEM>,\n",
       " <Atom 1506: O of type OW of resname WAT, resid 456 and segid SYSTEM>,\n",
       " <Atom 1509: O of type OW of resname WAT, resid 457 and segid SYSTEM>,\n",
       " <Atom 1509: O of type OW of resname WAT, resid 457 and segid SYSTEM>,\n",
       " <Atom 1512: O of type OW of resname WAT, resid 458 and segid SYSTEM>,\n",
       " <Atom 1512: O of type OW of resname WAT, resid 458 and segid SYSTEM>,\n",
       " <Atom 1515: O of type OW of resname WAT, resid 459 and segid SYSTEM>,\n",
       " <Atom 1515: O of type OW of resname WAT, resid 459 and segid SYSTEM>,\n",
       " <Atom 1518: O of type OW of resname WAT, resid 460 and segid SYSTEM>,\n",
       " <Atom 1518: O of type OW of resname WAT, resid 460 and segid SYSTEM>,\n",
       " <Atom 1521: O of type OW of resname WAT, resid 461 and segid SYSTEM>,\n",
       " <Atom 1521: O of type OW of resname WAT, resid 461 and segid SYSTEM>,\n",
       " <Atom 1524: O of type OW of resname WAT, resid 462 and segid SYSTEM>,\n",
       " <Atom 1524: O of type OW of resname WAT, resid 462 and segid SYSTEM>,\n",
       " <Atom 1527: O of type OW of resname WAT, resid 463 and segid SYSTEM>,\n",
       " <Atom 1527: O of type OW of resname WAT, resid 463 and segid SYSTEM>,\n",
       " <Atom 1530: O of type OW of resname WAT, resid 464 and segid SYSTEM>,\n",
       " <Atom 1530: O of type OW of resname WAT, resid 464 and segid SYSTEM>,\n",
       " <Atom 1533: O of type OW of resname WAT, resid 465 and segid SYSTEM>,\n",
       " <Atom 1533: O of type OW of resname WAT, resid 465 and segid SYSTEM>,\n",
       " <Atom 1536: O of type OW of resname WAT, resid 466 and segid SYSTEM>,\n",
       " <Atom 1536: O of type OW of resname WAT, resid 466 and segid SYSTEM>,\n",
       " <Atom 1539: O of type OW of resname WAT, resid 467 and segid SYSTEM>,\n",
       " <Atom 1539: O of type OW of resname WAT, resid 467 and segid SYSTEM>,\n",
       " <Atom 1542: O of type OW of resname WAT, resid 468 and segid SYSTEM>,\n",
       " <Atom 1542: O of type OW of resname WAT, resid 468 and segid SYSTEM>,\n",
       " <Atom 1545: O of type OW of resname WAT, resid 469 and segid SYSTEM>,\n",
       " <Atom 1545: O of type OW of resname WAT, resid 469 and segid SYSTEM>,\n",
       " <Atom 1548: O of type OW of resname WAT, resid 470 and segid SYSTEM>,\n",
       " <Atom 1548: O of type OW of resname WAT, resid 470 and segid SYSTEM>,\n",
       " <Atom 1551: O of type OW of resname WAT, resid 471 and segid SYSTEM>,\n",
       " <Atom 1551: O of type OW of resname WAT, resid 471 and segid SYSTEM>,\n",
       " <Atom 1554: O of type OW of resname WAT, resid 472 and segid SYSTEM>,\n",
       " <Atom 1554: O of type OW of resname WAT, resid 472 and segid SYSTEM>,\n",
       " <Atom 1557: O of type OW of resname WAT, resid 473 and segid SYSTEM>,\n",
       " <Atom 1557: O of type OW of resname WAT, resid 473 and segid SYSTEM>,\n",
       " <Atom 1560: O of type OW of resname WAT, resid 474 and segid SYSTEM>,\n",
       " <Atom 1560: O of type OW of resname WAT, resid 474 and segid SYSTEM>,\n",
       " <Atom 1563: O of type OW of resname WAT, resid 475 and segid SYSTEM>,\n",
       " <Atom 1563: O of type OW of resname WAT, resid 475 and segid SYSTEM>,\n",
       " <Atom 1566: O of type OW of resname WAT, resid 476 and segid SYSTEM>,\n",
       " <Atom 1566: O of type OW of resname WAT, resid 476 and segid SYSTEM>,\n",
       " <Atom 1569: O of type OW of resname WAT, resid 477 and segid SYSTEM>,\n",
       " <Atom 1569: O of type OW of resname WAT, resid 477 and segid SYSTEM>,\n",
       " <Atom 1572: O of type OW of resname WAT, resid 478 and segid SYSTEM>,\n",
       " <Atom 1572: O of type OW of resname WAT, resid 478 and segid SYSTEM>,\n",
       " <Atom 1575: O of type OW of resname WAT, resid 479 and segid SYSTEM>,\n",
       " <Atom 1575: O of type OW of resname WAT, resid 479 and segid SYSTEM>,\n",
       " <Atom 1578: O of type OW of resname WAT, resid 480 and segid SYSTEM>,\n",
       " <Atom 1578: O of type OW of resname WAT, resid 480 and segid SYSTEM>,\n",
       " <Atom 1581: O of type OW of resname WAT, resid 481 and segid SYSTEM>,\n",
       " <Atom 1581: O of type OW of resname WAT, resid 481 and segid SYSTEM>,\n",
       " <Atom 1584: O of type OW of resname WAT, resid 482 and segid SYSTEM>,\n",
       " <Atom 1584: O of type OW of resname WAT, resid 482 and segid SYSTEM>,\n",
       " <Atom 1587: O of type OW of resname WAT, resid 483 and segid SYSTEM>,\n",
       " <Atom 1587: O of type OW of resname WAT, resid 483 and segid SYSTEM>,\n",
       " <Atom 1590: O of type OW of resname WAT, resid 484 and segid SYSTEM>,\n",
       " <Atom 1590: O of type OW of resname WAT, resid 484 and segid SYSTEM>,\n",
       " <Atom 1593: O of type OW of resname WAT, resid 485 and segid SYSTEM>,\n",
       " <Atom 1593: O of type OW of resname WAT, resid 485 and segid SYSTEM>,\n",
       " <Atom 1596: O of type OW of resname WAT, resid 486 and segid SYSTEM>,\n",
       " <Atom 1596: O of type OW of resname WAT, resid 486 and segid SYSTEM>,\n",
       " <Atom 1599: O of type OW of resname WAT, resid 487 and segid SYSTEM>,\n",
       " <Atom 1599: O of type OW of resname WAT, resid 487 and segid SYSTEM>,\n",
       " <Atom 1602: O of type OW of resname WAT, resid 488 and segid SYSTEM>,\n",
       " <Atom 1602: O of type OW of resname WAT, resid 488 and segid SYSTEM>,\n",
       " <Atom 1605: O of type OW of resname WAT, resid 489 and segid SYSTEM>,\n",
       " <Atom 1605: O of type OW of resname WAT, resid 489 and segid SYSTEM>,\n",
       " <Atom 1608: O of type OW of resname WAT, resid 490 and segid SYSTEM>,\n",
       " <Atom 1608: O of type OW of resname WAT, resid 490 and segid SYSTEM>,\n",
       " <Atom 1611: O of type OW of resname WAT, resid 491 and segid SYSTEM>,\n",
       " <Atom 1611: O of type OW of resname WAT, resid 491 and segid SYSTEM>,\n",
       " <Atom 1614: O of type OW of resname WAT, resid 492 and segid SYSTEM>,\n",
       " <Atom 1614: O of type OW of resname WAT, resid 492 and segid SYSTEM>,\n",
       " <Atom 1617: O of type OW of resname WAT, resid 493 and segid SYSTEM>,\n",
       " <Atom 1617: O of type OW of resname WAT, resid 493 and segid SYSTEM>,\n",
       " <Atom 1620: O of type OW of resname WAT, resid 494 and segid SYSTEM>,\n",
       " <Atom 1620: O of type OW of resname WAT, resid 494 and segid SYSTEM>,\n",
       " <Atom 1623: O of type OW of resname WAT, resid 495 and segid SYSTEM>,\n",
       " <Atom 1623: O of type OW of resname WAT, resid 495 and segid SYSTEM>,\n",
       " <Atom 1626: O of type OW of resname WAT, resid 496 and segid SYSTEM>,\n",
       " <Atom 1626: O of type OW of resname WAT, resid 496 and segid SYSTEM>,\n",
       " <Atom 1629: O of type OW of resname WAT, resid 497 and segid SYSTEM>,\n",
       " <Atom 1629: O of type OW of resname WAT, resid 497 and segid SYSTEM>,\n",
       " <Atom 1632: O of type OW of resname WAT, resid 498 and segid SYSTEM>,\n",
       " <Atom 1632: O of type OW of resname WAT, resid 498 and segid SYSTEM>,\n",
       " <Atom 1635: O of type OW of resname WAT, resid 499 and segid SYSTEM>,\n",
       " <Atom 1635: O of type OW of resname WAT, resid 499 and segid SYSTEM>,\n",
       " <Atom 1638: O of type OW of resname WAT, resid 500 and segid SYSTEM>,\n",
       " <Atom 1638: O of type OW of resname WAT, resid 500 and segid SYSTEM>,\n",
       " <Atom 1641: O of type OW of resname WAT, resid 501 and segid SYSTEM>,\n",
       " <Atom 1641: O of type OW of resname WAT, resid 501 and segid SYSTEM>,\n",
       " ...]"
      ]
     },
     "execution_count": 51,
     "metadata": {},
     "output_type": "execute_result"
    }
   ],
   "source": [
    "Donors"
   ]
  },
  {
   "cell_type": "markdown",
   "metadata": {},
   "source": [
    "Now `Donors` is a list of atomgroups, but we need to reduce it to a single atomgroup:"
   ]
  },
  {
   "cell_type": "code",
   "execution_count": 52,
   "metadata": {
    "collapsed": true
   },
   "outputs": [],
   "source": [
    "Donors=sum(Donors)"
   ]
  },
  {
   "cell_type": "code",
   "execution_count": 53,
   "metadata": {},
   "outputs": [
    {
     "data": {
      "text/plain": [
       "<AtomGroup with 8842 atoms>"
      ]
     },
     "execution_count": 53,
     "metadata": {},
     "output_type": "execute_result"
    }
   ],
   "source": [
    "Donors"
   ]
  },
  {
   "cell_type": "code",
   "execution_count": 54,
   "metadata": {},
   "outputs": [
    {
     "data": {
      "text/plain": [
       "<AtomGroup with 66 atoms>"
      ]
     },
     "execution_count": 54,
     "metadata": {},
     "output_type": "execute_result"
    }
   ],
   "source": [
    "Acceptors[Aidx]"
   ]
  },
  {
   "cell_type": "markdown",
   "metadata": {},
   "source": [
    "5) Calculate the O-H-A angles and count how many of them are close to 180 degrees. That's how many H-bonds we have.\n",
    "\n",
    "Now we can check whether the angle between Oxygen donors, hydrogens and acceptors is above a critical threshold (we picked 130 degrees), and save the number of hydrogen bonds into an array:"
   ]
  },
  {
   "cell_type": "code",
   "execution_count": 56,
   "metadata": {
    "collapsed": true
   },
   "outputs": [],
   "source": [
    "a = mda.lib.distances.calc_angles(Donors.positions[Hidx], Hydrogens.positions[Hidx], Acceptors.positions[Aidx], box=u.dimensions)\n",
    "a_crit = np.deg2rad(130.0)\n",
    "n_hbonds = len(np.where(a > a_crit)[0])"
   ]
  },
  {
   "cell_type": "markdown",
   "metadata": {},
   "source": [
    "We have 21 oxygen acceptors, so it's reasonable to expect to detect between 1 and 2 hydrogen bonds per acceptor:"
   ]
  },
  {
   "cell_type": "code",
   "execution_count": 57,
   "metadata": {},
   "outputs": [
    {
     "data": {
      "text/plain": [
       "36"
      ]
     },
     "execution_count": 57,
     "metadata": {},
     "output_type": "execute_result"
    }
   ],
   "source": [
    "n_hbonds"
   ]
  },
  {
   "cell_type": "markdown",
   "metadata": {},
   "source": [
    "Now let's put it all into a function that we can then call over the entire trajectory:"
   ]
  },
  {
   "cell_type": "code",
   "execution_count": 10,
   "metadata": {
    "collapsed": true
   },
   "outputs": [],
   "source": [
    "def hbonds(hyd, acc, don):\n",
    "    d = distances.capped_distance(acc.positions,\n",
    "                                  hyd.positions,\n",
    "                                  max_cutoff=3, \n",
    "                                  box=hyd.dimensions, \n",
    "                                  return_distances=False)\n",
    "    a_idx, h_idx = d.T\n",
    "\n",
    "    a = distances.calc_angles(don.positions[h_idx], hyd.positions[h_idx], acc.positions[a_idx], box=hyd.dimensions)\n",
    "    a_crit = np.deg2rad(130.0)\n",
    "    n_hbonds = len(np.where(a > a_crit)[0])\n",
    "    return n_hbonds"
   ]
  },
  {
   "cell_type": "code",
   "execution_count": 59,
   "metadata": {},
   "outputs": [
    {
     "data": {
      "text/plain": [
       "36"
      ]
     },
     "execution_count": 59,
     "metadata": {},
     "output_type": "execute_result"
    }
   ],
   "source": [
    "hbonds(Hydrogens, Acceptors, Donors)"
   ]
  },
  {
   "cell_type": "markdown",
   "metadata": {},
   "source": [
    "### 3. Iterating over the trajectory"
   ]
  },
  {
   "cell_type": "markdown",
   "metadata": {},
   "source": [
    "When we iterate over the trajectory, the unit cell information and coordinates are automatically updated.\n",
    "In order to calculate a quantity over the entire trajectory, we can create an empty list and add the property value at each frame."
   ]
  },
  {
   "cell_type": "markdown",
   "metadata": {
    "collapsed": true
   },
   "source": [
    "We can use the function `hbonds` we just created, and write a function that iterates over the trajectory calling `hbonds` for each step:"
   ]
  },
  {
   "cell_type": "code",
   "execution_count": 11,
   "metadata": {
    "collapsed": true
   },
   "outputs": [],
   "source": [
    "def count_hbonds(u):\n",
    "    hb = []\n",
    "    hyd = u.atoms.select_atoms(\"type HW\")\n",
    "    acc = u.atoms.select_atoms(\"type os oh\")\n",
    "    don = []\n",
    "    for H in hyd:\n",
    "        O = H.bonded_atoms[0]\n",
    "        don.append(O)\n",
    "    don = sum(don)\n",
    "    for ts in u.trajectory:\n",
    "        hb.append(hbonds(hyd, acc, don))\n",
    "    return hb"
   ]
  },
  {
   "cell_type": "code",
   "execution_count": 12,
   "metadata": {},
   "outputs": [],
   "source": [
    "HB=count_hbonds(u)"
   ]
  },
  {
   "cell_type": "markdown",
   "metadata": {},
   "source": [
    "Now we can plot the results:"
   ]
  },
  {
   "cell_type": "code",
   "execution_count": 16,
   "metadata": {},
   "outputs": [
    {
     "data": {
      "image/png": "[encoded data removed]",
      "text/plain": [
       "<Figure size 432x288 with 1 Axes>"
      ]
     },
     "metadata": {},
     "output_type": "display_data"
    }
   ],
   "source": [
    "fig, ax =  plt.subplots()\n",
    "ax.plot(HB)\n",
    "ax.set_ylabel('Hydrogen Bonds')\n",
    "ax.set_xlabel('frame')\n",
    "\n",
    "plt.show()"
   ]
  },
  {
   "cell_type": "markdown",
   "metadata": {},
   "source": [
    "### 4. Check the distribution of angles and distances"
   ]
  },
  {
   "cell_type": "markdown",
   "metadata": {},
   "source": [
    "Our function only returns the *number* of hydrogen bonds, but it's interesting to check whether our criteria (3 Å cutoff and angle > 130 deg) are reasonable.\n",
    "In order to do this, we iterate over the trajectory again but this time we keep track of all distances and angles, \n",
    "plotting them in a 2D histogram:"
   ]
  },
  {
   "cell_type": "code",
   "execution_count": 17,
   "metadata": {
    "collapsed": true
   },
   "outputs": [],
   "source": [
    "def plot_hbonds(u):\n",
    "    hyd = u.atoms.select_atoms(\"type HW\")\n",
    "    acc = u.atoms.select_atoms(\"type os oh\")\n",
    "    don = []\n",
    "    for H in hyd:\n",
    "        O = H.bonded_atoms[0]\n",
    "        don.append(O)\n",
    "    don = sum(don)\n",
    "    dist=[]\n",
    "    ang=[]\n",
    "    for ts in u.trajectory:\n",
    "\n",
    "        idx, d = distances.capped_distance(acc.positions,\n",
    "                                  hyd.positions,\n",
    "                                  max_cutoff=5, \n",
    "                                  box=u.dimensions, \n",
    "                                  return_distances=True)\n",
    "        Aix, Hix = idx.T\n",
    "        dist.append(d)\n",
    "        ang.append(distances.calc_angles(don.positions[Hix], hyd.positions[Hix], acc.positions[Aix], box=u.dimensions))\n",
    "    dist=np.concatenate(dist)\n",
    "    ang=np.concatenate(ang)\n",
    "    return dist, ang"
   ]
  },
  {
   "cell_type": "code",
   "execution_count": 18,
   "metadata": {
    "collapsed": true
   },
   "outputs": [],
   "source": [
    "D, A = plot_hbonds(u)"
   ]
  },
  {
   "cell_type": "code",
   "execution_count": 19,
   "metadata": {
    "collapsed": true
   },
   "outputs": [],
   "source": [
    "histogram, xedges, yedges = np.histogram2d(D, np.rad2deg(A),\n",
    "                                           bins=40,\n",
    "                                           range=[[0.5, 5.0], [0.0, 180.0]])"
   ]
  },
  {
   "cell_type": "code",
   "execution_count": 20,
   "metadata": {},
   "outputs": [
    {
     "data": {
      "image/png": "[encoded data removed]",
      "text/plain": [
       "<Figure size 432x288 with 1 Axes>"
      ]
     },
     "metadata": {},
     "output_type": "display_data"
    }
   ],
   "source": [
    "cmap=sns.cubehelix_palette(start=.9, rot=-.6,light=1, as_cmap=True)\n",
    "# define boundaries of image\n",
    "extent = [xedges[0], xedges[-1], yedges[0], yedges[-1]]\n",
    "# plot the histogram\n",
    "plt.cla()\n",
    "plt.imshow(histogram.T, extent=extent,cmap=cmap,\n",
    "           origin='lower', aspect='auto',\n",
    "           interpolation='gaussian')\n",
    "# plot the geometric definition of hbonds we used\n",
    "plt.plot([0.0, 3.0], [130.0, 130.0], color='k', ls=':', lw=3.0)\n",
    "plt.plot([3.0, 3.0], [130.0, 180.0], color='k', ls=':', lw=3.0)\n",
    "\n",
    "\n",
    "plt.xlim((0.5, 3.5))\n",
    "plt.ylim((0.0, 180.0))\n",
    "\n",
    "plt.title('Contour map of hydrogen bonding')\n",
    "plt.xlabel('Distance (Å)')\n",
    "plt.ylabel('Angle (degrees)')\n",
    "plt.show()"
   ]
  },
  {
   "cell_type": "markdown",
   "metadata": {},
   "source": [
    "It's clear that the cutoffs we impose capture quite well our hydrogen bonds; most of them are located around 170 degrees and 1.7 Å.\n",
    "\n",
    "\n",
    "What is the other dark spot at 3Å / 60 degrees?"
   ]
  },
  {
   "cell_type": "code",
   "execution_count": null,
   "metadata": {
    "collapsed": true
   },
   "outputs": [],
   "source": []
  }
 ],
 "metadata": {
  "hide_input": false,
  "kernelspec": {
   "display_name": "Python 3",
   "language": "python",
   "name": "python3"
  },
  "language_info": {
   "codemirror_mode": {
    "name": "ipython",
    "version": 3
   },
   "file_extension": ".py",
   "mimetype": "text/x-python",
   "name": "python",
   "nbconvert_exporter": "python",
   "pygments_lexer": "ipython3",
   "version": "3.6.6"
  }
 },
 "nbformat": 4,
 "nbformat_minor": 2
}
