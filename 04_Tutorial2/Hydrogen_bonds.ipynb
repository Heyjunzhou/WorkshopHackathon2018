{
 "cells": [
  {
   "cell_type": "markdown",
   "metadata": {},
   "source": [
    "# Calculating distances using the `lib.distances` module, and looking at hydrogen bonds"
   ]
  },
  {
   "cell_type": "markdown",
   "metadata": {},
   "source": [
    "### In this notebook we'll see how to use the functions of the `distances` module to generate contact maps and   we will use them to find  hydrogen bonds."
   ]
  },
  {
   "cell_type": "code",
   "execution_count": null,
   "metadata": {},
   "outputs": [],
   "source": [
    "import matplotlib.pyplot as plt\n",
    "import seaborn as sns\n",
    "import numpy as np\n",
    "import MDAnalysis as mda\n",
    "import MDAnalysisData as data\n",
    "from MDAnalysis.lib import distances\n",
    "import nglview as nv\n",
    "mda.__version__"
   ]
  },
  {
   "cell_type": "markdown",
   "metadata": {},
   "source": [
    "Create a Universe by loading the coordinates of a PEG - poly(ethyleneglycol) chain $HO(CH2CH2)_{20}OH$ "
   ]
  },
  {
   "cell_type": "code",
   "execution_count": null,
   "metadata": {
    "collapsed": true
   },
   "outputs": [],
   "source": [
    "polymer = data.datasets.fetch_PEG_1chain()\n",
    "\n",
    "u = mda.Universe(polymer['topology'], polymer['trajectory'])"
   ]
  },
  {
   "cell_type": "code",
   "execution_count": null,
   "metadata": {},
   "outputs": [],
   "source": [
    "u.trajectory"
   ]
  },
  {
   "cell_type": "markdown",
   "metadata": {},
   "source": [
    "We loaded a trajectory with 50 frames, but for the first part of this tutorial we'll limit ourselves to look at one frame."
   ]
  },
  {
   "cell_type": "markdown",
   "metadata": {},
   "source": [
    "### 1. Using distance_array and self_distance array to build contact maps\n",
    "\n",
    "We can calculate quickly all possible distances between atomgroups and plot the resulting contact maps in 2D.\n",
    "- **self_distance array** only takes one atomgroup\n",
    "- **distance_array** takes two atomgroups and, unlike the calc_bonds/angles/dihedrals functions, they don't have to contain the same number of atoms.\n",
    "- **capped_distance** and **self_capped_distance** are particularly useful when dealing with a big system: instead of looking for all possible distances, only considers atoms within a certain distance threshold."
   ]
  },
  {
   "cell_type": "markdown",
   "metadata": {},
   "source": [
    "#### 1.1 Difference between `self_distance` and `self_capped_distance`"
   ]
  },
  {
   "cell_type": "markdown",
   "metadata": {},
   "source": [
    "Select all carbon atoms belonging to the polymer:"
   ]
  },
  {
   "cell_type": "code",
   "execution_count": null,
   "metadata": {
    "collapsed": true
   },
   "outputs": [],
   "source": []
  },
  {
   "cell_type": "code",
   "execution_count": null,
   "metadata": {},
   "outputs": [],
   "source": []
  },
  {
   "cell_type": "markdown",
   "metadata": {},
   "source": [
    "use `distances.self_distance_array` to calculate distances between all carbon atoms:"
   ]
  },
  {
   "cell_type": "code",
   "execution_count": null,
   "metadata": {
    "collapsed": true
   },
   "outputs": [],
   "source": []
  },
  {
   "cell_type": "markdown",
   "metadata": {},
   "source": [
    ".. and plot the results:"
   ]
  },
  {
   "cell_type": "code",
   "execution_count": null,
   "metadata": {},
   "outputs": [],
   "source": [
    "fig, ax = plt.subplots()\n",
    "ax.hist(d_CC, bins=20)\n",
    "plt.show()"
   ]
  },
  {
   "cell_type": "markdown",
   "metadata": {},
   "source": [
    "The result as is doesn't look super-informative, as we only have one polymer chain and the C-C distances obviously grow with the chain length. But we can also use this function to compare different frames of a trajectory."
   ]
  },
  {
   "cell_type": "markdown",
   "metadata": {},
   "source": [
    "If we filter the `d_CC` array to exclude distances larger than 2 Å:"
   ]
  },
  {
   "cell_type": "code",
   "execution_count": null,
   "metadata": {
    "collapsed": true
   },
   "outputs": [],
   "source": []
  },
  {
   "cell_type": "code",
   "execution_count": null,
   "metadata": {
    "collapsed": true
   },
   "outputs": [],
   "source": []
  },
  {
   "cell_type": "markdown",
   "metadata": {},
   "source": [
    ".. We get a much more readable plot:"
   ]
  },
  {
   "cell_type": "code",
   "execution_count": null,
   "metadata": {},
   "outputs": [],
   "source": [
    "fig, ax = plt.subplots()\n",
    "ax.hist(d_CC, bins=20)\n",
    "plt.show()"
   ]
  },
  {
   "cell_type": "markdown",
   "metadata": {},
   "source": [
    "But there is a faster way of doing this. `self_capped_distance` allows us to directly apply a threshold, by specifying `max_cutoff`:"
   ]
  },
  {
   "cell_type": "code",
   "execution_count": null,
   "metadata": {
    "collapsed": true
   },
   "outputs": [],
   "source": []
  },
  {
   "cell_type": "code",
   "execution_count": null,
   "metadata": {},
   "outputs": [],
   "source": []
  },
  {
   "cell_type": "markdown",
   "metadata": {},
   "source": [
    "d_CC now contains a distribution of distances between neighboring carbons (cutoff=2). \n",
    "We could have used `calc_bonds`, but in this case we don't need to worry about slicing. "
   ]
  },
  {
   "cell_type": "markdown",
   "metadata": {},
   "source": [
    "Now if we plot d_CC as a histogram we should see the same result as before:"
   ]
  },
  {
   "cell_type": "code",
   "execution_count": null,
   "metadata": {},
   "outputs": [],
   "source": [
    "fig, ax = plt.subplots()\n",
    "ax.hist(d_CC[1], bins=20)\n",
    "plt.show()"
   ]
  },
  {
   "cell_type": "markdown",
   "metadata": {},
   "source": [
    "#### 1.2 Using `distance_array` to calculate contact maps"
   ]
  },
  {
   "cell_type": "markdown",
   "metadata": {},
   "source": [
    "Generate a contact map between C and O atoms.\n",
    "First, make the corresponding atomselections:"
   ]
  },
  {
   "cell_type": "code",
   "execution_count": null,
   "metadata": {
    "collapsed": true
   },
   "outputs": [],
   "source": []
  },
  {
   "cell_type": "markdown",
   "metadata": {},
   "source": [
    "Then, call `distance_array`:"
   ]
  },
  {
   "cell_type": "code",
   "execution_count": null,
   "metadata": {
    "collapsed": true
   },
   "outputs": [],
   "source": []
  },
  {
   "cell_type": "code",
   "execution_count": null,
   "metadata": {},
   "outputs": [],
   "source": []
  },
  {
   "cell_type": "markdown",
   "metadata": {},
   "source": [
    "`distance_array` returns a bidimensional array that we can plot in 2D to generate a contact map:"
   ]
  },
  {
   "cell_type": "code",
   "execution_count": null,
   "metadata": {},
   "outputs": [],
   "source": [
    "fig, ax = plt.subplots()\n",
    "img=ax.imshow(d_CO)\n",
    "plt.colorbar(img)\n",
    "plt.show()"
   ]
  },
  {
   "cell_type": "markdown",
   "metadata": {},
   "source": [
    "### 2. Calculate hydrogen bonds between PEG and water\n",
    "\n",
    "MDAnalysis.analysis already contains a hbonds module, but we're gonna build a function from scratch in order to play with the *distances* methods we've seen thus far."
   ]
  },
  {
   "cell_type": "markdown",
   "metadata": {},
   "source": [
    "1) Select hydrogen bond acceptors (PEG oxygens):"
   ]
  },
  {
   "cell_type": "code",
   "execution_count": null,
   "metadata": {},
   "outputs": [],
   "source": []
  },
  {
   "cell_type": "code",
   "execution_count": null,
   "metadata": {
    "collapsed": true
   },
   "outputs": [],
   "source": []
  },
  {
   "cell_type": "code",
   "execution_count": null,
   "metadata": {},
   "outputs": [],
   "source": []
  },
  {
   "cell_type": "markdown",
   "metadata": {},
   "source": [
    "2) Select hydrogens (from water)"
   ]
  },
  {
   "cell_type": "code",
   "execution_count": null,
   "metadata": {
    "collapsed": true
   },
   "outputs": [],
   "source": []
  },
  {
   "cell_type": "code",
   "execution_count": null,
   "metadata": {},
   "outputs": [],
   "source": []
  },
  {
   "cell_type": "markdown",
   "metadata": {},
   "source": [
    "3) Pick the water molecules closest to the PEG chain using the **distance** (or **capped_distance**) method.\n",
    "\n",
    " A reasonable distance cutoff is 3 Å. We also need to consider pbc (u.dimensions).\n",
    " \n",
    " A useful feature of **distance**/**capped_distance** is that we can choose whether we need to return the distances, or only the list of Hydrogen, Acceptor pairs that satisfy our conditions. \n",
    " \n",
    "Another advantage of **capped_distance** is the speed. If your Universe is very big or you have a lot of solvent molecules, you'll see significant speedups."
   ]
  },
  {
   "cell_type": "code",
   "execution_count": null,
   "metadata": {},
   "outputs": [],
   "source": []
  },
  {
   "cell_type": "markdown",
   "metadata": {},
   "source": [
    "Now we assign the indeces of Hydrogens and Acceptors forming the hydrogen bonds, which are returned by **capped_distance**:"
   ]
  },
  {
   "cell_type": "code",
   "execution_count": null,
   "metadata": {
    "collapsed": true
   },
   "outputs": [],
   "source": []
  },
  {
   "cell_type": "code",
   "execution_count": null,
   "metadata": {
    "collapsed": true
   },
   "outputs": [],
   "source": []
  },
  {
   "cell_type": "markdown",
   "metadata": {},
   "source": [
    "4) Select the Oxygen donors corresponding to the Hydrogens.\n",
    "\n",
    "Since we'll use **calc_angles** to select the suitable O-H-A interactions,\n",
    "we need to have a list of Oxygen donors that corresponds to the Hydrogens (there are 2 HW per OW). We then iterate over the list of Hydrogens and recover the Oxygen atom that belongs to the same residue:"
   ]
  },
  {
   "cell_type": "code",
   "execution_count": null,
   "metadata": {
    "collapsed": true
   },
   "outputs": [],
   "source": []
  },
  {
   "cell_type": "code",
   "execution_count": null,
   "metadata": {},
   "outputs": [],
   "source": []
  },
  {
   "cell_type": "markdown",
   "metadata": {},
   "source": [
    "Now `Donors` is a list of atomgroups, but we need to reduce it to a single atomgroup:"
   ]
  },
  {
   "cell_type": "code",
   "execution_count": null,
   "metadata": {
    "collapsed": true
   },
   "outputs": [],
   "source": []
  },
  {
   "cell_type": "code",
   "execution_count": null,
   "metadata": {},
   "outputs": [],
   "source": []
  },
  {
   "cell_type": "code",
   "execution_count": null,
   "metadata": {},
   "outputs": [],
   "source": []
  },
  {
   "cell_type": "markdown",
   "metadata": {},
   "source": [
    "5) Calculate the O-H-A angles and count how many of them are close to 180 degrees. That's how many H-bonds we have.\n",
    "\n",
    "Now we can check whether the angle between Oxygen donors, hydrogens and acceptors is above a critical threshold (we picked 130 degrees), and save the number of hydrogen bonds into an array:"
   ]
  },
  {
   "cell_type": "code",
   "execution_count": null,
   "metadata": {
    "collapsed": true
   },
   "outputs": [],
   "source": []
  },
  {
   "cell_type": "markdown",
   "metadata": {},
   "source": [
    "We have 21 oxygen acceptors, so it's reasonable to expect to detect between 1 and 2 hydrogen bonds per acceptor:"
   ]
  },
  {
   "cell_type": "code",
   "execution_count": null,
   "metadata": {},
   "outputs": [],
   "source": []
  },
  {
   "cell_type": "markdown",
   "metadata": {},
   "source": [
    "Now let's put it all into a function that we can then call over the entire trajectory:"
   ]
  },
  {
   "cell_type": "code",
   "execution_count": null,
   "metadata": {
    "collapsed": true
   },
   "outputs": [],
   "source": [
    "def hbonds(hyd, acc, don):\n",
    "    d = distances.capped_distance(acc.positions,\n",
    "                                  hyd.positions,\n",
    "                                  max_cutoff=3, \n",
    "                                  box=hyd.dimensions, \n",
    "                                  return_distances=False)\n",
    "    a_idx, h_idx = d.T\n",
    "\n",
    "    a = distances.calc_angles(don.positions[h_idx], hyd.positions[h_idx], acc.positions[a_idx], box=hyd.dimensions)\n",
    "    a_crit = np.deg2rad(130.0)\n",
    "    n_hbonds = len(np.where(a > a_crit)[0])\n",
    "    return n_hbonds"
   ]
  },
  {
   "cell_type": "code",
   "execution_count": null,
   "metadata": {},
   "outputs": [],
   "source": [
    "hbonds(Hydrogens, Acceptors, Donors)"
   ]
  },
  {
   "cell_type": "markdown",
   "metadata": {},
   "source": [
    "### 3. Iterating over the trajectory"
   ]
  },
  {
   "cell_type": "markdown",
   "metadata": {},
   "source": [
    "When we iterate over the trajectory, the unit cell information and coordinates are automatically updated.\n",
    "In order to calculate a quantity over the entire trajectory, we can create an empty list and add the property value at each frame."
   ]
  },
  {
   "cell_type": "markdown",
   "metadata": {
    "collapsed": true
   },
   "source": [
    "We can use the function `hbonds` we just created, and write a function that iterates over the trajectory calling `hbonds` for each step:"
   ]
  },
  {
   "cell_type": "code",
   "execution_count": null,
   "metadata": {
    "collapsed": true
   },
   "outputs": [],
   "source": [
    "def count_hbonds(u):\n",
    "    hb = []\n",
    "    hyd = u.atoms.select_atoms(\"type HW\")\n",
    "    acc = u.atoms.select_atoms(\"type os oh\")\n",
    "    don = []\n",
    "    for H in hyd:\n",
    "        O = H.bonded_atoms[0]\n",
    "        don.append(O)\n",
    "    don = sum(don)\n",
    "    for ts in u.trajectory:\n",
    "        hb.append(hbonds(hyd, acc, don))\n",
    "    return hb"
   ]
  },
  {
   "cell_type": "code",
   "execution_count": null,
   "metadata": {
    "collapsed": true
   },
   "outputs": [],
   "source": [
    "HB=count_hbonds(u)"
   ]
  },
  {
   "cell_type": "markdown",
   "metadata": {},
   "source": [
    "Now we can plot the results:"
   ]
  },
  {
   "cell_type": "code",
   "execution_count": null,
   "metadata": {},
   "outputs": [],
   "source": [
    "fig, ax =  plt.subplots()\n",
    "ax.plot(HB)\n",
    "ax.set_ylabel('Hydrogen Bonds')\n",
    "ax.set_xlabel('frame')\n",
    "\n",
    "plt.show()"
   ]
  },
  {
   "cell_type": "markdown",
   "metadata": {},
   "source": [
    "### 4. Check the distribution of angles and distances"
   ]
  },
  {
   "cell_type": "markdown",
   "metadata": {},
   "source": [
    "Our function only returns the *number* of hydrogen bonds, but it's interesting to check whether our criteria (3 Å cutoff and angle > 130 deg) are reasonable.\n",
    "In order to do this, we iterate over the trajectory again but this time we keep track of all distances and angles, \n",
    "plotting them in a 2D histogram:"
   ]
  },
  {
   "cell_type": "code",
   "execution_count": null,
   "metadata": {
    "collapsed": true
   },
   "outputs": [],
   "source": [
    "def plot_hbonds(u):\n",
    "    hyd = u.atoms.select_atoms(\"type HW\")\n",
    "    acc = u.atoms.select_atoms(\"type os oh\")\n",
    "    don = []\n",
    "    for H in hyd:\n",
    "        O = H.bonded_atoms[0]\n",
    "        don.append(O)\n",
    "    don = sum(don)\n",
    "    dist=[]\n",
    "    ang=[]\n",
    "    for ts in u.trajectory:\n",
    "\n",
    "        idx, d = distances.capped_distance(acc.positions,\n",
    "                                  hyd.positions,\n",
    "                                  max_cutoff=5, \n",
    "                                  box=u.dimensions, \n",
    "                                  return_distances=True)\n",
    "        Aix, Hix = idx.T\n",
    "        dist.append(d)\n",
    "        ang.append(distances.calc_angles(don.positions[Hix], hyd.positions[Hix], acc.positions[Aix], box=u.dimensions))\n",
    "    dist=np.concatenate(dist)\n",
    "    ang=np.concatenate(ang)\n",
    "    return dist, ang"
   ]
  },
  {
   "cell_type": "code",
   "execution_count": null,
   "metadata": {
    "collapsed": true
   },
   "outputs": [],
   "source": [
    "D, A = plot_hbonds(u)"
   ]
  },
  {
   "cell_type": "code",
   "execution_count": null,
   "metadata": {
    "collapsed": true
   },
   "outputs": [],
   "source": [
    "histogram, xedges, yedges = np.histogram2d(D, np.rad2deg(A),\n",
    "                                           bins=40,\n",
    "                                           range=[[0.5, 5.0], [0.0, 180.0]])"
   ]
  },
  {
   "cell_type": "code",
   "execution_count": null,
   "metadata": {},
   "outputs": [],
   "source": [
    "cmap=sns.cubehelix_palette(start=.9, rot=-.6,light=1, as_cmap=True)\n",
    "# define boundaries of image\n",
    "extent = [xedges[0], xedges[-1], yedges[0], yedges[-1]]\n",
    "# plot the histogram\n",
    "plt.cla()\n",
    "plt.imshow(histogram.T, extent=extent,cmap=cmap,\n",
    "           origin='lower', aspect='auto',\n",
    "           interpolation='gaussian')\n",
    "# plot the geometric definition of hbonds we used\n",
    "plt.plot([0.0, 3.0], [130.0, 130.0], color='k', ls=':', lw=3.0)\n",
    "plt.plot([3.0, 3.0], [130.0, 180.0], color='k', ls=':', lw=3.0)\n",
    "\n",
    "\n",
    "plt.xlim((0.5, 3.5))\n",
    "plt.ylim((0.0, 180.0))\n",
    "\n",
    "plt.title('Contour map of hydrogen bonding')\n",
    "plt.xlabel('Distance (Å)')\n",
    "plt.ylabel('Angle (degrees)')\n",
    "plt.show()"
   ]
  },
  {
   "cell_type": "markdown",
   "metadata": {},
   "source": [
    "It's clear that the cutoffs we impose capture quite well our hydrogen bonds; most of them are located around 170 degrees and 1.7 Å.\n",
    "\n",
    "\n",
    "What is the other dark spot at 3Å / 60 degrees?"
   ]
  }
 ],
 "metadata": {
  "hide_input": false,
  "kernelspec": {
   "display_name": "Python 3",
   "language": "python",
   "name": "python3"
  },
  "language_info": {
   "codemirror_mode": {
    "name": "ipython",
    "version": 3
   },
   "file_extension": ".py",
   "mimetype": "text/x-python",
   "name": "python",
   "nbconvert_exporter": "python",
   "pygments_lexer": "ipython3",
   "version": "3.6.6"
  }
 },
 "nbformat": 4,
 "nbformat_minor": 2
}
