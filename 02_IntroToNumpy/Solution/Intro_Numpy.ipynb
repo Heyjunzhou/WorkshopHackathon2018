{
 "cells": [
  {
   "cell_type": "markdown",
   "metadata": {},
   "source": [
    "# Intro to Numpy"
   ]
  },
  {
   "cell_type": "markdown",
   "metadata": {},
   "source": [
    "When it comes to number crunching, Python is actually considered quite slow. It's an interpreted language, which means that there's quite a bit of overhead associated with looping through a list of numbers and calculating, say, a simple sum. Despite this, Python has become a popular language for numerical work, and this is due to the existence of `numpy`."
   ]
  },
  {
   "cell_type": "markdown",
   "metadata": {},
   "source": [
    "## NumPy arrays are performant for numerical operations"
   ]
  },
  {
   "cell_type": "markdown",
   "metadata": {},
   "source": [
    "Let's import `numpy`; this creates a `module` object in our Python session, including in it all that `numpy` has to offer:"
   ]
  },
  {
   "cell_type": "code",
   "execution_count": 1,
   "metadata": {},
   "outputs": [],
   "source": [
    "import numpy as np"
   ]
  },
  {
   "cell_type": "markdown",
   "metadata": {},
   "source": [
    "The core functionality of `numpy` comes in the form of the array data structure it includes. We can create an array of integers, for example, by using `np.array` and feeding it a list of integers:"
   ]
  },
  {
   "cell_type": "code",
   "execution_count": 2,
   "metadata": {},
   "outputs": [],
   "source": [
    "arr = np.array([1, 3, 7, 9])"
   ]
  },
  {
   "cell_type": "code",
   "execution_count": 3,
   "metadata": {},
   "outputs": [
    {
     "data": {
      "text/plain": [
       "array([1, 3, 7, 9])"
      ]
     },
     "execution_count": 3,
     "metadata": {},
     "output_type": "execute_result"
    }
   ],
   "source": [
    "arr"
   ]
  },
  {
   "cell_type": "markdown",
   "metadata": {},
   "source": [
    "A distinguishing characteristic of a `numpy` array is that all of its elements are of the same data type. In this case, we have an array of 64 bit integers:"
   ]
  },
  {
   "cell_type": "code",
   "execution_count": 4,
   "metadata": {},
   "outputs": [
    {
     "data": {
      "text/plain": [
       "dtype('int64')"
      ]
     },
     "execution_count": 4,
     "metadata": {},
     "output_type": "execute_result"
    }
   ],
   "source": [
    "arr.dtype"
   ]
  },
  {
   "cell_type": "markdown",
   "metadata": {},
   "source": [
    "The elements of an array are arranged in a computer's physical memory in a contiguous block. This allows for fast computation since modern CPUs will read as much contiguous data from memory as they can fit in their cache, which means that neighboring elements of a `numpy` array will already be in cache when a computation is requested on a given element. The result is faster computation than we would expect from, say, a Python `list`."
   ]
  },
  {
   "cell_type": "markdown",
   "metadata": {},
   "source": [
    "As a point of comparison, we'll sum a million integers in a `list`, and do the same with an `array`, and see how much time this takes:"
   ]
  },
  {
   "cell_type": "code",
   "execution_count": 5,
   "metadata": {},
   "outputs": [],
   "source": [
    "biglist = list(range(1000000))"
   ]
  },
  {
   "cell_type": "code",
   "execution_count": 6,
   "metadata": {},
   "outputs": [
    {
     "name": "stdout",
     "output_type": "stream",
     "text": [
      "8.01 ms ± 19.3 µs per loop (mean ± std. dev. of 7 runs, 100 loops each)\n"
     ]
    }
   ],
   "source": [
    "%%timeit \n",
    "\n",
    "sum(biglist)"
   ]
  },
  {
   "cell_type": "code",
   "execution_count": 7,
   "metadata": {},
   "outputs": [],
   "source": [
    "bigarray = np.arange(1000000)"
   ]
  },
  {
   "cell_type": "code",
   "execution_count": 8,
   "metadata": {},
   "outputs": [
    {
     "data": {
      "text/plain": [
       "array([     0,      1,      2, ..., 999997, 999998, 999999])"
      ]
     },
     "execution_count": 8,
     "metadata": {},
     "output_type": "execute_result"
    }
   ],
   "source": [
    "bigarray"
   ]
  },
  {
   "cell_type": "code",
   "execution_count": 9,
   "metadata": {},
   "outputs": [
    {
     "name": "stdout",
     "output_type": "stream",
     "text": [
      "702 µs ± 66.5 µs per loop (mean ± std. dev. of 7 runs, 1000 loops each)\n"
     ]
    }
   ],
   "source": [
    "%%timeit\n",
    "\n",
    "np.sum(bigarray)"
   ]
  },
  {
   "cell_type": "markdown",
   "metadata": {},
   "source": [
    "For this simple test, the sum on the `numpy` array was 10 times faster than that on the `list`. Speed differences such as this add up very quickly when doing many operations on numerical data, so the benefits of `numpy` cannot be understated here."
   ]
  },
  {
   "cell_type": "markdown",
   "metadata": {},
   "source": [
    "## Working with arrays"
   ]
  },
  {
   "cell_type": "markdown",
   "metadata": {},
   "source": [
    "`numpy` arrays have a number of methods attached to them. For example, these aggregating functions that yield a single value:"
   ]
  },
  {
   "cell_type": "code",
   "execution_count": 10,
   "metadata": {},
   "outputs": [
    {
     "data": {
      "text/plain": [
       "20"
      ]
     },
     "execution_count": 10,
     "metadata": {},
     "output_type": "execute_result"
    }
   ],
   "source": [
    "arr.sum()"
   ]
  },
  {
   "cell_type": "code",
   "execution_count": 11,
   "metadata": {},
   "outputs": [
    {
     "data": {
      "text/plain": [
       "189"
      ]
     },
     "execution_count": 11,
     "metadata": {},
     "output_type": "execute_result"
    }
   ],
   "source": [
    "arr.prod()"
   ]
  },
  {
   "cell_type": "code",
   "execution_count": 12,
   "metadata": {},
   "outputs": [
    {
     "data": {
      "text/plain": [
       "1"
      ]
     },
     "execution_count": 12,
     "metadata": {},
     "output_type": "execute_result"
    }
   ],
   "source": [
    "arr.min()"
   ]
  },
  {
   "cell_type": "code",
   "execution_count": 13,
   "metadata": {},
   "outputs": [
    {
     "data": {
      "text/plain": [
       "9"
      ]
     },
     "execution_count": 13,
     "metadata": {},
     "output_type": "execute_result"
    }
   ],
   "source": [
    "arr.max()"
   ]
  },
  {
   "cell_type": "markdown",
   "metadata": {},
   "source": [
    "There are also methods like `shape`, which tells us the shape of our array as a tuple:"
   ]
  },
  {
   "cell_type": "code",
   "execution_count": 14,
   "metadata": {},
   "outputs": [
    {
     "data": {
      "text/plain": [
       "(4,)"
      ]
     },
     "execution_count": 14,
     "metadata": {},
     "output_type": "execute_result"
    }
   ],
   "source": [
    "arr.shape"
   ]
  },
  {
   "cell_type": "markdown",
   "metadata": {},
   "source": [
    "In this case, we are dealing with a one-dimensional `numpy` array of length 4. This is similar to a mathematical *vector*."
   ]
  },
  {
   "cell_type": "markdown",
   "metadata": {},
   "source": [
    "We can reshape an array with the `reshape` method:"
   ]
  },
  {
   "cell_type": "code",
   "execution_count": 15,
   "metadata": {},
   "outputs": [
    {
     "data": {
      "text/plain": [
       "array([[1, 3],\n",
       "       [7, 9]])"
      ]
     },
     "execution_count": 15,
     "metadata": {},
     "output_type": "execute_result"
    }
   ],
   "source": [
    "arr.reshape(2, 2)"
   ]
  },
  {
   "cell_type": "markdown",
   "metadata": {},
   "source": [
    "Importantly, this *does not* change the existing array, but instead gives back a new array with the new shape. A `numpy` array cannot be reshaped or resized *in-place*; a new array must be made with the data copied to accommodate this behavior."
   ]
  },
  {
   "cell_type": "code",
   "execution_count": 16,
   "metadata": {},
   "outputs": [],
   "source": [
    "arr_n = arr.reshape(2, 2)"
   ]
  },
  {
   "cell_type": "code",
   "execution_count": 17,
   "metadata": {},
   "outputs": [
    {
     "data": {
      "text/plain": [
       "array([[1, 3],\n",
       "       [7, 9]])"
      ]
     },
     "execution_count": 17,
     "metadata": {},
     "output_type": "execute_result"
    }
   ],
   "source": [
    "arr_n"
   ]
  },
  {
   "cell_type": "code",
   "execution_count": 18,
   "metadata": {},
   "outputs": [
    {
     "data": {
      "text/plain": [
       "array([1, 3, 7, 9])"
      ]
     },
     "execution_count": 18,
     "metadata": {},
     "output_type": "execute_result"
    }
   ],
   "source": [
    "arr"
   ]
  },
  {
   "cell_type": "markdown",
   "metadata": {},
   "source": [
    "`numpy` also features standalone functions such as `arange`, which functions similarly to the built-in `range` but gives `numpy` arrays:"
   ]
  },
  {
   "cell_type": "code",
   "execution_count": 19,
   "metadata": {},
   "outputs": [],
   "source": [
    "arr = np.arange(10, 46)"
   ]
  },
  {
   "cell_type": "code",
   "execution_count": 20,
   "metadata": {},
   "outputs": [
    {
     "data": {
      "text/plain": [
       "array([10, 11, 12, 13, 14, 15, 16, 17, 18, 19, 20, 21, 22, 23, 24, 25, 26,\n",
       "       27, 28, 29, 30, 31, 32, 33, 34, 35, 36, 37, 38, 39, 40, 41, 42, 43,\n",
       "       44, 45])"
      ]
     },
     "execution_count": 20,
     "metadata": {},
     "output_type": "execute_result"
    }
   ],
   "source": [
    "arr"
   ]
  },
  {
   "cell_type": "markdown",
   "metadata": {},
   "source": [
    "We can reshape this into a new 2-dimensional array with 3 rows with `reshape`. We only need to specify the length of a single dimension for this to work; the other dimension can be figured out, and we tell the function to figure it out with a `-1`:"
   ]
  },
  {
   "cell_type": "code",
   "execution_count": 21,
   "metadata": {},
   "outputs": [],
   "source": [
    "arr = arr.reshape((3, -1))"
   ]
  },
  {
   "cell_type": "code",
   "execution_count": 22,
   "metadata": {},
   "outputs": [
    {
     "data": {
      "text/plain": [
       "array([[10, 11, 12, 13, 14, 15, 16, 17, 18, 19, 20, 21],\n",
       "       [22, 23, 24, 25, 26, 27, 28, 29, 30, 31, 32, 33],\n",
       "       [34, 35, 36, 37, 38, 39, 40, 41, 42, 43, 44, 45]])"
      ]
     },
     "execution_count": 22,
     "metadata": {},
     "output_type": "execute_result"
    }
   ],
   "source": [
    "arr"
   ]
  },
  {
   "cell_type": "markdown",
   "metadata": {},
   "source": [
    "If needed, we can obtain a 1-D array from an array of any dimension with the `flatten` method:"
   ]
  },
  {
   "cell_type": "code",
   "execution_count": 23,
   "metadata": {},
   "outputs": [
    {
     "data": {
      "text/plain": [
       "array([10, 11, 12, 13, 14, 15, 16, 17, 18, 19, 20, 21, 22, 23, 24, 25, 26,\n",
       "       27, 28, 29, 30, 31, 32, 33, 34, 35, 36, 37, 38, 39, 40, 41, 42, 43,\n",
       "       44, 45])"
      ]
     },
     "execution_count": 23,
     "metadata": {},
     "output_type": "execute_result"
    }
   ],
   "source": [
    "arr.flatten()"
   ]
  },
  {
   "cell_type": "markdown",
   "metadata": {},
   "source": [
    "### Challenge: create an array with `np.arange` with values from 21 to 100, inclusive. Reshape it into an array with dimensions $(2 \\times 10 \\times 4)$."
   ]
  },
  {
   "cell_type": "code",
   "execution_count": 24,
   "metadata": {},
   "outputs": [
    {
     "data": {
      "text/plain": [
       "(2, 10, 4)"
      ]
     },
     "execution_count": 24,
     "metadata": {},
     "output_type": "execute_result"
    }
   ],
   "source": [
    "np.arange(21, 101).reshape(2, 10, 4).shape"
   ]
  },
  {
   "cell_type": "markdown",
   "metadata": {},
   "source": [
    "For our next set of examples, we'll use some data from a molecular dynamics simulation of adenylate kinase. This trajectory data is included as part of the MDAnalysis test suite, `MDAnalysisTest`:"
   ]
  },
  {
   "cell_type": "markdown",
   "metadata": {},
   "source": [
    "## Using molecular dynamics data"
   ]
  },
  {
   "cell_type": "code",
   "execution_count": 25,
   "metadata": {},
   "outputs": [],
   "source": [
    "from MDAnalysisTests.datafiles import GRO, XTC"
   ]
  },
  {
   "cell_type": "code",
   "execution_count": 26,
   "metadata": {},
   "outputs": [
    {
     "name": "stdout",
     "output_type": "stream",
     "text": [
      "('/home/david/miniconda3/lib/python3.6/site-packages/MDAnalysisTests/data/adk_oplsaa.gro', '/home/david/miniconda3/lib/python3.6/site-packages/MDAnalysisTests/data/adk_oplsaa.xtc')\n"
     ]
    }
   ],
   "source": [
    "print((GRO, XTC))"
   ]
  },
  {
   "cell_type": "markdown",
   "metadata": {},
   "source": [
    "The next lesson will go into detail on `MDAnalysis` usage, so here we'll load some data and extract things like coordinates and residue names, as these are represented as `numpy` arrays:"
   ]
  },
  {
   "cell_type": "code",
   "execution_count": 27,
   "metadata": {},
   "outputs": [],
   "source": [
    "import MDAnalysis as mda"
   ]
  },
  {
   "cell_type": "code",
   "execution_count": 28,
   "metadata": {},
   "outputs": [
    {
     "data": {
      "text/plain": [
       "<Universe with 47681 atoms>"
      ]
     },
     "execution_count": 28,
     "metadata": {},
     "output_type": "execute_result"
    }
   ],
   "source": [
    "u = mda.Universe(GRO, XTC)\n",
    "u"
   ]
  },
  {
   "cell_type": "code",
   "execution_count": 29,
   "metadata": {},
   "outputs": [
    {
     "data": {
      "text/plain": [
       "array([[ 52.02     ,  43.560005 ,  31.550003 ],\n",
       "       [ 51.190002 ,  44.11     ,  31.720001 ],\n",
       "       [ 51.550003 ,  42.83     ,  31.04     ],\n",
       "       ...,\n",
       "       [105.340004 ,  74.07001  ,  40.989998 ],\n",
       "       [ 57.68     ,  35.32     ,  14.8      ],\n",
       "       [ 62.960007 ,  47.240005 ,   3.7500002]], dtype=float32)"
      ]
     },
     "execution_count": 29,
     "metadata": {},
     "output_type": "execute_result"
    }
   ],
   "source": [
    "positions = u.atoms.positions\n",
    "positions"
   ]
  },
  {
   "cell_type": "markdown",
   "metadata": {},
   "source": [
    "We'll also grab the center of mass of our atoms"
   ]
  },
  {
   "cell_type": "code",
   "execution_count": 30,
   "metadata": {},
   "outputs": [
    {
     "data": {
      "text/plain": [
       "array([59.9608713 , 40.33083385, 28.2843879 ])"
      ]
     },
     "execution_count": 30,
     "metadata": {},
     "output_type": "execute_result"
    }
   ],
   "source": [
    "com = u.atoms.center_of_mass()\n",
    "com"
   ]
  },
  {
   "cell_type": "code",
   "execution_count": 31,
   "metadata": {},
   "outputs": [
    {
     "data": {
      "text/plain": [
       "array(['MET', 'MET', 'MET', ..., 'NA+', 'NA+', 'NA+'], dtype=object)"
      ]
     },
     "execution_count": 31,
     "metadata": {},
     "output_type": "execute_result"
    }
   ],
   "source": [
    "resnames = u.atoms.resnames\n",
    "resnames"
   ]
  },
  {
   "cell_type": "code",
   "execution_count": 32,
   "metadata": {},
   "outputs": [
    {
     "data": {
      "text/plain": [
       "array([    1,     2,     3, ..., 47679, 47680, 47681])"
      ]
     },
     "execution_count": 32,
     "metadata": {},
     "output_type": "execute_result"
    }
   ],
   "source": [
    "atomids = u.atoms.ids\n",
    "atomids"
   ]
  },
  {
   "cell_type": "markdown",
   "metadata": {},
   "source": [
    "## Array arithmetic"
   ]
  },
  {
   "cell_type": "markdown",
   "metadata": {},
   "source": [
    "Arithmetic operations with arrays occur *element-wise*. Multiplying by 3 and subtracting 2 gives a new array with that operation performed on each element individually:"
   ]
  },
  {
   "cell_type": "code",
   "execution_count": 33,
   "metadata": {},
   "outputs": [
    {
     "data": {
      "text/plain": [
       "array([[154.06    , 128.68002 ,  92.65001 ],\n",
       "       [151.57    , 130.33    ,  93.16    ],\n",
       "       [152.65001 , 126.490005,  91.12    ],\n",
       "       ...,\n",
       "       [314.02002 , 220.21002 , 120.96999 ],\n",
       "       [171.04001 , 103.96    ,  42.4     ],\n",
       "       [186.88002 , 139.72002 ,   9.250001]], dtype=float32)"
      ]
     },
     "execution_count": 33,
     "metadata": {},
     "output_type": "execute_result"
    }
   ],
   "source": [
    "(positions * 3) - 2"
   ]
  },
  {
   "cell_type": "markdown",
   "metadata": {},
   "source": [
    "This allows us to write code treating an array as if it was a single number! For example, we could write an Angstrom to nm converter:"
   ]
  },
  {
   "cell_type": "code",
   "execution_count": 34,
   "metadata": {},
   "outputs": [],
   "source": [
    "def angstrom_to_nm(length):\n",
    "    return length / 10"
   ]
  },
  {
   "cell_type": "markdown",
   "metadata": {},
   "source": [
    "And this will work on an array as simply as it will on a single value:"
   ]
  },
  {
   "cell_type": "code",
   "execution_count": 35,
   "metadata": {},
   "outputs": [
    {
     "data": {
      "text/plain": [
       "2.0"
      ]
     },
     "execution_count": 35,
     "metadata": {},
     "output_type": "execute_result"
    }
   ],
   "source": [
    "angstrom_to_nm(20)"
   ]
  },
  {
   "cell_type": "code",
   "execution_count": 36,
   "metadata": {},
   "outputs": [
    {
     "data": {
      "text/plain": [
       "array([[ 5.202     ,  4.3560004 ,  3.1550002 ],\n",
       "       [ 5.1190004 ,  4.4110003 ,  3.1720002 ],\n",
       "       [ 5.155     ,  4.283     ,  3.104     ],\n",
       "       ...,\n",
       "       [10.534     ,  7.4070005 ,  4.099     ],\n",
       "       [ 5.768     ,  3.532     ,  1.48      ],\n",
       "       [ 6.2960005 ,  4.7240005 ,  0.37500003]], dtype=float32)"
      ]
     },
     "execution_count": 36,
     "metadata": {},
     "output_type": "execute_result"
    }
   ],
   "source": [
    "angstrom_to_nm(positions)"
   ]
  },
  {
   "cell_type": "markdown",
   "metadata": {},
   "source": [
    "Arithmetic between arrays is also element-wise. If we add two arrays of the same shape together, elements in the corresponding row-column are added to each other in the resulting array:"
   ]
  },
  {
   "cell_type": "code",
   "execution_count": 37,
   "metadata": {},
   "outputs": [
    {
     "data": {
      "text/plain": [
       "array([[ 52.02     ,  43.560005 ,  31.550003 ],\n",
       "       [ 51.190002 ,  44.11     ,  31.720001 ],\n",
       "       [ 51.550003 ,  42.83     ,  31.04     ],\n",
       "       ...,\n",
       "       [105.340004 ,  74.07001  ,  40.989998 ],\n",
       "       [ 57.68     ,  35.32     ,  14.8      ],\n",
       "       [ 62.960007 ,  47.240005 ,   3.7500002]], dtype=float32)"
      ]
     },
     "execution_count": 37,
     "metadata": {},
     "output_type": "execute_result"
    }
   ],
   "source": [
    "positions"
   ]
  },
  {
   "cell_type": "code",
   "execution_count": 38,
   "metadata": {},
   "outputs": [
    {
     "data": {
      "text/plain": [
       "array([[104.04     ,  87.12001  ,  63.100006 ],\n",
       "       [102.380005 ,  88.22     ,  63.440002 ],\n",
       "       [103.100006 ,  85.66     ,  62.08     ],\n",
       "       ...,\n",
       "       [210.68001  , 148.14001  ,  81.979996 ],\n",
       "       [115.36     ,  70.64     ,  29.6      ],\n",
       "       [125.92001  ,  94.48001  ,   7.5000005]], dtype=float32)"
      ]
     },
     "execution_count": 38,
     "metadata": {},
     "output_type": "execute_result"
    }
   ],
   "source": [
    "positions + positions"
   ]
  },
  {
   "cell_type": "markdown",
   "metadata": {},
   "source": [
    "This makes calculating quantities with arrays incredibly concise. It's not necessary to loop through the elements of an array in Python to calculate something with each element. Instead, we can treat an array as if it was a single quantity, and calculations are *fast*."
   ]
  },
  {
   "cell_type": "markdown",
   "metadata": {},
   "source": [
    "## Broadcasting"
   ]
  },
  {
   "cell_type": "markdown",
   "metadata": {},
   "source": [
    "Say we want to take our atom positions and center them on the center of mass of the whole system. Our array of positions has shape $n \\times 3$, with each row corresponding to an atom in the system, and each column to the $x$, $y$, and $z$ axes, respectively. We could do this in a loop:"
   ]
  },
  {
   "cell_type": "code",
   "execution_count": 39,
   "metadata": {},
   "outputs": [
    {
     "data": {
      "text/plain": [
       "array([[ -7.94087084,   3.22917134,   3.26561515],\n",
       "       [ -8.77086886,   3.77916676,   3.43561332],\n",
       "       [ -8.41086825,   2.49916798,   2.75561301],\n",
       "       ...,\n",
       "       [ 45.37913267,  33.73917347,  12.70560996],\n",
       "       [ -2.28087099,  -5.01083416, -13.48438771],\n",
       "       [  2.99913542,   6.90917164, -24.53438767]])"
      ]
     },
     "execution_count": 39,
     "metadata": {},
     "output_type": "execute_result"
    }
   ],
   "source": [
    "centered = np.empty(positions.shape)\n",
    "\n",
    "for i, row in enumerate(positions):\n",
    "    centered[i] = positions[i] - com\n",
    "\n",
    "centered"
   ]
  },
  {
   "cell_type": "markdown",
   "metadata": {},
   "source": [
    "However, looping through arrays should be avoided, as this negates much of the performance benefit of using `numpy` arrays in the first place. Instead, we can take advantage of a behavior known as *broadcasting*:"
   ]
  },
  {
   "cell_type": "code",
   "execution_count": 40,
   "metadata": {},
   "outputs": [],
   "source": [
    "centered = positions - com"
   ]
  },
  {
   "cell_type": "code",
   "execution_count": 41,
   "metadata": {},
   "outputs": [
    {
     "data": {
      "text/plain": [
       "array([[ -7.94087084,   3.22917134,   3.26561515],\n",
       "       [ -8.77086886,   3.77916676,   3.43561332],\n",
       "       [ -8.41086825,   2.49916798,   2.75561301],\n",
       "       ...,\n",
       "       [ 45.37913267,  33.73917347,  12.70560996],\n",
       "       [ -2.28087099,  -5.01083416, -13.48438771],\n",
       "       [  2.99913542,   6.90917164, -24.53438767]])"
      ]
     },
     "execution_count": 41,
     "metadata": {},
     "output_type": "execute_result"
    }
   ],
   "source": [
    "centered"
   ]
  },
  {
   "cell_type": "markdown",
   "metadata": {},
   "source": [
    "Here we performed an operation with the `com` array, which is 1-dimensional with size 3, and the `positions` array, which is 2-dimensional with sizes $n$ and $3$. The smaller array, `com`, is 'stretched' into what is effectively an $n \\times 3$ array, where its values are repeated in each row. The operation is then carried out. `numpy` internally does this efficiently in C code. \n",
    "\n",
    "The result is both syntactically simpler and computationally more efficient than our earlier attempt. Generally, broadcasting occurs on dimensions of size 1 in one of the two arrays involved in the operation, or when one of the arrays has more dimensions than the other, or both.\n",
    "\n",
    "See the [`numpy` documentation](https://docs.scipy.org/doc/numpy/user/basics.broadcasting.html) for a more detailed explanation."
   ]
  },
  {
   "cell_type": "markdown",
   "metadata": {},
   "source": [
    "## Indexing and slicing arrays"
   ]
  },
  {
   "cell_type": "markdown",
   "metadata": {},
   "source": [
    "There are times when we need to select a subset of the elements in an array to operate on. Consider our `positions` array:"
   ]
  },
  {
   "cell_type": "code",
   "execution_count": 42,
   "metadata": {},
   "outputs": [
    {
     "data": {
      "text/plain": [
       "array([[ 52.02     ,  43.560005 ,  31.550003 ],\n",
       "       [ 51.190002 ,  44.11     ,  31.720001 ],\n",
       "       [ 51.550003 ,  42.83     ,  31.04     ],\n",
       "       ...,\n",
       "       [105.340004 ,  74.07001  ,  40.989998 ],\n",
       "       [ 57.68     ,  35.32     ,  14.8      ],\n",
       "       [ 62.960007 ,  47.240005 ,   3.7500002]], dtype=float32)"
      ]
     },
     "execution_count": 42,
     "metadata": {},
     "output_type": "execute_result"
    }
   ],
   "source": [
    "positions"
   ]
  },
  {
   "cell_type": "markdown",
   "metadata": {},
   "source": [
    "As with other data structures in Python, `numpy` arrays use 0-based indexing, and we can select elements with square (`[]`) brackets. Selecting element 0 from this array gives the row at index 0 as an array, which corresponds to the coordinates of the first atom in our system:"
   ]
  },
  {
   "cell_type": "code",
   "execution_count": 43,
   "metadata": {},
   "outputs": [
    {
     "data": {
      "text/plain": [
       "array([52.02    , 43.560005, 31.550003], dtype=float32)"
      ]
     },
     "execution_count": 43,
     "metadata": {},
     "output_type": "execute_result"
    }
   ],
   "source": [
    "positions[0]"
   ]
  },
  {
   "cell_type": "markdown",
   "metadata": {},
   "source": [
    "If we want, say, the coordinates of the 23rd atom in our system, we could do:"
   ]
  },
  {
   "cell_type": "code",
   "execution_count": 44,
   "metadata": {},
   "outputs": [
    {
     "data": {
      "text/plain": [
       "array([55.36, 47.16, 32.68], dtype=float32)"
      ]
     },
     "execution_count": 44,
     "metadata": {},
     "output_type": "execute_result"
    }
   ],
   "source": [
    "positions[22]"
   ]
  },
  {
   "cell_type": "markdown",
   "metadata": {},
   "source": [
    "To select a single value from this two-dimensional array, we need to specify the column. We can obtain the $y$-position of the 23rd atom with:"
   ]
  },
  {
   "cell_type": "code",
   "execution_count": 45,
   "metadata": {},
   "outputs": [
    {
     "data": {
      "text/plain": [
       "47.16"
      ]
     },
     "execution_count": 45,
     "metadata": {},
     "output_type": "execute_result"
    }
   ],
   "source": [
    "positions[22, 1]"
   ]
  },
  {
   "cell_type": "markdown",
   "metadata": {},
   "source": [
    "We can select multiple elements with *slices*; for example, all rows starting with row 1 to the end of the array:"
   ]
  },
  {
   "cell_type": "code",
   "execution_count": 46,
   "metadata": {},
   "outputs": [
    {
     "data": {
      "text/plain": [
       "array([[ 51.190002 ,  44.11     ,  31.720001 ],\n",
       "       [ 51.550003 ,  42.83     ,  31.04     ],\n",
       "       [ 52.47     ,  43.170006 ,  32.370003 ],\n",
       "       ...,\n",
       "       [105.340004 ,  74.07001  ,  40.989998 ],\n",
       "       [ 57.68     ,  35.32     ,  14.8      ],\n",
       "       [ 62.960007 ,  47.240005 ,   3.7500002]], dtype=float32)"
      ]
     },
     "execution_count": 46,
     "metadata": {},
     "output_type": "execute_result"
    }
   ],
   "source": [
    "positions[1:]"
   ]
  },
  {
   "cell_type": "markdown",
   "metadata": {},
   "source": [
    "Or perhaps instead, row 1 *up to but not including* the 10th row:"
   ]
  },
  {
   "cell_type": "code",
   "execution_count": 47,
   "metadata": {},
   "outputs": [
    {
     "data": {
      "text/plain": [
       "array([[51.190002, 44.11    , 31.720001],\n",
       "       [51.550003, 42.83    , 31.04    ],\n",
       "       [52.47    , 43.170006, 32.370003],\n",
       "       [53.07    , 44.21    , 30.75    ],\n",
       "       [53.83    , 43.47    , 30.54    ],\n",
       "       [52.570004, 44.739998, 29.410002],\n",
       "       [51.89    , 44.04    , 28.93    ],\n",
       "       [52.02    , 45.64    , 29.66    ],\n",
       "       [53.710003, 45.11    , 28.45    ]], dtype=float32)"
      ]
     },
     "execution_count": 47,
     "metadata": {},
     "output_type": "execute_result"
    }
   ],
   "source": [
    "positions[1:10]"
   ]
  },
  {
   "cell_type": "markdown",
   "metadata": {},
   "source": [
    "We can slice the columns as well. The slicing below will select row 1 onward, but only elements in columns 0 up to and not including column 2 (leaving out the $z$-coordinate values):"
   ]
  },
  {
   "cell_type": "code",
   "execution_count": 48,
   "metadata": {},
   "outputs": [
    {
     "data": {
      "text/plain": [
       "array([[ 51.190002,  44.11    ],\n",
       "       [ 51.550003,  42.83    ],\n",
       "       [ 52.47    ,  43.170006],\n",
       "       ...,\n",
       "       [105.340004,  74.07001 ],\n",
       "       [ 57.68    ,  35.32    ],\n",
       "       [ 62.960007,  47.240005]], dtype=float32)"
      ]
     },
     "execution_count": 48,
     "metadata": {},
     "output_type": "execute_result"
    }
   ],
   "source": [
    "positions[1:, :2]"
   ]
  },
  {
   "cell_type": "markdown",
   "metadata": {},
   "source": [
    "As with e.g. `list`s, we can also use negative numbers to slice from the end of an array. The following yields coordinates for all atoms except for the last 10 in our system:"
   ]
  },
  {
   "cell_type": "code",
   "execution_count": 49,
   "metadata": {},
   "outputs": [
    {
     "data": {
      "text/plain": [
       "(47671, 3)"
      ]
     },
     "execution_count": 49,
     "metadata": {},
     "output_type": "execute_result"
    }
   ],
   "source": [
    "positions[:-10].shape"
   ]
  },
  {
   "cell_type": "markdown",
   "metadata": {},
   "source": [
    "Finally, we can give a third value to indicate the slicing's *skip* (default is 1, or no skip):"
   ]
  },
  {
   "cell_type": "code",
   "execution_count": 50,
   "metadata": {},
   "outputs": [
    {
     "data": {
      "text/plain": [
       "array([[ 52.02     ,  43.560005 ,  31.550003 ],\n",
       "       [ 51.550003 ,  42.83     ,  31.04     ],\n",
       "       [ 53.07     ,  44.21     ,  30.75     ],\n",
       "       ...,\n",
       "       [ 40.29     ,  29.160002 ,   4.6800003],\n",
       "       [105.340004 ,  74.07001  ,  40.989998 ],\n",
       "       [ 62.960007 ,  47.240005 ,   3.7500002]], dtype=float32)"
      ]
     },
     "execution_count": 50,
     "metadata": {},
     "output_type": "execute_result"
    }
   ],
   "source": [
    "positions[::2]"
   ]
  },
  {
   "cell_type": "markdown",
   "metadata": {},
   "source": [
    "This gives the coordinates for every other atom in the system."
   ]
  },
  {
   "cell_type": "markdown",
   "metadata": {},
   "source": [
    "### Challenge: create an array of shape (4, 5) starting with `np.arange(20)`, then obtain the mean value of elements in rows 1 and 2, inclusive, and columns 1 through 3, inclusive. These row and column numbers are zero-based."
   ]
  },
  {
   "cell_type": "markdown",
   "metadata": {},
   "source": [
    "We could do:"
   ]
  },
  {
   "cell_type": "code",
   "execution_count": 51,
   "metadata": {},
   "outputs": [
    {
     "data": {
      "text/plain": [
       "9.5"
      ]
     },
     "execution_count": 51,
     "metadata": {},
     "output_type": "execute_result"
    }
   ],
   "source": [
    "# create array with proper shape\n",
    "my_arr = np.arange(20).reshape(4, 5)\n",
    "\n",
    "# grab subselection of rows, columns\n",
    "subsel = my_arr[1:3, 1:4]\n",
    "\n",
    "# calculate mean\n",
    "subsel.mean()"
   ]
  },
  {
   "cell_type": "markdown",
   "metadata": {},
   "source": [
    "But we could also accomplish this in one line, since each method call/slice returns an array, and finally `mean` gives the single number as a result:"
   ]
  },
  {
   "cell_type": "code",
   "execution_count": 52,
   "metadata": {},
   "outputs": [
    {
     "data": {
      "text/plain": [
       "9.5"
      ]
     },
     "execution_count": 52,
     "metadata": {},
     "output_type": "execute_result"
    }
   ],
   "source": [
    "np.arange(20).reshape((4, -1))[1:3, 1:4].mean()"
   ]
  },
  {
   "cell_type": "markdown",
   "metadata": {},
   "source": [
    "`numpy` also features a function called `mean` which does the same thing as the array method:"
   ]
  },
  {
   "cell_type": "code",
   "execution_count": 53,
   "metadata": {},
   "outputs": [
    {
     "data": {
      "text/plain": [
       "9.5"
      ]
     },
     "execution_count": 53,
     "metadata": {},
     "output_type": "execute_result"
    }
   ],
   "source": [
    "np.mean(np.arange(20).reshape((4, -1))[1:3, 1:4])"
   ]
  },
  {
   "cell_type": "markdown",
   "metadata": {},
   "source": [
    "## Making arrays from scratch"
   ]
  },
  {
   "cell_type": "markdown",
   "metadata": {},
   "source": [
    "There are several ways we can create arrays with different contents, for different purposes. We've already seen how to make an array from a list or using `np.arange`, but here we point out some other useful ways of creating an array.\n",
    "\n",
    "If we want a 2-D array of a particular set of numbers, we can give the `np.array` function a list of lists:"
   ]
  },
  {
   "cell_type": "code",
   "execution_count": 54,
   "metadata": {},
   "outputs": [
    {
     "data": {
      "text/plain": [
       "array([[1, 2, 3],\n",
       "       [4, 5, 6]])"
      ]
     },
     "execution_count": 54,
     "metadata": {},
     "output_type": "execute_result"
    }
   ],
   "source": [
    "np.array([[1,2,3], [4, 5, 6]])"
   ]
  },
  {
   "cell_type": "markdown",
   "metadata": {},
   "source": [
    "`np.zeros` will create an array of all zeros with the specified shape:"
   ]
  },
  {
   "cell_type": "code",
   "execution_count": 55,
   "metadata": {},
   "outputs": [
    {
     "data": {
      "text/plain": [
       "array([0., 0., 0., 0., 0., 0., 0., 0., 0., 0., 0., 0., 0., 0., 0., 0., 0.,\n",
       "       0., 0., 0., 0., 0., 0., 0., 0., 0., 0., 0., 0., 0., 0., 0., 0., 0.,\n",
       "       0., 0., 0., 0., 0., 0., 0., 0., 0., 0., 0., 0., 0., 0., 0., 0., 0.,\n",
       "       0., 0., 0., 0., 0., 0., 0., 0., 0., 0., 0., 0., 0., 0., 0., 0., 0.,\n",
       "       0., 0., 0., 0., 0., 0., 0., 0., 0., 0., 0., 0., 0., 0., 0., 0., 0.,\n",
       "       0., 0., 0., 0., 0., 0., 0., 0., 0., 0., 0., 0., 0., 0., 0.])"
      ]
     },
     "execution_count": 55,
     "metadata": {},
     "output_type": "execute_result"
    }
   ],
   "source": [
    "np.zeros(100)"
   ]
  },
  {
   "cell_type": "markdown",
   "metadata": {},
   "source": [
    "Likewise, `np.ones` will give us all ones:"
   ]
  },
  {
   "cell_type": "code",
   "execution_count": 56,
   "metadata": {},
   "outputs": [
    {
     "data": {
      "text/plain": [
       "array([1., 1., 1., 1., 1., 1., 1., 1., 1., 1., 1., 1., 1., 1., 1., 1., 1.,\n",
       "       1., 1., 1., 1., 1., 1., 1., 1., 1., 1., 1., 1., 1., 1., 1., 1., 1.,\n",
       "       1., 1., 1., 1., 1., 1., 1., 1., 1., 1., 1., 1., 1., 1., 1., 1., 1.,\n",
       "       1., 1., 1., 1., 1., 1., 1., 1., 1., 1., 1., 1., 1., 1., 1., 1., 1.,\n",
       "       1., 1., 1., 1., 1., 1., 1., 1., 1., 1., 1., 1., 1., 1., 1., 1., 1.,\n",
       "       1., 1., 1., 1., 1., 1., 1., 1., 1., 1., 1., 1., 1., 1., 1.])"
      ]
     },
     "execution_count": 56,
     "metadata": {},
     "output_type": "execute_result"
    }
   ],
   "source": [
    "np.ones(100)"
   ]
  },
  {
   "cell_type": "markdown",
   "metadata": {},
   "source": [
    "`np.random` is a submodule that includes functions for sampling value from various probability distributions, for example, a [standard normal distribution](https://en.wikipedia.org/wiki/Normal_distribution#Standard_normal_distribution):"
   ]
  },
  {
   "cell_type": "code",
   "execution_count": 57,
   "metadata": {},
   "outputs": [
    {
     "data": {
      "text/plain": [
       "array([ 0.58322214, -0.58065383, -1.04591905, -0.99115132, -1.3807353 ,\n",
       "       -0.37314728, -0.24779561, -0.96395618, -1.79287373, -0.16919348,\n",
       "        1.40188946,  0.28293001,  0.25729575, -0.41696056,  0.23783154,\n",
       "       -0.05707562, -0.04991868,  1.98615564, -0.68417321, -0.67961047,\n",
       "       -0.10126913,  0.47632569,  0.38977636, -1.29554893,  1.38437527,\n",
       "       -0.42283048,  0.55107915, -0.05847931,  0.32497648,  0.10256992,\n",
       "       -0.69365455, -0.30147118,  0.73845444,  0.25704159,  1.02749006,\n",
       "        1.19232419, -0.48222507,  0.78814438,  0.32312217,  0.41408452,\n",
       "        0.39966598, -0.38679747,  1.52651631,  0.62777407, -0.76612068,\n",
       "       -0.15906198, -2.21024295, -1.39408724, -2.22149924,  0.18625566,\n",
       "       -0.86076357, -0.81879685,  0.15270418,  1.27359006,  0.77431448,\n",
       "        0.67550855,  1.49544588,  0.42051536,  0.37613034,  0.14517956,\n",
       "        0.44862189,  1.88764182, -1.05925085, -0.46039835, -1.01318963,\n",
       "        0.89765175,  1.52064298,  0.2522312 ,  1.09801112, -0.83479901,\n",
       "        0.7856047 ,  0.59988636, -0.06309675,  0.279518  ,  0.18712238,\n",
       "        1.3395759 , -2.14366573,  1.53565154, -0.01995468,  0.69088325,\n",
       "       -0.2110166 , -1.86604217,  0.85493482,  0.58879233, -1.10221125,\n",
       "       -1.39020621, -1.24840152,  1.80926585, -0.30507672, -0.3579654 ,\n",
       "        1.23327448, -1.30508963, -0.18453069,  1.19285248, -0.39441019,\n",
       "        0.10521234,  0.61610127,  0.26128745,  1.020602  ,  0.7340694 ])"
      ]
     },
     "execution_count": 57,
     "metadata": {},
     "output_type": "execute_result"
    }
   ],
   "source": [
    "np.random.randn(100)"
   ]
  },
  {
   "cell_type": "markdown",
   "metadata": {},
   "source": [
    "When using `MDAnalysis` you may not use these very often, but it's valuable to remember where to reach if/when you need to initialize an array of your own."
   ]
  },
  {
   "cell_type": "markdown",
   "metadata": {},
   "source": [
    "## Using boolean indexing to select values from arrays by criteria"
   ]
  },
  {
   "cell_type": "markdown",
   "metadata": {},
   "source": [
    "One of the most common operations when using `MDAnalysis` is to select items from our system according to some criteria. We can do quite a bit of this directly using `numpy` arrays, in particular with *boolean indexing*. We have our `resnames` array from earlier, giving the residue name for each atom in the system:"
   ]
  },
  {
   "cell_type": "code",
   "execution_count": 58,
   "metadata": {},
   "outputs": [
    {
     "data": {
      "text/plain": [
       "array(['MET', 'MET', 'MET', ..., 'NA+', 'NA+', 'NA+'], dtype=object)"
      ]
     },
     "execution_count": 58,
     "metadata": {},
     "output_type": "execute_result"
    }
   ],
   "source": [
    "resnames"
   ]
  },
  {
   "cell_type": "code",
   "execution_count": 59,
   "metadata": {},
   "outputs": [
    {
     "data": {
      "text/plain": [
       "(47681,)"
      ]
     },
     "execution_count": 59,
     "metadata": {},
     "output_type": "execute_result"
    }
   ],
   "source": [
    "resnames.shape"
   ]
  },
  {
   "cell_type": "markdown",
   "metadata": {},
   "source": [
    "If we wanted the positions of all atoms in the system that are members of glutamate residues, we could first get a *boolean index* of all atoms:"
   ]
  },
  {
   "cell_type": "code",
   "execution_count": 60,
   "metadata": {},
   "outputs": [
    {
     "data": {
      "text/plain": [
       "array([False, False, False, ..., False, False, False])"
      ]
     },
     "execution_count": 60,
     "metadata": {},
     "output_type": "execute_result"
    }
   ],
   "source": [
    "in_glutamate = (resnames == 'GLU')\n",
    "in_glutamate"
   ]
  },
  {
   "cell_type": "markdown",
   "metadata": {},
   "source": [
    "This is a `numpy` array of boolean values (`True` or `False`), where `True` indicates an atom that is part of a `'GLU'` residue. We can take this boolean array and use it as an index to, say, our `positions` array:"
   ]
  },
  {
   "cell_type": "code",
   "execution_count": 61,
   "metadata": {},
   "outputs": [
    {
     "data": {
      "text/plain": [
       "(270, 3)"
      ]
     },
     "execution_count": 61,
     "metadata": {},
     "output_type": "execute_result"
    }
   ],
   "source": [
    "pos_glu = positions[in_glutamate]\n",
    "pos_glu.shape"
   ]
  },
  {
   "cell_type": "markdown",
   "metadata": {},
   "source": [
    "This gives us the positions of only atoms found in `'GLU'` residues. What if we wanted atoms that are either in `'GLU'` or `'ALA'` residues?"
   ]
  },
  {
   "cell_type": "code",
   "execution_count": 62,
   "metadata": {},
   "outputs": [],
   "source": [
    "in_glu_or_ala = ((resnames == 'GLU') | (resnames == 'ALA'))"
   ]
  },
  {
   "cell_type": "code",
   "execution_count": 63,
   "metadata": {},
   "outputs": [
    {
     "data": {
      "text/plain": [
       "(460, 3)"
      ]
     },
     "execution_count": 63,
     "metadata": {},
     "output_type": "execute_result"
    }
   ],
   "source": [
    "pos_glu_or_ala = positions[in_glu_or_ala]\n",
    "pos_glu_or_ala.shape"
   ]
  },
  {
   "cell_type": "markdown",
   "metadata": {},
   "source": [
    "Here we made use of the bitwise-or operator (`|`) to build a numpy array that has `True` if either of the two statements is true. We can \"and\" two arrays together with a bitwise-and (`&`)."
   ]
  },
  {
   "cell_type": "markdown",
   "metadata": {},
   "source": [
    "### Challenge: get an array of all coordinates within 20 Angstroms of the center of mass of our adenylate kinase system"
   ]
  },
  {
   "cell_type": "markdown",
   "metadata": {},
   "source": [
    "We first calculate an array of distances from the center of mass, using the `positions` and `com` arrays:"
   ]
  },
  {
   "cell_type": "code",
   "execution_count": 68,
   "metadata": {},
   "outputs": [],
   "source": [
    "distances = ((positions - com)**2).sum(axis=1)"
   ]
  },
  {
   "cell_type": "markdown",
   "metadata": {},
   "source": [
    "We can then use this as a boolean index to the positions array:"
   ]
  },
  {
   "cell_type": "code",
   "execution_count": 69,
   "metadata": {},
   "outputs": [
    {
     "data": {
      "text/plain": [
       "array([[59.440002, 42.75    , 30.94    ],\n",
       "       [59.910004, 41.800003, 31.220001],\n",
       "       [58.      , 42.480003, 30.490002],\n",
       "       [57.620003, 43.430004, 30.130003],\n",
       "       [57.99    , 41.78    , 29.66    ],\n",
       "       [60.08    , 43.260002, 29.66    ],\n",
       "       [60.610004, 42.49    , 28.86    ],\n",
       "       [60.030003, 44.570004, 29.390001],\n",
       "       [59.030003, 44.300003, 26.470001],\n",
       "       [57.99    , 43.489998, 26.960001],\n",
       "       [57.520004, 43.730003, 27.900002],\n",
       "       [57.56    , 42.390003, 26.220001],\n",
       "       [56.670002, 41.870003, 26.520002],\n",
       "       [58.170006, 41.980003, 25.02    ],\n",
       "       [57.08    , 40.470005, 24.940002],\n",
       "       [62.970005, 41.260002, 31.060001],\n",
       "       [64.05    , 41.15    , 29.27    ],\n",
       "       [63.480003, 42.08    , 28.51    ],\n",
       "       [63.07    , 42.920002, 28.900002],\n",
       "       [63.700005, 42.16    , 27.080002],\n",
       "       [62.47    , 41.63    , 26.330002],\n",
       "       [61.530003, 42.120003, 26.580002],\n",
       "       [62.54    , 41.940002, 25.29    ],\n",
       "       [62.300003, 40.120003, 26.220001],\n",
       "       [61.790005, 39.89    , 25.28    ],\n",
       "       [63.21    , 39.52    , 26.160002],\n",
       "       [61.370003, 39.49    , 27.250002],\n",
       "       [61.57    , 38.43    , 27.12    ],\n",
       "       [61.620003, 39.780003, 28.27    ],\n",
       "       [59.910004, 39.82    , 26.910002],\n",
       "       [59.710003, 40.870003, 27.07    ],\n",
       "       [59.690002, 39.710003, 25.84    ],\n",
       "       [58.950005, 39.210003, 27.840002],\n",
       "       [59.010006, 39.53    , 28.79    ],\n",
       "       [58.050003, 39.46    , 27.45    ],\n",
       "       [59.090004, 38.21    , 27.830002],\n",
       "       [59.770004, 36.530003, 27.68    ],\n",
       "       [60.520004, 35.980003, 27.45    ],\n",
       "       [59.33    , 36.06    , 28.380001],\n",
       "       [59.810005, 36.4     , 27.740002],\n",
       "       [58.99    , 39.46    , 30.590002],\n",
       "       [58.880005, 38.510002, 30.720001],\n",
       "       [58.450005, 39.860004, 31.260002],\n",
       "       [58.910004, 39.39    , 30.690002],\n",
       "       [56.270004, 39.68    , 27.85    ],\n",
       "       [55.750004, 39.46    , 27.080002],\n",
       "       [55.620003, 39.910004, 28.520002],\n",
       "       [56.120003, 39.68    , 27.840002]], dtype=float32)"
      ]
     },
     "execution_count": 69,
     "metadata": {},
     "output_type": "execute_result"
    }
   ],
   "source": [
    "positions[distances < 20]"
   ]
  },
  {
   "cell_type": "markdown",
   "metadata": {},
   "source": [
    "## Advanced indexing"
   ]
  },
  {
   "cell_type": "markdown",
   "metadata": {},
   "source": [
    "The last form of indexing common when using `MDAnalysis` is so-called [advanced indexing](https://docs.scipy.org/doc/numpy/reference/arrays.indexing.html#advanced-indexing), also sometimes called \"fancy\" indexing. If instead of just single index value, we give a `list` of index values when indexing an array:"
   ]
  },
  {
   "cell_type": "code",
   "execution_count": 75,
   "metadata": {},
   "outputs": [
    {
     "data": {
      "text/plain": [
       "array([[51.190002, 44.11    , 31.720001],\n",
       "       [52.47    , 43.170006, 32.370003],\n",
       "       [53.83    , 43.47    , 30.54    ]], dtype=float32)"
      ]
     },
     "execution_count": 75,
     "metadata": {},
     "output_type": "execute_result"
    }
   ],
   "source": [
    "positions[[1, 3, 5]]"
   ]
  },
  {
   "cell_type": "markdown",
   "metadata": {},
   "source": [
    "What we get back is an array of those elements corresponding to the given indices, in order. Repeats are allowed:"
   ]
  },
  {
   "cell_type": "code",
   "execution_count": 77,
   "metadata": {},
   "outputs": [
    {
     "data": {
      "text/plain": [
       "array([[52.47    , 43.170006, 32.370003],\n",
       "       [52.47    , 43.170006, 32.370003],\n",
       "       [52.47    , 43.170006, 32.370003],\n",
       "       [51.190002, 44.11    , 31.720001]], dtype=float32)"
      ]
     },
     "execution_count": 77,
     "metadata": {},
     "output_type": "execute_result"
    }
   ],
   "source": [
    "positions[[3, 3, 3, 1]]"
   ]
  },
  {
   "cell_type": "markdown",
   "metadata": {},
   "source": [
    "This is useful when we know precisely which indices we want to select out of an existing array. There is no need to select each element from a set of indices in a loop. Even if you don't find you need it much, advanced indexing such as this is used heavily internal to `MDAnalysis` to make topology selection operations *fast*."
   ]
  },
  {
   "cell_type": "markdown",
   "metadata": {},
   "source": [
    "## Numpy arrays are the core of the scientific Python ecosystem"
   ]
  },
  {
   "cell_type": "markdown",
   "metadata": {},
   "source": [
    "MDAnalysis is just one of many tools that leverage `numpy` to great effect. Developing a solid grasp of `numpy` arrays will carry over to tools as wide-ranging as `pandas` for statistical data analysis and *scikit-learn* for training machine learning models. `numpy` sits at the core of all of these tools."
   ]
  }
 ],
 "metadata": {
  "kernelspec": {
   "display_name": "Python 3",
   "language": "python",
   "name": "python3"
  },
  "language_info": {
   "codemirror_mode": {
    "name": "ipython",
    "version": 3
   },
   "file_extension": ".py",
   "mimetype": "text/x-python",
   "name": "python",
   "nbconvert_exporter": "python",
   "pygments_lexer": "ipython3",
   "version": "3.6.6"
  }
 },
 "nbformat": 4,
 "nbformat_minor": 2
}
