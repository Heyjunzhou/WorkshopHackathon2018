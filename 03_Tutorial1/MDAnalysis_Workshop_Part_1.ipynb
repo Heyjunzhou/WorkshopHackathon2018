{
 "cells": [
  {
   "cell_type": "markdown",
   "metadata": {},
   "source": [
    "### This notebook introduces the fundamental objects of `MDAnalysis`:\n",
    "\n",
    " - the `Universe`,\n",
    " - `AtomGroup`, and `Atom` objects.\n",
    " - selecting and manipulating `AtomGroup`s\n",
    " - `Residue`s and `Segment`s\n",
    " - `Bond` `Angle` and `Dihedral`"
   ]
  },
  {
   "cell_type": "markdown",
   "metadata": {},
   "source": [
    "# 1. Fundamental objects\n",
    "\n",
    "## `Universes` and `AtomGroups`\n",
    "\n",
    "> \"If you wish to make an apple pie from scratch, you must first invent the Universe.\" \n",
    "\n",
    "> ~ Carl Sagan"
   ]
  },
  {
   "cell_type": "markdown",
   "metadata": {},
   "source": [
    "First, we need to import `MDAnalysis`, giving us access to all the components in its namespace:"
   ]
  },
  {
   "cell_type": "code",
   "execution_count": 3,
   "metadata": {},
   "outputs": [
    {
     "name": "stdout",
     "output_type": "stream",
     "text": [
      "0+unknown\n",
      "0.3.0+12.gcd6d613.dirty\n"
     ]
    }
   ],
   "source": [
    "import MDAnalysis as mda\n",
    "import MDAnalysisData as data\n",
    "print(mda.__version__)\n",
    "print(data.__version__)"
   ]
  },
  {
   "cell_type": "markdown",
   "metadata": {},
   "source": [
    "One of the most fundamental objects in the `MDAnalysis` data model is the `Universe` object.\n",
    "A `Universe` can be thought of as an interface to all the data of a simulation;\n",
    "it contains all of a simulations' topology information (names, charges, masses etc) at the least,\n",
    "but usually also includes trajectory information (positions, velocities etc) as well."
   ]
  },
  {
   "cell_type": "markdown",
   "metadata": {},
   "source": [
    "In order to do anything, we do need some actual molecular dynamics data to work with.\n",
    "You should have downloaded a dataset package for this workshop;\n",
    "Let's load a dataset."
   ]
  },
  {
   "cell_type": "code",
   "execution_count": 4,
   "metadata": {},
   "outputs": [
    {
     "name": "stdout",
     "output_type": "stream",
     "text": [
      ".. -*- coding: utf-8 -*-\n",
      "\n",
      ".. _`adk-equilibrium-dataset`:\n",
      "\n",
      "AdK equilibrium trajectory dataset\n",
      "==================================\n",
      "\n",
      "MD trajectory of apo adenylate kinase with CHARMM27 force field and\n",
      "simulated with explicit water and ions in NPT at 300 K and 1\n",
      "bar. Saved every 240 ps for a total of 1.004 µs. Produced on PSC\n",
      "Anton. The trajectory only contains the protein while all solvent was\n",
      "stripped in order to reduce the trajectory size. The whole protein was\n",
      "superimposed on the CORE domain of AdK by RMSD fitting.\n",
      "\n",
      "The topology is contained in the PSF file (CHARMM format). The\n",
      "trajectory is contained in the DCD file (CHARMM/NAMD format).\n",
      "\n",
      "\n",
      "Notes\n",
      "-----\n",
      "\n",
      "Data set characteristics:\n",
      "\n",
      " :size: 161 MB\n",
      " :number of trajectories: 1\n",
      " :number of frames:  4187\n",
      " :number of particles: 3341\n",
      " :creator: Sean Seyler\n",
      " :URL:  `10.6084/m9.figshare.5108170.v1 <https://doi.org/10.6084/m9.figshare.5108170.v1>`_\n",
      " :license: `CC-BY 4.0 <https://creativecommons.org/licenses/by/4.0/legalcode>`_\n",
      " :reference: [Seyler2017]_\n",
      "    \n",
      "\n",
      ".. [Seyler2017]  Seyler, Sean; Beckstein, Oliver (2017): Molecular dynamics\n",
      "\t   trajectory for benchmarking\n",
      "\t   MDAnalysis. figshare. Fileset. doi:\n",
      "\t   `10.6084/m9.figshare.5108170.v1\n",
      "\t   <https://doi.org/10.6084/m9.figshare.5108170.v1>`_\n",
      "\n",
      "\n"
     ]
    }
   ],
   "source": [
    "adk_dataset = data.datasets.fetch_adk_equilibrium()\n",
    "print(adk_dataset['DESCR'])"
   ]
  },
  {
   "cell_type": "markdown",
   "metadata": {},
   "source": [
    "To make a Universe, we need at the very least a topology file. We'll use one for a simulation system that includes adenylate kinase with the water removed:"
   ]
  },
  {
   "cell_type": "code",
   "execution_count": 5,
   "metadata": {},
   "outputs": [
    {
     "name": "stdout",
     "output_type": "stream",
     "text": [
      "<Universe with 3341 atoms>\n"
     ]
    }
   ],
   "source": [
    "u = mda.Universe(adk_dataset['topology'], adk_dataset['trajectory'])\n",
    "\n",
    "print(u)"
   ]
  },
  {
   "cell_type": "markdown",
   "metadata": {},
   "source": [
    "We now have a `Universe` object. Since the topology (PSF) file we loaded contained both atom identities and bond information, the `Universe` is able to access these details.\n",
    "\n",
    "We can access all atoms in the `Universe` through the `Universe.atoms` attribute.\n",
    "This returns an `AtomGroup` which is probably the most important class we will learn about."
   ]
  },
  {
   "cell_type": "code",
   "execution_count": 6,
   "metadata": {},
   "outputs": [
    {
     "data": {
      "text/plain": [
       "MDAnalysis.core.groups.AtomGroup"
      ]
     },
     "execution_count": 6,
     "metadata": {},
     "output_type": "execute_result"
    }
   ],
   "source": [
    "ag = u.atoms\n",
    "type(ag)"
   ]
  },
  {
   "cell_type": "markdown",
   "metadata": {},
   "source": [
    "We previously learnt about `numpy` arrays, which represent a series of numbers.\n",
    "\n",
    "An `AtomGroup` is like an array of atoms, and offers access to the data of these atoms through various attributes"
   ]
  },
  {
   "cell_type": "code",
   "execution_count": 7,
   "metadata": {},
   "outputs": [
    {
     "data": {
      "text/plain": [
       "array([   0,    1,    2, ..., 3338, 3339, 3340])"
      ]
     },
     "execution_count": 7,
     "metadata": {},
     "output_type": "execute_result"
    }
   ],
   "source": [
    "ag.indices"
   ]
  },
  {
   "cell_type": "code",
   "execution_count": 8,
   "metadata": {},
   "outputs": [
    {
     "data": {
      "text/plain": [
       "array(['N', 'HT1', 'HT2', ..., 'CA', 'HA1', 'HA2'], dtype=object)"
      ]
     },
     "execution_count": 8,
     "metadata": {},
     "output_type": "execute_result"
    }
   ],
   "source": [
    "ag.names"
   ]
  },
  {
   "cell_type": "code",
   "execution_count": 9,
   "metadata": {},
   "outputs": [
    {
     "data": {
      "text/plain": [
       "array(['MET', 'MET', 'MET', ..., 'GLY', 'GLY', 'GLY'], dtype=object)"
      ]
     },
     "execution_count": 9,
     "metadata": {},
     "output_type": "execute_result"
    }
   ],
   "source": [
    "ag.resnames"
   ]
  },
  {
   "cell_type": "code",
   "execution_count": 10,
   "metadata": {},
   "outputs": [
    {
     "data": {
      "text/plain": [
       "array([  1,   1,   1, ..., 214, 214, 214])"
      ]
     },
     "execution_count": 10,
     "metadata": {},
     "output_type": "execute_result"
    }
   ],
   "source": [
    "ag.resids"
   ]
  },
  {
   "cell_type": "code",
   "execution_count": 11,
   "metadata": {},
   "outputs": [
    {
     "data": {
      "text/plain": [
       "array([-0.30000001,  0.33000001,  0.33000001, ..., -0.02      ,\n",
       "        0.09      ,  0.09      ])"
      ]
     },
     "execution_count": 11,
     "metadata": {},
     "output_type": "execute_result"
    }
   ],
   "source": [
    "ag.charges"
   ]
  },
  {
   "cell_type": "code",
   "execution_count": 12,
   "metadata": {},
   "outputs": [
    {
     "data": {
      "text/plain": [
       "array([14.007,  1.008,  1.008, ..., 12.011,  1.008,  1.008])"
      ]
     },
     "execution_count": 12,
     "metadata": {},
     "output_type": "execute_result"
    }
   ],
   "source": [
    "ag.masses"
   ]
  },
  {
   "cell_type": "code",
   "execution_count": 13,
   "metadata": {},
   "outputs": [
    {
     "data": {
      "text/plain": [
       "array(['NH3', 'HC', 'HC', ..., 'CT2', 'HB', 'HB'], dtype=object)"
      ]
     },
     "execution_count": 13,
     "metadata": {},
     "output_type": "execute_result"
    }
   ],
   "source": [
    "ag.types"
   ]
  },
  {
   "cell_type": "markdown",
   "metadata": {},
   "source": [
    "All of these attributes of an `AtomGroup` return numpy arrays of the same length as the `AtomGroup` itself;\n",
    "that is, each element corresponds to each atom in the `AtomGroup`, in order.\n",
    "\n",
    "In general, `MDAnalysis` will try and extract as much information as possible from the files given to `Universe`."
   ]
  },
  {
   "cell_type": "markdown",
   "metadata": {},
   "source": [
    "## Working with individual atoms\n",
    "\n",
    "By slicing an `AtomGroup` we can access individual `Atom` objects.\n",
    "These `Atom` objects will have singular versions of the various attributes of `AtomGroup`s.\n",
    "\n",
    "In general working with individual `Atom` objects is discouraged as it is inefficient and will lead to poor performance."
   ]
  },
  {
   "cell_type": "code",
   "execution_count": 16,
   "metadata": {},
   "outputs": [
    {
     "name": "stdout",
     "output_type": "stream",
     "text": [
      "<Atom 1: N of type NH3 of resname MET, resid 1 and segid ADK>\n"
     ]
    }
   ],
   "source": [
    "a = u.atoms[0]\n",
    "print(a)"
   ]
  },
  {
   "cell_type": "code",
   "execution_count": 17,
   "metadata": {},
   "outputs": [
    {
     "name": "stdout",
     "output_type": "stream",
     "text": [
      "name: N\n",
      "resid: 1\n",
      "resname: MET\n"
     ]
    }
   ],
   "source": [
    "print(\"name:\", a.name)\n",
    "print(\"resid:\", a.resid)\n",
    "print(\"resname:\", a.resname)"
   ]
  },
  {
   "cell_type": "markdown",
   "metadata": {},
   "source": [
    "# 2. Selecting atoms\n",
    "\n",
    "It is also rare that we want to operate on all atoms in the system!\n",
    "\n",
    "`MDAnalysis` offers a few different ways to select atoms,\n",
    "in this section we will go over the most useful methods."
   ]
  },
  {
   "cell_type": "markdown",
   "metadata": {},
   "source": [
    "## 2.1 Numpy style selections\n",
    "\n",
    "As previously mentioned, an `AtomGroup` is like an array of atoms,\n",
    "and therefore we can slice it exactly like we would slice a `numpy` array\n",
    "\n",
    "### Fancy indexing\n",
    "\n",
    "The simplest option to select specific atom is to use fancy indexing. You can specify the atoms in a list"
   ]
  },
  {
   "cell_type": "code",
   "execution_count": 15,
   "metadata": {},
   "outputs": [
    {
     "data": {
      "text/plain": [
       "<AtomGroup with 4 atoms>"
      ]
     },
     "execution_count": 15,
     "metadata": {},
     "output_type": "execute_result"
    }
   ],
   "source": [
    "u.atoms[[1, 4, 5 , 0]]"
   ]
  },
  {
   "cell_type": "markdown",
   "metadata": {},
   "source": [
    "or as a range"
   ]
  },
  {
   "cell_type": "code",
   "execution_count": 16,
   "metadata": {},
   "outputs": [
    {
     "data": {
      "text/plain": [
       "<AtomGroup with 9 atoms>"
      ]
     },
     "execution_count": 16,
     "metadata": {},
     "output_type": "execute_result"
    }
   ],
   "source": [
    "u.atoms[1:10]"
   ]
  },
  {
   "cell_type": "markdown",
   "metadata": {},
   "source": [
    "### Boolean indexing\n",
    "\n",
    "You can also create an array with `True`/`False` values of the same length as the `AtomGroup`. Every atom for which the array is set to `True` will be selected.\n",
    "\n",
    "We can create such a boolean array by doing a comparison of a `numpy` array:"
   ]
  },
  {
   "cell_type": "code",
   "execution_count": 18,
   "metadata": {},
   "outputs": [
    {
     "name": "stdout",
     "output_type": "stream",
     "text": [
      "selection array =  [False False False ...  True  True  True]\n"
     ]
    },
    {
     "data": {
      "text/plain": [
       "<AtomGroup with 141 atoms>"
      ]
     },
     "execution_count": 18,
     "metadata": {},
     "output_type": "execute_result"
    }
   ],
   "source": [
    "selection_ar = u.atoms.resnames == 'GLY'\n",
    "print(\"selection array = \", selection_ar)\n",
    "u.atoms[selection_ar]"
   ]
  },
  {
   "cell_type": "markdown",
   "metadata": {},
   "source": [
    "or shorter:"
   ]
  },
  {
   "cell_type": "code",
   "execution_count": 19,
   "metadata": {},
   "outputs": [
    {
     "data": {
      "text/plain": [
       "<AtomGroup with 141 atoms>"
      ]
     },
     "execution_count": 19,
     "metadata": {},
     "output_type": "execute_result"
    }
   ],
   "source": [
    "u.atoms[u.atoms.resnames == 'GLY']"
   ]
  },
  {
   "cell_type": "markdown",
   "metadata": {},
   "source": [
    "## 2.2 Selection Strings and `select_atoms`\n",
    "\n",
    "We've already seen that complex selections can be performed on `AtomGroups` using numpy style indexing.\n",
    "However, `MDAnalysis` also features a CHARMM-style atom selection mechanism that is often more convenient.\n",
    "We can consult the docstring for `select_atoms` to see the available selection keywords"
   ]
  },
  {
   "cell_type": "code",
   "execution_count": 20,
   "metadata": {},
   "outputs": [],
   "source": [
    "u.atoms.select_atoms?"
   ]
  },
  {
   "cell_type": "markdown",
   "metadata": {},
   "source": [
    "Although boolean selections work well enough for selecting out atoms from AtomGroups, the selection language makes more complex selections possible with probably less effort. For example, we can selections of the "
   ]
  },
  {
   "cell_type": "code",
   "execution_count": 22,
   "metadata": {},
   "outputs": [
    {
     "data": {
      "text/plain": [
       "<AtomGroup with 474 atoms>"
      ]
     },
     "execution_count": 22,
     "metadata": {},
     "output_type": "execute_result"
    }
   ],
   "source": [
    "acidic = u.select_atoms(\"resname GLU or resname ASP\")\n",
    "acidic"
   ]
  },
  {
   "cell_type": "markdown",
   "metadata": {},
   "source": [
    "For name like selections, we can use the `*` symbol to indicate a wildcard selection.\n",
    "\n",
    "Here for example `name OD*` would select `OD1, OD2, OD3` etc"
   ]
  },
  {
   "cell_type": "code",
   "execution_count": 23,
   "metadata": {},
   "outputs": [
    {
     "data": {
      "text/plain": [
       "<AtomGroup with 70 atoms>"
      ]
     },
     "execution_count": 23,
     "metadata": {},
     "output_type": "execute_result"
    }
   ],
   "source": [
    "acidic_o = acidic.select_atoms('name OD* or name OE*')\n",
    "acidic_o"
   ]
  },
  {
   "cell_type": "markdown",
   "metadata": {},
   "source": [
    "As a shortcut, multiple values can be given and these will be implicitly OR'd together.\n",
    "For example to select all atoms with name NZ OR NH* in residues named LYS or ARG:"
   ]
  },
  {
   "cell_type": "code",
   "execution_count": 24,
   "metadata": {},
   "outputs": [
    {
     "data": {
      "text/plain": [
       "<AtomGroup with 44 atoms>"
      ]
     },
     "execution_count": 24,
     "metadata": {},
     "output_type": "execute_result"
    }
   ],
   "source": [
    "basic_n = u.select_atoms(\"(resname LYS ARG) and (name NZ NH*)\")\n",
    "basic_n"
   ]
  },
  {
   "cell_type": "markdown",
   "metadata": {},
   "source": [
    "### Geometric selections\n",
    "\n",
    "The `select_atoms` method also has various geometric keywords that make selecting atoms based on geometric criteria much easier.\n",
    "\n",
    "If we want only residues that are involved in salt bridges, we can use our `AtomGroups` as part of additional selections. We can also use the `around` selection operator to specify only atoms within 4 angstroms. At the end we can get the full residues back."
   ]
  },
  {
   "cell_type": "code",
   "execution_count": 25,
   "metadata": {},
   "outputs": [],
   "source": [
    "acidic = u.select_atoms(\"group acidic and around 4 group basic\", acidic=acidic_o, basic=basic_n)\n",
    "basic = u.select_atoms(\"group basic and around 4 group acidic\", acidic=acidic_o, basic=basic_n)"
   ]
  },
  {
   "cell_type": "code",
   "execution_count": 26,
   "metadata": {},
   "outputs": [
    {
     "data": {
      "text/plain": [
       "<AtomGroup with 20 atoms>"
      ]
     },
     "execution_count": 26,
     "metadata": {},
     "output_type": "execute_result"
    }
   ],
   "source": [
    "acidic"
   ]
  },
  {
   "cell_type": "markdown",
   "metadata": {},
   "source": [
    "## 2.3 Set operations\n",
    "\n",
    "`AtomGroup`s can also be combined using `&` for \"and\" and `|` for \"or\":"
   ]
  },
  {
   "cell_type": "code",
   "execution_count": 29,
   "metadata": {},
   "outputs": [
    {
     "name": "stdout",
     "output_type": "stream",
     "text": [
      "1656 312\n",
      "143\n"
     ]
    }
   ],
   "source": [
    "heavy = u.atoms[u.atoms.masses > 10]\n",
    "arg = u.atoms[u.atoms.resnames == 'ARG']\n",
    "print(len(heavy), len(arg))\n",
    "print(len(heavy & arg))"
   ]
  },
  {
   "cell_type": "markdown",
   "metadata": {},
   "source": [
    "These two selections are identical:"
   ]
  },
  {
   "cell_type": "code",
   "execution_count": 31,
   "metadata": {},
   "outputs": [
    {
     "data": {
      "text/plain": [
       "True"
      ]
     },
     "execution_count": 31,
     "metadata": {},
     "output_type": "execute_result"
    }
   ],
   "source": [
    "ag1 = u.atoms.select_atoms('resname LYS ARG')\n",
    "\n",
    "ag2 = u.atoms.select_atoms('resname LYS') | u.atoms.select_atoms('resname ARG')\n",
    "\n",
    "ag1 == ag2"
   ]
  },
  {
   "cell_type": "markdown",
   "metadata": {},
   "source": [
    "We can also "
   ]
  },
  {
   "cell_type": "code",
   "execution_count": 34,
   "metadata": {},
   "outputs": [
    {
     "data": {
      "text/plain": [
       "True"
      ]
     },
     "execution_count": 34,
     "metadata": {},
     "output_type": "execute_result"
    }
   ],
   "source": [
    "no_H = u.atoms.select_atoms('resname LYS ARG and not name H*')\n",
    "\n",
    "no_H == u.atoms.select_atoms('resname LYS ARG') - u.atoms.select_atoms('name H*')"
   ]
  },
  {
   "cell_type": "markdown",
   "metadata": {},
   "source": [
    "By design, an `AtomGroup` can have repeats of the same atom, for example through this selection:"
   ]
  },
  {
   "cell_type": "code",
   "execution_count": 36,
   "metadata": {},
   "outputs": [
    {
     "data": {
      "text/plain": [
       "<AtomGroup with 7 atoms>"
      ]
     },
     "execution_count": 36,
     "metadata": {},
     "output_type": "execute_result"
    }
   ],
   "source": [
    "ag = u.atoms[[0, 0, 1, 2, 4, 4, 5]]\n",
    "ag"
   ]
  },
  {
   "cell_type": "markdown",
   "metadata": {},
   "source": [
    "The `unique` property will return a version of the `AtomGroup` with only one of each Atom:"
   ]
  },
  {
   "cell_type": "code",
   "execution_count": 35,
   "metadata": {},
   "outputs": [
    {
     "data": {
      "text/plain": [
       "<AtomGroup with 5 atoms>"
      ]
     },
     "execution_count": 35,
     "metadata": {},
     "output_type": "execute_result"
    }
   ],
   "source": [
    "ag.unique"
   ]
  },
  {
   "cell_type": "markdown",
   "metadata": {},
   "source": [
    "### Challenge: count the number of glycine residues in the protein"
   ]
  },
  {
   "cell_type": "code",
   "execution_count": 21,
   "metadata": {},
   "outputs": [],
   "source": [
    "import numpy as np"
   ]
  },
  {
   "cell_type": "code",
   "execution_count": 22,
   "metadata": {},
   "outputs": [],
   "source": [
    "r = u.atoms[u.atoms.resnames == 'GLY'].resids"
   ]
  },
  {
   "cell_type": "code",
   "execution_count": 23,
   "metadata": {},
   "outputs": [
    {
     "data": {
      "text/plain": [
       "20"
      ]
     },
     "execution_count": 23,
     "metadata": {},
     "output_type": "execute_result"
    }
   ],
   "source": [
    "len(np.unique(r))"
   ]
  },
  {
   "cell_type": "markdown",
   "metadata": {},
   "source": [
    "# 3. `ResidueGroups` and `SegmentGroups`"
   ]
  },
  {
   "cell_type": "markdown",
   "metadata": {},
   "source": [
    "The `Universe` also gives higher-order topology objects, including `ResidueGroups` and `SegmentGroups`. We can access all residues in the `Universe` with:"
   ]
  },
  {
   "cell_type": "code",
   "execution_count": 24,
   "metadata": {},
   "outputs": [
    {
     "data": {
      "text/plain": [
       "<ResidueGroup with 214 residues>"
      ]
     },
     "execution_count": 24,
     "metadata": {},
     "output_type": "execute_result"
    }
   ],
   "source": [
    "u.residues"
   ]
  },
  {
   "cell_type": "markdown",
   "metadata": {},
   "source": [
    "And all segments with:"
   ]
  },
  {
   "cell_type": "code",
   "execution_count": 25,
   "metadata": {},
   "outputs": [
    {
     "data": {
      "text/plain": [
       "<SegmentGroup with 1 segment>"
      ]
     },
     "execution_count": 25,
     "metadata": {},
     "output_type": "execute_result"
    }
   ],
   "source": [
    "u.segments"
   ]
  },
  {
   "cell_type": "markdown",
   "metadata": {},
   "source": [
    "`ResidueGroups` and `SegmentGroups` also behave similarly to `AtomGroups`, with many of their methods returning `numpy` arrays with each element corresponding to a single residue or segment, respectively."
   ]
  },
  {
   "cell_type": "code",
   "execution_count": 26,
   "metadata": {},
   "outputs": [
    {
     "data": {
      "text/plain": [
       "array(['MET', 'ARG', 'ILE', 'ILE', 'LEU', 'LEU', 'GLY', 'ALA', 'PRO',\n",
       "       'GLY', 'ALA', 'GLY', 'LYS', 'GLY', 'THR', 'GLN', 'ALA', 'GLN',\n",
       "       'PHE', 'ILE', 'MET', 'GLU', 'LYS', 'TYR', 'GLY', 'ILE', 'PRO',\n",
       "       'GLN', 'ILE', 'SER', 'THR', 'GLY', 'ASP', 'MET', 'LEU', 'ARG',\n",
       "       'ALA', 'ALA', 'VAL', 'LYS', 'SER', 'GLY', 'SER', 'GLU', 'LEU',\n",
       "       'GLY', 'LYS', 'GLN', 'ALA', 'LYS', 'ASP', 'ILE', 'MET', 'ASP',\n",
       "       'ALA', 'GLY', 'LYS', 'LEU', 'VAL', 'THR', 'ASP', 'GLU', 'LEU',\n",
       "       'VAL', 'ILE', 'ALA', 'LEU', 'VAL', 'LYS', 'GLU', 'ARG', 'ILE',\n",
       "       'ALA', 'GLN', 'GLU', 'ASP', 'CYS', 'ARG', 'ASN', 'GLY', 'PHE',\n",
       "       'LEU', 'LEU', 'ASP', 'GLY', 'PHE', 'PRO', 'ARG', 'THR', 'ILE',\n",
       "       'PRO', 'GLN', 'ALA', 'ASP', 'ALA', 'MET', 'LYS', 'GLU', 'ALA',\n",
       "       'GLY', 'ILE', 'ASN', 'VAL', 'ASP', 'TYR', 'VAL', 'LEU', 'GLU',\n",
       "       'PHE', 'ASP', 'VAL', 'PRO', 'ASP', 'GLU', 'LEU', 'ILE', 'VAL',\n",
       "       'ASP', 'ARG', 'ILE', 'VAL', 'GLY', 'ARG', 'ARG', 'VAL', 'HSE',\n",
       "       'ALA', 'PRO', 'SER', 'GLY', 'ARG', 'VAL', 'TYR', 'HSE', 'VAL',\n",
       "       'LYS', 'PHE', 'ASN', 'PRO', 'PRO', 'LYS', 'VAL', 'GLU', 'GLY',\n",
       "       'LYS', 'ASP', 'ASP', 'VAL', 'THR', 'GLY', 'GLU', 'GLU', 'LEU',\n",
       "       'THR', 'THR', 'ARG', 'LYS', 'ASP', 'ASP', 'GLN', 'GLU', 'GLU',\n",
       "       'THR', 'VAL', 'ARG', 'LYS', 'ARG', 'LEU', 'VAL', 'GLU', 'TYR',\n",
       "       'HSE', 'GLN', 'MET', 'THR', 'ALA', 'PRO', 'LEU', 'ILE', 'GLY',\n",
       "       'TYR', 'TYR', 'SER', 'LYS', 'GLU', 'ALA', 'GLU', 'ALA', 'GLY',\n",
       "       'ASN', 'THR', 'LYS', 'TYR', 'ALA', 'LYS', 'VAL', 'ASP', 'GLY',\n",
       "       'THR', 'LYS', 'PRO', 'VAL', 'ALA', 'GLU', 'VAL', 'ARG', 'ALA',\n",
       "       'ASP', 'LEU', 'GLU', 'LYS', 'ILE', 'LEU', 'GLY'], dtype=object)"
      ]
     },
     "execution_count": 26,
     "metadata": {},
     "output_type": "execute_result"
    }
   ],
   "source": [
    "u.residues.resnames"
   ]
  },
  {
   "cell_type": "code",
   "execution_count": 27,
   "metadata": {},
   "outputs": [
    {
     "data": {
      "text/plain": [
       "array(['ADK'], dtype=object)"
      ]
     },
     "execution_count": 27,
     "metadata": {},
     "output_type": "execute_result"
    }
   ],
   "source": [
    "u.segments.segids"
   ]
  },
  {
   "cell_type": "markdown",
   "metadata": {},
   "source": [
    "We can more easily get the number of glycine residues using a `ResidueGroup`."
   ]
  },
  {
   "cell_type": "code",
   "execution_count": 35,
   "metadata": {},
   "outputs": [
    {
     "data": {
      "text/plain": [
       "20"
      ]
     },
     "execution_count": 35,
     "metadata": {},
     "output_type": "execute_result"
    }
   ],
   "source": [
    "u.residues[u.residues.resnames == 'GLY'].n_residues"
   ]
  },
  {
   "cell_type": "markdown",
   "metadata": {},
   "source": [
    "or perhaps more Pythonic:"
   ]
  },
  {
   "cell_type": "code",
   "execution_count": 36,
   "metadata": {},
   "outputs": [
    {
     "data": {
      "text/plain": [
       "20"
      ]
     },
     "execution_count": 36,
     "metadata": {},
     "output_type": "execute_result"
    }
   ],
   "source": [
    "len(u.residues[u.residues.resnames == 'GLY'])"
   ]
  },
  {
   "cell_type": "markdown",
   "metadata": {},
   "source": [
    "# 4. Accessing coordinates\n",
    "\n",
    "The most important attribute of your atoms is undoubtedly their positions!\n",
    "\n",
    "Again, the position information is made available via an `AtomGroup` in the `.positions` attribute:"
   ]
  },
  {
   "cell_type": "code",
   "execution_count": 37,
   "metadata": {},
   "outputs": [
    {
     "data": {
      "text/plain": [
       "array([[ 2.8706636, 10.604456 ,  9.750288 ],\n",
       "       [ 3.109205 , 11.324709 ,  9.038997 ],\n",
       "       [ 3.7460954, 10.243008 , 10.179911 ],\n",
       "       ...,\n",
       "       [-7.499353 , 10.892199 , 12.3347645],\n",
       "       [-6.5965843, 10.8342705, 12.924728 ],\n",
       "       [-8.348269 , 10.599268 , 12.934707 ]], dtype=float32)"
      ]
     },
     "execution_count": 37,
     "metadata": {},
     "output_type": "execute_result"
    }
   ],
   "source": [
    "u.atoms.positions"
   ]
  },
  {
   "cell_type": "markdown",
   "metadata": {},
   "source": [
    "This returns a `numpy` array, which can be manipulated as you have previously learnt."
   ]
  },
  {
   "cell_type": "markdown",
   "metadata": {},
   "source": [
    "### Challenge: calculate the center of geometry of the C$_\\alpha$ atoms"
   ]
  },
  {
   "cell_type": "code",
   "execution_count": 38,
   "metadata": {},
   "outputs": [
    {
     "data": {
      "text/plain": [
       "array([ 1.0424447,  2.2344341, -5.152382 ], dtype=float32)"
      ]
     },
     "execution_count": 38,
     "metadata": {},
     "output_type": "execute_result"
    }
   ],
   "source": [
    "u.atoms[u.atoms.names == 'CA'].positions.mean(axis=0)"
   ]
  },
  {
   "cell_type": "markdown",
   "metadata": {},
   "source": [
    "Alternatively, we have a builtin for this:"
   ]
  },
  {
   "cell_type": "code",
   "execution_count": 39,
   "metadata": {},
   "outputs": [
    {
     "data": {
      "text/plain": [
       "array([ 1.04244519,  2.23443222, -5.15238301])"
      ]
     },
     "execution_count": 39,
     "metadata": {},
     "output_type": "execute_result"
    }
   ],
   "source": [
    "u.atoms[u.atoms.names == 'CA'].centroid()"
   ]
  },
  {
   "cell_type": "markdown",
   "metadata": {},
   "source": [
    "## 4.1 Trajectory manipulation\n",
    "\n",
    "Only a single frame of trajectory information is accessible from an `AtomGroup` at any one time,\n",
    "a `Universe` is created with the first frame of trajectory information loaded.\n",
    "\n",
    "To access data from a different frame, we must manipulate the `Universe.trajectory` object."
   ]
  },
  {
   "cell_type": "code",
   "execution_count": 46,
   "metadata": {},
   "outputs": [
    {
     "data": {
      "text/plain": [
       "<DCDReader /Users/richardgowers/MDAnalysis_data/adk_equilibrium/1ake_007-nowater-core-dt240ps.dcd with 4187 frames of 3341 atoms>"
      ]
     },
     "execution_count": 46,
     "metadata": {},
     "output_type": "execute_result"
    }
   ],
   "source": [
    "u.trajectory"
   ]
  },
  {
   "cell_type": "markdown",
   "metadata": {},
   "source": [
    "By slicing the `.trajectory` attribute of a `Universe`, we change the currently loaded frame"
   ]
  },
  {
   "cell_type": "code",
   "execution_count": 49,
   "metadata": {},
   "outputs": [
    {
     "name": "stdout",
     "output_type": "stream",
     "text": [
      "< Timestep 1 with unit cell dimensions [85.69929 85.69929 85.69929 90.      90.      90.     ] >\n",
      "< Timestep 24 with unit cell dimensions [85.72862 85.72862 85.72862 90.      90.      90.     ] >\n"
     ]
    }
   ],
   "source": [
    "print(u.trajectory[1])\n",
    "print(u.trajectory[24])"
   ]
  },
  {
   "cell_type": "markdown",
   "metadata": {},
   "source": [
    "After we have changed the currently loaded frame, the data we access from an `AtomGroup` will now correspond to the data from that frame:"
   ]
  },
  {
   "cell_type": "code",
   "execution_count": 52,
   "metadata": {},
   "outputs": [
    {
     "name": "stdout",
     "output_type": "stream",
     "text": [
      "[1.7000737 5.001091  7.855839 ]\n",
      "[2.6505709 4.418251  8.170883 ]\n",
      "[2.2835758 4.4647355 8.492147 ]\n"
     ]
    }
   ],
   "source": [
    "atom = u.atoms[42]\n",
    "\n",
    "u.trajectory[0]\n",
    "print(atom.position)\n",
    "\n",
    "u.trajectory[1]\n",
    "print(atom.position)\n",
    "\n",
    "u.trajectory[2]\n",
    "print(atom.position)"
   ]
  },
  {
   "cell_type": "markdown",
   "metadata": {},
   "source": [
    "A more common pattern for moving through the trajectory data is to slice the `.trajectory` object inside a `for` loop:"
   ]
  },
  {
   "cell_type": "code",
   "execution_count": 53,
   "metadata": {},
   "outputs": [
    {
     "name": "stdout",
     "output_type": "stream",
     "text": [
      "[1.7000737 5.001091  7.855839 ]\n",
      "[2.6505709 4.418251  8.170883 ]\n",
      "[2.2835758 4.4647355 8.492147 ]\n",
      "[2.2192698 4.3338423 8.107021 ]\n",
      "[2.5894134 4.7559743 8.439111 ]\n"
     ]
    }
   ],
   "source": [
    "for ts in u.trajectory[:5]:\n",
    "    print(atom.position)"
   ]
  },
  {
   "cell_type": "markdown",
   "metadata": {},
   "source": [
    "The trajectory can be sliced in any way that a `numpy` array or `AtomGroup` can be sliced, for example:"
   ]
  },
  {
   "cell_type": "code",
   "execution_count": 54,
   "metadata": {},
   "outputs": [],
   "source": [
    "for ts in u.trajectory[::10]:  # every 10th frame\n",
    "    pass\n",
    "\n",
    "for ts in u.trajectory[[0, 5, 17]]: # pick out individual frames\n",
    "    pass"
   ]
  },
  {
   "cell_type": "markdown",
   "metadata": {},
   "source": [
    "## Challenges\n",
    "\n",
    "- #### How could you iterate through the trajectory backwards?\n",
    "\n",
    "\n",
    "- #### How could you slice the trajectory to correspond to when the system time is after 600 ps?"
   ]
  },
  {
   "cell_type": "markdown",
   "metadata": {},
   "source": [
    "## 4.2 The `Timestep` object\n",
    "\n",
    "When the trajectory is sliced, it returns a `Timestep` object.\n",
    "This object represents the data in the currently loaded trajectory frame.\n",
    "\n",
    "It has some useful attributes such as:"
   ]
  },
  {
   "cell_type": "code",
   "execution_count": 63,
   "metadata": {},
   "outputs": [
    {
     "name": "stdout",
     "output_type": "stream",
     "text": [
      "10\n",
      "2400.0000489999024\n",
      "240.00000489999024\n",
      "False\n"
     ]
    }
   ],
   "source": [
    "ts = u.trajectory[10]\n",
    "\n",
    "print(ts.frame)\n",
    "\n",
    "print(ts.time)\n",
    "\n",
    "print(u.trajectory.dt)\n",
    "\n",
    "print(ts.has_velocities)"
   ]
  },
  {
   "cell_type": "markdown",
   "metadata": {},
   "source": [
    "# 5 Bonds, angles, and dihedrals\n",
    "\n",
    "We can also get at connectivity information between atoms, such as bonds, angles, and dihedrals "
   ]
  },
  {
   "cell_type": "code",
   "execution_count": 41,
   "metadata": {},
   "outputs": [
    {
     "data": {
      "text/plain": [
       "<TopologyGroup containing 3365 bonds>"
      ]
     },
     "execution_count": 41,
     "metadata": {},
     "output_type": "execute_result"
    }
   ],
   "source": [
    "u.atoms.bonds"
   ]
  },
  {
   "cell_type": "code",
   "execution_count": 42,
   "metadata": {},
   "outputs": [
    {
     "data": {
      "text/plain": [
       "<TopologyGroup containing 6123 angles>"
      ]
     },
     "execution_count": 42,
     "metadata": {},
     "output_type": "execute_result"
    }
   ],
   "source": [
    "u.atoms.angles"
   ]
  },
  {
   "cell_type": "code",
   "execution_count": 43,
   "metadata": {},
   "outputs": [
    {
     "data": {
      "text/plain": [
       "<TopologyGroup containing 8921 dihedrals>"
      ]
     },
     "execution_count": 43,
     "metadata": {},
     "output_type": "execute_result"
    }
   ],
   "source": [
    "u.atoms.dihedrals"
   ]
  },
  {
   "cell_type": "code",
   "execution_count": 38,
   "metadata": {},
   "outputs": [
    {
     "data": {
      "text/plain": [
       "<Bond between: Atom 0, Atom 4>"
      ]
     },
     "execution_count": 38,
     "metadata": {},
     "output_type": "execute_result"
    }
   ],
   "source": [
    "u.bonds[3]"
   ]
  },
  {
   "cell_type": "markdown",
   "metadata": {},
   "source": [
    "Want the actual value?"
   ]
  },
  {
   "cell_type": "code",
   "execution_count": 39,
   "metadata": {},
   "outputs": [
    {
     "data": {
      "text/plain": [
       "1.4905602"
      ]
     },
     "execution_count": 39,
     "metadata": {},
     "output_type": "execute_result"
    }
   ],
   "source": [
    "u.bonds[3].value()"
   ]
  },
  {
   "cell_type": "code",
   "execution_count": 81,
   "metadata": {},
   "outputs": [],
   "source": [
    "no_H_types = [t for t in u.dihedrals.types()\n",
    "              if not any(entry.startswith('H') for entry in t)]"
   ]
  },
  {
   "cell_type": "code",
   "execution_count": 85,
   "metadata": {},
   "outputs": [
    {
     "data": {
      "text/plain": [
       "(183, ('O', 'C', 'NH1', 'CT1'))"
      ]
     },
     "execution_count": 85,
     "metadata": {},
     "output_type": "execute_result"
    }
   ],
   "source": [
    "max((len(u.dihedrals.select_bonds(t)), t) for t in no_H_types)"
   ]
  },
  {
   "cell_type": "code",
   "execution_count": 92,
   "metadata": {},
   "outputs": [],
   "source": [
    "dihs = u.dihedrals.select_bonds(('O', 'C', 'NH1', 'CT1'))"
   ]
  },
  {
   "cell_type": "code",
   "execution_count": 95,
   "metadata": {},
   "outputs": [],
   "source": [
    "from MDAnalysis.lib.distances import calc_angles"
   ]
  },
  {
   "cell_type": "code",
   "execution_count": 100,
   "metadata": {},
   "outputs": [],
   "source": [
    "a1 = calc_angles(dihs.atom1.positions, dihs.atom2.positions, dihs.atom3.positions, box=u.dimensions)\n",
    "a2 = calc_angles(dihs.atom2.positions, dihs.atom3.positions, dihs.atom4.positions, box=u.dimensions)"
   ]
  },
  {
   "cell_type": "code",
   "execution_count": 103,
   "metadata": {},
   "outputs": [
    {
     "data": {
      "application/javascript": [
       "/* Put everything inside the global mpl namespace */\n",
       "window.mpl = {};\n",
       "\n",
       "\n",
       "mpl.get_websocket_type = function() {\n",
       "    if (typeof(WebSocket) !== 'undefined') {\n",
       "        return WebSocket;\n",
       "    } else if (typeof(MozWebSocket) !== 'undefined') {\n",
       "        return MozWebSocket;\n",
       "    } else {\n",
       "        alert('Your browser does not have WebSocket support.' +\n",
       "              'Please try Chrome, Safari or Firefox ≥ 6. ' +\n",
       "              'Firefox 4 and 5 are also supported but you ' +\n",
       "              'have to enable WebSockets in about:config.');\n",
       "    };\n",
       "}\n",
       "\n",
       "mpl.figure = function(figure_id, websocket, ondownload, parent_element) {\n",
       "    this.id = figure_id;\n",
       "\n",
       "    this.ws = websocket;\n",
       "\n",
       "    this.supports_binary = (this.ws.binaryType != undefined);\n",
       "\n",
       "    if (!this.supports_binary) {\n",
       "        var warnings = document.getElementById(\"mpl-warnings\");\n",
       "        if (warnings) {\n",
       "            warnings.style.display = 'block';\n",
       "            warnings.textContent = (\n",
       "                \"This browser does not support binary websocket messages. \" +\n",
       "                    \"Performance may be slow.\");\n",
       "        }\n",
       "    }\n",
       "\n",
       "    this.imageObj = new Image();\n",
       "\n",
       "    this.context = undefined;\n",
       "    this.message = undefined;\n",
       "    this.canvas = undefined;\n",
       "    this.rubberband_canvas = undefined;\n",
       "    this.rubberband_context = undefined;\n",
       "    this.format_dropdown = undefined;\n",
       "\n",
       "    this.image_mode = 'full';\n",
       "\n",
       "    this.root = $('<div/>');\n",
       "    this._root_extra_style(this.root)\n",
       "    this.root.attr('style', 'display: inline-block');\n",
       "\n",
       "    $(parent_element).append(this.root);\n",
       "\n",
       "    this._init_header(this);\n",
       "    this._init_canvas(this);\n",
       "    this._init_toolbar(this);\n",
       "\n",
       "    var fig = this;\n",
       "\n",
       "    this.waiting = false;\n",
       "\n",
       "    this.ws.onopen =  function () {\n",
       "            fig.send_message(\"supports_binary\", {value: fig.supports_binary});\n",
       "            fig.send_message(\"send_image_mode\", {});\n",
       "            if (mpl.ratio != 1) {\n",
       "                fig.send_message(\"set_dpi_ratio\", {'dpi_ratio': mpl.ratio});\n",
       "            }\n",
       "            fig.send_message(\"refresh\", {});\n",
       "        }\n",
       "\n",
       "    this.imageObj.onload = function() {\n",
       "            if (fig.image_mode == 'full') {\n",
       "                // Full images could contain transparency (where diff images\n",
       "                // almost always do), so we need to clear the canvas so that\n",
       "                // there is no ghosting.\n",
       "                fig.context.clearRect(0, 0, fig.canvas.width, fig.canvas.height);\n",
       "            }\n",
       "            fig.context.drawImage(fig.imageObj, 0, 0);\n",
       "        };\n",
       "\n",
       "    this.imageObj.onunload = function() {\n",
       "        fig.ws.close();\n",
       "    }\n",
       "\n",
       "    this.ws.onmessage = this._make_on_message_function(this);\n",
       "\n",
       "    this.ondownload = ondownload;\n",
       "}\n",
       "\n",
       "mpl.figure.prototype._init_header = function() {\n",
       "    var titlebar = $(\n",
       "        '<div class=\"ui-dialog-titlebar ui-widget-header ui-corner-all ' +\n",
       "        'ui-helper-clearfix\"/>');\n",
       "    var titletext = $(\n",
       "        '<div class=\"ui-dialog-title\" style=\"width: 100%; ' +\n",
       "        'text-align: center; padding: 3px;\"/>');\n",
       "    titlebar.append(titletext)\n",
       "    this.root.append(titlebar);\n",
       "    this.header = titletext[0];\n",
       "}\n",
       "\n",
       "\n",
       "\n",
       "mpl.figure.prototype._canvas_extra_style = function(canvas_div) {\n",
       "\n",
       "}\n",
       "\n",
       "\n",
       "mpl.figure.prototype._root_extra_style = function(canvas_div) {\n",
       "\n",
       "}\n",
       "\n",
       "mpl.figure.prototype._init_canvas = function() {\n",
       "    var fig = this;\n",
       "\n",
       "    var canvas_div = $('<div/>');\n",
       "\n",
       "    canvas_div.attr('style', 'position: relative; clear: both; outline: 0');\n",
       "\n",
       "    function canvas_keyboard_event(event) {\n",
       "        return fig.key_event(event, event['data']);\n",
       "    }\n",
       "\n",
       "    canvas_div.keydown('key_press', canvas_keyboard_event);\n",
       "    canvas_div.keyup('key_release', canvas_keyboard_event);\n",
       "    this.canvas_div = canvas_div\n",
       "    this._canvas_extra_style(canvas_div)\n",
       "    this.root.append(canvas_div);\n",
       "\n",
       "    var canvas = $('<canvas/>');\n",
       "    canvas.addClass('mpl-canvas');\n",
       "    canvas.attr('style', \"left: 0; top: 0; z-index: 0; outline: 0\")\n",
       "\n",
       "    this.canvas = canvas[0];\n",
       "    this.context = canvas[0].getContext(\"2d\");\n",
       "\n",
       "    var backingStore = this.context.backingStorePixelRatio ||\n",
       "\tthis.context.webkitBackingStorePixelRatio ||\n",
       "\tthis.context.mozBackingStorePixelRatio ||\n",
       "\tthis.context.msBackingStorePixelRatio ||\n",
       "\tthis.context.oBackingStorePixelRatio ||\n",
       "\tthis.context.backingStorePixelRatio || 1;\n",
       "\n",
       "    mpl.ratio = (window.devicePixelRatio || 1) / backingStore;\n",
       "\n",
       "    var rubberband = $('<canvas/>');\n",
       "    rubberband.attr('style', \"position: absolute; left: 0; top: 0; z-index: 1;\")\n",
       "\n",
       "    var pass_mouse_events = true;\n",
       "\n",
       "    canvas_div.resizable({\n",
       "        start: function(event, ui) {\n",
       "            pass_mouse_events = false;\n",
       "        },\n",
       "        resize: function(event, ui) {\n",
       "            fig.request_resize(ui.size.width, ui.size.height);\n",
       "        },\n",
       "        stop: function(event, ui) {\n",
       "            pass_mouse_events = true;\n",
       "            fig.request_resize(ui.size.width, ui.size.height);\n",
       "        },\n",
       "    });\n",
       "\n",
       "    function mouse_event_fn(event) {\n",
       "        if (pass_mouse_events)\n",
       "            return fig.mouse_event(event, event['data']);\n",
       "    }\n",
       "\n",
       "    rubberband.mousedown('button_press', mouse_event_fn);\n",
       "    rubberband.mouseup('button_release', mouse_event_fn);\n",
       "    // Throttle sequential mouse events to 1 every 20ms.\n",
       "    rubberband.mousemove('motion_notify', mouse_event_fn);\n",
       "\n",
       "    rubberband.mouseenter('figure_enter', mouse_event_fn);\n",
       "    rubberband.mouseleave('figure_leave', mouse_event_fn);\n",
       "\n",
       "    canvas_div.on(\"wheel\", function (event) {\n",
       "        event = event.originalEvent;\n",
       "        event['data'] = 'scroll'\n",
       "        if (event.deltaY < 0) {\n",
       "            event.step = 1;\n",
       "        } else {\n",
       "            event.step = -1;\n",
       "        }\n",
       "        mouse_event_fn(event);\n",
       "    });\n",
       "\n",
       "    canvas_div.append(canvas);\n",
       "    canvas_div.append(rubberband);\n",
       "\n",
       "    this.rubberband = rubberband;\n",
       "    this.rubberband_canvas = rubberband[0];\n",
       "    this.rubberband_context = rubberband[0].getContext(\"2d\");\n",
       "    this.rubberband_context.strokeStyle = \"#000000\";\n",
       "\n",
       "    this._resize_canvas = function(width, height) {\n",
       "        // Keep the size of the canvas, canvas container, and rubber band\n",
       "        // canvas in synch.\n",
       "        canvas_div.css('width', width)\n",
       "        canvas_div.css('height', height)\n",
       "\n",
       "        canvas.attr('width', width * mpl.ratio);\n",
       "        canvas.attr('height', height * mpl.ratio);\n",
       "        canvas.attr('style', 'width: ' + width + 'px; height: ' + height + 'px;');\n",
       "\n",
       "        rubberband.attr('width', width);\n",
       "        rubberband.attr('height', height);\n",
       "    }\n",
       "\n",
       "    // Set the figure to an initial 600x600px, this will subsequently be updated\n",
       "    // upon first draw.\n",
       "    this._resize_canvas(600, 600);\n",
       "\n",
       "    // Disable right mouse context menu.\n",
       "    $(this.rubberband_canvas).bind(\"contextmenu\",function(e){\n",
       "        return false;\n",
       "    });\n",
       "\n",
       "    function set_focus () {\n",
       "        canvas.focus();\n",
       "        canvas_div.focus();\n",
       "    }\n",
       "\n",
       "    window.setTimeout(set_focus, 100);\n",
       "}\n",
       "\n",
       "mpl.figure.prototype._init_toolbar = function() {\n",
       "    var fig = this;\n",
       "\n",
       "    var nav_element = $('<div/>')\n",
       "    nav_element.attr('style', 'width: 100%');\n",
       "    this.root.append(nav_element);\n",
       "\n",
       "    // Define a callback function for later on.\n",
       "    function toolbar_event(event) {\n",
       "        return fig.toolbar_button_onclick(event['data']);\n",
       "    }\n",
       "    function toolbar_mouse_event(event) {\n",
       "        return fig.toolbar_button_onmouseover(event['data']);\n",
       "    }\n",
       "\n",
       "    for(var toolbar_ind in mpl.toolbar_items) {\n",
       "        var name = mpl.toolbar_items[toolbar_ind][0];\n",
       "        var tooltip = mpl.toolbar_items[toolbar_ind][1];\n",
       "        var image = mpl.toolbar_items[toolbar_ind][2];\n",
       "        var method_name = mpl.toolbar_items[toolbar_ind][3];\n",
       "\n",
       "        if (!name) {\n",
       "            // put a spacer in here.\n",
       "            continue;\n",
       "        }\n",
       "        var button = $('<button/>');\n",
       "        button.addClass('ui-button ui-widget ui-state-default ui-corner-all ' +\n",
       "                        'ui-button-icon-only');\n",
       "        button.attr('role', 'button');\n",
       "        button.attr('aria-disabled', 'false');\n",
       "        button.click(method_name, toolbar_event);\n",
       "        button.mouseover(tooltip, toolbar_mouse_event);\n",
       "\n",
       "        var icon_img = $('<span/>');\n",
       "        icon_img.addClass('ui-button-icon-primary ui-icon');\n",
       "        icon_img.addClass(image);\n",
       "        icon_img.addClass('ui-corner-all');\n",
       "\n",
       "        var tooltip_span = $('<span/>');\n",
       "        tooltip_span.addClass('ui-button-text');\n",
       "        tooltip_span.html(tooltip);\n",
       "\n",
       "        button.append(icon_img);\n",
       "        button.append(tooltip_span);\n",
       "\n",
       "        nav_element.append(button);\n",
       "    }\n",
       "\n",
       "    var fmt_picker_span = $('<span/>');\n",
       "\n",
       "    var fmt_picker = $('<select/>');\n",
       "    fmt_picker.addClass('mpl-toolbar-option ui-widget ui-widget-content');\n",
       "    fmt_picker_span.append(fmt_picker);\n",
       "    nav_element.append(fmt_picker_span);\n",
       "    this.format_dropdown = fmt_picker[0];\n",
       "\n",
       "    for (var ind in mpl.extensions) {\n",
       "        var fmt = mpl.extensions[ind];\n",
       "        var option = $(\n",
       "            '<option/>', {selected: fmt === mpl.default_extension}).html(fmt);\n",
       "        fmt_picker.append(option)\n",
       "    }\n",
       "\n",
       "    // Add hover states to the ui-buttons\n",
       "    $( \".ui-button\" ).hover(\n",
       "        function() { $(this).addClass(\"ui-state-hover\");},\n",
       "        function() { $(this).removeClass(\"ui-state-hover\");}\n",
       "    );\n",
       "\n",
       "    var status_bar = $('<span class=\"mpl-message\"/>');\n",
       "    nav_element.append(status_bar);\n",
       "    this.message = status_bar[0];\n",
       "}\n",
       "\n",
       "mpl.figure.prototype.request_resize = function(x_pixels, y_pixels) {\n",
       "    // Request matplotlib to resize the figure. Matplotlib will then trigger a resize in the client,\n",
       "    // which will in turn request a refresh of the image.\n",
       "    this.send_message('resize', {'width': x_pixels, 'height': y_pixels});\n",
       "}\n",
       "\n",
       "mpl.figure.prototype.send_message = function(type, properties) {\n",
       "    properties['type'] = type;\n",
       "    properties['figure_id'] = this.id;\n",
       "    this.ws.send(JSON.stringify(properties));\n",
       "}\n",
       "\n",
       "mpl.figure.prototype.send_draw_message = function() {\n",
       "    if (!this.waiting) {\n",
       "        this.waiting = true;\n",
       "        this.ws.send(JSON.stringify({type: \"draw\", figure_id: this.id}));\n",
       "    }\n",
       "}\n",
       "\n",
       "\n",
       "mpl.figure.prototype.handle_save = function(fig, msg) {\n",
       "    var format_dropdown = fig.format_dropdown;\n",
       "    var format = format_dropdown.options[format_dropdown.selectedIndex].value;\n",
       "    fig.ondownload(fig, format);\n",
       "}\n",
       "\n",
       "\n",
       "mpl.figure.prototype.handle_resize = function(fig, msg) {\n",
       "    var size = msg['size'];\n",
       "    if (size[0] != fig.canvas.width || size[1] != fig.canvas.height) {\n",
       "        fig._resize_canvas(size[0], size[1]);\n",
       "        fig.send_message(\"refresh\", {});\n",
       "    };\n",
       "}\n",
       "\n",
       "mpl.figure.prototype.handle_rubberband = function(fig, msg) {\n",
       "    var x0 = msg['x0'] / mpl.ratio;\n",
       "    var y0 = (fig.canvas.height - msg['y0']) / mpl.ratio;\n",
       "    var x1 = msg['x1'] / mpl.ratio;\n",
       "    var y1 = (fig.canvas.height - msg['y1']) / mpl.ratio;\n",
       "    x0 = Math.floor(x0) + 0.5;\n",
       "    y0 = Math.floor(y0) + 0.5;\n",
       "    x1 = Math.floor(x1) + 0.5;\n",
       "    y1 = Math.floor(y1) + 0.5;\n",
       "    var min_x = Math.min(x0, x1);\n",
       "    var min_y = Math.min(y0, y1);\n",
       "    var width = Math.abs(x1 - x0);\n",
       "    var height = Math.abs(y1 - y0);\n",
       "\n",
       "    fig.rubberband_context.clearRect(\n",
       "        0, 0, fig.canvas.width, fig.canvas.height);\n",
       "\n",
       "    fig.rubberband_context.strokeRect(min_x, min_y, width, height);\n",
       "}\n",
       "\n",
       "mpl.figure.prototype.handle_figure_label = function(fig, msg) {\n",
       "    // Updates the figure title.\n",
       "    fig.header.textContent = msg['label'];\n",
       "}\n",
       "\n",
       "mpl.figure.prototype.handle_cursor = function(fig, msg) {\n",
       "    var cursor = msg['cursor'];\n",
       "    switch(cursor)\n",
       "    {\n",
       "    case 0:\n",
       "        cursor = 'pointer';\n",
       "        break;\n",
       "    case 1:\n",
       "        cursor = 'default';\n",
       "        break;\n",
       "    case 2:\n",
       "        cursor = 'crosshair';\n",
       "        break;\n",
       "    case 3:\n",
       "        cursor = 'move';\n",
       "        break;\n",
       "    }\n",
       "    fig.rubberband_canvas.style.cursor = cursor;\n",
       "}\n",
       "\n",
       "mpl.figure.prototype.handle_message = function(fig, msg) {\n",
       "    fig.message.textContent = msg['message'];\n",
       "}\n",
       "\n",
       "mpl.figure.prototype.handle_draw = function(fig, msg) {\n",
       "    // Request the server to send over a new figure.\n",
       "    fig.send_draw_message();\n",
       "}\n",
       "\n",
       "mpl.figure.prototype.handle_image_mode = function(fig, msg) {\n",
       "    fig.image_mode = msg['mode'];\n",
       "}\n",
       "\n",
       "mpl.figure.prototype.updated_canvas_event = function() {\n",
       "    // Called whenever the canvas gets updated.\n",
       "    this.send_message(\"ack\", {});\n",
       "}\n",
       "\n",
       "// A function to construct a web socket function for onmessage handling.\n",
       "// Called in the figure constructor.\n",
       "mpl.figure.prototype._make_on_message_function = function(fig) {\n",
       "    return function socket_on_message(evt) {\n",
       "        if (evt.data instanceof Blob) {\n",
       "            /* FIXME: We get \"Resource interpreted as Image but\n",
       "             * transferred with MIME type text/plain:\" errors on\n",
       "             * Chrome.  But how to set the MIME type?  It doesn't seem\n",
       "             * to be part of the websocket stream */\n",
       "            evt.data.type = \"image/png\";\n",
       "\n",
       "            /* Free the memory for the previous frames */\n",
       "            if (fig.imageObj.src) {\n",
       "                (window.URL || window.webkitURL).revokeObjectURL(\n",
       "                    fig.imageObj.src);\n",
       "            }\n",
       "\n",
       "            fig.imageObj.src = (window.URL || window.webkitURL).createObjectURL(\n",
       "                evt.data);\n",
       "            fig.updated_canvas_event();\n",
       "            fig.waiting = false;\n",
       "            return;\n",
       "        }\n",
       "        else if (typeof evt.data === 'string' && evt.data.slice(0, 21) == \"data:image/png;base64\") {\n",
       "            fig.imageObj.src = evt.data;\n",
       "            fig.updated_canvas_event();\n",
       "            fig.waiting = false;\n",
       "            return;\n",
       "        }\n",
       "\n",
       "        var msg = JSON.parse(evt.data);\n",
       "        var msg_type = msg['type'];\n",
       "\n",
       "        // Call the  \"handle_{type}\" callback, which takes\n",
       "        // the figure and JSON message as its only arguments.\n",
       "        try {\n",
       "            var callback = fig[\"handle_\" + msg_type];\n",
       "        } catch (e) {\n",
       "            console.log(\"No handler for the '\" + msg_type + \"' message type: \", msg);\n",
       "            return;\n",
       "        }\n",
       "\n",
       "        if (callback) {\n",
       "            try {\n",
       "                // console.log(\"Handling '\" + msg_type + \"' message: \", msg);\n",
       "                callback(fig, msg);\n",
       "            } catch (e) {\n",
       "                console.log(\"Exception inside the 'handler_\" + msg_type + \"' callback:\", e, e.stack, msg);\n",
       "            }\n",
       "        }\n",
       "    };\n",
       "}\n",
       "\n",
       "// from http://stackoverflow.com/questions/1114465/getting-mouse-location-in-canvas\n",
       "mpl.findpos = function(e) {\n",
       "    //this section is from http://www.quirksmode.org/js/events_properties.html\n",
       "    var targ;\n",
       "    if (!e)\n",
       "        e = window.event;\n",
       "    if (e.target)\n",
       "        targ = e.target;\n",
       "    else if (e.srcElement)\n",
       "        targ = e.srcElement;\n",
       "    if (targ.nodeType == 3) // defeat Safari bug\n",
       "        targ = targ.parentNode;\n",
       "\n",
       "    // jQuery normalizes the pageX and pageY\n",
       "    // pageX,Y are the mouse positions relative to the document\n",
       "    // offset() returns the position of the element relative to the document\n",
       "    var x = e.pageX - $(targ).offset().left;\n",
       "    var y = e.pageY - $(targ).offset().top;\n",
       "\n",
       "    return {\"x\": x, \"y\": y};\n",
       "};\n",
       "\n",
       "/*\n",
       " * return a copy of an object with only non-object keys\n",
       " * we need this to avoid circular references\n",
       " * http://stackoverflow.com/a/24161582/3208463\n",
       " */\n",
       "function simpleKeys (original) {\n",
       "  return Object.keys(original).reduce(function (obj, key) {\n",
       "    if (typeof original[key] !== 'object')\n",
       "        obj[key] = original[key]\n",
       "    return obj;\n",
       "  }, {});\n",
       "}\n",
       "\n",
       "mpl.figure.prototype.mouse_event = function(event, name) {\n",
       "    var canvas_pos = mpl.findpos(event)\n",
       "\n",
       "    if (name === 'button_press')\n",
       "    {\n",
       "        this.canvas.focus();\n",
       "        this.canvas_div.focus();\n",
       "    }\n",
       "\n",
       "    var x = canvas_pos.x * mpl.ratio;\n",
       "    var y = canvas_pos.y * mpl.ratio;\n",
       "\n",
       "    this.send_message(name, {x: x, y: y, button: event.button,\n",
       "                             step: event.step,\n",
       "                             guiEvent: simpleKeys(event)});\n",
       "\n",
       "    /* This prevents the web browser from automatically changing to\n",
       "     * the text insertion cursor when the button is pressed.  We want\n",
       "     * to control all of the cursor setting manually through the\n",
       "     * 'cursor' event from matplotlib */\n",
       "    event.preventDefault();\n",
       "    return false;\n",
       "}\n",
       "\n",
       "mpl.figure.prototype._key_event_extra = function(event, name) {\n",
       "    // Handle any extra behaviour associated with a key event\n",
       "}\n",
       "\n",
       "mpl.figure.prototype.key_event = function(event, name) {\n",
       "\n",
       "    // Prevent repeat events\n",
       "    if (name == 'key_press')\n",
       "    {\n",
       "        if (event.which === this._key)\n",
       "            return;\n",
       "        else\n",
       "            this._key = event.which;\n",
       "    }\n",
       "    if (name == 'key_release')\n",
       "        this._key = null;\n",
       "\n",
       "    var value = '';\n",
       "    if (event.ctrlKey && event.which != 17)\n",
       "        value += \"ctrl+\";\n",
       "    if (event.altKey && event.which != 18)\n",
       "        value += \"alt+\";\n",
       "    if (event.shiftKey && event.which != 16)\n",
       "        value += \"shift+\";\n",
       "\n",
       "    value += 'k';\n",
       "    value += event.which.toString();\n",
       "\n",
       "    this._key_event_extra(event, name);\n",
       "\n",
       "    this.send_message(name, {key: value,\n",
       "                             guiEvent: simpleKeys(event)});\n",
       "    return false;\n",
       "}\n",
       "\n",
       "mpl.figure.prototype.toolbar_button_onclick = function(name) {\n",
       "    if (name == 'download') {\n",
       "        this.handle_save(this, null);\n",
       "    } else {\n",
       "        this.send_message(\"toolbar_button\", {name: name});\n",
       "    }\n",
       "};\n",
       "\n",
       "mpl.figure.prototype.toolbar_button_onmouseover = function(tooltip) {\n",
       "    this.message.textContent = tooltip;\n",
       "};\n",
       "mpl.toolbar_items = [[\"Home\", \"Reset original view\", \"fa fa-home icon-home\", \"home\"], [\"Back\", \"Back to  previous view\", \"fa fa-arrow-left icon-arrow-left\", \"back\"], [\"Forward\", \"Forward to next view\", \"fa fa-arrow-right icon-arrow-right\", \"forward\"], [\"\", \"\", \"\", \"\"], [\"Pan\", \"Pan axes with left mouse, zoom with right\", \"fa fa-arrows icon-move\", \"pan\"], [\"Zoom\", \"Zoom to rectangle\", \"fa fa-square-o icon-check-empty\", \"zoom\"], [\"\", \"\", \"\", \"\"], [\"Download\", \"Download plot\", \"fa fa-floppy-o icon-save\", \"download\"]];\n",
       "\n",
       "mpl.extensions = [\"eps\", \"pdf\", \"png\", \"ps\", \"raw\", \"svg\"];\n",
       "\n",
       "mpl.default_extension = \"png\";var comm_websocket_adapter = function(comm) {\n",
       "    // Create a \"websocket\"-like object which calls the given IPython comm\n",
       "    // object with the appropriate methods. Currently this is a non binary\n",
       "    // socket, so there is still some room for performance tuning.\n",
       "    var ws = {};\n",
       "\n",
       "    ws.close = function() {\n",
       "        comm.close()\n",
       "    };\n",
       "    ws.send = function(m) {\n",
       "        //console.log('sending', m);\n",
       "        comm.send(m);\n",
       "    };\n",
       "    // Register the callback with on_msg.\n",
       "    comm.on_msg(function(msg) {\n",
       "        //console.log('receiving', msg['content']['data'], msg);\n",
       "        // Pass the mpl event to the overridden (by mpl) onmessage function.\n",
       "        ws.onmessage(msg['content']['data'])\n",
       "    });\n",
       "    return ws;\n",
       "}\n",
       "\n",
       "mpl.mpl_figure_comm = function(comm, msg) {\n",
       "    // This is the function which gets called when the mpl process\n",
       "    // starts-up an IPython Comm through the \"matplotlib\" channel.\n",
       "\n",
       "    var id = msg.content.data.id;\n",
       "    // Get hold of the div created by the display call when the Comm\n",
       "    // socket was opened in Python.\n",
       "    var element = $(\"#\" + id);\n",
       "    var ws_proxy = comm_websocket_adapter(comm)\n",
       "\n",
       "    function ondownload(figure, format) {\n",
       "        window.open(figure.imageObj.src);\n",
       "    }\n",
       "\n",
       "    var fig = new mpl.figure(id, ws_proxy,\n",
       "                           ondownload,\n",
       "                           element.get(0));\n",
       "\n",
       "    // Call onopen now - mpl needs it, as it is assuming we've passed it a real\n",
       "    // web socket which is closed, not our websocket->open comm proxy.\n",
       "    ws_proxy.onopen();\n",
       "\n",
       "    fig.parent_element = element.get(0);\n",
       "    fig.cell_info = mpl.find_output_cell(\"<div id='\" + id + \"'></div>\");\n",
       "    if (!fig.cell_info) {\n",
       "        console.error(\"Failed to find cell for figure\", id, fig);\n",
       "        return;\n",
       "    }\n",
       "\n",
       "    var output_index = fig.cell_info[2]\n",
       "    var cell = fig.cell_info[0];\n",
       "\n",
       "};\n",
       "\n",
       "mpl.figure.prototype.handle_close = function(fig, msg) {\n",
       "    var width = fig.canvas.width/mpl.ratio\n",
       "    fig.root.unbind('remove')\n",
       "\n",
       "    // Update the output cell to use the data from the current canvas.\n",
       "    fig.push_to_output();\n",
       "    var dataURL = fig.canvas.toDataURL();\n",
       "    // Re-enable the keyboard manager in IPython - without this line, in FF,\n",
       "    // the notebook keyboard shortcuts fail.\n",
       "    IPython.keyboard_manager.enable()\n",
       "    $(fig.parent_element).html('<img src=\"' + dataURL + '\" width=\"' + width + '\">');\n",
       "    fig.close_ws(fig, msg);\n",
       "}\n",
       "\n",
       "mpl.figure.prototype.close_ws = function(fig, msg){\n",
       "    fig.send_message('closing', msg);\n",
       "    // fig.ws.close()\n",
       "}\n",
       "\n",
       "mpl.figure.prototype.push_to_output = function(remove_interactive) {\n",
       "    // Turn the data on the canvas into data in the output cell.\n",
       "    var width = this.canvas.width/mpl.ratio\n",
       "    var dataURL = this.canvas.toDataURL();\n",
       "    this.cell_info[1]['text/html'] = '<img src=\"' + dataURL + '\" width=\"' + width + '\">';\n",
       "}\n",
       "\n",
       "mpl.figure.prototype.updated_canvas_event = function() {\n",
       "    // Tell IPython that the notebook contents must change.\n",
       "    IPython.notebook.set_dirty(true);\n",
       "    this.send_message(\"ack\", {});\n",
       "    var fig = this;\n",
       "    // Wait a second, then push the new image to the DOM so\n",
       "    // that it is saved nicely (might be nice to debounce this).\n",
       "    setTimeout(function () { fig.push_to_output() }, 1000);\n",
       "}\n",
       "\n",
       "mpl.figure.prototype._init_toolbar = function() {\n",
       "    var fig = this;\n",
       "\n",
       "    var nav_element = $('<div/>')\n",
       "    nav_element.attr('style', 'width: 100%');\n",
       "    this.root.append(nav_element);\n",
       "\n",
       "    // Define a callback function for later on.\n",
       "    function toolbar_event(event) {\n",
       "        return fig.toolbar_button_onclick(event['data']);\n",
       "    }\n",
       "    function toolbar_mouse_event(event) {\n",
       "        return fig.toolbar_button_onmouseover(event['data']);\n",
       "    }\n",
       "\n",
       "    for(var toolbar_ind in mpl.toolbar_items){\n",
       "        var name = mpl.toolbar_items[toolbar_ind][0];\n",
       "        var tooltip = mpl.toolbar_items[toolbar_ind][1];\n",
       "        var image = mpl.toolbar_items[toolbar_ind][2];\n",
       "        var method_name = mpl.toolbar_items[toolbar_ind][3];\n",
       "\n",
       "        if (!name) { continue; };\n",
       "\n",
       "        var button = $('<button class=\"btn btn-default\" href=\"#\" title=\"' + name + '\"><i class=\"fa ' + image + ' fa-lg\"></i></button>');\n",
       "        button.click(method_name, toolbar_event);\n",
       "        button.mouseover(tooltip, toolbar_mouse_event);\n",
       "        nav_element.append(button);\n",
       "    }\n",
       "\n",
       "    // Add the status bar.\n",
       "    var status_bar = $('<span class=\"mpl-message\" style=\"text-align:right; float: right;\"/>');\n",
       "    nav_element.append(status_bar);\n",
       "    this.message = status_bar[0];\n",
       "\n",
       "    // Add the close button to the window.\n",
       "    var buttongrp = $('<div class=\"btn-group inline pull-right\"></div>');\n",
       "    var button = $('<button class=\"btn btn-mini btn-primary\" href=\"#\" title=\"Stop Interaction\"><i class=\"fa fa-power-off icon-remove icon-large\"></i></button>');\n",
       "    button.click(function (evt) { fig.handle_close(fig, {}); } );\n",
       "    button.mouseover('Stop Interaction', toolbar_mouse_event);\n",
       "    buttongrp.append(button);\n",
       "    var titlebar = this.root.find($('.ui-dialog-titlebar'));\n",
       "    titlebar.prepend(buttongrp);\n",
       "}\n",
       "\n",
       "mpl.figure.prototype._root_extra_style = function(el){\n",
       "    var fig = this\n",
       "    el.on(\"remove\", function(){\n",
       "\tfig.close_ws(fig, {});\n",
       "    });\n",
       "}\n",
       "\n",
       "mpl.figure.prototype._canvas_extra_style = function(el){\n",
       "    // this is important to make the div 'focusable\n",
       "    el.attr('tabindex', 0)\n",
       "    // reach out to IPython and tell the keyboard manager to turn it's self\n",
       "    // off when our div gets focus\n",
       "\n",
       "    // location in version 3\n",
       "    if (IPython.notebook.keyboard_manager) {\n",
       "        IPython.notebook.keyboard_manager.register_events(el);\n",
       "    }\n",
       "    else {\n",
       "        // location in version 2\n",
       "        IPython.keyboard_manager.register_events(el);\n",
       "    }\n",
       "\n",
       "}\n",
       "\n",
       "mpl.figure.prototype._key_event_extra = function(event, name) {\n",
       "    var manager = IPython.notebook.keyboard_manager;\n",
       "    if (!manager)\n",
       "        manager = IPython.keyboard_manager;\n",
       "\n",
       "    // Check for shift+enter\n",
       "    if (event.shiftKey && event.which == 13) {\n",
       "        this.canvas_div.blur();\n",
       "        event.shiftKey = false;\n",
       "        // Send a \"J\" for go to next cell\n",
       "        event.which = 74;\n",
       "        event.keyCode = 74;\n",
       "        manager.command_mode();\n",
       "        manager.handle_keydown(event);\n",
       "    }\n",
       "}\n",
       "\n",
       "mpl.figure.prototype.handle_save = function(fig, msg) {\n",
       "    fig.ondownload(fig, null);\n",
       "}\n",
       "\n",
       "\n",
       "mpl.find_output_cell = function(html_output) {\n",
       "    // Return the cell and output element which can be found *uniquely* in the notebook.\n",
       "    // Note - this is a bit hacky, but it is done because the \"notebook_saving.Notebook\"\n",
       "    // IPython event is triggered only after the cells have been serialised, which for\n",
       "    // our purposes (turning an active figure into a static one), is too late.\n",
       "    var cells = IPython.notebook.get_cells();\n",
       "    var ncells = cells.length;\n",
       "    for (var i=0; i<ncells; i++) {\n",
       "        var cell = cells[i];\n",
       "        if (cell.cell_type === 'code'){\n",
       "            for (var j=0; j<cell.output_area.outputs.length; j++) {\n",
       "                var data = cell.output_area.outputs[j];\n",
       "                if (data.data) {\n",
       "                    // IPython >= 3 moved mimebundle to data attribute of output\n",
       "                    data = data.data;\n",
       "                }\n",
       "                if (data['text/html'] == html_output) {\n",
       "                    return [cell, data, j];\n",
       "                }\n",
       "            }\n",
       "        }\n",
       "    }\n",
       "}\n",
       "\n",
       "// Register the function which deals with the matplotlib target/channel.\n",
       "// The kernel may be null if the page has been refreshed.\n",
       "if (IPython.notebook.kernel != null) {\n",
       "    IPython.notebook.kernel.comm_manager.register_target('matplotlib', mpl.mpl_figure_comm);\n",
       "}\n"
      ],
      "text/plain": [
       "<IPython.core.display.Javascript object>"
      ]
     },
     "metadata": {},
     "output_type": "display_data"
    },
    {
     "data": {
      "text/html": [
       "<img src=\"data:image/png;base64,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\" width=\"640\">"
      ],
      "text/plain": [
       "<IPython.core.display.HTML object>"
      ]
     },
     "metadata": {},
     "output_type": "display_data"
    },
    {
     "data": {
      "text/plain": [
       "<matplotlib.collections.PathCollection at 0xb15dea5c0>"
      ]
     },
     "execution_count": 103,
     "metadata": {},
     "output_type": "execute_result"
    }
   ],
   "source": [
    "import matplotlib.pyplot as plt\n",
    "%matplotlib notebook\n",
    "\n",
    "fig, ax = plt.subplots()\n",
    "\n",
    "ax.scatter(a1, a2)"
   ]
  },
  {
   "cell_type": "code",
   "execution_count": 90,
   "metadata": {},
   "outputs": [
    {
     "data": {
      "text/plain": [
       "True"
      ]
     },
     "execution_count": 90,
     "metadata": {},
     "output_type": "execute_result"
    }
   ],
   "source": [
    "('C', 'NH1', 'CT1') in u.angles.types()"
   ]
  },
  {
   "cell_type": "code",
   "execution_count": 91,
   "metadata": {},
   "outputs": [
    {
     "data": {
      "text/plain": [
       "<TopologyGroup containing 183 angles>"
      ]
     },
     "execution_count": 91,
     "metadata": {},
     "output_type": "execute_result"
    }
   ],
   "source": [
    "u.angles.select_bonds(('C', 'NH1', 'CT1'))"
   ]
  },
  {
   "cell_type": "code",
   "execution_count": 74,
   "metadata": {},
   "outputs": [],
   "source": [
    "max_t = ('O', 'C', 'NH1')"
   ]
  },
  {
   "cell_type": "code",
   "execution_count": 77,
   "metadata": {},
   "outputs": [],
   "source": [
    "t2 = ('C', 'NH1', 'CT1')"
   ]
  },
  {
   "cell_type": "code",
   "execution_count": 80,
   "metadata": {},
   "outputs": [
    {
     "data": {
      "text/plain": [
       "[('NH3', 'CT1', 'CT2', 'HA'),\n",
       " ('NH3', 'CT1', 'CT2', 'CT2'),\n",
       " ('NH3', 'CT1', 'C', 'O'),\n",
       " ('NH3', 'CT1', 'C', 'NH1'),\n",
       " ('HC', 'NH3', 'CT1', 'HB'),\n",
       " ('HC', 'NH3', 'CT1', 'CT2'),\n",
       " ('HC', 'NH3', 'CT1', 'C'),\n",
       " ('CT1', 'CT2', 'CT2', 'HA'),\n",
       " ('CT1', 'CT2', 'CT2', 'S'),\n",
       " ('CT1', 'C', 'NH1', 'H'),\n",
       " ('CT1', 'C', 'NH1', 'CT1'),\n",
       " ('HB', 'CT1', 'CT2', 'HA'),\n",
       " ('HB', 'CT1', 'CT2', 'CT2'),\n",
       " ('HB', 'CT1', 'C', 'O'),\n",
       " ('HB', 'CT1', 'C', 'NH1'),\n",
       " ('CT2', 'CT1', 'C', 'O'),\n",
       " ('CT2', 'CT1', 'C', 'NH1'),\n",
       " ('CT2', 'CT2', 'S', 'CT3'),\n",
       " ('HA', 'CT2', 'CT1', 'C'),\n",
       " ('HA', 'CT2', 'CT2', 'HA'),\n",
       " ('HA', 'CT2', 'CT2', 'S'),\n",
       " ('CT2', 'CT2', 'CT1', 'C'),\n",
       " ('CT2', 'S', 'CT3', 'HA'),\n",
       " ('HA', 'CT2', 'S', 'CT3'),\n",
       " ('C', 'NH1', 'CT1', 'HB'),\n",
       " ('C', 'NH1', 'CT1', 'CT2'),\n",
       " ('C', 'NH1', 'CT1', 'C'),\n",
       " ('O', 'C', 'NH1', 'H'),\n",
       " ('O', 'C', 'NH1', 'CT1'),\n",
       " ('NH1', 'CT1', 'CT2', 'HA'),\n",
       " ('NH1', 'CT1', 'CT2', 'CT2'),\n",
       " ('NH1', 'CT1', 'C', 'O'),\n",
       " ('NH1', 'CT1', 'C', 'NH1'),\n",
       " ('H', 'NH1', 'CT1', 'HB'),\n",
       " ('H', 'NH1', 'CT1', 'CT2'),\n",
       " ('H', 'NH1', 'CT1', 'C'),\n",
       " ('CT1', 'CT2', 'CT2', 'CT2'),\n",
       " ('CT2', 'CT2', 'CT2', 'HA'),\n",
       " ('CT2', 'CT2', 'CT2', 'NC2'),\n",
       " ('CT2', 'CT2', 'NC2', 'HC'),\n",
       " ('CT2', 'CT2', 'NC2', 'C'),\n",
       " ('HA', 'CT2', 'CT2', 'NC2'),\n",
       " ('CT2', 'NC2', 'C', 'NC2'),\n",
       " ('HA', 'CT2', 'NC2', 'HC'),\n",
       " ('HA', 'CT2', 'NC2', 'C'),\n",
       " ('NC2', 'C', 'NC2', 'HC'),\n",
       " ('C', 'NH1', 'CT1', 'CT1'),\n",
       " ('NH1', 'CT1', 'CT1', 'HA'),\n",
       " ('NH1', 'CT1', 'CT1', 'CT3'),\n",
       " ('NH1', 'CT1', 'CT1', 'CT2'),\n",
       " ('H', 'NH1', 'CT1', 'CT1'),\n",
       " ('CT1', 'CT1', 'CT3', 'HA'),\n",
       " ('CT1', 'CT1', 'CT2', 'HA'),\n",
       " ('CT1', 'CT1', 'CT2', 'CT3'),\n",
       " ('HB', 'CT1', 'CT1', 'HA'),\n",
       " ('HB', 'CT1', 'CT1', 'CT3'),\n",
       " ('HB', 'CT1', 'CT1', 'CT2'),\n",
       " ('CT1', 'CT1', 'C', 'O'),\n",
       " ('CT1', 'CT1', 'C', 'NH1'),\n",
       " ('CT1', 'CT2', 'CT3', 'HA'),\n",
       " ('HA', 'CT1', 'CT1', 'C'),\n",
       " ('HA', 'CT1', 'CT3', 'HA'),\n",
       " ('HA', 'CT1', 'CT2', 'HA'),\n",
       " ('HA', 'CT1', 'CT2', 'CT3'),\n",
       " ('CT3', 'CT1', 'CT1', 'C'),\n",
       " ('CT3', 'CT1', 'CT2', 'HA'),\n",
       " ('CT3', 'CT1', 'CT2', 'CT3'),\n",
       " ('HA', 'CT3', 'CT1', 'CT2'),\n",
       " ('CT2', 'CT1', 'CT1', 'C'),\n",
       " ('HA', 'CT2', 'CT3', 'HA'),\n",
       " ('NH1', 'CT1', 'CT2', 'CT1'),\n",
       " ('CT1', 'CT2', 'CT1', 'HA'),\n",
       " ('CT1', 'CT2', 'CT1', 'CT3'),\n",
       " ('HB', 'CT1', 'CT2', 'CT1'),\n",
       " ('CT1', 'CT2', 'CT1', 'C'),\n",
       " ('CT3', 'CT1', 'CT3', 'HA'),\n",
       " ('CT1', 'C', 'NH1', 'CT2'),\n",
       " ('C', 'NH1', 'CT2', 'HB'),\n",
       " ('C', 'NH1', 'CT2', 'C'),\n",
       " ('O', 'C', 'NH1', 'CT2'),\n",
       " ('NH1', 'CT2', 'C', 'O'),\n",
       " ('NH1', 'CT2', 'C', 'NH1'),\n",
       " ('H', 'NH1', 'CT2', 'HB'),\n",
       " ('H', 'NH1', 'CT2', 'C'),\n",
       " ('CT2', 'C', 'NH1', 'H'),\n",
       " ('CT2', 'C', 'NH1', 'CT1'),\n",
       " ('HB', 'CT2', 'C', 'O'),\n",
       " ('HB', 'CT2', 'C', 'NH1'),\n",
       " ('C', 'NH1', 'CT1', 'CT3'),\n",
       " ('NH1', 'CT1', 'CT3', 'HA'),\n",
       " ('NH1', 'CT1', 'C', 'N'),\n",
       " ('H', 'NH1', 'CT1', 'CT3'),\n",
       " ('CT1', 'C', 'N', 'CP3'),\n",
       " ('CT1', 'C', 'N', 'CP1'),\n",
       " ('HB', 'CT1', 'CT3', 'HA'),\n",
       " ('HB', 'CT1', 'C', 'N'),\n",
       " ('CT3', 'CT1', 'C', 'O'),\n",
       " ('CT3', 'CT1', 'C', 'N'),\n",
       " ('HA', 'CT3', 'CT1', 'C'),\n",
       " ('C', 'N', 'CP3', 'HA'),\n",
       " ('C', 'N', 'CP3', 'CP2'),\n",
       " ('C', 'N', 'CP1', 'HB'),\n",
       " ('C', 'N', 'CP1', 'CP2'),\n",
       " ('C', 'N', 'CP1', 'C'),\n",
       " ('O', 'C', 'N', 'CP3'),\n",
       " ('O', 'C', 'N', 'CP1'),\n",
       " ('N', 'CP3', 'CP2', 'CP2'),\n",
       " ('N', 'CP3', 'CP2', 'HA'),\n",
       " ('N', 'CP1', 'CP2', 'HA'),\n",
       " ('N', 'CP1', 'CP2', 'CP2'),\n",
       " ('N', 'CP1', 'C', 'O'),\n",
       " ('N', 'CP1', 'C', 'NH1'),\n",
       " ('CP3', 'N', 'CP1', 'HB'),\n",
       " ('CP3', 'N', 'CP1', 'CP2'),\n",
       " ('CP3', 'N', 'CP1', 'C'),\n",
       " ('CP3', 'CP2', 'CP2', 'CP1'),\n",
       " ('CP3', 'CP2', 'CP2', 'HA'),\n",
       " ('HA', 'CP3', 'N', 'CP1'),\n",
       " ('HA', 'CP3', 'CP2', 'CP2'),\n",
       " ('HA', 'CP3', 'CP2', 'HA'),\n",
       " ('CP1', 'N', 'CP3', 'CP2'),\n",
       " ('CP1', 'CP2', 'CP2', 'HA'),\n",
       " ('CP1', 'C', 'NH1', 'H'),\n",
       " ('CP1', 'C', 'NH1', 'CT2'),\n",
       " ('HB', 'CP1', 'CP2', 'HA'),\n",
       " ('HB', 'CP1', 'CP2', 'CP2'),\n",
       " ('HB', 'CP1', 'C', 'O'),\n",
       " ('HB', 'CP1', 'C', 'NH1'),\n",
       " ('CP2', 'CP1', 'C', 'O'),\n",
       " ('CP2', 'CP1', 'C', 'NH1'),\n",
       " ('HA', 'CP2', 'CP1', 'C'),\n",
       " ('HA', 'CP2', 'CP2', 'HA'),\n",
       " ('CP2', 'CP2', 'CP1', 'C'),\n",
       " ('CT3', 'CT1', 'C', 'NH1'),\n",
       " ('CT2', 'CT2', 'CT2', 'CT2'),\n",
       " ('CT2', 'CT2', 'CT2', 'NH3'),\n",
       " ('CT2', 'CT2', 'NH3', 'HC'),\n",
       " ('HA', 'CT2', 'CT2', 'NH3'),\n",
       " ('HA', 'CT2', 'NH3', 'HC'),\n",
       " ('NH1', 'CT1', 'CT1', 'OH1'),\n",
       " ('CT1', 'CT1', 'OH1', 'H'),\n",
       " ('HB', 'CT1', 'CT1', 'OH1'),\n",
       " ('HA', 'CT1', 'OH1', 'H'),\n",
       " ('OH1', 'CT1', 'CT1', 'C'),\n",
       " ('OH1', 'CT1', 'CT3', 'HA'),\n",
       " ('H', 'OH1', 'CT1', 'CT3'),\n",
       " ('CT1', 'CT2', 'CT2', 'CC'),\n",
       " ('CT2', 'CT2', 'CC', 'O'),\n",
       " ('CT2', 'CT2', 'CC', 'NH2'),\n",
       " ('HA', 'CT2', 'CT2', 'CC'),\n",
       " ('CT2', 'CC', 'NH2', 'H'),\n",
       " ('HA', 'CT2', 'CC', 'O'),\n",
       " ('HA', 'CT2', 'CC', 'NH2'),\n",
       " ('O', 'CC', 'NH2', 'H'),\n",
       " ('NH1', 'CT1', 'CT2', 'CA'),\n",
       " ('CT1', 'CT2', 'CA', 'CA'),\n",
       " ('HB', 'CT1', 'CT2', 'CA'),\n",
       " ('CT2', 'CA', 'CA', 'HP'),\n",
       " ('CT2', 'CA', 'CA', 'CA'),\n",
       " ('HA', 'CT2', 'CA', 'CA'),\n",
       " ('CA', 'CT2', 'CT1', 'C'),\n",
       " ('CA', 'CA', 'CA', 'HP'),\n",
       " ('CA', 'CA', 'CA', 'CA'),\n",
       " ('HP', 'CA', 'CA', 'HP'),\n",
       " ('CT2', 'CT2', 'CC', 'OC'),\n",
       " ('HA', 'CT2', 'CC', 'OC'),\n",
       " ('CA', 'CA', 'CA', 'OH1'),\n",
       " ('CA', 'CA', 'OH1', 'H'),\n",
       " ('HP', 'CA', 'CA', 'OH1'),\n",
       " ('CT1', 'CT1', 'C', 'N'),\n",
       " ('CP1', 'C', 'NH1', 'CT1'),\n",
       " ('NH1', 'CT1', 'CT2', 'OH1'),\n",
       " ('CT1', 'CT2', 'OH1', 'H'),\n",
       " ('HB', 'CT1', 'CT2', 'OH1'),\n",
       " ('HA', 'CT2', 'OH1', 'H'),\n",
       " ('OH1', 'CT2', 'CT1', 'C'),\n",
       " ('NH1', 'CT1', 'CT2', 'CC'),\n",
       " ('CT1', 'CT2', 'CC', 'OC'),\n",
       " ('HB', 'CT1', 'CT2', 'CC'),\n",
       " ('CC', 'CT2', 'CT1', 'C'),\n",
       " ('NH1', 'CT1', 'CT2', 'S'),\n",
       " ('CT1', 'CT2', 'S', 'HS'),\n",
       " ('HB', 'CT1', 'CT2', 'S'),\n",
       " ('HA', 'CT2', 'S', 'HS'),\n",
       " ('S', 'CT2', 'CT1', 'C'),\n",
       " ('CT1', 'CT2', 'CC', 'O'),\n",
       " ('CT1', 'CT2', 'CC', 'NH2'),\n",
       " ('CT2', 'CT1', 'C', 'N'),\n",
       " ('NH1', 'CT1', 'CT2', 'CPH1'),\n",
       " ('CT1', 'CT2', 'CPH1', 'NR2'),\n",
       " ('CT1', 'CT2', 'CPH1', 'CPH1'),\n",
       " ('HB', 'CT1', 'CT2', 'CPH1'),\n",
       " ('CT2', 'CPH1', 'NR2', 'CPH2'),\n",
       " ('CT2', 'CPH1', 'CPH1', 'NR1'),\n",
       " ('CT2', 'CPH1', 'CPH1', 'HR3'),\n",
       " ('HA', 'CT2', 'CPH1', 'NR2'),\n",
       " ('HA', 'CT2', 'CPH1', 'CPH1'),\n",
       " ('NR2', 'CPH1', 'CPH1', 'NR1'),\n",
       " ('NR2', 'CPH1', 'CPH1', 'HR3'),\n",
       " ('NR2', 'CPH2', 'NR1', 'H'),\n",
       " ('NR2', 'CPH2', 'NR1', 'CPH1'),\n",
       " ('CPH1', 'CT2', 'CT1', 'C'),\n",
       " ('CPH1', 'NR2', 'CPH2', 'HR1'),\n",
       " ('CPH1', 'NR2', 'CPH2', 'NR1'),\n",
       " ('CPH1', 'CPH1', 'NR1', 'CPH2'),\n",
       " ('CPH1', 'CPH1', 'NR1', 'H'),\n",
       " ('CPH2', 'NR2', 'CPH1', 'CPH1'),\n",
       " ('CPH2', 'NR1', 'CPH1', 'HR3'),\n",
       " ('HR1', 'CPH2', 'NR1', 'H'),\n",
       " ('HR1', 'CPH2', 'NR1', 'CPH1'),\n",
       " ('H', 'NR1', 'CPH1', 'HR3'),\n",
       " ('N', 'CP1', 'C', 'N'),\n",
       " ('CP1', 'C', 'N', 'CP3'),\n",
       " ('CP1', 'C', 'N', 'CP1'),\n",
       " ('HB', 'CP1', 'C', 'N'),\n",
       " ('CP2', 'CP1', 'C', 'N'),\n",
       " ('C', 'NH1', 'CT2', 'CC'),\n",
       " ('CC', 'CT2', 'NH1', 'H'),\n",
       " ('OC', 'CC', 'CT2', 'NH1'),\n",
       " ('OC', 'CC', 'CT2', 'HB')]"
      ]
     },
     "execution_count": 80,
     "metadata": {},
     "output_type": "execute_result"
    }
   ],
   "source": [
    "u.dihedrals.types()"
   ]
  },
  {
   "cell_type": "code",
   "execution_count": 78,
   "metadata": {},
   "outputs": [
    {
     "data": {
      "text/plain": [
       "<TopologyGroup containing 183 angles>"
      ]
     },
     "execution_count": 78,
     "metadata": {},
     "output_type": "execute_result"
    }
   ],
   "source": [
    "u.angles.select_bonds(t2)"
   ]
  },
  {
   "cell_type": "code",
   "execution_count": 76,
   "metadata": {},
   "outputs": [
    {
     "data": {
      "text/plain": [
       "[('C', 'N', 'CP1'),\n",
       " ('C', 'N', 'CP3'),\n",
       " ('C', 'NH1', 'CT1'),\n",
       " ('C', 'NH1', 'CT2'),\n",
       " ('CA', 'CA', 'CA'),\n",
       " ('CA', 'CA', 'OH1'),\n",
       " ('CC', 'CT2', 'NH1'),\n",
       " ('CP1', 'C', 'N'),\n",
       " ('CP1', 'C', 'NH1'),\n",
       " ('CP1', 'C', 'O'),\n",
       " ('CP1', 'CP2', 'CP2'),\n",
       " ('CP2', 'CP1', 'C'),\n",
       " ('CP3', 'CP2', 'CP2'),\n",
       " ('CP3', 'N', 'CP1'),\n",
       " ('CPH1', 'CPH1', 'NR1'),\n",
       " ('CPH1', 'NR2', 'CPH2'),\n",
       " ('CPH2', 'NR1', 'CPH1'),\n",
       " ('CT1', 'C', 'N'),\n",
       " ('CT1', 'C', 'NH1'),\n",
       " ('CT1', 'C', 'O'),\n",
       " ('CT1', 'CT1', 'C'),\n",
       " ('CT1', 'CT1', 'CT2'),\n",
       " ('CT1', 'CT1', 'CT3'),\n",
       " ('CT1', 'CT1', 'OH1'),\n",
       " ('CT1', 'CT2', 'CA'),\n",
       " ('CT1', 'CT2', 'CC'),\n",
       " ('CT1', 'CT2', 'CPH1'),\n",
       " ('CT1', 'CT2', 'CT1'),\n",
       " ('CT1', 'CT2', 'CT2'),\n",
       " ('CT1', 'CT2', 'CT3'),\n",
       " ('CT1', 'CT2', 'OH1'),\n",
       " ('CT1', 'CT2', 'S'),\n",
       " ('CT2', 'C', 'NH1'),\n",
       " ('CT2', 'C', 'O'),\n",
       " ('CT2', 'CA', 'CA'),\n",
       " ('CT2', 'CC', 'NH2'),\n",
       " ('CT2', 'CC', 'O'),\n",
       " ('CT2', 'CC', 'OC'),\n",
       " ('CT2', 'CPH1', 'CPH1'),\n",
       " ('CT2', 'CPH1', 'NR2'),\n",
       " ('CT2', 'CT1', 'C'),\n",
       " ('CT2', 'CT2', 'CC'),\n",
       " ('CT2', 'CT2', 'CT2'),\n",
       " ('CT2', 'CT2', 'NC2'),\n",
       " ('CT2', 'CT2', 'NH3'),\n",
       " ('CT2', 'CT2', 'S'),\n",
       " ('CT2', 'NC2', 'C'),\n",
       " ('CT2', 'S', 'CT3'),\n",
       " ('CT3', 'CT1', 'C'),\n",
       " ('CT3', 'CT1', 'CT2'),\n",
       " ('CT3', 'CT1', 'CT3'),\n",
       " ('N', 'CP1', 'C'),\n",
       " ('N', 'CP1', 'CP2'),\n",
       " ('N', 'CP3', 'CP2'),\n",
       " ('NC2', 'C', 'NC2'),\n",
       " ('NH1', 'CT1', 'C'),\n",
       " ('NH1', 'CT1', 'CT1'),\n",
       " ('NH1', 'CT1', 'CT2'),\n",
       " ('NH1', 'CT1', 'CT3'),\n",
       " ('NH1', 'CT2', 'C'),\n",
       " ('NH3', 'CT1', 'C'),\n",
       " ('NH3', 'CT1', 'CT2'),\n",
       " ('NR2', 'CPH1', 'CPH1'),\n",
       " ('NR2', 'CPH2', 'NR1'),\n",
       " ('O', 'C', 'N'),\n",
       " ('O', 'C', 'NH1'),\n",
       " ('O', 'CC', 'NH2'),\n",
       " ('OC', 'CC', 'OC'),\n",
       " ('OH1', 'CT1', 'CT3')]"
      ]
     },
     "execution_count": 76,
     "metadata": {},
     "output_type": "execute_result"
    }
   ],
   "source": [
    "sorted(no_H_types)"
   ]
  },
  {
   "cell_type": "code",
   "execution_count": 40,
   "metadata": {},
   "outputs": [],
   "source": [
    "import matplotlib.pyplot as plt\n",
    "%matplotlib inline"
   ]
  },
  {
   "cell_type": "code",
   "execution_count": 41,
   "metadata": {},
   "outputs": [
    {
     "data": {
      "text/plain": [
       "(array([  23.,  295.,   57.,  287., 1022.,    0.,    0.,   31.,  105.,\n",
       "         126.,   41.,   71.,  114.,   88.,   81.,  101.,  129.,  186.,\n",
       "         255.,  221.,  102.,   15.,    2.,    0.,    0.,    0.,    4.,\n",
       "           2.,    3.,    4.]),\n",
       " array([0.95999745, 0.99054587, 1.02109429, 1.05164271, 1.08219113,\n",
       "        1.11273955, 1.14328797, 1.17383639, 1.20438481, 1.23493323,\n",
       "        1.26548165, 1.29603007, 1.32657849, 1.35712691, 1.38767533,\n",
       "        1.41822375, 1.44877217, 1.47932059, 1.50986901, 1.54041743,\n",
       "        1.57096585, 1.60151427, 1.63206269, 1.66261111, 1.69315953,\n",
       "        1.72370795, 1.75425637, 1.78480479, 1.81535321, 1.84590163,\n",
       "        1.87645005]),\n",
       " <a list of 30 Patch objects>)"
      ]
     },
     "execution_count": 41,
     "metadata": {},
     "output_type": "execute_result"
    },
    {
     "data": {
      "image/png": "[encoded data removed]",
      "text/plain": [
       "<Figure size 432x288 with 1 Axes>"
      ]
     },
     "metadata": {
      "needs_background": "light"
     },
     "output_type": "display_data"
    }
   ],
   "source": [
    "plt.hist(u.bonds.values(), bins=30)"
   ]
  },
  {
   "cell_type": "markdown",
   "metadata": {},
   "source": [
    "These work the same way as `AtomGroup`s. They're sliceable, and indexing them works too to give individual bonds, angles, dihedrals."
   ]
  },
  {
   "cell_type": "markdown",
   "metadata": {},
   "source": [
    "## Special Functions\n",
    "\n",
    "The `split` function can be used to return a list of atomgroups that are separated by the specified level. For example `u.atoms.split('residue')` will return a list of all residues as atomgroups."
   ]
  },
  {
   "cell_type": "code",
   "execution_count": 55,
   "metadata": {},
   "outputs": [
    {
     "data": {
      "text/plain": [
       "[<AtomGroup with 19 atoms>,\n",
       " <AtomGroup with 24 atoms>,\n",
       " <AtomGroup with 19 atoms>,\n",
       " <AtomGroup with 19 atoms>,\n",
       " <AtomGroup with 19 atoms>,\n",
       " <AtomGroup with 19 atoms>,\n",
       " <AtomGroup with 7 atoms>,\n",
       " <AtomGroup with 10 atoms>,\n",
       " <AtomGroup with 14 atoms>,\n",
       " <AtomGroup with 7 atoms>,\n",
       " <AtomGroup with 10 atoms>,\n",
       " <AtomGroup with 7 atoms>,\n",
       " <AtomGroup with 22 atoms>,\n",
       " <AtomGroup with 7 atoms>,\n",
       " <AtomGroup with 14 atoms>,\n",
       " <AtomGroup with 17 atoms>,\n",
       " <AtomGroup with 10 atoms>,\n",
       " <AtomGroup with 17 atoms>,\n",
       " <AtomGroup with 20 atoms>,\n",
       " <AtomGroup with 19 atoms>,\n",
       " <AtomGroup with 17 atoms>,\n",
       " <AtomGroup with 15 atoms>,\n",
       " <AtomGroup with 22 atoms>,\n",
       " <AtomGroup with 21 atoms>,\n",
       " <AtomGroup with 7 atoms>,\n",
       " <AtomGroup with 19 atoms>,\n",
       " <AtomGroup with 14 atoms>,\n",
       " <AtomGroup with 17 atoms>,\n",
       " <AtomGroup with 19 atoms>,\n",
       " <AtomGroup with 11 atoms>,\n",
       " <AtomGroup with 14 atoms>,\n",
       " <AtomGroup with 7 atoms>,\n",
       " <AtomGroup with 12 atoms>,\n",
       " <AtomGroup with 17 atoms>,\n",
       " <AtomGroup with 19 atoms>,\n",
       " <AtomGroup with 24 atoms>,\n",
       " <AtomGroup with 10 atoms>,\n",
       " <AtomGroup with 10 atoms>,\n",
       " <AtomGroup with 16 atoms>,\n",
       " <AtomGroup with 22 atoms>,\n",
       " <AtomGroup with 11 atoms>,\n",
       " <AtomGroup with 7 atoms>,\n",
       " <AtomGroup with 11 atoms>,\n",
       " <AtomGroup with 15 atoms>,\n",
       " <AtomGroup with 19 atoms>,\n",
       " <AtomGroup with 7 atoms>,\n",
       " <AtomGroup with 22 atoms>,\n",
       " <AtomGroup with 17 atoms>,\n",
       " <AtomGroup with 10 atoms>,\n",
       " <AtomGroup with 22 atoms>,\n",
       " <AtomGroup with 12 atoms>,\n",
       " <AtomGroup with 19 atoms>,\n",
       " <AtomGroup with 17 atoms>,\n",
       " <AtomGroup with 12 atoms>,\n",
       " <AtomGroup with 10 atoms>,\n",
       " <AtomGroup with 7 atoms>,\n",
       " <AtomGroup with 22 atoms>,\n",
       " <AtomGroup with 19 atoms>,\n",
       " <AtomGroup with 16 atoms>,\n",
       " <AtomGroup with 14 atoms>,\n",
       " <AtomGroup with 12 atoms>,\n",
       " <AtomGroup with 15 atoms>,\n",
       " <AtomGroup with 19 atoms>,\n",
       " <AtomGroup with 16 atoms>,\n",
       " <AtomGroup with 19 atoms>,\n",
       " <AtomGroup with 10 atoms>,\n",
       " <AtomGroup with 19 atoms>,\n",
       " <AtomGroup with 16 atoms>,\n",
       " <AtomGroup with 22 atoms>,\n",
       " <AtomGroup with 15 atoms>,\n",
       " <AtomGroup with 24 atoms>,\n",
       " <AtomGroup with 19 atoms>,\n",
       " <AtomGroup with 10 atoms>,\n",
       " <AtomGroup with 17 atoms>,\n",
       " <AtomGroup with 15 atoms>,\n",
       " <AtomGroup with 12 atoms>,\n",
       " <AtomGroup with 11 atoms>,\n",
       " <AtomGroup with 24 atoms>,\n",
       " <AtomGroup with 14 atoms>,\n",
       " <AtomGroup with 7 atoms>,\n",
       " <AtomGroup with 20 atoms>,\n",
       " <AtomGroup with 19 atoms>,\n",
       " <AtomGroup with 19 atoms>,\n",
       " <AtomGroup with 12 atoms>,\n",
       " <AtomGroup with 7 atoms>,\n",
       " <AtomGroup with 20 atoms>,\n",
       " <AtomGroup with 14 atoms>,\n",
       " <AtomGroup with 24 atoms>,\n",
       " <AtomGroup with 14 atoms>,\n",
       " <AtomGroup with 19 atoms>,\n",
       " <AtomGroup with 14 atoms>,\n",
       " <AtomGroup with 17 atoms>,\n",
       " <AtomGroup with 10 atoms>,\n",
       " <AtomGroup with 12 atoms>,\n",
       " <AtomGroup with 10 atoms>,\n",
       " <AtomGroup with 17 atoms>,\n",
       " <AtomGroup with 22 atoms>,\n",
       " <AtomGroup with 15 atoms>,\n",
       " <AtomGroup with 10 atoms>,\n",
       " <AtomGroup with 7 atoms>,\n",
       " <AtomGroup with 19 atoms>,\n",
       " <AtomGroup with 14 atoms>,\n",
       " <AtomGroup with 16 atoms>,\n",
       " <AtomGroup with 12 atoms>,\n",
       " <AtomGroup with 21 atoms>,\n",
       " <AtomGroup with 16 atoms>,\n",
       " <AtomGroup with 19 atoms>,\n",
       " <AtomGroup with 15 atoms>,\n",
       " <AtomGroup with 20 atoms>,\n",
       " <AtomGroup with 12 atoms>,\n",
       " <AtomGroup with 16 atoms>,\n",
       " <AtomGroup with 14 atoms>,\n",
       " <AtomGroup with 12 atoms>,\n",
       " <AtomGroup with 15 atoms>,\n",
       " <AtomGroup with 19 atoms>,\n",
       " <AtomGroup with 19 atoms>,\n",
       " <AtomGroup with 16 atoms>,\n",
       " <AtomGroup with 12 atoms>,\n",
       " <AtomGroup with 24 atoms>,\n",
       " <AtomGroup with 19 atoms>,\n",
       " <AtomGroup with 16 atoms>,\n",
       " <AtomGroup with 7 atoms>,\n",
       " <AtomGroup with 24 atoms>,\n",
       " <AtomGroup with 24 atoms>,\n",
       " <AtomGroup with 16 atoms>,\n",
       " <AtomGroup with 17 atoms>,\n",
       " <AtomGroup with 10 atoms>,\n",
       " <AtomGroup with 14 atoms>,\n",
       " <AtomGroup with 11 atoms>,\n",
       " <AtomGroup with 7 atoms>,\n",
       " <AtomGroup with 24 atoms>,\n",
       " <AtomGroup with 16 atoms>,\n",
       " <AtomGroup with 21 atoms>,\n",
       " <AtomGroup with 17 atoms>,\n",
       " <AtomGroup with 16 atoms>,\n",
       " <AtomGroup with 22 atoms>,\n",
       " <AtomGroup with 20 atoms>,\n",
       " <AtomGroup with 14 atoms>,\n",
       " <AtomGroup with 14 atoms>,\n",
       " <AtomGroup with 14 atoms>,\n",
       " <AtomGroup with 22 atoms>,\n",
       " <AtomGroup with 16 atoms>,\n",
       " <AtomGroup with 15 atoms>,\n",
       " <AtomGroup with 7 atoms>,\n",
       " <AtomGroup with 22 atoms>,\n",
       " <AtomGroup with 12 atoms>,\n",
       " <AtomGroup with 12 atoms>,\n",
       " <AtomGroup with 16 atoms>,\n",
       " <AtomGroup with 14 atoms>,\n",
       " <AtomGroup with 7 atoms>,\n",
       " <AtomGroup with 15 atoms>,\n",
       " <AtomGroup with 15 atoms>,\n",
       " <AtomGroup with 19 atoms>,\n",
       " <AtomGroup with 14 atoms>,\n",
       " <AtomGroup with 14 atoms>,\n",
       " <AtomGroup with 24 atoms>,\n",
       " <AtomGroup with 22 atoms>,\n",
       " <AtomGroup with 12 atoms>,\n",
       " <AtomGroup with 12 atoms>,\n",
       " <AtomGroup with 17 atoms>,\n",
       " <AtomGroup with 15 atoms>,\n",
       " <AtomGroup with 15 atoms>,\n",
       " <AtomGroup with 14 atoms>,\n",
       " <AtomGroup with 16 atoms>,\n",
       " <AtomGroup with 24 atoms>,\n",
       " <AtomGroup with 22 atoms>,\n",
       " <AtomGroup with 24 atoms>,\n",
       " <AtomGroup with 19 atoms>,\n",
       " <AtomGroup with 16 atoms>,\n",
       " <AtomGroup with 15 atoms>,\n",
       " <AtomGroup with 21 atoms>,\n",
       " <AtomGroup with 17 atoms>,\n",
       " <AtomGroup with 17 atoms>,\n",
       " <AtomGroup with 17 atoms>,\n",
       " <AtomGroup with 14 atoms>,\n",
       " <AtomGroup with 10 atoms>,\n",
       " <AtomGroup with 14 atoms>,\n",
       " <AtomGroup with 19 atoms>,\n",
       " <AtomGroup with 19 atoms>,\n",
       " <AtomGroup with 7 atoms>,\n",
       " <AtomGroup with 21 atoms>,\n",
       " <AtomGroup with 21 atoms>,\n",
       " <AtomGroup with 11 atoms>,\n",
       " <AtomGroup with 22 atoms>,\n",
       " <AtomGroup with 15 atoms>,\n",
       " <AtomGroup with 10 atoms>,\n",
       " <AtomGroup with 15 atoms>,\n",
       " <AtomGroup with 10 atoms>,\n",
       " <AtomGroup with 7 atoms>,\n",
       " <AtomGroup with 14 atoms>,\n",
       " <AtomGroup with 14 atoms>,\n",
       " <AtomGroup with 22 atoms>,\n",
       " <AtomGroup with 21 atoms>,\n",
       " <AtomGroup with 10 atoms>,\n",
       " <AtomGroup with 22 atoms>,\n",
       " <AtomGroup with 16 atoms>,\n",
       " <AtomGroup with 12 atoms>,\n",
       " <AtomGroup with 7 atoms>,\n",
       " <AtomGroup with 14 atoms>,\n",
       " <AtomGroup with 22 atoms>,\n",
       " <AtomGroup with 14 atoms>,\n",
       " <AtomGroup with 16 atoms>,\n",
       " <AtomGroup with 10 atoms>,\n",
       " <AtomGroup with 15 atoms>,\n",
       " <AtomGroup with 16 atoms>,\n",
       " <AtomGroup with 24 atoms>,\n",
       " <AtomGroup with 10 atoms>,\n",
       " <AtomGroup with 12 atoms>,\n",
       " <AtomGroup with 19 atoms>,\n",
       " <AtomGroup with 15 atoms>,\n",
       " <AtomGroup with 22 atoms>,\n",
       " <AtomGroup with 19 atoms>,\n",
       " <AtomGroup with 19 atoms>,\n",
       " <AtomGroup with 8 atoms>]"
      ]
     },
     "execution_count": 55,
     "metadata": {},
     "output_type": "execute_result"
    }
   ],
   "source": [
    "u.atoms.split('residue')"
   ]
  },
  {
   "cell_type": "markdown",
   "metadata": {},
   "source": [
    "Another method is `groupby`. You use it to select for a topolgy attribute (*resnames*, *names*, *masses*, ...). `groupby` will return a dictionary where the keys are all unique values of a given topology attribute and the values are a group of atoms that have this value."
   ]
  },
  {
   "cell_type": "code",
   "execution_count": 57,
   "metadata": {},
   "outputs": [
    {
     "data": {
      "text/plain": [
       "{'ARG': <AtomGroup with 312 atoms>,\n",
       " 'GLU': <AtomGroup with 270 atoms>,\n",
       " 'VAL': <AtomGroup with 304 atoms>,\n",
       " 'ALA': <AtomGroup with 190 atoms>,\n",
       " 'SER': <AtomGroup with 55 atoms>,\n",
       " 'PHE': <AtomGroup with 100 atoms>,\n",
       " 'LYS': <AtomGroup with 396 atoms>,\n",
       " 'GLN': <AtomGroup with 136 atoms>,\n",
       " 'TYR': <AtomGroup with 147 atoms>,\n",
       " 'PRO': <AtomGroup with 140 atoms>,\n",
       " 'THR': <AtomGroup with 154 atoms>,\n",
       " 'CYS': <AtomGroup with 11 atoms>,\n",
       " 'GLY': <AtomGroup with 141 atoms>,\n",
       " 'ASP': <AtomGroup with 204 atoms>,\n",
       " 'ASN': <AtomGroup with 56 atoms>,\n",
       " 'HSE': <AtomGroup with 51 atoms>,\n",
       " 'MET': <AtomGroup with 104 atoms>,\n",
       " 'LEU': <AtomGroup with 304 atoms>,\n",
       " 'ILE': <AtomGroup with 266 atoms>}"
      ]
     },
     "execution_count": 57,
     "metadata": {},
     "output_type": "execute_result"
    }
   ],
   "source": [
    "u.atoms.groupby('resnames')"
   ]
  },
  {
   "cell_type": "markdown",
   "metadata": {},
   "source": [
    "Multiple topology attributes can also be given."
   ]
  },
  {
   "cell_type": "code",
   "execution_count": 61,
   "metadata": {},
   "outputs": [
    {
     "data": {
      "text/plain": [
       "{('ARG', 'O'): <AtomGroup with 13 atoms>,\n",
       " ('ARG', 'HN'): <AtomGroup with 13 atoms>,\n",
       " ('ARG', 'HG1'): <AtomGroup with 13 atoms>,\n",
       " ('ARG', 'CA'): <AtomGroup with 13 atoms>,\n",
       " ('ARG', 'HB1'): <AtomGroup with 13 atoms>,\n",
       " ('ARG', 'HG2'): <AtomGroup with 13 atoms>,\n",
       " ('ARG', 'HD2'): <AtomGroup with 13 atoms>,\n",
       " ('ARG', 'C'): <AtomGroup with 13 atoms>,\n",
       " ('ARG', 'HH12'): <AtomGroup with 13 atoms>,\n",
       " ('ARG', 'CG'): <AtomGroup with 13 atoms>,\n",
       " ('ARG', 'N'): <AtomGroup with 13 atoms>,\n",
       " ('ARG', 'HA'): <AtomGroup with 13 atoms>,\n",
       " ('ARG', 'NH2'): <AtomGroup with 13 atoms>,\n",
       " ('ARG', 'NH1'): <AtomGroup with 13 atoms>,\n",
       " ('ARG', 'HD1'): <AtomGroup with 13 atoms>,\n",
       " ('ARG', 'HE'): <AtomGroup with 13 atoms>,\n",
       " ('ARG', 'CZ'): <AtomGroup with 13 atoms>,\n",
       " ('ARG', 'HH21'): <AtomGroup with 13 atoms>,\n",
       " ('ARG', 'HH11'): <AtomGroup with 13 atoms>,\n",
       " ('ARG', 'HH22'): <AtomGroup with 13 atoms>,\n",
       " ('ARG', 'NE'): <AtomGroup with 13 atoms>,\n",
       " ('ARG', 'CB'): <AtomGroup with 13 atoms>,\n",
       " ('ARG', 'HB2'): <AtomGroup with 13 atoms>,\n",
       " ('ARG', 'CD'): <AtomGroup with 13 atoms>,\n",
       " ('GLU', 'HB1'): <AtomGroup with 18 atoms>,\n",
       " ('GLU', 'N'): <AtomGroup with 18 atoms>,\n",
       " ('GLU', 'O'): <AtomGroup with 18 atoms>,\n",
       " ('GLU', 'HA'): <AtomGroup with 18 atoms>,\n",
       " ('GLU', 'HG2'): <AtomGroup with 18 atoms>,\n",
       " ('GLU', 'C'): <AtomGroup with 18 atoms>,\n",
       " ('GLU', 'HN'): <AtomGroup with 18 atoms>,\n",
       " ('GLU', 'CB'): <AtomGroup with 18 atoms>,\n",
       " ('GLU', 'OE2'): <AtomGroup with 18 atoms>,\n",
       " ('GLU', 'OE1'): <AtomGroup with 18 atoms>,\n",
       " ('GLU', 'HG1'): <AtomGroup with 18 atoms>,\n",
       " ('GLU', 'HB2'): <AtomGroup with 18 atoms>,\n",
       " ('GLU', 'CD'): <AtomGroup with 18 atoms>,\n",
       " ('GLU', 'CG'): <AtomGroup with 18 atoms>,\n",
       " ('GLU', 'CA'): <AtomGroup with 18 atoms>,\n",
       " ('VAL', 'N'): <AtomGroup with 19 atoms>,\n",
       " ('VAL', 'CG1'): <AtomGroup with 19 atoms>,\n",
       " ('VAL', 'HG23'): <AtomGroup with 19 atoms>,\n",
       " ('VAL', 'HA'): <AtomGroup with 19 atoms>,\n",
       " ('VAL', 'O'): <AtomGroup with 19 atoms>,\n",
       " ('VAL', 'CG2'): <AtomGroup with 19 atoms>,\n",
       " ('VAL', 'C'): <AtomGroup with 19 atoms>,\n",
       " ('VAL', 'HG11'): <AtomGroup with 19 atoms>,\n",
       " ('VAL', 'HN'): <AtomGroup with 19 atoms>,\n",
       " ('VAL', 'CB'): <AtomGroup with 19 atoms>,\n",
       " ('VAL', 'HG13'): <AtomGroup with 19 atoms>,\n",
       " ('VAL', 'HG12'): <AtomGroup with 19 atoms>,\n",
       " ('VAL', 'HB'): <AtomGroup with 19 atoms>,\n",
       " ('VAL', 'HG21'): <AtomGroup with 19 atoms>,\n",
       " ('VAL', 'HG22'): <AtomGroup with 19 atoms>,\n",
       " ('VAL', 'CA'): <AtomGroup with 19 atoms>,\n",
       " ('ALA', 'HB1'): <AtomGroup with 19 atoms>,\n",
       " ('ALA', 'N'): <AtomGroup with 19 atoms>,\n",
       " ('ALA', 'O'): <AtomGroup with 19 atoms>,\n",
       " ('ALA', 'HA'): <AtomGroup with 19 atoms>,\n",
       " ('ALA', 'C'): <AtomGroup with 19 atoms>,\n",
       " ('ALA', 'HN'): <AtomGroup with 19 atoms>,\n",
       " ('ALA', 'CB'): <AtomGroup with 19 atoms>,\n",
       " ('ALA', 'HB2'): <AtomGroup with 19 atoms>,\n",
       " ('ALA', 'HB3'): <AtomGroup with 19 atoms>,\n",
       " ('ALA', 'CA'): <AtomGroup with 19 atoms>,\n",
       " ('SER', 'OG'): <AtomGroup with 5 atoms>,\n",
       " ('SER', 'HB1'): <AtomGroup with 5 atoms>,\n",
       " ('SER', 'N'): <AtomGroup with 5 atoms>,\n",
       " ('SER', 'O'): <AtomGroup with 5 atoms>,\n",
       " ('SER', 'HA'): <AtomGroup with 5 atoms>,\n",
       " ('SER', 'C'): <AtomGroup with 5 atoms>,\n",
       " ('SER', 'HN'): <AtomGroup with 5 atoms>,\n",
       " ('SER', 'CB'): <AtomGroup with 5 atoms>,\n",
       " ('SER', 'HB2'): <AtomGroup with 5 atoms>,\n",
       " ('SER', 'HG1'): <AtomGroup with 5 atoms>,\n",
       " ('SER', 'CA'): <AtomGroup with 5 atoms>,\n",
       " ('PHE', 'HD1'): <AtomGroup with 5 atoms>,\n",
       " ('PHE', 'HB1'): <AtomGroup with 5 atoms>,\n",
       " ('PHE', 'N'): <AtomGroup with 5 atoms>,\n",
       " ('PHE', 'HE1'): <AtomGroup with 5 atoms>,\n",
       " ('PHE', 'CE1'): <AtomGroup with 5 atoms>,\n",
       " ('PHE', 'HA'): <AtomGroup with 5 atoms>,\n",
       " ('PHE', 'CZ'): <AtomGroup with 5 atoms>,\n",
       " ('PHE', 'HZ'): <AtomGroup with 5 atoms>,\n",
       " ('PHE', 'HD2'): <AtomGroup with 5 atoms>,\n",
       " ('PHE', 'HE2'): <AtomGroup with 5 atoms>,\n",
       " ('PHE', 'C'): <AtomGroup with 5 atoms>,\n",
       " ('PHE', 'O'): <AtomGroup with 5 atoms>,\n",
       " ('PHE', 'CE2'): <AtomGroup with 5 atoms>,\n",
       " ('PHE', 'HN'): <AtomGroup with 5 atoms>,\n",
       " ('PHE', 'CB'): <AtomGroup with 5 atoms>,\n",
       " ('PHE', 'HB2'): <AtomGroup with 5 atoms>,\n",
       " ('PHE', 'CD1'): <AtomGroup with 5 atoms>,\n",
       " ('PHE', 'CD2'): <AtomGroup with 5 atoms>,\n",
       " ('PHE', 'CG'): <AtomGroup with 5 atoms>,\n",
       " ('PHE', 'CA'): <AtomGroup with 5 atoms>,\n",
       " ('LYS', 'O'): <AtomGroup with 18 atoms>,\n",
       " ('LYS', 'HN'): <AtomGroup with 18 atoms>,\n",
       " ('LYS', 'CD'): <AtomGroup with 18 atoms>,\n",
       " ('LYS', 'HG1'): <AtomGroup with 18 atoms>,\n",
       " ('LYS', 'CA'): <AtomGroup with 18 atoms>,\n",
       " ('LYS', 'HB1'): <AtomGroup with 18 atoms>,\n",
       " ('LYS', 'HZ2'): <AtomGroup with 18 atoms>,\n",
       " ('LYS', 'HG2'): <AtomGroup with 18 atoms>,\n",
       " ('LYS', 'HD2'): <AtomGroup with 18 atoms>,\n",
       " ('LYS', 'C'): <AtomGroup with 18 atoms>,\n",
       " ('LYS', 'NZ'): <AtomGroup with 18 atoms>,\n",
       " ('LYS', 'CG'): <AtomGroup with 18 atoms>,\n",
       " ('LYS', 'HE2'): <AtomGroup with 18 atoms>,\n",
       " ('LYS', 'N'): <AtomGroup with 18 atoms>,\n",
       " ('LYS', 'CE'): <AtomGroup with 18 atoms>,\n",
       " ('LYS', 'HA'): <AtomGroup with 18 atoms>,\n",
       " ('LYS', 'HZ1'): <AtomGroup with 18 atoms>,\n",
       " ('LYS', 'HD1'): <AtomGroup with 18 atoms>,\n",
       " ('LYS', 'HZ3'): <AtomGroup with 18 atoms>,\n",
       " ('LYS', 'CB'): <AtomGroup with 18 atoms>,\n",
       " ('LYS', 'HB2'): <AtomGroup with 18 atoms>,\n",
       " ('LYS', 'HE1'): <AtomGroup with 18 atoms>,\n",
       " ('GLN', 'HB1'): <AtomGroup with 8 atoms>,\n",
       " ('GLN', 'N'): <AtomGroup with 8 atoms>,\n",
       " ('GLN', 'HE21'): <AtomGroup with 8 atoms>,\n",
       " ('GLN', 'O'): <AtomGroup with 8 atoms>,\n",
       " ('GLN', 'HA'): <AtomGroup with 8 atoms>,\n",
       " ('GLN', 'HG2'): <AtomGroup with 8 atoms>,\n",
       " ('GLN', 'C'): <AtomGroup with 8 atoms>,\n",
       " ('GLN', 'HN'): <AtomGroup with 8 atoms>,\n",
       " ('GLN', 'CB'): <AtomGroup with 8 atoms>,\n",
       " ('GLN', 'OE1'): <AtomGroup with 8 atoms>,\n",
       " ('GLN', 'HG1'): <AtomGroup with 8 atoms>,\n",
       " ('GLN', 'HB2'): <AtomGroup with 8 atoms>,\n",
       " ('GLN', 'CD'): <AtomGroup with 8 atoms>,\n",
       " ('GLN', 'NE2'): <AtomGroup with 8 atoms>,\n",
       " ('GLN', 'HE22'): <AtomGroup with 8 atoms>,\n",
       " ('GLN', 'CG'): <AtomGroup with 8 atoms>,\n",
       " ('GLN', 'CA'): <AtomGroup with 8 atoms>,\n",
       " ('TYR', 'CE1'): <AtomGroup with 7 atoms>,\n",
       " ('TYR', 'O'): <AtomGroup with 7 atoms>,\n",
       " ('TYR', 'HN'): <AtomGroup with 7 atoms>,\n",
       " ('TYR', 'OH'): <AtomGroup with 7 atoms>,\n",
       " ('TYR', 'CA'): <AtomGroup with 7 atoms>,\n",
       " ('TYR', 'HB1'): <AtomGroup with 7 atoms>,\n",
       " ('TYR', 'HD2'): <AtomGroup with 7 atoms>,\n",
       " ('TYR', 'C'): <AtomGroup with 7 atoms>,\n",
       " ('TYR', 'CD2'): <AtomGroup with 7 atoms>,\n",
       " ('TYR', 'CG'): <AtomGroup with 7 atoms>,\n",
       " ('TYR', 'HE2'): <AtomGroup with 7 atoms>,\n",
       " ('TYR', 'HH'): <AtomGroup with 7 atoms>,\n",
       " ('TYR', 'N'): <AtomGroup with 7 atoms>,\n",
       " ('TYR', 'HA'): <AtomGroup with 7 atoms>,\n",
       " ('TYR', 'CD1'): <AtomGroup with 7 atoms>,\n",
       " ('TYR', 'HD1'): <AtomGroup with 7 atoms>,\n",
       " ('TYR', 'CZ'): <AtomGroup with 7 atoms>,\n",
       " ('TYR', 'CE2'): <AtomGroup with 7 atoms>,\n",
       " ('TYR', 'CB'): <AtomGroup with 7 atoms>,\n",
       " ('TYR', 'HB2'): <AtomGroup with 7 atoms>,\n",
       " ('TYR', 'HE1'): <AtomGroup with 7 atoms>,\n",
       " ('PRO', 'HD1'): <AtomGroup with 10 atoms>,\n",
       " ('PRO', 'HB1'): <AtomGroup with 10 atoms>,\n",
       " ('PRO', 'N'): <AtomGroup with 10 atoms>,\n",
       " ('PRO', 'O'): <AtomGroup with 10 atoms>,\n",
       " ('PRO', 'HA'): <AtomGroup with 10 atoms>,\n",
       " ('PRO', 'HG2'): <AtomGroup with 10 atoms>,\n",
       " ('PRO', 'HD2'): <AtomGroup with 10 atoms>,\n",
       " ('PRO', 'C'): <AtomGroup with 10 atoms>,\n",
       " ('PRO', 'CB'): <AtomGroup with 10 atoms>,\n",
       " ('PRO', 'HG1'): <AtomGroup with 10 atoms>,\n",
       " ('PRO', 'CD'): <AtomGroup with 10 atoms>,\n",
       " ('PRO', 'HB2'): <AtomGroup with 10 atoms>,\n",
       " ('PRO', 'CG'): <AtomGroup with 10 atoms>,\n",
       " ('PRO', 'CA'): <AtomGroup with 10 atoms>,\n",
       " ('THR', 'N'): <AtomGroup with 11 atoms>,\n",
       " ('THR', 'HG23'): <AtomGroup with 11 atoms>,\n",
       " ('THR', 'HA'): <AtomGroup with 11 atoms>,\n",
       " ('THR', 'O'): <AtomGroup with 11 atoms>,\n",
       " ('THR', 'CG2'): <AtomGroup with 11 atoms>,\n",
       " ('THR', 'C'): <AtomGroup with 11 atoms>,\n",
       " ('THR', 'HN'): <AtomGroup with 11 atoms>,\n",
       " ('THR', 'HG22'): <AtomGroup with 11 atoms>,\n",
       " ('THR', 'CB'): <AtomGroup with 11 atoms>,\n",
       " ('THR', 'OG1'): <AtomGroup with 11 atoms>,\n",
       " ('THR', 'HB'): <AtomGroup with 11 atoms>,\n",
       " ('THR', 'HG21'): <AtomGroup with 11 atoms>,\n",
       " ('THR', 'HG1'): <AtomGroup with 11 atoms>,\n",
       " ('THR', 'CA'): <AtomGroup with 11 atoms>,\n",
       " ('CYS', 'HB1'): <AtomGroup with 1 atom>,\n",
       " ('CYS', 'N'): <AtomGroup with 1 atom>,\n",
       " ('CYS', 'O'): <AtomGroup with 1 atom>,\n",
       " ('CYS', 'HA'): <AtomGroup with 1 atom>,\n",
       " ('CYS', 'C'): <AtomGroup with 1 atom>,\n",
       " ('CYS', 'HN'): <AtomGroup with 1 atom>,\n",
       " ('CYS', 'CB'): <AtomGroup with 1 atom>,\n",
       " ('CYS', 'HB2'): <AtomGroup with 1 atom>,\n",
       " ('CYS', 'SG'): <AtomGroup with 1 atom>,\n",
       " ('CYS', 'HG1'): <AtomGroup with 1 atom>,\n",
       " ('CYS', 'CA'): <AtomGroup with 1 atom>,\n",
       " ('GLY', 'N'): <AtomGroup with 20 atoms>,\n",
       " ('GLY', 'OT1'): <AtomGroup with 1 atom>,\n",
       " ('GLY', 'O'): <AtomGroup with 19 atoms>,\n",
       " ('GLY', 'OT2'): <AtomGroup with 1 atom>,\n",
       " ('GLY', 'C'): <AtomGroup with 20 atoms>,\n",
       " ('GLY', 'HN'): <AtomGroup with 20 atoms>,\n",
       " ('GLY', 'HA2'): <AtomGroup with 20 atoms>,\n",
       " ('GLY', 'CA'): <AtomGroup with 20 atoms>,\n",
       " ('GLY', 'HA1'): <AtomGroup with 20 atoms>,\n",
       " ('ASP', 'HB1'): <AtomGroup with 17 atoms>,\n",
       " ('ASP', 'N'): <AtomGroup with 17 atoms>,\n",
       " ('ASP', 'O'): <AtomGroup with 17 atoms>,\n",
       " ('ASP', 'HA'): <AtomGroup with 17 atoms>,\n",
       " ('ASP', 'C'): <AtomGroup with 17 atoms>,\n",
       " ('ASP', 'OD1'): <AtomGroup with 17 atoms>,\n",
       " ('ASP', 'HN'): <AtomGroup with 17 atoms>,\n",
       " ('ASP', 'CB'): <AtomGroup with 17 atoms>,\n",
       " ('ASP', 'HB2'): <AtomGroup with 17 atoms>,\n",
       " ('ASP', 'OD2'): <AtomGroup with 17 atoms>,\n",
       " ('ASP', 'CG'): <AtomGroup with 17 atoms>,\n",
       " ('ASP', 'CA'): <AtomGroup with 17 atoms>,\n",
       " ('ASN', 'HB1'): <AtomGroup with 4 atoms>,\n",
       " ('ASN', 'N'): <AtomGroup with 4 atoms>,\n",
       " ('ASN', 'O'): <AtomGroup with 4 atoms>,\n",
       " ('ASN', 'HA'): <AtomGroup with 4 atoms>,\n",
       " ('ASN', 'HD22'): <AtomGroup with 4 atoms>,\n",
       " ('ASN', 'HD21'): <AtomGroup with 4 atoms>,\n",
       " ('ASN', 'C'): <AtomGroup with 4 atoms>,\n",
       " ('ASN', 'ND2'): <AtomGroup with 4 atoms>,\n",
       " ('ASN', 'OD1'): <AtomGroup with 4 atoms>,\n",
       " ('ASN', 'HN'): <AtomGroup with 4 atoms>,\n",
       " ('ASN', 'CB'): <AtomGroup with 4 atoms>,\n",
       " ('ASN', 'HB2'): <AtomGroup with 4 atoms>,\n",
       " ('ASN', 'CG'): <AtomGroup with 4 atoms>,\n",
       " ('ASN', 'CA'): <AtomGroup with 4 atoms>,\n",
       " ('HSE', 'HB1'): <AtomGroup with 3 atoms>,\n",
       " ('HSE', 'N'): <AtomGroup with 3 atoms>,\n",
       " ('HSE', 'ND1'): <AtomGroup with 3 atoms>,\n",
       " ('HSE', 'CE1'): <AtomGroup with 3 atoms>,\n",
       " ('HSE', 'HA'): <AtomGroup with 3 atoms>,\n",
       " ('HSE', 'HE1'): <AtomGroup with 3 atoms>,\n",
       " ('HSE', 'HE2'): <AtomGroup with 3 atoms>,\n",
       " ('HSE', 'HD2'): <AtomGroup with 3 atoms>,\n",
       " ('HSE', 'O'): <AtomGroup with 3 atoms>,\n",
       " ('HSE', 'C'): <AtomGroup with 3 atoms>,\n",
       " ('HSE', 'HN'): <AtomGroup with 3 atoms>,\n",
       " ('HSE', 'CB'): <AtomGroup with 3 atoms>,\n",
       " ('HSE', 'NE2'): <AtomGroup with 3 atoms>,\n",
       " ('HSE', 'HB2'): <AtomGroup with 3 atoms>,\n",
       " ('HSE', 'CD2'): <AtomGroup with 3 atoms>,\n",
       " ('HSE', 'CG'): <AtomGroup with 3 atoms>,\n",
       " ('HSE', 'CA'): <AtomGroup with 3 atoms>,\n",
       " ('MET', 'HB1'): <AtomGroup with 6 atoms>,\n",
       " ('MET', 'N'): <AtomGroup with 6 atoms>,\n",
       " ('MET', 'SD'): <AtomGroup with 6 atoms>,\n",
       " ('MET', 'CE'): <AtomGroup with 6 atoms>,\n",
       " ('MET', 'HA'): <AtomGroup with 6 atoms>,\n",
       " ('MET', 'HG2'): <AtomGroup with 6 atoms>,\n",
       " ('MET', 'HE1'): <AtomGroup with 6 atoms>,\n",
       " ('MET', 'HE2'): <AtomGroup with 6 atoms>,\n",
       " ('MET', 'HE3'): <AtomGroup with 6 atoms>,\n",
       " ('MET', 'C'): <AtomGroup with 6 atoms>,\n",
       " ('MET', 'HT2'): <AtomGroup with 1 atom>,\n",
       " ('MET', 'O'): <AtomGroup with 6 atoms>,\n",
       " ('MET', 'HT1'): <AtomGroup with 1 atom>,\n",
       " ('MET', 'HN'): <AtomGroup with 5 atoms>,\n",
       " ('MET', 'CB'): <AtomGroup with 6 atoms>,\n",
       " ('MET', 'HG1'): <AtomGroup with 6 atoms>,\n",
       " ('MET', 'HT3'): <AtomGroup with 1 atom>,\n",
       " ('MET', 'HB2'): <AtomGroup with 6 atoms>,\n",
       " ('MET', 'CG'): <AtomGroup with 6 atoms>,\n",
       " ('MET', 'CA'): <AtomGroup with 6 atoms>,\n",
       " ('LEU', 'HB1'): <AtomGroup with 16 atoms>,\n",
       " ('LEU', 'N'): <AtomGroup with 16 atoms>,\n",
       " ('LEU', 'HD23'): <AtomGroup with 16 atoms>,\n",
       " ('LEU', 'HA'): <AtomGroup with 16 atoms>,\n",
       " ('LEU', 'HD11'): <AtomGroup with 16 atoms>,\n",
       " ('LEU', 'HD22'): <AtomGroup with 16 atoms>,\n",
       " ('LEU', 'HD21'): <AtomGroup with 16 atoms>,\n",
       " ('LEU', 'O'): <AtomGroup with 16 atoms>,\n",
       " ('LEU', 'C'): <AtomGroup with 16 atoms>,\n",
       " ('LEU', 'HN'): <AtomGroup with 16 atoms>,\n",
       " ('LEU', 'CB'): <AtomGroup with 16 atoms>,\n",
       " ('LEU', 'HG'): <AtomGroup with 16 atoms>,\n",
       " ('LEU', 'HD12'): <AtomGroup with 16 atoms>,\n",
       " ('LEU', 'HD13'): <AtomGroup with 16 atoms>,\n",
       " ('LEU', 'HB2'): <AtomGroup with 16 atoms>,\n",
       " ('LEU', 'CD1'): <AtomGroup with 16 atoms>,\n",
       " ('LEU', 'CD2'): <AtomGroup with 16 atoms>,\n",
       " ('LEU', 'CG'): <AtomGroup with 16 atoms>,\n",
       " ('LEU', 'CA'): <AtomGroup with 16 atoms>,\n",
       " ('ILE', 'HD1'): <AtomGroup with 14 atoms>,\n",
       " ('ILE', 'N'): <AtomGroup with 14 atoms>,\n",
       " ('ILE', 'CG1'): <AtomGroup with 14 atoms>,\n",
       " ('ILE', 'HG23'): <AtomGroup with 14 atoms>,\n",
       " ('ILE', 'HA'): <AtomGroup with 14 atoms>,\n",
       " ('ILE', 'HD3'): <AtomGroup with 14 atoms>,\n",
       " ('ILE', 'HD2'): <AtomGroup with 14 atoms>,\n",
       " ('ILE', 'O'): <AtomGroup with 14 atoms>,\n",
       " ('ILE', 'CG2'): <AtomGroup with 14 atoms>,\n",
       " ('ILE', 'C'): <AtomGroup with 14 atoms>,\n",
       " ('ILE', 'HG11'): <AtomGroup with 14 atoms>,\n",
       " ('ILE', 'HN'): <AtomGroup with 14 atoms>,\n",
       " ('ILE', 'CB'): <AtomGroup with 14 atoms>,\n",
       " ('ILE', 'HG12'): <AtomGroup with 14 atoms>,\n",
       " ('ILE', 'HB'): <AtomGroup with 14 atoms>,\n",
       " ('ILE', 'CD'): <AtomGroup with 14 atoms>,\n",
       " ('ILE', 'HG21'): <AtomGroup with 14 atoms>,\n",
       " ('ILE', 'HG22'): <AtomGroup with 14 atoms>,\n",
       " ('ILE', 'CA'): <AtomGroup with 14 atoms>}"
      ]
     },
     "execution_count": 61,
     "metadata": {},
     "output_type": "execute_result"
    }
   ],
   "source": [
    "u.atoms.groupby(['resnames', 'names'])"
   ]
  },
  {
   "cell_type": "markdown",
   "metadata": {},
   "source": [
    "### Example: domain movement of adenylate kinase (AdK)\n",
    "\n",
    "AdK has three domains: CORE, NMP, LID. The NMP and LID move relative to the CORE. Movements can be defined by two angles between the two domains, $\\theta_{\\text{NMP}}$ and $\\theta_{\\text{LID}}$.\n",
    "\n",
    "These angles are defined as:\n",
    "* CORE residues 1-29, 60-121, 160-214 (gray)\n",
    "* NMP residues 30-59 (blue)\n",
    "* LID residues 122-159 (yellow)"
   ]
  },
  {
   "cell_type": "code",
   "execution_count": null,
   "metadata": {},
   "outputs": [],
   "source": [
    "from IPython.core.display import Image\n",
    "\n",
    "Image(\"MDAnalysisTutorial/doc/sphinx/figs/angle_defs.png\")"
   ]
  },
  {
   "cell_type": "markdown",
   "metadata": {},
   "source": [
    "AdK undergoes a conformational transition during which the NMP and LID domain move relative to the CORE domain. The transition can be characterized by the angles between the domains:"
   ]
  },
  {
   "cell_type": "code",
   "execution_count": null,
   "metadata": {},
   "outputs": [],
   "source": [
    "Image(\"MDAnalysisTutorial/doc/sphinx/figs/6b_angle_def_open.png\", width=500)"
   ]
  },
  {
   "cell_type": "markdown",
   "metadata": {},
   "source": [
    "For simplicity, define $\\theta_{\\text{NMP}}$ and $\\theta_{\\text{LID}}$ between the centers of mass of *backbone* atoms of groups of the following atoms `A`, `B`, `C`:\n",
    "\n",
    "Definition of $\\theta_{\\text{NMP}}$\n",
    "\n",
    "A: 115-125, B: 90-100, C: 35-55\n",
    "\n",
    "Definition of $\\theta_{\\text{LID}}$\n",
    "\n",
    "A: 179-185, B: 115-125, C: 125-153\n",
    "\n",
    "The angle between vectors $\\vec{BA}$ and $\\vec{BC}$ is \\begin{equation*} \\theta = \\arccos\\left(\\frac{\\vec{BA}\\cdot\\vec{BC}}{|\\vec{BA}||\\vec{BC}|}\\right) \\end{equation*}\n",
    "\n",
    "With `numpy`:\n",
    "```python\n",
    "np.arccos(np.cdot(BA, BC))/(np.linalg.norm(BA) * np.linalg.norm(BC))\n",
    "```\n"
   ]
  },
  {
   "cell_type": "markdown",
   "metadata": {},
   "source": [
    "Write two functions `theta_NMP()` and `theta_LID()` that calculate these angles, given the universe.\n",
    "\n",
    "Hint:"
   ]
  },
  {
   "cell_type": "code",
   "execution_count": null,
   "metadata": {},
   "outputs": [],
   "source": [
    "A = u.select_atoms(\"resid 115:125 and backbone\").center_of_geometry()"
   ]
  },
  {
   "cell_type": "code",
   "execution_count": null,
   "metadata": {},
   "outputs": [],
   "source": [
    "import numpy as np\n",
    "from numpy.linalg import norm\n",
    "\n",
    "def theta_NMP(u):\n",
    "    \"\"\"Calculate the NMP-CORE angle for E. coli AdK in degrees\"\"\"\n",
    "    C = u.select_atoms(\"resid 115:125 and backbone\").center_of_geometry()\n",
    "    B = u.select_atoms(\"resid 90:100 and backbone\").center_of_geometry()\n",
    "    A = u.select_atoms(\"resid 35:55 and backbone\").center_of_geometry()\n",
    "    BA = A - B\n",
    "    BC = C - B\n",
    "    theta = np.arccos(np.dot(BA, BC)/(norm(BA)*norm(BC)))\n",
    "    return np.rad2deg(theta)\n",
    "\n",
    "def theta_LID(u):\n",
    "    \"\"\"Calculate the LID-CORE angle for E. coli AdK in degrees\"\"\"\n",
    "    C = u.select_atoms(\"resid 179:185 and backbone\").center_of_geometry()\n",
    "    B = u.select_atoms(\"resid 115:125 and backbone\").center_of_geometry()\n",
    "    A = u.select_atoms(\"resid 125:153 and backbone\").center_of_geometry()\n",
    "    BA = A - B\n",
    "    BC = C - B\n",
    "    theta = np.arccos(np.dot(BA, BC)/(norm(BA)*norm(BC)))\n",
    "    return np.rad2deg(theta)"
   ]
  }
 ],
 "metadata": {
  "kernelspec": {
   "display_name": "Python 3",
   "language": "python",
   "name": "python3"
  },
  "language_info": {
   "codemirror_mode": {
    "name": "ipython",
    "version": 3
   },
   "file_extension": ".py",
   "mimetype": "text/x-python",
   "name": "python",
   "nbconvert_exporter": "python",
   "pygments_lexer": "ipython3",
   "version": "3.6.6"
  }
 },
 "nbformat": 4,
 "nbformat_minor": 2
}
