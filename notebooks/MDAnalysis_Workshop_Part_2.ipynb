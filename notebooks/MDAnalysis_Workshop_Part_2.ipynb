{
 "cells": [
  {
   "cell_type": "markdown",
   "metadata": {},
   "source": [
    "# Tutorial Session 2\n",
    "\n",
    "Note: This is the **instructor copy**, for the tutorial use the **participant copy** (which is based on this copy with most of the code removed)."
   ]
  },
  {
   "cell_type": "markdown",
   "metadata": {},
   "source": [
    "## Package imports "
   ]
  },
  {
   "cell_type": "code",
   "execution_count": 1,
   "metadata": {},
   "outputs": [],
   "source": [
    "import numpy as np\n",
    "import matplotlib.pyplot as plt\n",
    "%matplotlib inline\n",
    "\n",
    "from IPython.core.display import Image"
   ]
  },
  {
   "cell_type": "code",
   "execution_count": 2,
   "metadata": {
    "scrolled": true
   },
   "outputs": [
    {
     "name": "stdout",
     "output_type": "stream",
     "text": [
      "0.19.0\n",
      "0.3.0+5.g39325a3.dirty\n"
     ]
    }
   ],
   "source": [
    "import MDAnalysis as mda\n",
    "import MDAnalysisData as data\n",
    "print(mda.__version__)\n",
    "print(data.__version__)"
   ]
  },
  {
   "cell_type": "markdown",
   "metadata": {},
   "source": [
    "## AdK test trajectories\n",
    "Look again at AdK trajectories..."
   ]
  },
  {
   "cell_type": "code",
   "execution_count": 9,
   "metadata": {},
   "outputs": [],
   "source": [
    "adk_eq = data.datasets.fetch_adk_equilibrium()\n",
    "adk_dims = data.datasets.fetch_adk_transitions_DIMS()"
   ]
  },
  {
   "cell_type": "code",
   "execution_count": 6,
   "metadata": {},
   "outputs": [
    {
     "data": {
      "text/plain": [
       "dict_keys(['topology', 'trajectories', 'N_trajectories', 'DESCR'])"
      ]
     },
     "execution_count": 6,
     "metadata": {},
     "output_type": "execute_result"
    }
   ],
   "source": [
    "adk_dims.keys()"
   ]
  },
  {
   "cell_type": "code",
   "execution_count": 11,
   "metadata": {},
   "outputs": [
    {
     "name": "stdout",
     "output_type": "stream",
     "text": [
      "<Universe with 3341 atoms>\n"
     ]
    }
   ],
   "source": [
    "u = mda.Universe(adk_dims['topology'], adk_dims['trajectories'])\n",
    "print(u)"
   ]
  },
  {
   "cell_type": "code",
   "execution_count": 12,
   "metadata": {},
   "outputs": [
    {
     "name": "stdout",
     "output_type": "stream",
     "text": [
      "<Universe with 3341 atoms>\n"
     ]
    }
   ],
   "source": [
    "eq = mda.Universe(adk_eq['topology'], adk_eq['trajectory'])\n",
    "print(eq)"
   ]
  },
  {
   "cell_type": "markdown",
   "metadata": {},
   "source": [
    "## Trajectories"
   ]
  },
  {
   "cell_type": "markdown",
   "metadata": {},
   "source": [
    "The `Universe.trajectory` object is the entry point to all trajectory functionality:"
   ]
  },
  {
   "cell_type": "code",
   "execution_count": 13,
   "metadata": {},
   "outputs": [
    {
     "data": {
      "text/plain": [
       "<ChainReader ['dims0138_fit-core.dcd', 'dims0192_fit-core.dcd', 'dims0048_fit-core.dcd', 'dims0195_fit-core.dcd', 'dims0180_fit-core.dcd', 'dims0008_fit-core.dcd', 'dims0178_fit-core.dcd', 'dims0187_fit-core.dcd', 'dims0039_fit-core.dcd', 'dims0093_fit-core.dcd', 'dims0149_fit-core.dcd', 'dims0094_fit-core.dcd', 'dims0081_fit-core.dcd', 'dims0109_fit-core.dcd', 'dims0079_fit-core.dcd', 'dims0086_fit-core.dcd', 'dims0186_fit-core.dcd', 'dims0179_fit-core.dcd', 'dims0009_fit-core.dcd', 'dims0181_fit-core.dcd', 'dims0194_fit-core.dcd', 'dims0049_fit-core.dcd', 'dims0193_fit-core.dcd', 'dims0139_fit-core.dcd', 'dims0087_fit-core.dcd', 'dims0078_fit-core.dcd', 'dims0108_fit-core.dcd', 'dims0080_fit-core.dcd', 'dims0095_fit-core.dcd', 'dims0148_fit-core.dcd', 'dims0092_fit-core.dcd', 'dims0038_fit-core.dcd', 'dims0110_fit-core.dcd', 'dims0145_fit-core.dcd', 'dims0032_fit-core.dcd', 'dims0067_fit-core.dcd', 'dims0098_fit-core.dcd', 'dims0117_fit-core.dcd', 'dims0142_fit-core.dcd', 'dims0035_fit-core.dcd', 'dims0060_fit-core.dcd', 'dims0020_fit-core.dcd', 'dims0075_fit-core.dcd', 'dims0102_fit-core.dcd', 'dims0157_fit-core.dcd', 'dims0027_fit-core.dcd', 'dims0072_fit-core.dcd', 'dims0105_fit-core.dcd', 'dims0150_fit-core.dcd', 'dims0011_fit-core.dcd', 'dims0044_fit-core.dcd', 'dims0133_fit-core.dcd', 'dims0166_fit-core.dcd', 'dims0199_fit-core.dcd', 'dims0016_fit-core.dcd', 'dims0043_fit-core.dcd', 'dims0134_fit-core.dcd', 'dims0161_fit-core.dcd', 'dims0121_fit-core.dcd', 'dims0174_fit-core.dcd', 'dims0003_fit-core.dcd', 'dims0056_fit-core.dcd', 'dims0126_fit-core.dcd', 'dims0173_fit-core.dcd', 'dims0004_fit-core.dcd', 'dims0051_fit-core.dcd', 'dims0151_fit-core.dcd', 'dims0104_fit-core.dcd', 'dims0073_fit-core.dcd', 'dims0026_fit-core.dcd', 'dims0156_fit-core.dcd', 'dims0103_fit-core.dcd', 'dims0074_fit-core.dcd', 'dims0021_fit-core.dcd', 'dims0061_fit-core.dcd', 'dims0034_fit-core.dcd', 'dims0143_fit-core.dcd', 'dims0116_fit-core.dcd', 'dims0099_fit-core.dcd', 'dims0066_fit-core.dcd', 'dims0033_fit-core.dcd', 'dims0144_fit-core.dcd', 'dims0111_fit-core.dcd', 'dims0050_fit-core.dcd', 'dims0005_fit-core.dcd', 'dims0172_fit-core.dcd', 'dims0127_fit-core.dcd', 'dims0057_fit-core.dcd', 'dims0002_fit-core.dcd', 'dims0175_fit-core.dcd', 'dims0120_fit-core.dcd', 'dims0160_fit-core.dcd', 'dims0135_fit-core.dcd', 'dims0042_fit-core.dcd', 'dims0017_fit-core.dcd', 'dims0198_fit-core.dcd', 'dims0167_fit-core.dcd', 'dims0132_fit-core.dcd', 'dims0045_fit-core.dcd', 'dims0010_fit-core.dcd', 'dims0089_fit-core.dcd', 'dims0023_fit-core.dcd', 'dims0076_fit-core.dcd', 'dims0101_fit-core.dcd', 'dims0154_fit-core.dcd', 'dims0024_fit-core.dcd', 'dims0071_fit-core.dcd', 'dims0106_fit-core.dcd', 'dims0153_fit-core.dcd', 'dims0113_fit-core.dcd', 'dims0146_fit-core.dcd', 'dims0031_fit-core.dcd', 'dims0064_fit-core.dcd', 'dims0114_fit-core.dcd', 'dims0141_fit-core.dcd', 'dims0036_fit-core.dcd', 'dims0063_fit-core.dcd', 'dims0188_fit-core.dcd', 'dims0122_fit-core.dcd', 'dims0177_fit-core.dcd', 'dims0055_fit-core.dcd', 'dims0125_fit-core.dcd', 'dims0170_fit-core.dcd', 'dims0007_fit-core.dcd', 'dims0052_fit-core.dcd', 'dims0012_fit-core.dcd', 'dims0047_fit-core.dcd', 'dims0130_fit-core.dcd', 'dims0165_fit-core.dcd', 'dims0015_fit-core.dcd', 'dims0040_fit-core.dcd', 'dims0137_fit-core.dcd', 'dims0162_fit-core.dcd', 'dims0062_fit-core.dcd', 'dims0037_fit-core.dcd', 'dims0140_fit-core.dcd', 'dims0115_fit-core.dcd', 'dims0065_fit-core.dcd', 'dims0030_fit-core.dcd', 'dims0147_fit-core.dcd', 'dims0112_fit-core.dcd', 'dims0152_fit-core.dcd', 'dims0107_fit-core.dcd', 'dims0070_fit-core.dcd', 'dims0025_fit-core.dcd', 'dims0155_fit-core.dcd', 'dims0100_fit-core.dcd', 'dims0077_fit-core.dcd', 'dims0022_fit-core.dcd', 'dims0088_fit-core.dcd', 'dims0163_fit-core.dcd', 'dims0136_fit-core.dcd', 'dims0041_fit-core.dcd', 'dims0014_fit-core.dcd', 'dims0164_fit-core.dcd', 'dims0131_fit-core.dcd', 'dims0046_fit-core.dcd', 'dims0013_fit-core.dcd', 'dims0053_fit-core.dcd', 'dims0006_fit-core.dcd', 'dims0171_fit-core.dcd', 'dims0124_fit-core.dcd', 'dims0054_fit-core.dcd', 'dims0001_fit-core.dcd', 'dims0176_fit-core.dcd', 'dims0123_fit-core.dcd', 'dims0189_fit-core.dcd', 'dims0183_fit-core.dcd', 'dims0129_fit-core.dcd', 'dims0184_fit-core.dcd', 'dims0059_fit-core.dcd', 'dims0019_fit-core.dcd', 'dims0191_fit-core.dcd', 'dims0196_fit-core.dcd', 'dims0169_fit-core.dcd', 'dims0082_fit-core.dcd', 'dims0028_fit-core.dcd', 'dims0085_fit-core.dcd', 'dims0158_fit-core.dcd', 'dims0118_fit-core.dcd', 'dims0090_fit-core.dcd', 'dims0097_fit-core.dcd', 'dims0068_fit-core.dcd', 'dims0200_fit-core.dcd', 'dims0168_fit-core.dcd', 'dims0197_fit-core.dcd', 'dims0190_fit-core.dcd', 'dims0018_fit-core.dcd', 'dims0058_fit-core.dcd', 'dims0185_fit-core.dcd', 'dims0128_fit-core.dcd', 'dims0182_fit-core.dcd', 'dims0069_fit-core.dcd', 'dims0096_fit-core.dcd', 'dims0091_fit-core.dcd', 'dims0119_fit-core.dcd', 'dims0159_fit-core.dcd', 'dims0084_fit-core.dcd', 'dims0029_fit-core.dcd', 'dims0083_fit-core.dcd'] with 19691 frames of 3341 atoms>"
      ]
     },
     "execution_count": 13,
     "metadata": {},
     "output_type": "execute_result"
    }
   ],
   "source": [
    "u.trajectory"
   ]
  },
  {
   "cell_type": "markdown",
   "metadata": {},
   "source": [
    "Trajectories have a length in frames and in **ps** (the base MDAnalysis time unit):"
   ]
  },
  {
   "cell_type": "code",
   "execution_count": 48,
   "metadata": {},
   "outputs": [
    {
     "data": {
      "text/plain": [
       "19691"
      ]
     },
     "execution_count": 48,
     "metadata": {},
     "output_type": "execute_result"
    }
   ],
   "source": [
    "u.trajectory.n_frames"
   ]
  },
  {
   "cell_type": "code",
   "execution_count": 49,
   "metadata": {},
   "outputs": [
    {
     "data": {
      "text/plain": [
       "19691"
      ]
     },
     "execution_count": 49,
     "metadata": {},
     "output_type": "execute_result"
    }
   ],
   "source": [
    "len(u.trajectory)"
   ]
  },
  {
   "cell_type": "code",
   "execution_count": 16,
   "metadata": {},
   "outputs": [
    {
     "data": {
      "text/plain": [
       "962608.7975240413"
      ]
     },
     "execution_count": 16,
     "metadata": {},
     "output_type": "execute_result"
    }
   ],
   "source": [
    "u.trajectory.totaltime"
   ]
  },
  {
   "cell_type": "markdown",
   "metadata": {},
   "source": [
    "### `Timestep` "
   ]
  },
  {
   "cell_type": "markdown",
   "metadata": {},
   "source": [
    "They also contain a `Timestep` object, which holds the **current**\n",
    "* frame and time\n",
    "* unitcell dimensions (if available) as `[A, B, C, alpha, beta, gamma]`\n",
    "* raw positions (and velocities and forces, if available)\n",
    "* additional data, if defined by the trajectory format"
   ]
  },
  {
   "cell_type": "code",
   "execution_count": 17,
   "metadata": {},
   "outputs": [
    {
     "data": {
      "text/plain": [
       "< Timestep 0 with unit cell dimensions [ 0.  0.  0. 90. 90. 90.] >"
      ]
     },
     "execution_count": 17,
     "metadata": {},
     "output_type": "execute_result"
    }
   ],
   "source": [
    "ts = u.trajectory.ts\n",
    "ts"
   ]
  },
  {
   "cell_type": "code",
   "execution_count": 18,
   "metadata": {},
   "outputs": [
    {
     "data": {
      "text/plain": [
       "0"
      ]
     },
     "execution_count": 18,
     "metadata": {},
     "output_type": "execute_result"
    }
   ],
   "source": [
    "ts.frame"
   ]
  },
  {
   "cell_type": "code",
   "execution_count": 19,
   "metadata": {},
   "outputs": [
    {
     "data": {
      "text/plain": [
       "0.0"
      ]
     },
     "execution_count": 19,
     "metadata": {},
     "output_type": "execute_result"
    }
   ],
   "source": [
    "ts.time"
   ]
  },
  {
   "cell_type": "code",
   "execution_count": 20,
   "metadata": {},
   "outputs": [
    {
     "data": {
      "text/plain": [
       "array([ 0.,  0.,  0., 90., 90., 90.], dtype=float32)"
      ]
     },
     "execution_count": 20,
     "metadata": {},
     "output_type": "execute_result"
    }
   ],
   "source": [
    "ts.dimensions"
   ]
  },
  {
   "cell_type": "code",
   "execution_count": 21,
   "metadata": {},
   "outputs": [
    {
     "data": {
      "text/plain": [
       "array([85.53471, 85.53471, 85.53471, 90.     , 90.     , 90.     ],\n",
       "      dtype=float32)"
      ]
     },
     "execution_count": 21,
     "metadata": {},
     "output_type": "execute_result"
    }
   ],
   "source": [
    "eq.trajectory.ts.dimensions"
   ]
  },
  {
   "cell_type": "code",
   "execution_count": 22,
   "metadata": {},
   "outputs": [
    {
     "data": {
      "text/plain": [
       "array([[ 2.4326358,  9.5135565, 11.561407 ],\n",
       "       [ 2.666365 ,  8.647143 , 12.120124 ],\n",
       "       [ 1.7232528, 10.07545  , 12.071542 ],\n",
       "       ...,\n",
       "       [-8.741671 , 12.245849 ,  9.721865 ],\n",
       "       [-8.8482275, 13.458019 ,  9.9984   ],\n",
       "       [-9.001447 , 11.810852 ,  8.609451 ]], dtype=float32)"
      ]
     },
     "execution_count": 22,
     "metadata": {},
     "output_type": "execute_result"
    }
   ],
   "source": [
    "ts.positions"
   ]
  },
  {
   "cell_type": "markdown",
   "metadata": {},
   "source": [
    "How many coordinates?"
   ]
  },
  {
   "cell_type": "code",
   "execution_count": 23,
   "metadata": {},
   "outputs": [
    {
     "data": {
      "text/plain": [
       "(3341, 3)"
      ]
     },
     "execution_count": 23,
     "metadata": {},
     "output_type": "execute_result"
    }
   ],
   "source": [
    "ts.positions.shape"
   ]
  },
  {
   "cell_type": "code",
   "execution_count": 24,
   "metadata": {},
   "outputs": [
    {
     "ename": "NoDataError",
     "evalue": "This Timestep has no velocities",
     "output_type": "error",
     "traceback": [
      "\u001b[0;31m---------------------------------------------------------------------------\u001b[0m",
      "\u001b[0;31mNoDataError\u001b[0m                               Traceback (most recent call last)",
      "\u001b[0;32m<ipython-input-24-d4f9f24be325>\u001b[0m in \u001b[0;36m<module>\u001b[0;34m\u001b[0m\n\u001b[0;32m----> 1\u001b[0;31m \u001b[0mts\u001b[0m\u001b[0;34m.\u001b[0m\u001b[0mvelocities\u001b[0m\u001b[0;34m\u001b[0m\u001b[0m\n\u001b[0m",
      "\u001b[0;32m~/miniconda3/envs/mda19/lib/python3.6/site-packages/MDAnalysis/coordinates/base.py\u001b[0m in \u001b[0;36mvelocities\u001b[0;34m(self)\u001b[0m\n\u001b[1;32m    672\u001b[0m             \u001b[0;32mreturn\u001b[0m \u001b[0mself\u001b[0m\u001b[0;34m.\u001b[0m\u001b[0m_velocities\u001b[0m\u001b[0;34m\u001b[0m\u001b[0m\n\u001b[1;32m    673\u001b[0m         \u001b[0;32melse\u001b[0m\u001b[0;34m:\u001b[0m\u001b[0;34m\u001b[0m\u001b[0m\n\u001b[0;32m--> 674\u001b[0;31m             \u001b[0;32mraise\u001b[0m \u001b[0mNoDataError\u001b[0m\u001b[0;34m(\u001b[0m\u001b[0;34m\"This Timestep has no velocities\"\u001b[0m\u001b[0;34m)\u001b[0m\u001b[0;34m\u001b[0m\u001b[0m\n\u001b[0m\u001b[1;32m    675\u001b[0m \u001b[0;34m\u001b[0m\u001b[0m\n\u001b[1;32m    676\u001b[0m     \u001b[0;34m@\u001b[0m\u001b[0mvelocities\u001b[0m\u001b[0;34m.\u001b[0m\u001b[0msetter\u001b[0m\u001b[0;34m\u001b[0m\u001b[0m\n",
      "\u001b[0;31mNoDataError\u001b[0m: This Timestep has no velocities"
     ]
    }
   ],
   "source": [
    "ts.velocities"
   ]
  },
  {
   "cell_type": "code",
   "execution_count": 25,
   "metadata": {},
   "outputs": [
    {
     "ename": "NoDataError",
     "evalue": "This Timestep has no forces",
     "output_type": "error",
     "traceback": [
      "\u001b[0;31m---------------------------------------------------------------------------\u001b[0m",
      "\u001b[0;31mNoDataError\u001b[0m                               Traceback (most recent call last)",
      "\u001b[0;32m<ipython-input-25-5374c0a8825f>\u001b[0m in \u001b[0;36m<module>\u001b[0;34m\u001b[0m\n\u001b[0;32m----> 1\u001b[0;31m \u001b[0mts\u001b[0m\u001b[0;34m.\u001b[0m\u001b[0mforces\u001b[0m\u001b[0;34m\u001b[0m\u001b[0m\n\u001b[0m",
      "\u001b[0;32m~/miniconda3/envs/mda19/lib/python3.6/site-packages/MDAnalysis/coordinates/base.py\u001b[0m in \u001b[0;36mforces\u001b[0;34m(self)\u001b[0m\n\u001b[1;32m    722\u001b[0m             \u001b[0;32mreturn\u001b[0m \u001b[0mself\u001b[0m\u001b[0;34m.\u001b[0m\u001b[0m_forces\u001b[0m\u001b[0;34m\u001b[0m\u001b[0m\n\u001b[1;32m    723\u001b[0m         \u001b[0;32melse\u001b[0m\u001b[0;34m:\u001b[0m\u001b[0;34m\u001b[0m\u001b[0m\n\u001b[0;32m--> 724\u001b[0;31m             \u001b[0;32mraise\u001b[0m \u001b[0mNoDataError\u001b[0m\u001b[0;34m(\u001b[0m\u001b[0;34m\"This Timestep has no forces\"\u001b[0m\u001b[0;34m)\u001b[0m\u001b[0;34m\u001b[0m\u001b[0m\n\u001b[0m\u001b[1;32m    725\u001b[0m \u001b[0;34m\u001b[0m\u001b[0m\n\u001b[1;32m    726\u001b[0m     \u001b[0;34m@\u001b[0m\u001b[0mforces\u001b[0m\u001b[0;34m.\u001b[0m\u001b[0msetter\u001b[0m\u001b[0;34m\u001b[0m\u001b[0m\n",
      "\u001b[0;31mNoDataError\u001b[0m: This Timestep has no forces"
     ]
    }
   ],
   "source": [
    "ts.forces"
   ]
  },
  {
   "cell_type": "markdown",
   "metadata": {},
   "source": [
    "What is the time between frames?"
   ]
  },
  {
   "cell_type": "code",
   "execution_count": 26,
   "metadata": {},
   "outputs": [
    {
     "data": {
      "text/plain": [
       "48.888207086035614"
      ]
     },
     "execution_count": 26,
     "metadata": {},
     "output_type": "execute_result"
    }
   ],
   "source": [
    "ts.dt"
   ]
  },
  {
   "cell_type": "markdown",
   "metadata": {},
   "source": [
    "### Moving forward... or anywhere\n",
    "`Universe.trajectory` behaves a bit like a list of Timesteps:\n",
    "* index --> `Timestep`: go to frame\n",
    "* iterate --> `Timestep`: go to each frame in sequence\n",
    "* slice --> new trajectory iterator"
   ]
  },
  {
   "cell_type": "markdown",
   "metadata": {},
   "source": [
    "#### Trajectory indexing\n",
    "\n",
    "Trajectory indexing and slicing uses **0-based indices** (as in standard Python) and MDAnalysis also numbers frames starting with 0. Thus the \"tenth frame\" in a trajectory has ``ts.frame == 9``.\n",
    "\n",
    "Let's move to an arbitrary frame in the trajectory:"
   ]
  },
  {
   "cell_type": "code",
   "execution_count": 31,
   "metadata": {},
   "outputs": [
    {
     "data": {
      "text/plain": [
       "< Timestep 42 with unit cell dimensions [ 0.  0.  0. 90. 90. 90.] >"
      ]
     },
     "execution_count": 31,
     "metadata": {},
     "output_type": "execute_result"
    }
   ],
   "source": [
    "u.trajectory[42]"
   ]
  },
  {
   "cell_type": "code",
   "execution_count": 32,
   "metadata": {},
   "outputs": [
    {
     "data": {
      "text/plain": [
       "42"
      ]
     },
     "execution_count": 32,
     "metadata": {},
     "output_type": "execute_result"
    }
   ],
   "source": [
    "u.trajectory.ts.frame"
   ]
  },
  {
   "cell_type": "code",
   "execution_count": 34,
   "metadata": {},
   "outputs": [
    {
     "data": {
      "text/plain": [
       "0"
      ]
     },
     "execution_count": 34,
     "metadata": {},
     "output_type": "execute_result"
    }
   ],
   "source": [
    "ts.frame"
   ]
  },
  {
   "cell_type": "code",
   "execution_count": 37,
   "metadata": {},
   "outputs": [
    {
     "data": {
      "text/plain": [
       "< Timestep 19668 with unit cell dimensions [ 0.  0.  0. 90. 90. 90.] >"
      ]
     },
     "execution_count": 37,
     "metadata": {},
     "output_type": "execute_result"
    }
   ],
   "source": [
    "u.trajectory[-23]"
   ]
  },
  {
   "cell_type": "code",
   "execution_count": 38,
   "metadata": {},
   "outputs": [
    {
     "data": {
      "text/plain": [
       "< Timestep 19668 with unit cell dimensions [ 0.  0.  0. 90. 90. 90.] >"
      ]
     },
     "execution_count": 38,
     "metadata": {},
     "output_type": "execute_result"
    }
   ],
   "source": [
    "u.trajectory.ts"
   ]
  },
  {
   "cell_type": "markdown",
   "metadata": {},
   "source": [
    "Note that you *cannot* \"remember\" a `Timestep`: The following will *not keep a copy of the timeset at frame 20*:"
   ]
  },
  {
   "cell_type": "code",
   "execution_count": 39,
   "metadata": {},
   "outputs": [],
   "source": [
    "ts20 = u.trajectory[20]"
   ]
  },
  {
   "cell_type": "code",
   "execution_count": 40,
   "metadata": {},
   "outputs": [
    {
     "data": {
      "text/plain": [
       "20"
      ]
     },
     "execution_count": 40,
     "metadata": {},
     "output_type": "execute_result"
    }
   ],
   "source": [
    "ts20.frame"
   ]
  },
  {
   "cell_type": "code",
   "execution_count": 41,
   "metadata": {},
   "outputs": [
    {
     "data": {
      "text/plain": [
       "< Timestep 42 with unit cell dimensions [ 0.  0.  0. 90. 90. 90.] >"
      ]
     },
     "execution_count": 41,
     "metadata": {},
     "output_type": "execute_result"
    }
   ],
   "source": [
    "u.trajectory[42]"
   ]
  },
  {
   "cell_type": "code",
   "execution_count": 42,
   "metadata": {},
   "outputs": [
    {
     "data": {
      "text/plain": [
       "< Timestep 20 with unit cell dimensions [ 0.  0.  0. 90. 90. 90.] >"
      ]
     },
     "execution_count": 42,
     "metadata": {},
     "output_type": "execute_result"
    }
   ],
   "source": [
    "ts20"
   ]
  },
  {
   "cell_type": "markdown",
   "metadata": {},
   "source": [
    "If you *really* want to, you can make a copy (but this is not used very much):"
   ]
  },
  {
   "cell_type": "code",
   "execution_count": 43,
   "metadata": {},
   "outputs": [],
   "source": [
    "ts42copy = u.trajectory.ts.copy()"
   ]
  },
  {
   "cell_type": "code",
   "execution_count": 44,
   "metadata": {},
   "outputs": [
    {
     "data": {
      "text/plain": [
       "42"
      ]
     },
     "execution_count": 44,
     "metadata": {},
     "output_type": "execute_result"
    }
   ],
   "source": [
    "ts42copy.frame"
   ]
  },
  {
   "cell_type": "code",
   "execution_count": 45,
   "metadata": {},
   "outputs": [
    {
     "data": {
      "text/plain": [
       "< Timestep 2 with unit cell dimensions [ 0.  0.  0. 90. 90. 90.] >"
      ]
     },
     "execution_count": 45,
     "metadata": {},
     "output_type": "execute_result"
    }
   ],
   "source": [
    "u.trajectory[2]"
   ]
  },
  {
   "cell_type": "code",
   "execution_count": 46,
   "metadata": {},
   "outputs": [
    {
     "data": {
      "text/plain": [
       "42"
      ]
     },
     "execution_count": 46,
     "metadata": {},
     "output_type": "execute_result"
    }
   ],
   "source": [
    "ts42copy.frame"
   ]
  },
  {
   "cell_type": "markdown",
   "metadata": {},
   "source": [
    "#### Iteration and Slicing\n",
    "The **most common usage pattern** in MDAnalysis: Access each frame in a trajectory:"
   ]
  },
  {
   "cell_type": "code",
   "execution_count": 47,
   "metadata": {},
   "outputs": [
    {
     "data": {
      "text/plain": [
       "array([    0,     1,     2, ..., 19688, 19689, 19690])"
      ]
     },
     "execution_count": 47,
     "metadata": {},
     "output_type": "execute_result"
    }
   ],
   "source": [
    "results = []\n",
    "for ts in u.trajectory:\n",
    "    results.append(ts.frame)\n",
    "results = np.array(results)\n",
    "results"
   ]
  },
  {
   "cell_type": "markdown",
   "metadata": {},
   "source": [
    "... or arbitrary slices:"
   ]
  },
  {
   "cell_type": "code",
   "execution_count": 50,
   "metadata": {},
   "outputs": [
    {
     "data": {
      "text/plain": [
       "array([   10,    30,    50,    70,    90,   110,   130,   150,   170,\n",
       "         190,   210,   230,   250,   270,   290,   310,   330,   350,\n",
       "         370,   390,   410,   430,   450,   470,   490,   510,   530,\n",
       "         550,   570,   590,   610,   630,   650,   670,   690,   710,\n",
       "         730,   750,   770,   790,   810,   830,   850,   870,   890,\n",
       "         910,   930,   950,   970,   990,  1010,  1030,  1050,  1070,\n",
       "        1090,  1110,  1130,  1150,  1170,  1190,  1210,  1230,  1250,\n",
       "        1270,  1290,  1310,  1330,  1350,  1370,  1390,  1410,  1430,\n",
       "        1450,  1470,  1490,  1510,  1530,  1550,  1570,  1590,  1610,\n",
       "        1630,  1650,  1670,  1690,  1710,  1730,  1750,  1770,  1790,\n",
       "        1810,  1830,  1850,  1870,  1890,  1910,  1930,  1950,  1970,\n",
       "        1990,  2010,  2030,  2050,  2070,  2090,  2110,  2130,  2150,\n",
       "        2170,  2190,  2210,  2230,  2250,  2270,  2290,  2310,  2330,\n",
       "        2350,  2370,  2390,  2410,  2430,  2450,  2470,  2490,  2510,\n",
       "        2530,  2550,  2570,  2590,  2610,  2630,  2650,  2670,  2690,\n",
       "        2710,  2730,  2750,  2770,  2790,  2810,  2830,  2850,  2870,\n",
       "        2890,  2910,  2930,  2950,  2970,  2990,  3010,  3030,  3050,\n",
       "        3070,  3090,  3110,  3130,  3150,  3170,  3190,  3210,  3230,\n",
       "        3250,  3270,  3290,  3310,  3330,  3350,  3370,  3390,  3410,\n",
       "        3430,  3450,  3470,  3490,  3510,  3530,  3550,  3570,  3590,\n",
       "        3610,  3630,  3650,  3670,  3690,  3710,  3730,  3750,  3770,\n",
       "        3790,  3810,  3830,  3850,  3870,  3890,  3910,  3930,  3950,\n",
       "        3970,  3990,  4010,  4030,  4050,  4070,  4090,  4110,  4130,\n",
       "        4150,  4170,  4190,  4210,  4230,  4250,  4270,  4290,  4310,\n",
       "        4330,  4350,  4370,  4390,  4410,  4430,  4450,  4470,  4490,\n",
       "        4510,  4530,  4550,  4570,  4590,  4610,  4630,  4650,  4670,\n",
       "        4690,  4710,  4730,  4750,  4770,  4790,  4810,  4830,  4850,\n",
       "        4870,  4890,  4910,  4930,  4950,  4970,  4990,  5010,  5030,\n",
       "        5050,  5070,  5090,  5110,  5130,  5150,  5170,  5190,  5210,\n",
       "        5230,  5250,  5270,  5290,  5310,  5330,  5350,  5370,  5390,\n",
       "        5410,  5430,  5450,  5470,  5490,  5510,  5530,  5550,  5570,\n",
       "        5590,  5610,  5630,  5650,  5670,  5690,  5710,  5730,  5750,\n",
       "        5770,  5790,  5810,  5830,  5850,  5870,  5890,  5910,  5930,\n",
       "        5950,  5970,  5990,  6010,  6030,  6050,  6070,  6090,  6110,\n",
       "        6130,  6150,  6170,  6190,  6210,  6230,  6250,  6270,  6290,\n",
       "        6310,  6330,  6350,  6370,  6390,  6410,  6430,  6450,  6470,\n",
       "        6490,  6510,  6530,  6550,  6570,  6590,  6610,  6630,  6650,\n",
       "        6670,  6690,  6710,  6730,  6750,  6770,  6790,  6810,  6830,\n",
       "        6850,  6870,  6890,  6910,  6930,  6950,  6970,  6990,  7010,\n",
       "        7030,  7050,  7070,  7090,  7110,  7130,  7150,  7170,  7190,\n",
       "        7210,  7230,  7250,  7270,  7290,  7310,  7330,  7350,  7370,\n",
       "        7390,  7410,  7430,  7450,  7470,  7490,  7510,  7530,  7550,\n",
       "        7570,  7590,  7610,  7630,  7650,  7670,  7690,  7710,  7730,\n",
       "        7750,  7770,  7790,  7810,  7830,  7850,  7870,  7890,  7910,\n",
       "        7930,  7950,  7970,  7990,  8010,  8030,  8050,  8070,  8090,\n",
       "        8110,  8130,  8150,  8170,  8190,  8210,  8230,  8250,  8270,\n",
       "        8290,  8310,  8330,  8350,  8370,  8390,  8410,  8430,  8450,\n",
       "        8470,  8490,  8510,  8530,  8550,  8570,  8590,  8610,  8630,\n",
       "        8650,  8670,  8690,  8710,  8730,  8750,  8770,  8790,  8810,\n",
       "        8830,  8850,  8870,  8890,  8910,  8930,  8950,  8970,  8990,\n",
       "        9010,  9030,  9050,  9070,  9090,  9110,  9130,  9150,  9170,\n",
       "        9190,  9210,  9230,  9250,  9270,  9290,  9310,  9330,  9350,\n",
       "        9370,  9390,  9410,  9430,  9450,  9470,  9490,  9510,  9530,\n",
       "        9550,  9570,  9590,  9610,  9630,  9650,  9670,  9690,  9710,\n",
       "        9730,  9750,  9770,  9790,  9810,  9830,  9850,  9870,  9890,\n",
       "        9910,  9930,  9950,  9970,  9990, 10010, 10030, 10050, 10070,\n",
       "       10090, 10110, 10130, 10150, 10170, 10190, 10210, 10230, 10250,\n",
       "       10270, 10290, 10310, 10330, 10350, 10370, 10390, 10410, 10430,\n",
       "       10450, 10470, 10490, 10510, 10530, 10550, 10570, 10590, 10610,\n",
       "       10630, 10650, 10670, 10690, 10710, 10730, 10750, 10770, 10790,\n",
       "       10810, 10830, 10850, 10870, 10890, 10910, 10930, 10950, 10970,\n",
       "       10990, 11010, 11030, 11050, 11070, 11090, 11110, 11130, 11150,\n",
       "       11170, 11190, 11210, 11230, 11250, 11270, 11290, 11310, 11330,\n",
       "       11350, 11370, 11390, 11410, 11430, 11450, 11470, 11490, 11510,\n",
       "       11530, 11550, 11570, 11590, 11610, 11630, 11650, 11670, 11690,\n",
       "       11710, 11730, 11750, 11770, 11790, 11810, 11830, 11850, 11870,\n",
       "       11890, 11910, 11930, 11950, 11970, 11990, 12010, 12030, 12050,\n",
       "       12070, 12090, 12110, 12130, 12150, 12170, 12190, 12210, 12230,\n",
       "       12250, 12270, 12290, 12310, 12330, 12350, 12370, 12390, 12410,\n",
       "       12430, 12450, 12470, 12490, 12510, 12530, 12550, 12570, 12590,\n",
       "       12610, 12630, 12650, 12670, 12690, 12710, 12730, 12750, 12770,\n",
       "       12790, 12810, 12830, 12850, 12870, 12890, 12910, 12930, 12950,\n",
       "       12970, 12990, 13010, 13030, 13050, 13070, 13090, 13110, 13130,\n",
       "       13150, 13170, 13190, 13210, 13230, 13250, 13270, 13290, 13310,\n",
       "       13330, 13350, 13370, 13390, 13410, 13430, 13450, 13470, 13490,\n",
       "       13510, 13530, 13550, 13570, 13590, 13610, 13630, 13650, 13670,\n",
       "       13690, 13710, 13730, 13750, 13770, 13790, 13810, 13830, 13850,\n",
       "       13870, 13890, 13910, 13930, 13950, 13970, 13990, 14010, 14030,\n",
       "       14050, 14070, 14090, 14110, 14130, 14150, 14170, 14190, 14210,\n",
       "       14230, 14250, 14270, 14290, 14310, 14330, 14350, 14370, 14390,\n",
       "       14410, 14430, 14450, 14470, 14490, 14510, 14530, 14550, 14570,\n",
       "       14590, 14610, 14630, 14650, 14670, 14690, 14710, 14730, 14750,\n",
       "       14770, 14790, 14810, 14830, 14850, 14870, 14890, 14910, 14930,\n",
       "       14950, 14970, 14990, 15010, 15030, 15050, 15070, 15090, 15110,\n",
       "       15130, 15150, 15170, 15190, 15210, 15230, 15250, 15270, 15290,\n",
       "       15310, 15330, 15350, 15370, 15390, 15410, 15430, 15450, 15470,\n",
       "       15490, 15510, 15530, 15550, 15570, 15590, 15610, 15630, 15650,\n",
       "       15670, 15690, 15710, 15730, 15750, 15770, 15790, 15810, 15830,\n",
       "       15850, 15870, 15890, 15910, 15930, 15950, 15970, 15990, 16010,\n",
       "       16030, 16050, 16070, 16090, 16110, 16130, 16150, 16170, 16190,\n",
       "       16210, 16230, 16250, 16270, 16290, 16310, 16330, 16350, 16370,\n",
       "       16390, 16410, 16430, 16450, 16470, 16490, 16510, 16530, 16550,\n",
       "       16570, 16590, 16610, 16630, 16650, 16670, 16690, 16710, 16730,\n",
       "       16750, 16770, 16790, 16810, 16830, 16850, 16870, 16890, 16910,\n",
       "       16930, 16950, 16970, 16990, 17010, 17030, 17050, 17070, 17090,\n",
       "       17110, 17130, 17150, 17170, 17190, 17210, 17230, 17250, 17270,\n",
       "       17290, 17310, 17330, 17350, 17370, 17390, 17410, 17430, 17450,\n",
       "       17470, 17490, 17510, 17530, 17550, 17570, 17590, 17610, 17630,\n",
       "       17650, 17670, 17690, 17710, 17730, 17750, 17770, 17790, 17810,\n",
       "       17830, 17850, 17870, 17890, 17910, 17930, 17950, 17970, 17990,\n",
       "       18010, 18030, 18050, 18070, 18090, 18110, 18130, 18150, 18170,\n",
       "       18190, 18210, 18230, 18250, 18270, 18290, 18310, 18330, 18350,\n",
       "       18370, 18390, 18410, 18430, 18450, 18470, 18490, 18510, 18530,\n",
       "       18550, 18570, 18590, 18610, 18630, 18650, 18670, 18690, 18710,\n",
       "       18730, 18750, 18770, 18790, 18810, 18830, 18850, 18870, 18890,\n",
       "       18910, 18930, 18950, 18970, 18990, 19010, 19030, 19050, 19070,\n",
       "       19090, 19110, 19130, 19150, 19170, 19190, 19210, 19230, 19250,\n",
       "       19270, 19290, 19310, 19330, 19350, 19370, 19390, 19410, 19430,\n",
       "       19450, 19470, 19490, 19510, 19530, 19550, 19570, 19590, 19610,\n",
       "       19630, 19650, 19670, 19690])"
      ]
     },
     "execution_count": 50,
     "metadata": {},
     "output_type": "execute_result"
    }
   ],
   "source": [
    "results = np.fromiter((ts.frame for ts in u.trajectory[10::20]), dtype=np.int64)\n",
    "results"
   ]
  },
  {
   "cell_type": "markdown",
   "metadata": {},
   "source": [
    "... and for numpy afficionados, \"fancy indexing\" also works:"
   ]
  },
  {
   "cell_type": "code",
   "execution_count": 51,
   "metadata": {},
   "outputs": [
    {
     "data": {
      "text/plain": [
       "array([10, 20, 10,  0])"
      ]
     },
     "execution_count": 51,
     "metadata": {},
     "output_type": "execute_result"
    }
   ],
   "source": [
    "results = np.fromiter((ts.frame for ts in u.trajectory[[10, 20, 10, 0]]), dtype=np.int64)\n",
    "results"
   ]
  },
  {
   "cell_type": "markdown",
   "metadata": {},
   "source": [
    "*Note*: It does not make sense to create a list of timesteps like\n",
    "```python\n",
    "timesteps = [ts for ts in u.trajectory]\n",
    "```\n",
    "or\n",
    "```python\n",
    "timesteps = list(u.trajectory)\n",
    "```\n",
    "because each list item will refer to the same currently active timestep (the first one because at the end of iteration the trajectory rewinds)."
   ]
  },
  {
   "cell_type": "markdown",
   "metadata": {},
   "source": [
    "#### Challenge: Reverse the trajectory "
   ]
  },
  {
   "cell_type": "markdown",
   "metadata": {},
   "source": [
    "Produce an array from `ts.frame` that is reversed, ie `[101, 100, ..., 1, 0]`"
   ]
  },
  {
   "cell_type": "code",
   "execution_count": 52,
   "metadata": {},
   "outputs": [
    {
     "data": {
      "text/plain": [
       "array([19690, 19689, 19688, ...,     2,     1,     0])"
      ]
     },
     "execution_count": 52,
     "metadata": {},
     "output_type": "execute_result"
    }
   ],
   "source": [
    "results = np.array([ts.frame for ts in reversed(u.trajectory)])\n",
    "results"
   ]
  },
  {
   "cell_type": "code",
   "execution_count": 53,
   "metadata": {},
   "outputs": [
    {
     "data": {
      "text/plain": [
       "array([19690, 19689, 19688, ...,     2,     1,     0])"
      ]
     },
     "execution_count": 53,
     "metadata": {},
     "output_type": "execute_result"
    }
   ],
   "source": [
    "np.array([ts.frame for ts in u.trajectory[::-1]])"
   ]
  },
  {
   "cell_type": "markdown",
   "metadata": {},
   "source": [
    "Note: slicing and indexing works for all trajectory formats!"
   ]
  },
  {
   "cell_type": "markdown",
   "metadata": {},
   "source": [
    "## Analyzing trajectories with `Atomgroup`s\n",
    "Using the raw `Timestep` positions is cumbersome. Moving the time step automatically updates all positions that `Atomgroup.positions` sees at this instance:"
   ]
  },
  {
   "cell_type": "code",
   "execution_count": 54,
   "metadata": {},
   "outputs": [
    {
     "data": {
      "text/plain": [
       "< Timestep 0 with unit cell dimensions [ 0.  0.  0. 90. 90. 90.] >"
      ]
     },
     "execution_count": 54,
     "metadata": {},
     "output_type": "execute_result"
    }
   ],
   "source": [
    "u.trajectory[0]"
   ]
  },
  {
   "cell_type": "code",
   "execution_count": 55,
   "metadata": {},
   "outputs": [
    {
     "data": {
      "text/plain": [
       "<AtomGroup with 3341 atoms>"
      ]
     },
     "execution_count": 55,
     "metadata": {},
     "output_type": "execute_result"
    }
   ],
   "source": [
    "protein = u.select_atoms(\"protein\")\n",
    "protein"
   ]
  },
  {
   "cell_type": "markdown",
   "metadata": {},
   "source": [
    "Calculate the radius of gyration\n",
    "\\begin{equation*}\n",
    "    R_{\\text{gyr}} = \\sqrt{\\frac{1}{M}\\sum_{i=1}^{N}m_{i}(\\textbf{r}_{i} - \\textbf{R})^{2}}\n",
    "\\end{equation*}\n",
    " with `AtomGroup.radius_of_gyration()`:"
   ]
  },
  {
   "cell_type": "code",
   "execution_count": 56,
   "metadata": {},
   "outputs": [
    {
     "data": {
      "text/plain": [
       "16.652347539723213"
      ]
     },
     "execution_count": 56,
     "metadata": {},
     "output_type": "execute_result"
    }
   ],
   "source": [
    "protein.radius_of_gyration()"
   ]
  },
  {
   "cell_type": "markdown",
   "metadata": {},
   "source": [
    "What's the current frame?"
   ]
  },
  {
   "cell_type": "code",
   "execution_count": 57,
   "metadata": {},
   "outputs": [
    {
     "data": {
      "text/plain": [
       "0"
      ]
     },
     "execution_count": 57,
     "metadata": {},
     "output_type": "execute_result"
    }
   ],
   "source": [
    "u.trajectory.ts.frame"
   ]
  },
  {
   "cell_type": "markdown",
   "metadata": {},
   "source": [
    "Move to the last one:"
   ]
  },
  {
   "cell_type": "code",
   "execution_count": 58,
   "metadata": {},
   "outputs": [
    {
     "data": {
      "text/plain": [
       "< Timestep 19690 with unit cell dimensions [ 0.  0.  0. 90. 90. 90.] >"
      ]
     },
     "execution_count": 58,
     "metadata": {},
     "output_type": "execute_result"
    }
   ],
   "source": [
    "u.trajectory[-1]"
   ]
  },
  {
   "cell_type": "code",
   "execution_count": 59,
   "metadata": {},
   "outputs": [
    {
     "data": {
      "text/plain": [
       "19.549907672246068"
      ]
     },
     "execution_count": 59,
     "metadata": {},
     "output_type": "execute_result"
    }
   ],
   "source": [
    "protein.radius_of_gyration()"
   ]
  },
  {
   "cell_type": "markdown",
   "metadata": {},
   "source": [
    "Remember: **All coordinate-dependent properties of an `AtomGroup` change when the trajectory index is changed.** Think of a pointer moving along the trajectory file. `AtomGroup` fetches coordinates from the frame that the pointer points to."
   ]
  },
  {
   "cell_type": "markdown",
   "metadata": {},
   "source": [
    "#### Example: radius of gyration time series\n",
    "Collect `(time, radius_of_gyration)` for the protein for frames and plot $R_{\\mathrm{gyr}}(t)$, with time in ps."
   ]
  },
  {
   "cell_type": "code",
   "execution_count": 77,
   "metadata": {},
   "outputs": [],
   "source": [
    "protein = u.select_atoms(\"protein\")\n",
    "results = []\n",
    "for ts in u.trajectory[:97]:\n",
    "    results.append((ts.time, protein.radius_of_gyration()))\n",
    "time, rgyr = np.transpose(results)"
   ]
  },
  {
   "cell_type": "code",
   "execution_count": 78,
   "metadata": {},
   "outputs": [
    {
     "data": {
      "text/plain": [
       "Text(0, 0.5, '$R_{\\\\mathrm{gyr}}$ ($\\\\AA$)')"
      ]
     },
     "execution_count": 78,
     "metadata": {},
     "output_type": "execute_result"
    },
    {
     "data": {
      "image/png": "[encoded data removed]",
      "text/plain": [
       "<Figure size 432x288 with 1 Axes>"
      ]
     },
     "metadata": {
      "needs_background": "light"
     },
     "output_type": "display_data"
    }
   ],
   "source": [
    "ax = plt.subplot(111)\n",
    "ax.plot(time, rgyr)\n",
    "ax.set_xlabel(\"time (ps)\")\n",
    "ax.set_ylabel(r\"$R_{\\mathrm{gyr}}$ ($\\AA$)\")"
   ]
  },
  {
   "cell_type": "markdown",
   "metadata": {},
   "source": [
    "#### Challenge: Plot $R_\\mathrm{gyr}$ for equilibrium MD simulation "
   ]
  },
  {
   "cell_type": "code",
   "execution_count": 79,
   "metadata": {},
   "outputs": [],
   "source": [
    "peq = eq.select_atoms(\"protein\")\n",
    "eqrgyr = np.array([(ts.time, peq.radius_of_gyration()) for ts in eq.trajectory]).transpose()"
   ]
  },
  {
   "cell_type": "code",
   "execution_count": 80,
   "metadata": {},
   "outputs": [
    {
     "data": {
      "text/plain": [
       "[<matplotlib.lines.Line2D at 0xb20da0630>]"
      ]
     },
     "execution_count": 80,
     "metadata": {},
     "output_type": "execute_result"
    },
    {
     "data": {
      "image/png": "[encoded data removed]",
      "text/plain": [
       "<Figure size 432x288 with 1 Axes>"
      ]
     },
     "metadata": {
      "needs_background": "light"
     },
     "output_type": "display_data"
    }
   ],
   "source": [
    "plt.plot(eqrgyr[0], eqrgyr[1])"
   ]
  },
  {
   "cell_type": "markdown",
   "metadata": {},
   "source": [
    "#### CHALLENGE: Collective variable analysis of AdK\n",
    "\n",
    "1. Generate timeseries for domain angles, i.e. $t$, $\\theta_\\mathrm{NMP}(t)$, $\\theta_\\mathrm{LID}(t)$, using the previously defined functions `theta_NMP()` and `theta_LID()`.\n",
    "2. Plot (a) the time series, (b) the angles against each other.\n",
    "3. Bonus: \n",
    "   - is the radius of gyration correlated with the angles?\n",
    "   - for one of the equilibrium trajectories?"
   ]
  },
  {
   "cell_type": "code",
   "execution_count": 81,
   "metadata": {},
   "outputs": [],
   "source": [
    "import numpy as np\n",
    "from numpy.linalg import norm\n",
    "\n",
    "def theta_NMP(ag):\n",
    "    \"\"\"Calculate the NMP-CORE angle for E. coli AdK in degrees\"\"\"\n",
    "    C = ag.select_atoms(\"resid 115:125 and backbone\").center_of_geometry()\n",
    "    B = ag.select_atoms(\"resid 90:100 and backbone\").center_of_geometry()\n",
    "    A = ag.select_atoms(\"resid 35:55 and backbone\").center_of_geometry()\n",
    "    BA = A - B\n",
    "    BC = C - B\n",
    "    theta = np.arccos(np.dot(BA, BC)/(norm(BA)*norm(BC)))\n",
    "    return np.rad2deg(theta)\n",
    "\n",
    "def theta_LID(ag):\n",
    "    \"\"\"Calculate the LID-CORE angle for E. coli AdK in degrees\"\"\"\n",
    "    C = ag.select_atoms(\"resid 179:185 and backbone\").center_of_geometry()\n",
    "    B = ag.select_atoms(\"resid 115:125 and backbone\").center_of_geometry()\n",
    "    A = ag.select_atoms(\"resid 125:153 and backbone\").center_of_geometry()\n",
    "    BA = A - B\n",
    "    BC = C - B\n",
    "    theta = np.arccos(np.dot(BA, BC)/(norm(BA)*norm(BC)))\n",
    "    return np.rad2deg(theta)"
   ]
  },
  {
   "cell_type": "code",
   "execution_count": 82,
   "metadata": {},
   "outputs": [],
   "source": [
    "data = np.array([[ts.time, theta_NMP(u), theta_LID(u)] for ts in u.trajectory[:97]])"
   ]
  },
  {
   "cell_type": "code",
   "execution_count": 83,
   "metadata": {},
   "outputs": [
    {
     "data": {
      "text/plain": [
       "array([[  0.        ,  43.15551665, 105.52097184],\n",
       "       [ 48.88820709,  44.16048346, 107.49152398],\n",
       "       [ 97.77641417,  44.29206964, 108.53776272]])"
      ]
     },
     "execution_count": 83,
     "metadata": {},
     "output_type": "execute_result"
    }
   ],
   "source": [
    "data[:3]"
   ]
  },
  {
   "cell_type": "code",
   "execution_count": 84,
   "metadata": {},
   "outputs": [],
   "source": [
    "time, aNMP, aLID = data.transpose()"
   ]
  },
  {
   "cell_type": "code",
   "execution_count": 85,
   "metadata": {},
   "outputs": [
    {
     "data": {
      "image/png": "[encoded data removed]",
      "text/plain": [
       "<Figure size 432x288 with 2 Axes>"
      ]
     },
     "metadata": {
      "needs_background": "light"
     },
     "output_type": "display_data"
    }
   ],
   "source": [
    "ax1 = plt.subplot(121)\n",
    "ax1.plot(time, aNMP, label=\"NMP\")\n",
    "ax1.plot(time, aLID, label=\"LID\")\n",
    "ax1.set_xlabel(\"time (ps)\")\n",
    "ax1.set_ylabel(\"angle (degree)\")\n",
    "ax1.legend(loc=\"best\")\n",
    "ax2 = plt.subplot(122)\n",
    "ax2.plot(aNMP, aLID)\n",
    "ax2.set_xlabel(r\"$\\theta_\\mathrm{NMP}$\")\n",
    "ax2.set_ylabel(r\"$\\theta_\\mathrm{LID}$\")\n",
    "ax2.set_aspect(1)\n",
    "plt.tight_layout()"
   ]
  },
  {
   "cell_type": "code",
   "execution_count": 86,
   "metadata": {},
   "outputs": [
    {
     "data": {
      "text/plain": [
       "<matplotlib.legend.Legend at 0xb211367b8>"
      ]
     },
     "execution_count": 86,
     "metadata": {},
     "output_type": "execute_result"
    },
    {
     "data": {
      "image/png": "[encoded data removed]",
      "text/plain": [
       "<Figure size 432x288 with 1 Axes>"
      ]
     },
     "metadata": {
      "needs_background": "light"
     },
     "output_type": "display_data"
    }
   ],
   "source": [
    "ax = plt.subplot(111)\n",
    "ax.plot(rgyr-rgyr[0], aNMP-aNMP[0], label=\"NMP\")\n",
    "ax.plot(rgyr-rgyr[0], aLID-aLID[0], label=\"LID\")\n",
    "ax.set_xlabel(r\"$\\Delta R_\\mathrm{gyr}$ ($\\AA$)\")\n",
    "ax.set_ylabel(r\"$\\Delta\\theta$ (degrees)\")\n",
    "ax.legend(loc=\"best\")\n"
   ]
  },
  {
   "cell_type": "markdown",
   "metadata": {},
   "source": [
    "Bonus: note, only use first 200 frames of the equilibrium trajectory."
   ]
  },
  {
   "cell_type": "code",
   "execution_count": 87,
   "metadata": {},
   "outputs": [],
   "source": [
    "eqdata = np.array([[ts.time, theta_NMP(eq), theta_LID(eq)] for ts in eq.trajectory[:200]]).transpose()"
   ]
  },
  {
   "cell_type": "code",
   "execution_count": 88,
   "metadata": {},
   "outputs": [
    {
     "data": {
      "image/png": "[encoded data removed]",
      "text/plain": [
       "<Figure size 432x288 with 2 Axes>"
      ]
     },
     "metadata": {
      "needs_background": "light"
     },
     "output_type": "display_data"
    }
   ],
   "source": [
    "ax1 = plt.subplot(121)\n",
    "ax1.plot(eqdata[0]/1000, eqdata[1], label=\"NMP\")\n",
    "ax1.plot(eqdata[0]/1000, eqdata[2], label=\"LID\")\n",
    "ax1.set_xlabel(\"time (ns)\")\n",
    "ax1.set_ylabel(\"angle (degrees)\")\n",
    "ax2 = plt.subplot(122)\n",
    "ax2.plot(eqdata[1], eqdata[2])\n",
    "ax2.plot(aNMP, aLID, color=\"red\")\n",
    "ax2.set_xlabel(r\"$\\theta_\\mathrm{NMP}$\")\n",
    "ax2.set_ylabel(r\"$\\theta_\\mathrm{LID}$\")\n",
    "ax2.set_aspect(1)\n",
    "plt.tight_layout()"
   ]
  },
  {
   "cell_type": "markdown",
   "metadata": {},
   "source": [
    "### Digression: using frame indices to filter a trajectory"
   ]
  },
  {
   "cell_type": "markdown",
   "metadata": {},
   "source": [
    "If you have a quantity that is ceap to compute, you can use it to filter a trajectory:"
   ]
  },
  {
   "cell_type": "code",
   "execution_count": 89,
   "metadata": {},
   "outputs": [],
   "source": [
    "peq = eq.select_atoms(\"protein\")\n",
    "closed = [ts.frame for ts in eq.trajectory[:100] if peq.radius_of_gyration() < 19]"
   ]
  },
  {
   "cell_type": "code",
   "execution_count": 90,
   "metadata": {},
   "outputs": [
    {
     "data": {
      "text/plain": [
       "<MDAnalysis.coordinates.base.FrameIteratorIndices at 0xb21320438>"
      ]
     },
     "execution_count": 90,
     "metadata": {},
     "output_type": "execute_result"
    }
   ],
   "source": [
    "u.trajectory[closed]"
   ]
  },
  {
   "cell_type": "code",
   "execution_count": 91,
   "metadata": {},
   "outputs": [
    {
     "data": {
      "text/plain": [
       "[<matplotlib.lines.Line2D at 0xb2131fb38>]"
      ]
     },
     "execution_count": 91,
     "metadata": {},
     "output_type": "execute_result"
    },
    {
     "data": {
      "image/png": "[encoded data removed]",
      "text/plain": [
       "<Figure size 432x288 with 1 Axes>"
      ]
     },
     "metadata": {
      "needs_background": "light"
     },
     "output_type": "display_data"
    }
   ],
   "source": [
    "plt.plot(eqdata[0, closed], eqdata[1, closed], '+')\n",
    "plt.plot(eqdata[0, closed], eqdata[2, closed], '+')"
   ]
  },
  {
   "cell_type": "markdown",
   "metadata": {},
   "source": [
    "## Trajectory manipulation\n",
    "\n",
    "One can easily modify the coordinates of the current timestep: Either directly in `Timestep.positions` or via `AtomGroup` methods such as `translate` or `rotate`.\n",
    "\n",
    "In particular, we can optimally superimpose RMSD fitting.\n"
   ]
  },
  {
   "cell_type": "code",
   "execution_count": 92,
   "metadata": {},
   "outputs": [],
   "source": [
    "import MDAnalysis.analysis.rms as rms"
   ]
  },
  {
   "cell_type": "markdown",
   "metadata": {},
   "source": [
    "We want to calculate the RMSD for an optimal superposition of the C-alpha atoms. As a reference, we take the coordinates of the initial frame of the trajectory:"
   ]
  },
  {
   "cell_type": "code",
   "execution_count": 93,
   "metadata": {},
   "outputs": [],
   "source": [
    "ca = u.select_atoms(\"name CA\")\n",
    "\n",
    "u.trajectory[0]\n",
    "ref = ca.positions.copy()\n",
    "ref_com = ca.center_of_mass()"
   ]
  },
  {
   "cell_type": "markdown",
   "metadata": {},
   "source": [
    "Remove translations by moving to the center of mass of the reference:"
   ]
  },
  {
   "cell_type": "code",
   "execution_count": 94,
   "metadata": {},
   "outputs": [
    {
     "data": {
      "text/plain": [
       "<AtomGroup with 214 atoms>"
      ]
     },
     "execution_count": 94,
     "metadata": {},
     "output_type": "execute_result"
    }
   ],
   "source": [
    "u.trajectory[-1]\n",
    "ca.translate(-ca.center_of_mass() + ref_com)"
   ]
  },
  {
   "cell_type": "markdown",
   "metadata": {},
   "source": [
    "Then calculate the RMSD after optimum RMSD superposition with `rmsd()`:"
   ]
  },
  {
   "cell_type": "code",
   "execution_count": 95,
   "metadata": {},
   "outputs": [
    {
     "data": {
      "text/plain": [
       "7.347633833633634"
      ]
     },
     "execution_count": 95,
     "metadata": {},
     "output_type": "execute_result"
    }
   ],
   "source": [
    "rms.rmsd(ca.positions, ref)"
   ]
  },
  {
   "cell_type": "markdown",
   "metadata": {},
   "source": [
    "Actually, `rmsd()` has the *center* keyword that does a superposition for us:"
   ]
  },
  {
   "cell_type": "code",
   "execution_count": 96,
   "metadata": {},
   "outputs": [
    {
     "data": {
      "text/plain": [
       "2.5637372031369803"
      ]
     },
     "execution_count": 96,
     "metadata": {},
     "output_type": "execute_result"
    }
   ],
   "source": [
    "u.trajectory[20]\n",
    "rms.rmsd(ca.positions, ref, center=True)"
   ]
  },
  {
   "cell_type": "code",
   "execution_count": 97,
   "metadata": {},
   "outputs": [
    {
     "data": {
      "text/plain": [
       "7.335508702256255"
      ]
     },
     "execution_count": 97,
     "metadata": {},
     "output_type": "execute_result"
    }
   ],
   "source": [
    "u.trajectory[-2]\n",
    "rms.rmsd(ca.positions, ref, center=True)"
   ]
  },
  {
   "cell_type": "markdown",
   "metadata": {},
   "source": [
    "You can manually superimpose using translation and the optimal rotation matrix (from `rms.rotation_matrix()`) but for many use cases see the contents of the [MDAnalysis.analysis.align](http://pythonhosted.org/MDAnalysis/documentation_pages/analysis/align.html) module."
   ]
  },
  {
   "cell_type": "code",
   "execution_count": 98,
   "metadata": {},
   "outputs": [],
   "source": [
    "# maybe??? alignto()"
   ]
  },
  {
   "cell_type": "markdown",
   "metadata": {},
   "source": [
    "#### Challenge: RMSD time series\n",
    "Calculate $\\mathrm{RMSD}(t)$ (relative to the initial frame) and plot it.\n",
    "\n",
    "* use the \"manual\" approach (instead of `MDAnalysis.rms.RMSD` ;-)\n",
    "* Bonus: compare the DIMS trajectories to the equilibrium trajectories (hint: plot as fraction of total time)"
   ]
  },
  {
   "cell_type": "code",
   "execution_count": 102,
   "metadata": {},
   "outputs": [],
   "source": [
    "data = np.array([[ts.time, rms.rmsd(ca.positions, ref, center=True)] \n",
    "                 for ts in u.trajectory[:97]]).transpose()"
   ]
  },
  {
   "cell_type": "code",
   "execution_count": 103,
   "metadata": {},
   "outputs": [
    {
     "data": {
      "text/plain": [
       "(2, 97)"
      ]
     },
     "execution_count": 103,
     "metadata": {},
     "output_type": "execute_result"
    }
   ],
   "source": [
    "data.shape"
   ]
  },
  {
   "cell_type": "code",
   "execution_count": 104,
   "metadata": {},
   "outputs": [
    {
     "data": {
      "text/plain": [
       "<matplotlib.legend.Legend at 0xb20cd22b0>"
      ]
     },
     "execution_count": 104,
     "metadata": {},
     "output_type": "execute_result"
    },
    {
     "data": {
      "image/png": "[encoded data removed]",
      "text/plain": [
       "<Figure size 432x288 with 1 Axes>"
      ]
     },
     "metadata": {
      "needs_background": "light"
     },
     "output_type": "display_data"
    }
   ],
   "source": [
    "ax1 = plt.subplot(111)\n",
    "ax1.plot(data[0], data[1], label=\"DIMS\")\n",
    "ax1.set_xlabel(\"time (ps)\")\n",
    "ax1.set_ylabel(r\"RMSD (\\AA)\")\n",
    "ax1.legend(loc=\"best\")"
   ]
  },
  {
   "cell_type": "markdown",
   "metadata": {},
   "source": [
    "## Writing trajectories\n",
    "Writing out coordinates (David introduced the selection writer)."
   ]
  },
  {
   "cell_type": "markdown",
   "metadata": {},
   "source": [
    "### Trajectory Writer\n",
    "Basic pattern:\n",
    "1. get a trajectory writer\n",
    "   - use `with` and context manager\n",
    "   - provide `n_atoms` (typically from the `AtomGroup` that you are going to write)\n",
    "   - can use `format` keyword argument if extension is not recognized\n",
    "2. iterate through a trajectory\n",
    "3. `write()` each time step (or `AtomGroup`)\n",
    "4. (close trajectory --- done by context manager)"
   ]
  },
  {
   "cell_type": "markdown",
   "metadata": {
    "collapsed": true
   },
   "source": [
    "Converting trajectory formats:"
   ]
  },
  {
   "cell_type": "code",
   "execution_count": 81,
   "metadata": {},
   "outputs": [],
   "source": [
    "xtc = \"new.xtc\"\n",
    "with mda.Writer(xtc, n_atoms=u.atoms.n_atoms) as W:\n",
    "    for ts in u.trajectory:\n",
    "        W.write(ts)"
   ]
  },
  {
   "cell_type": "code",
   "execution_count": 83,
   "metadata": {},
   "outputs": [
    {
     "name": "stdout",
     "output_type": "stream",
     "text": [
      "-rw-r--r-- 1 oliver oliver 1296904 Oct 13 15:01 new.xtc\r\n"
     ]
    }
   ],
   "source": [
    "!ls -l *.xtc "
   ]
  },
  {
   "cell_type": "code",
   "execution_count": 84,
   "metadata": {},
   "outputs": [
    {
     "data": {
      "text/plain": [
       "<Universe with 3341 atoms and 3365 bonds>"
      ]
     },
     "execution_count": 84,
     "metadata": {},
     "output_type": "execute_result"
    }
   ],
   "source": [
    "uxtc = mda.Universe(psf, xtc)\n",
    "uxtc"
   ]
  },
  {
   "cell_type": "code",
   "execution_count": 85,
   "metadata": {},
   "outputs": [],
   "source": [
    "import os\n",
    "os.unlink(xtc)"
   ]
  },
  {
   "cell_type": "markdown",
   "metadata": {},
   "source": [
    "# MDSynthesis appetizer "
   ]
  },
  {
   "cell_type": "markdown",
   "metadata": {},
   "source": [
    "Working with many trajectories is tedious...."
   ]
  },
  {
   "cell_type": "code",
   "execution_count": null,
   "metadata": {
    "collapsed": true
   },
   "outputs": [],
   "source": []
  }
 ],
 "metadata": {
  "kernelspec": {
   "display_name": "Python 3",
   "language": "python",
   "name": "python3"
  },
  "language_info": {
   "codemirror_mode": {
    "name": "ipython",
    "version": 3
   },
   "file_extension": ".py",
   "mimetype": "text/x-python",
   "name": "python",
   "nbconvert_exporter": "python",
   "pygments_lexer": "ipython3",
   "version": "3.6.6"
  }
 },
 "nbformat": 4,
 "nbformat_minor": 1
}
