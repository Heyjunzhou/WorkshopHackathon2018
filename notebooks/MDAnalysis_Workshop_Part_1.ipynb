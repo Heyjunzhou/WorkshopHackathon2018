{
 "cells": [
  {
   "cell_type": "markdown",
   "metadata": {},
   "source": [
    "This notebook introduces the fundamental objects of `MDAnalysis`:\n",
    " - the `Universe`,\n",
    " - `AtomGroup`, and `Atom` objects.\n",
    " - selecting and manipulating `AtomGroup`s\n",
    " - `Residue`s and `Segment`s\n",
    " - `Bond` `Angle` and `Dihedral`"
   ]
  },
  {
   "cell_type": "markdown",
   "metadata": {},
   "source": [
    "# 1. Fundamental objects"
   ]
  },
  {
   "cell_type": "markdown",
   "metadata": {},
   "source": [
    "## `Universes` and `AtomGroups`"
   ]
  },
  {
   "cell_type": "markdown",
   "metadata": {},
   "source": [
    "> \"If you wish to make an apple pie from scratch, you must first invent the Universe.\" \n",
    "\n",
    "> ~ Carl Sagan"
   ]
  },
  {
   "cell_type": "markdown",
   "metadata": {},
   "source": [
    "First, we need to import `MDAnalysis`, giving us access to all the components in its namespace:"
   ]
  },
  {
   "cell_type": "code",
   "execution_count": 2,
   "metadata": {},
   "outputs": [
    {
     "name": "stdout",
     "output_type": "stream",
     "text": [
      "0.19.1-dev\n",
      "0.3.0+6.g7d231ce\n"
     ]
    }
   ],
   "source": [
    "import MDAnalysis as mda\n",
    "import MDAnalysisData as data\n",
    "print(mda.__version__)\n",
    "print(data.__version__)"
   ]
  },
  {
   "cell_type": "markdown",
   "metadata": {},
   "source": [
    "One of the fundamental objects in the `MDAnalysis` data model is the `Universe` object.\n",
    "A `Universe` can be thought of as an interface to all the raw details of a simulation.\n",
    "It contains all of a simulations' topology information (names, charges, masses etc) at the least,\n",
    "but usually also includes trajectory information as well."
   ]
  },
  {
   "cell_type": "markdown",
   "metadata": {},
   "source": [
    "In order to do anything, we do need some actual molecular dynamics data to work with.\n",
    "You should have downloaded a dataset package for this workshop;\n",
    "Let's load a dataset."
   ]
  },
  {
   "cell_type": "code",
   "execution_count": 3,
   "metadata": {},
   "outputs": [
    {
     "name": "stdout",
     "output_type": "stream",
     "text": [
      ".. -*- coding: utf-8 -*-\n",
      "\n",
      ".. _`adk-equilibrium-dataset`:\n",
      "\n",
      "AdK equilibrium trajectory dataset\n",
      "==================================\n",
      "\n",
      "MD trajectory of apo adenylate kinase with CHARMM27 force field and\n",
      "simulated with explicit water and ions in NPT at 300 K and 1\n",
      "bar. Saved every 240 ps for a total of 1.004 µs. Produced on PSC\n",
      "Anton. The trajectory only contains the protein while all solvent was\n",
      "stripped in order to reduce the trajectory size. The whole protein was\n",
      "superimposed on the CORE domain of AdK by RMSD fitting.\n",
      "\n",
      "The topology is contained in the PSF file (CHARMM format). The\n",
      "trajectory is contained in the DCD file (CHARMM/NAMD format).\n",
      "\n",
      "\n",
      "Notes\n",
      "-----\n",
      "\n",
      "Data set characteristics:\n",
      "\n",
      " :size: 161 MB\n",
      " :number of trajectories: 1\n",
      " :number of frames:  4187\n",
      " :number of particles: 3341\n",
      " :creator: Sean Seyler\n",
      " :URL:  `10.6084/m9.figshare.5108170.v1 <https://doi.org/10.6084/m9.figshare.5108170.v1>`_\n",
      " :license: `CC-BY 4.0 <https://creativecommons.org/licenses/by/4.0/legalcode>`_\n",
      " :reference: [Seyler2017]_\n",
      "    \n",
      "\n",
      ".. [Seyler2017]  Seyler, Sean; Beckstein, Oliver (2017): Molecular dynamics\n",
      "\t   trajectory for benchmarking\n",
      "\t   MDAnalysis. figshare. Fileset. doi:\n",
      "\t   `10.6084/m9.figshare.5108170.v1\n",
      "\t   <https://doi.org/10.6084/m9.figshare.5108170.v1>`_\n",
      "\n",
      "\n"
     ]
    }
   ],
   "source": [
    "adk_dataset = data.datasets.fetch_adk_equilibrium()\n",
    "print(adk_dataset['DESCR'])"
   ]
  },
  {
   "cell_type": "markdown",
   "metadata": {},
   "source": [
    "To make a Universe, we need at the very least a topology file. We'll use one for a simulation system that includes adenylate kinase with the water removed:"
   ]
  },
  {
   "cell_type": "code",
   "execution_count": 24,
   "metadata": {},
   "outputs": [
    {
     "name": "stdout",
     "output_type": "stream",
     "text": [
      "<Universe with 3341 atoms>\n"
     ]
    }
   ],
   "source": [
    "u = mda.Universe(adk_dataset['topology'], adk_dataset['trajectory'])\n",
    "\n",
    "print(u)"
   ]
  },
  {
   "cell_type": "markdown",
   "metadata": {},
   "source": [
    "We now have a `Universe` object. Since the topology (PSF) file we loaded contained both atom identities and bond information, the `Universe` is able to access these details.\n",
    "\n",
    "We can access all atoms in the `Universe` through the `Universe.atoms` attribute.\n",
    "This returns an `AtomGroup` which is probably the most important class we will learn about."
   ]
  },
  {
   "cell_type": "code",
   "execution_count": 5,
   "metadata": {},
   "outputs": [
    {
     "data": {
      "text/plain": [
       "MDAnalysis.core.groups.AtomGroup"
      ]
     },
     "execution_count": 5,
     "metadata": {},
     "output_type": "execute_result"
    }
   ],
   "source": [
    "ag = u.atoms\n",
    "type(ag)"
   ]
  },
  {
   "cell_type": "markdown",
   "metadata": {},
   "source": [
    "We previously learnt about `numpy` arrays, which represent a series of numbers.\n",
    "\n",
    "An `AtomGroup` is like an array of atoms, and offers access to the data of these atoms:"
   ]
  },
  {
   "cell_type": "code",
   "execution_count": 6,
   "metadata": {},
   "outputs": [
    {
     "data": {
      "text/plain": [
       "array([   0,    1,    2, ..., 3338, 3339, 3340])"
      ]
     },
     "execution_count": 6,
     "metadata": {},
     "output_type": "execute_result"
    }
   ],
   "source": [
    "ag.indices"
   ]
  },
  {
   "cell_type": "code",
   "execution_count": 7,
   "metadata": {},
   "outputs": [
    {
     "data": {
      "text/plain": [
       "array(['N', 'HT1', 'HT2', ..., 'CA', 'HA1', 'HA2'], dtype=object)"
      ]
     },
     "execution_count": 7,
     "metadata": {},
     "output_type": "execute_result"
    }
   ],
   "source": [
    "ag.names"
   ]
  },
  {
   "cell_type": "code",
   "execution_count": 8,
   "metadata": {},
   "outputs": [
    {
     "data": {
      "text/plain": [
       "array(['MET', 'MET', 'MET', ..., 'GLY', 'GLY', 'GLY'], dtype=object)"
      ]
     },
     "execution_count": 8,
     "metadata": {},
     "output_type": "execute_result"
    }
   ],
   "source": [
    "ag.resnames"
   ]
  },
  {
   "cell_type": "code",
   "execution_count": 9,
   "metadata": {},
   "outputs": [
    {
     "data": {
      "text/plain": [
       "array([  1,   1,   1, ..., 214, 214, 214])"
      ]
     },
     "execution_count": 9,
     "metadata": {},
     "output_type": "execute_result"
    }
   ],
   "source": [
    "ag.resids"
   ]
  },
  {
   "cell_type": "code",
   "execution_count": 10,
   "metadata": {},
   "outputs": [
    {
     "data": {
      "text/plain": [
       "array([-0.30000001,  0.33000001,  0.33000001, ..., -0.02      ,\n",
       "        0.09      ,  0.09      ])"
      ]
     },
     "execution_count": 10,
     "metadata": {},
     "output_type": "execute_result"
    }
   ],
   "source": [
    "ag.charges"
   ]
  },
  {
   "cell_type": "code",
   "execution_count": 11,
   "metadata": {},
   "outputs": [
    {
     "data": {
      "text/plain": [
       "array([14.007,  1.008,  1.008, ..., 12.011,  1.008,  1.008])"
      ]
     },
     "execution_count": 11,
     "metadata": {},
     "output_type": "execute_result"
    }
   ],
   "source": [
    "ag.masses"
   ]
  },
  {
   "cell_type": "code",
   "execution_count": 12,
   "metadata": {},
   "outputs": [
    {
     "data": {
      "text/plain": [
       "array(['NH3', 'HC', 'HC', ..., 'CT2', 'HB', 'HB'], dtype=object)"
      ]
     },
     "execution_count": 12,
     "metadata": {},
     "output_type": "execute_result"
    }
   ],
   "source": [
    "ag.types"
   ]
  },
  {
   "cell_type": "markdown",
   "metadata": {},
   "source": [
    "All of these attributes of an `AtomGroup` return numpy arrays of the same length as the `AtomGroup` itself;\n",
    "that is, each element corresponds to each atom in the `AtomGroup`, in order."
   ]
  },
  {
   "cell_type": "markdown",
   "metadata": {},
   "source": [
    "## Working with individual atoms"
   ]
  },
  {
   "cell_type": "markdown",
   "metadata": {},
   "source": [
    "We can also work with individual atoms, though in practice this is rare, and in the future will be relatively inefficient when operating on multiple atoms compared to operating on a whole `AtomGroup`. At the moment, however, these operations are comparable in speed."
   ]
  },
  {
   "cell_type": "code",
   "execution_count": 13,
   "metadata": {},
   "outputs": [
    {
     "name": "stdout",
     "output_type": "stream",
     "text": [
      "<Atom 1: N of type NH3 of resname MET, resid 1 and segid ADK>\n"
     ]
    }
   ],
   "source": [
    "a = u.atoms[0]\n",
    "print(a)"
   ]
  },
  {
   "cell_type": "code",
   "execution_count": 14,
   "metadata": {},
   "outputs": [
    {
     "name": "stdout",
     "output_type": "stream",
     "text": [
      "name: N\n",
      "resid: 1\n",
      "resname: MET\n"
     ]
    }
   ],
   "source": [
    "print(\"name:\", a.name)\n",
    "print(\"resid:\", a.resid)\n",
    "print(\"resname:\", a.resname)"
   ]
  },
  {
   "cell_type": "markdown",
   "metadata": {},
   "source": [
    "# Selecting atoms\n",
    "\n",
    "It is also rare that we want to operate on all atoms in the system!\n",
    "MDAnalysis offers a few ways to select atoms,\n",
    "in this sectio we will go over the most useful methods."
   ]
  },
  {
   "cell_type": "markdown",
   "metadata": {},
   "source": [
    "## Numpy style selections\n",
    "\n",
    "As previously mentioned, an `AtomGroup` is like an array of atoms,\n",
    "and therefore we can slice it exactly like we would slice a `numpy` array\n",
    "\n",
    "### Fancy indexing\n",
    "\n",
    "The simplest option to select specific atom is to use fancy indexing. You can specify the atoms in a list"
   ]
  },
  {
   "cell_type": "code",
   "execution_count": 15,
   "metadata": {},
   "outputs": [
    {
     "data": {
      "text/plain": [
       "<AtomGroup with 4 atoms>"
      ]
     },
     "execution_count": 15,
     "metadata": {},
     "output_type": "execute_result"
    }
   ],
   "source": [
    "u.atoms[[1, 4, 5 , 0]]"
   ]
  },
  {
   "cell_type": "markdown",
   "metadata": {},
   "source": [
    "or as a range"
   ]
  },
  {
   "cell_type": "code",
   "execution_count": 16,
   "metadata": {},
   "outputs": [
    {
     "data": {
      "text/plain": [
       "<AtomGroup with 9 atoms>"
      ]
     },
     "execution_count": 16,
     "metadata": {},
     "output_type": "execute_result"
    }
   ],
   "source": [
    "u.atoms[1:10]"
   ]
  },
  {
   "cell_type": "markdown",
   "metadata": {},
   "source": [
    "### Boolean indexing\n",
    "\n",
    "You can also create an array with True/False values of the same length as the atomgroup. Every atom for which the array is set to True will be selected."
   ]
  },
  {
   "cell_type": "code",
   "execution_count": 17,
   "metadata": {},
   "outputs": [
    {
     "name": "stdout",
     "output_type": "stream",
     "text": [
      "selection array =  [False False False ...  True  True  True]\n"
     ]
    },
    {
     "data": {
      "text/plain": [
       "<AtomGroup with 141 atoms>"
      ]
     },
     "execution_count": 17,
     "metadata": {},
     "output_type": "execute_result"
    }
   ],
   "source": [
    "selection_ar = u.atoms.resnames == 'GLY'\n",
    "print(\"selection array = \", selection_ar)\n",
    "u.atoms[selection_ar]"
   ]
  },
  {
   "cell_type": "markdown",
   "metadata": {},
   "source": [
    "or shorter"
   ]
  },
  {
   "cell_type": "code",
   "execution_count": 18,
   "metadata": {},
   "outputs": [
    {
     "data": {
      "text/plain": [
       "<AtomGroup with 141 atoms>"
      ]
     },
     "execution_count": 18,
     "metadata": {},
     "output_type": "execute_result"
    }
   ],
   "source": [
    "u.atoms[u.atoms.resnames == 'GLY']"
   ]
  },
  {
   "cell_type": "markdown",
   "metadata": {},
   "source": [
    "## Selection Strings"
   ]
  },
  {
   "cell_type": "markdown",
   "metadata": {},
   "source": [
    "We've already seen that complex selections can be performed on `AtomGroups` using numpy style indexing.\n",
    "However, `MDAnalysis` also features a CHARMM-style atom selection mechanism that is often more convenient."
   ]
  },
  {
   "cell_type": "code",
   "execution_count": null,
   "metadata": {},
   "outputs": [],
   "source": [
    "u.atoms.select_atoms?"
   ]
  },
  {
   "cell_type": "markdown",
   "metadata": {},
   "source": [
    "Although boolean selections work well enough for selecting out atoms from AtomGroups, the selection language makes more complex selections possible with probably less effort. For example, we can selections of the "
   ]
  },
  {
   "cell_type": "code",
   "execution_count": 20,
   "metadata": {},
   "outputs": [
    {
     "data": {
      "text/plain": [
       "<AtomGroup with 474 atoms>"
      ]
     },
     "execution_count": 20,
     "metadata": {},
     "output_type": "execute_result"
    }
   ],
   "source": [
    "acidic = u.select_atoms(\"(resname GLU or resname ASP)\")\n",
    "acidic"
   ]
  },
  {
   "cell_type": "code",
   "execution_count": 21,
   "metadata": {},
   "outputs": [
    {
     "data": {
      "text/plain": [
       "<AtomGroup with 70 atoms>"
      ]
     },
     "execution_count": 21,
     "metadata": {},
     "output_type": "execute_result"
    }
   ],
   "source": [
    "acidic_o = acidic.select_atoms('(name OD* or name OE*)')\n",
    "acidic_o"
   ]
  },
  {
   "cell_type": "markdown",
   "metadata": {},
   "source": [
    "As a shortcut, multiple values can be given and these will be implicitly OR'd together.\n",
    "For example to select all atoms with name NZ OR NH* in residues named LYS or ARG:"
   ]
  },
  {
   "cell_type": "code",
   "execution_count": 22,
   "metadata": {},
   "outputs": [
    {
     "data": {
      "text/plain": [
       "<AtomGroup with 44 atoms>"
      ]
     },
     "execution_count": 22,
     "metadata": {},
     "output_type": "execute_result"
    }
   ],
   "source": [
    "basic_n = u.select_atoms( \"(resname LYS ARG) and (name NZ NH*)\")\n",
    "basic_n"
   ]
  },
  {
   "cell_type": "markdown",
   "metadata": {},
   "source": [
    "### Geometric selections\n",
    "\n",
    "The `select_atoms` method also has various geometric keywords that make selecting atoms based on geometric criteria much easier.\n",
    "\n",
    "If we want only residues that are involved in salt bridges, we can use our `AtomGroups` as part of additional selections. We can also use the `around` selection operator to specify only atoms within 4 angstroms. At the end we can get the full residues back."
   ]
  },
  {
   "cell_type": "code",
   "execution_count": 29,
   "metadata": {},
   "outputs": [],
   "source": [
    "acidic = u.select_atoms(\"group acidic and around 4 group basic\", acidic=acidic_o, basic=basic_n)\n",
    "basic = u.select_atoms(\"group basic and around 4 group acidic\", acidic=acidic_o, basic=basic_n)"
   ]
  },
  {
   "cell_type": "code",
   "execution_count": 31,
   "metadata": {},
   "outputs": [
    {
     "data": {
      "text/plain": [
       "<AtomGroup with 20 atoms>"
      ]
     },
     "execution_count": 31,
     "metadata": {},
     "output_type": "execute_result"
    }
   ],
   "source": [
    "acidic"
   ]
  },
  {
   "cell_type": "markdown",
   "metadata": {},
   "source": [
    "## Set operations\n",
    "\n",
    "`AtomGroup`s can also be combined using `&` for and and `|` for or"
   ]
  },
  {
   "cell_type": "code",
   "execution_count": 32,
   "metadata": {},
   "outputs": [
    {
     "data": {
      "text/plain": [
       "<AtomGroup with 169 atoms>"
      ]
     },
     "execution_count": 32,
     "metadata": {},
     "output_type": "execute_result"
    }
   ],
   "source": [
    "u.atoms[(u.atoms.masses < 10) & (u.atoms.resnames == 'ARG')]"
   ]
  },
  {
   "cell_type": "markdown",
   "metadata": {},
   "source": [
    "remember to surround expressions of `ag.attr op value` in braces. Not doing so will result in a TypeError."
   ]
  },
  {
   "cell_type": "code",
   "execution_count": 33,
   "metadata": {},
   "outputs": [
    {
     "ename": "TypeError",
     "evalue": "unsupported operand type(s) for &: 'int' and 'str'",
     "output_type": "error",
     "traceback": [
      "\u001b[0;31m---------------------------------------------------------------------------\u001b[0m",
      "\u001b[0;31mTypeError\u001b[0m                                 Traceback (most recent call last)",
      "\u001b[0;32m<ipython-input-33-a1641bdcd66a>\u001b[0m in \u001b[0;36m<module>\u001b[0;34m()\u001b[0m\n\u001b[0;32m----> 1\u001b[0;31m \u001b[0mu\u001b[0m\u001b[0;34m.\u001b[0m\u001b[0matoms\u001b[0m\u001b[0;34m[\u001b[0m\u001b[0mu\u001b[0m\u001b[0;34m.\u001b[0m\u001b[0matoms\u001b[0m\u001b[0;34m.\u001b[0m\u001b[0mmasses\u001b[0m \u001b[0;34m<\u001b[0m \u001b[0;36m10\u001b[0m \u001b[0;34m&\u001b[0m \u001b[0mu\u001b[0m\u001b[0;34m.\u001b[0m\u001b[0matoms\u001b[0m\u001b[0;34m.\u001b[0m\u001b[0mresnames\u001b[0m \u001b[0;34m==\u001b[0m \u001b[0;34m'ARG'\u001b[0m\u001b[0;34m]\u001b[0m\u001b[0;34m\u001b[0m\u001b[0m\n\u001b[0m",
      "\u001b[0;31mTypeError\u001b[0m: unsupported operand type(s) for &: 'int' and 'str'"
     ]
    }
   ],
   "source": [
    "u.atoms[u.atoms.masses < 10 & u.atoms.resnames == 'ARG']"
   ]
  },
  {
   "cell_type": "markdown",
   "metadata": {},
   "source": [
    "By design, an `AtomGroup` can have repeats of the same atom, for example through this selection:"
   ]
  },
  {
   "cell_type": "code",
   "execution_count": 36,
   "metadata": {},
   "outputs": [
    {
     "data": {
      "text/plain": [
       "<AtomGroup with 7 atoms>"
      ]
     },
     "execution_count": 36,
     "metadata": {},
     "output_type": "execute_result"
    }
   ],
   "source": [
    "ag = u.atoms[[0, 0, 1, 2, 4, 4, 5]]\n",
    "ag"
   ]
  },
  {
   "cell_type": "markdown",
   "metadata": {},
   "source": [
    "The `unique` property will return a version of the `AtomGroup` with only one of each Atom:"
   ]
  },
  {
   "cell_type": "code",
   "execution_count": 35,
   "metadata": {},
   "outputs": [
    {
     "data": {
      "text/plain": [
       "<AtomGroup with 5 atoms>"
      ]
     },
     "execution_count": 35,
     "metadata": {},
     "output_type": "execute_result"
    }
   ],
   "source": [
    "ag.unique"
   ]
  },
  {
   "cell_type": "markdown",
   "metadata": {},
   "source": [
    "### Challenge: count the number of glycine residues in the protein"
   ]
  },
  {
   "cell_type": "code",
   "execution_count": 21,
   "metadata": {},
   "outputs": [],
   "source": [
    "import numpy as np"
   ]
  },
  {
   "cell_type": "code",
   "execution_count": 22,
   "metadata": {},
   "outputs": [],
   "source": [
    "r = u.atoms[u.atoms.resnames == 'GLY'].resids"
   ]
  },
  {
   "cell_type": "code",
   "execution_count": 23,
   "metadata": {},
   "outputs": [
    {
     "data": {
      "text/plain": [
       "20"
      ]
     },
     "execution_count": 23,
     "metadata": {},
     "output_type": "execute_result"
    }
   ],
   "source": [
    "len(np.unique(r))"
   ]
  },
  {
   "cell_type": "markdown",
   "metadata": {},
   "source": [
    "## `ResidueGroups` and `SegmentGroups`"
   ]
  },
  {
   "cell_type": "markdown",
   "metadata": {},
   "source": [
    "The `Universe` also gives higher-order topology objects, including `ResidueGroups` and `SegmentGroups`. We can access all residues in the `Universe` with:"
   ]
  },
  {
   "cell_type": "code",
   "execution_count": 24,
   "metadata": {},
   "outputs": [
    {
     "data": {
      "text/plain": [
       "<ResidueGroup with 214 residues>"
      ]
     },
     "execution_count": 24,
     "metadata": {},
     "output_type": "execute_result"
    }
   ],
   "source": [
    "u.residues"
   ]
  },
  {
   "cell_type": "markdown",
   "metadata": {},
   "source": [
    "And all segments with:"
   ]
  },
  {
   "cell_type": "code",
   "execution_count": 25,
   "metadata": {},
   "outputs": [
    {
     "data": {
      "text/plain": [
       "<SegmentGroup with 1 segment>"
      ]
     },
     "execution_count": 25,
     "metadata": {},
     "output_type": "execute_result"
    }
   ],
   "source": [
    "u.segments"
   ]
  },
  {
   "cell_type": "markdown",
   "metadata": {},
   "source": [
    "`ResidueGroups` and `SegmentGroups` also behave similarly to `AtomGroups`, with many of their methods returning `numpy` arrays with each element corresponding to a single residue or segment, respectively."
   ]
  },
  {
   "cell_type": "code",
   "execution_count": 26,
   "metadata": {},
   "outputs": [
    {
     "data": {
      "text/plain": [
       "array(['MET', 'ARG', 'ILE', 'ILE', 'LEU', 'LEU', 'GLY', 'ALA', 'PRO',\n",
       "       'GLY', 'ALA', 'GLY', 'LYS', 'GLY', 'THR', 'GLN', 'ALA', 'GLN',\n",
       "       'PHE', 'ILE', 'MET', 'GLU', 'LYS', 'TYR', 'GLY', 'ILE', 'PRO',\n",
       "       'GLN', 'ILE', 'SER', 'THR', 'GLY', 'ASP', 'MET', 'LEU', 'ARG',\n",
       "       'ALA', 'ALA', 'VAL', 'LYS', 'SER', 'GLY', 'SER', 'GLU', 'LEU',\n",
       "       'GLY', 'LYS', 'GLN', 'ALA', 'LYS', 'ASP', 'ILE', 'MET', 'ASP',\n",
       "       'ALA', 'GLY', 'LYS', 'LEU', 'VAL', 'THR', 'ASP', 'GLU', 'LEU',\n",
       "       'VAL', 'ILE', 'ALA', 'LEU', 'VAL', 'LYS', 'GLU', 'ARG', 'ILE',\n",
       "       'ALA', 'GLN', 'GLU', 'ASP', 'CYS', 'ARG', 'ASN', 'GLY', 'PHE',\n",
       "       'LEU', 'LEU', 'ASP', 'GLY', 'PHE', 'PRO', 'ARG', 'THR', 'ILE',\n",
       "       'PRO', 'GLN', 'ALA', 'ASP', 'ALA', 'MET', 'LYS', 'GLU', 'ALA',\n",
       "       'GLY', 'ILE', 'ASN', 'VAL', 'ASP', 'TYR', 'VAL', 'LEU', 'GLU',\n",
       "       'PHE', 'ASP', 'VAL', 'PRO', 'ASP', 'GLU', 'LEU', 'ILE', 'VAL',\n",
       "       'ASP', 'ARG', 'ILE', 'VAL', 'GLY', 'ARG', 'ARG', 'VAL', 'HSE',\n",
       "       'ALA', 'PRO', 'SER', 'GLY', 'ARG', 'VAL', 'TYR', 'HSE', 'VAL',\n",
       "       'LYS', 'PHE', 'ASN', 'PRO', 'PRO', 'LYS', 'VAL', 'GLU', 'GLY',\n",
       "       'LYS', 'ASP', 'ASP', 'VAL', 'THR', 'GLY', 'GLU', 'GLU', 'LEU',\n",
       "       'THR', 'THR', 'ARG', 'LYS', 'ASP', 'ASP', 'GLN', 'GLU', 'GLU',\n",
       "       'THR', 'VAL', 'ARG', 'LYS', 'ARG', 'LEU', 'VAL', 'GLU', 'TYR',\n",
       "       'HSE', 'GLN', 'MET', 'THR', 'ALA', 'PRO', 'LEU', 'ILE', 'GLY',\n",
       "       'TYR', 'TYR', 'SER', 'LYS', 'GLU', 'ALA', 'GLU', 'ALA', 'GLY',\n",
       "       'ASN', 'THR', 'LYS', 'TYR', 'ALA', 'LYS', 'VAL', 'ASP', 'GLY',\n",
       "       'THR', 'LYS', 'PRO', 'VAL', 'ALA', 'GLU', 'VAL', 'ARG', 'ALA',\n",
       "       'ASP', 'LEU', 'GLU', 'LYS', 'ILE', 'LEU', 'GLY'], dtype=object)"
      ]
     },
     "execution_count": 26,
     "metadata": {},
     "output_type": "execute_result"
    }
   ],
   "source": [
    "u.residues.resnames"
   ]
  },
  {
   "cell_type": "code",
   "execution_count": 27,
   "metadata": {},
   "outputs": [
    {
     "data": {
      "text/plain": [
       "array(['ADK'], dtype=object)"
      ]
     },
     "execution_count": 27,
     "metadata": {},
     "output_type": "execute_result"
    }
   ],
   "source": [
    "u.segments.segids"
   ]
  },
  {
   "cell_type": "markdown",
   "metadata": {},
   "source": [
    "We can more easily get the number of glycine residues using a `ResidueGroup`."
   ]
  },
  {
   "cell_type": "code",
   "execution_count": 28,
   "metadata": {},
   "outputs": [
    {
     "data": {
      "text/plain": [
       "20"
      ]
     },
     "execution_count": 28,
     "metadata": {},
     "output_type": "execute_result"
    }
   ],
   "source": [
    "u.atoms[u.atoms.resnames == 'GLY'].residues.n_residues"
   ]
  },
  {
   "cell_type": "markdown",
   "metadata": {},
   "source": [
    "or perhaps more Pythonic:"
   ]
  },
  {
   "cell_type": "code",
   "execution_count": 29,
   "metadata": {},
   "outputs": [
    {
     "data": {
      "text/plain": [
       "20"
      ]
     },
     "execution_count": 29,
     "metadata": {},
     "output_type": "execute_result"
    }
   ],
   "source": [
    "len(u.atoms[u.atoms.resnames == 'GLY'].residues)"
   ]
  },
  {
   "cell_type": "markdown",
   "metadata": {},
   "source": [
    "## Using coordinates"
   ]
  },
  {
   "cell_type": "markdown",
   "metadata": {},
   "source": [
    "`AtomGroups` are more interesting with coordinate data attached to them. Our topology file has none of this, so using"
   ]
  },
  {
   "cell_type": "code",
   "execution_count": 30,
   "metadata": {},
   "outputs": [
    {
     "ename": "AttributeError",
     "evalue": "AtomGroup has no attribute positions",
     "output_type": "error",
     "traceback": [
      "\u001b[0;31m---------------------------------------------------------------------------\u001b[0m",
      "\u001b[0;31mAttributeError\u001b[0m                            Traceback (most recent call last)",
      "\u001b[0;32m<ipython-input-30-60d0ec7e4db1>\u001b[0m in \u001b[0;36m<module>\u001b[0;34m()\u001b[0m\n\u001b[0;32m----> 1\u001b[0;31m \u001b[0mu\u001b[0m\u001b[0;34m.\u001b[0m\u001b[0matoms\u001b[0m\u001b[0;34m.\u001b[0m\u001b[0mpositions\u001b[0m\u001b[0;34m\u001b[0m\u001b[0m\n\u001b[0m",
      "\u001b[0;32m~/anaconda3/lib/python3.6/site-packages/MDAnalysis/core/groups.py\u001b[0m in \u001b[0;36m__getattr__\u001b[0;34m(self, attr)\u001b[0m\n\u001b[1;32m   1615\u001b[0m                 \u001b[0;32mpass\u001b[0m\u001b[0;34m\u001b[0m\u001b[0m\n\u001b[1;32m   1616\u001b[0m         raise AttributeError(\"{cls} has no attribute {attr}\".format(\n\u001b[0;32m-> 1617\u001b[0;31m             cls=self.__class__.__name__, attr=attr))\n\u001b[0m\u001b[1;32m   1618\u001b[0m \u001b[0;34m\u001b[0m\u001b[0m\n\u001b[1;32m   1619\u001b[0m     \u001b[0;32mdef\u001b[0m \u001b[0m__reduce__\u001b[0m\u001b[0;34m(\u001b[0m\u001b[0mself\u001b[0m\u001b[0;34m)\u001b[0m\u001b[0;34m:\u001b[0m\u001b[0;34m\u001b[0m\u001b[0m\n",
      "\u001b[0;31mAttributeError\u001b[0m: AtomGroup has no attribute positions"
     ]
    }
   ],
   "source": [
    "u.atoms.positions"
   ]
  },
  {
   "cell_type": "markdown",
   "metadata": {},
   "source": [
    "yields an `AttributeError`. Let's load some coordinates by creating a new Universe, but with a topology + a trajectory."
   ]
  },
  {
   "cell_type": "code",
   "execution_count": 31,
   "metadata": {},
   "outputs": [],
   "source": [
    "u = mda.Universe(adk_dataset['topology'], adk_dataset['trajectory'])"
   ]
  },
  {
   "cell_type": "markdown",
   "metadata": {},
   "source": [
    "Now this will work."
   ]
  },
  {
   "cell_type": "code",
   "execution_count": 32,
   "metadata": {},
   "outputs": [
    {
     "data": {
      "text/plain": [
       "array([[ 2.8706636, 10.604456 ,  9.750288 ],\n",
       "       [ 3.109205 , 11.324709 ,  9.038997 ],\n",
       "       [ 3.7460954, 10.243008 , 10.179911 ],\n",
       "       ...,\n",
       "       [-7.499353 , 10.892199 , 12.3347645],\n",
       "       [-6.5965843, 10.8342705, 12.924728 ],\n",
       "       [-8.348269 , 10.599268 , 12.934707 ]], dtype=float32)"
      ]
     },
     "execution_count": 32,
     "metadata": {},
     "output_type": "execute_result"
    }
   ],
   "source": [
    "u.atoms.positions"
   ]
  },
  {
   "cell_type": "markdown",
   "metadata": {},
   "source": [
    "### Challenge: calculate the center of geometry of the C$_\\alpha$ atoms"
   ]
  },
  {
   "cell_type": "code",
   "execution_count": 33,
   "metadata": {},
   "outputs": [
    {
     "data": {
      "text/plain": [
       "array([ 1.0424447,  2.2344341, -5.152382 ], dtype=float32)"
      ]
     },
     "execution_count": 33,
     "metadata": {},
     "output_type": "execute_result"
    }
   ],
   "source": [
    "u.atoms[u.atoms.names == 'CA'].positions.mean(axis=0)"
   ]
  },
  {
   "cell_type": "markdown",
   "metadata": {},
   "source": [
    "Alternatively, we have a builtin for this:"
   ]
  },
  {
   "cell_type": "code",
   "execution_count": 34,
   "metadata": {},
   "outputs": [
    {
     "data": {
      "text/plain": [
       "array([ 1.0424447,  2.2344341, -5.152382 ], dtype=float32)"
      ]
     },
     "execution_count": 34,
     "metadata": {},
     "output_type": "execute_result"
    }
   ],
   "source": [
    "u.atoms[u.atoms.names == 'CA'].centroid()"
   ]
  },
  {
   "cell_type": "markdown",
   "metadata": {},
   "source": [
    "## Bonds, angles, and dihedrals"
   ]
  },
  {
   "cell_type": "markdown",
   "metadata": {},
   "source": [
    "We can also get at connectivity information between atoms, such as bonds, angles, and dihedrals."
   ]
  },
  {
   "cell_type": "code",
   "execution_count": 35,
   "metadata": {},
   "outputs": [
    {
     "data": {
      "text/plain": [
       "<TopologyGroup containing 3365 bonds>"
      ]
     },
     "execution_count": 35,
     "metadata": {},
     "output_type": "execute_result"
    }
   ],
   "source": [
    "u.bonds"
   ]
  },
  {
   "cell_type": "code",
   "execution_count": 36,
   "metadata": {},
   "outputs": [
    {
     "data": {
      "text/plain": [
       "<TopologyGroup containing 6123 angles>"
      ]
     },
     "execution_count": 36,
     "metadata": {},
     "output_type": "execute_result"
    }
   ],
   "source": [
    "u.angles"
   ]
  },
  {
   "cell_type": "code",
   "execution_count": 37,
   "metadata": {},
   "outputs": [
    {
     "data": {
      "text/plain": [
       "<TopologyGroup containing 8921 dihedrals>"
      ]
     },
     "execution_count": 37,
     "metadata": {},
     "output_type": "execute_result"
    }
   ],
   "source": [
    "u.dihedrals"
   ]
  },
  {
   "cell_type": "code",
   "execution_count": 38,
   "metadata": {},
   "outputs": [
    {
     "data": {
      "text/plain": [
       "<Bond between: Atom 0, Atom 4>"
      ]
     },
     "execution_count": 38,
     "metadata": {},
     "output_type": "execute_result"
    }
   ],
   "source": [
    "u.bonds[3]"
   ]
  },
  {
   "cell_type": "markdown",
   "metadata": {},
   "source": [
    "Want the actual value?"
   ]
  },
  {
   "cell_type": "code",
   "execution_count": 39,
   "metadata": {},
   "outputs": [
    {
     "data": {
      "text/plain": [
       "1.4905602"
      ]
     },
     "execution_count": 39,
     "metadata": {},
     "output_type": "execute_result"
    }
   ],
   "source": [
    "u.bonds[3].value()"
   ]
  },
  {
   "cell_type": "code",
   "execution_count": 40,
   "metadata": {},
   "outputs": [],
   "source": [
    "import matplotlib.pyplot as plt\n",
    "%matplotlib inline"
   ]
  },
  {
   "cell_type": "code",
   "execution_count": 41,
   "metadata": {},
   "outputs": [
    {
     "data": {
      "text/plain": [
       "(array([  23.,  295.,   57.,  287., 1022.,    0.,    0.,   31.,  105.,\n",
       "         126.,   41.,   71.,  114.,   88.,   81.,  101.,  129.,  186.,\n",
       "         255.,  221.,  102.,   15.,    2.,    0.,    0.,    0.,    4.,\n",
       "           2.,    3.,    4.]),\n",
       " array([0.95999745, 0.99054587, 1.02109429, 1.05164271, 1.08219113,\n",
       "        1.11273955, 1.14328797, 1.17383639, 1.20438481, 1.23493323,\n",
       "        1.26548165, 1.29603007, 1.32657849, 1.35712691, 1.38767533,\n",
       "        1.41822375, 1.44877217, 1.47932059, 1.50986901, 1.54041743,\n",
       "        1.57096585, 1.60151427, 1.63206269, 1.66261111, 1.69315953,\n",
       "        1.72370795, 1.75425637, 1.78480479, 1.81535321, 1.84590163,\n",
       "        1.87645005]),\n",
       " <a list of 30 Patch objects>)"
      ]
     },
     "execution_count": 41,
     "metadata": {},
     "output_type": "execute_result"
    },
    {
     "data": {
      "image/png": "[encoded data removed]",
      "text/plain": [
       "<Figure size 432x288 with 1 Axes>"
      ]
     },
     "metadata": {
      "needs_background": "light"
     },
     "output_type": "display_data"
    }
   ],
   "source": [
    "plt.hist(u.bonds.values(), bins=30)"
   ]
  },
  {
   "cell_type": "markdown",
   "metadata": {},
   "source": [
    "These work the same way as `AtomGroup`s. They're sliceable, and indexing them works too to give individual bonds, angles, dihedrals."
   ]
  },
  {
   "cell_type": "markdown",
   "metadata": {},
   "source": [
    "## Special Functions\n",
    "\n",
    "The `split` function can be used to return a list of atomgroups that are separated by the specified level. For example `u.atoms.split('residue')` will return a list of all residues as atomgroups."
   ]
  },
  {
   "cell_type": "code",
   "execution_count": 55,
   "metadata": {},
   "outputs": [
    {
     "data": {
      "text/plain": [
       "[<AtomGroup with 19 atoms>,\n",
       " <AtomGroup with 24 atoms>,\n",
       " <AtomGroup with 19 atoms>,\n",
       " <AtomGroup with 19 atoms>,\n",
       " <AtomGroup with 19 atoms>,\n",
       " <AtomGroup with 19 atoms>,\n",
       " <AtomGroup with 7 atoms>,\n",
       " <AtomGroup with 10 atoms>,\n",
       " <AtomGroup with 14 atoms>,\n",
       " <AtomGroup with 7 atoms>,\n",
       " <AtomGroup with 10 atoms>,\n",
       " <AtomGroup with 7 atoms>,\n",
       " <AtomGroup with 22 atoms>,\n",
       " <AtomGroup with 7 atoms>,\n",
       " <AtomGroup with 14 atoms>,\n",
       " <AtomGroup with 17 atoms>,\n",
       " <AtomGroup with 10 atoms>,\n",
       " <AtomGroup with 17 atoms>,\n",
       " <AtomGroup with 20 atoms>,\n",
       " <AtomGroup with 19 atoms>,\n",
       " <AtomGroup with 17 atoms>,\n",
       " <AtomGroup with 15 atoms>,\n",
       " <AtomGroup with 22 atoms>,\n",
       " <AtomGroup with 21 atoms>,\n",
       " <AtomGroup with 7 atoms>,\n",
       " <AtomGroup with 19 atoms>,\n",
       " <AtomGroup with 14 atoms>,\n",
       " <AtomGroup with 17 atoms>,\n",
       " <AtomGroup with 19 atoms>,\n",
       " <AtomGroup with 11 atoms>,\n",
       " <AtomGroup with 14 atoms>,\n",
       " <AtomGroup with 7 atoms>,\n",
       " <AtomGroup with 12 atoms>,\n",
       " <AtomGroup with 17 atoms>,\n",
       " <AtomGroup with 19 atoms>,\n",
       " <AtomGroup with 24 atoms>,\n",
       " <AtomGroup with 10 atoms>,\n",
       " <AtomGroup with 10 atoms>,\n",
       " <AtomGroup with 16 atoms>,\n",
       " <AtomGroup with 22 atoms>,\n",
       " <AtomGroup with 11 atoms>,\n",
       " <AtomGroup with 7 atoms>,\n",
       " <AtomGroup with 11 atoms>,\n",
       " <AtomGroup with 15 atoms>,\n",
       " <AtomGroup with 19 atoms>,\n",
       " <AtomGroup with 7 atoms>,\n",
       " <AtomGroup with 22 atoms>,\n",
       " <AtomGroup with 17 atoms>,\n",
       " <AtomGroup with 10 atoms>,\n",
       " <AtomGroup with 22 atoms>,\n",
       " <AtomGroup with 12 atoms>,\n",
       " <AtomGroup with 19 atoms>,\n",
       " <AtomGroup with 17 atoms>,\n",
       " <AtomGroup with 12 atoms>,\n",
       " <AtomGroup with 10 atoms>,\n",
       " <AtomGroup with 7 atoms>,\n",
       " <AtomGroup with 22 atoms>,\n",
       " <AtomGroup with 19 atoms>,\n",
       " <AtomGroup with 16 atoms>,\n",
       " <AtomGroup with 14 atoms>,\n",
       " <AtomGroup with 12 atoms>,\n",
       " <AtomGroup with 15 atoms>,\n",
       " <AtomGroup with 19 atoms>,\n",
       " <AtomGroup with 16 atoms>,\n",
       " <AtomGroup with 19 atoms>,\n",
       " <AtomGroup with 10 atoms>,\n",
       " <AtomGroup with 19 atoms>,\n",
       " <AtomGroup with 16 atoms>,\n",
       " <AtomGroup with 22 atoms>,\n",
       " <AtomGroup with 15 atoms>,\n",
       " <AtomGroup with 24 atoms>,\n",
       " <AtomGroup with 19 atoms>,\n",
       " <AtomGroup with 10 atoms>,\n",
       " <AtomGroup with 17 atoms>,\n",
       " <AtomGroup with 15 atoms>,\n",
       " <AtomGroup with 12 atoms>,\n",
       " <AtomGroup with 11 atoms>,\n",
       " <AtomGroup with 24 atoms>,\n",
       " <AtomGroup with 14 atoms>,\n",
       " <AtomGroup with 7 atoms>,\n",
       " <AtomGroup with 20 atoms>,\n",
       " <AtomGroup with 19 atoms>,\n",
       " <AtomGroup with 19 atoms>,\n",
       " <AtomGroup with 12 atoms>,\n",
       " <AtomGroup with 7 atoms>,\n",
       " <AtomGroup with 20 atoms>,\n",
       " <AtomGroup with 14 atoms>,\n",
       " <AtomGroup with 24 atoms>,\n",
       " <AtomGroup with 14 atoms>,\n",
       " <AtomGroup with 19 atoms>,\n",
       " <AtomGroup with 14 atoms>,\n",
       " <AtomGroup with 17 atoms>,\n",
       " <AtomGroup with 10 atoms>,\n",
       " <AtomGroup with 12 atoms>,\n",
       " <AtomGroup with 10 atoms>,\n",
       " <AtomGroup with 17 atoms>,\n",
       " <AtomGroup with 22 atoms>,\n",
       " <AtomGroup with 15 atoms>,\n",
       " <AtomGroup with 10 atoms>,\n",
       " <AtomGroup with 7 atoms>,\n",
       " <AtomGroup with 19 atoms>,\n",
       " <AtomGroup with 14 atoms>,\n",
       " <AtomGroup with 16 atoms>,\n",
       " <AtomGroup with 12 atoms>,\n",
       " <AtomGroup with 21 atoms>,\n",
       " <AtomGroup with 16 atoms>,\n",
       " <AtomGroup with 19 atoms>,\n",
       " <AtomGroup with 15 atoms>,\n",
       " <AtomGroup with 20 atoms>,\n",
       " <AtomGroup with 12 atoms>,\n",
       " <AtomGroup with 16 atoms>,\n",
       " <AtomGroup with 14 atoms>,\n",
       " <AtomGroup with 12 atoms>,\n",
       " <AtomGroup with 15 atoms>,\n",
       " <AtomGroup with 19 atoms>,\n",
       " <AtomGroup with 19 atoms>,\n",
       " <AtomGroup with 16 atoms>,\n",
       " <AtomGroup with 12 atoms>,\n",
       " <AtomGroup with 24 atoms>,\n",
       " <AtomGroup with 19 atoms>,\n",
       " <AtomGroup with 16 atoms>,\n",
       " <AtomGroup with 7 atoms>,\n",
       " <AtomGroup with 24 atoms>,\n",
       " <AtomGroup with 24 atoms>,\n",
       " <AtomGroup with 16 atoms>,\n",
       " <AtomGroup with 17 atoms>,\n",
       " <AtomGroup with 10 atoms>,\n",
       " <AtomGroup with 14 atoms>,\n",
       " <AtomGroup with 11 atoms>,\n",
       " <AtomGroup with 7 atoms>,\n",
       " <AtomGroup with 24 atoms>,\n",
       " <AtomGroup with 16 atoms>,\n",
       " <AtomGroup with 21 atoms>,\n",
       " <AtomGroup with 17 atoms>,\n",
       " <AtomGroup with 16 atoms>,\n",
       " <AtomGroup with 22 atoms>,\n",
       " <AtomGroup with 20 atoms>,\n",
       " <AtomGroup with 14 atoms>,\n",
       " <AtomGroup with 14 atoms>,\n",
       " <AtomGroup with 14 atoms>,\n",
       " <AtomGroup with 22 atoms>,\n",
       " <AtomGroup with 16 atoms>,\n",
       " <AtomGroup with 15 atoms>,\n",
       " <AtomGroup with 7 atoms>,\n",
       " <AtomGroup with 22 atoms>,\n",
       " <AtomGroup with 12 atoms>,\n",
       " <AtomGroup with 12 atoms>,\n",
       " <AtomGroup with 16 atoms>,\n",
       " <AtomGroup with 14 atoms>,\n",
       " <AtomGroup with 7 atoms>,\n",
       " <AtomGroup with 15 atoms>,\n",
       " <AtomGroup with 15 atoms>,\n",
       " <AtomGroup with 19 atoms>,\n",
       " <AtomGroup with 14 atoms>,\n",
       " <AtomGroup with 14 atoms>,\n",
       " <AtomGroup with 24 atoms>,\n",
       " <AtomGroup with 22 atoms>,\n",
       " <AtomGroup with 12 atoms>,\n",
       " <AtomGroup with 12 atoms>,\n",
       " <AtomGroup with 17 atoms>,\n",
       " <AtomGroup with 15 atoms>,\n",
       " <AtomGroup with 15 atoms>,\n",
       " <AtomGroup with 14 atoms>,\n",
       " <AtomGroup with 16 atoms>,\n",
       " <AtomGroup with 24 atoms>,\n",
       " <AtomGroup with 22 atoms>,\n",
       " <AtomGroup with 24 atoms>,\n",
       " <AtomGroup with 19 atoms>,\n",
       " <AtomGroup with 16 atoms>,\n",
       " <AtomGroup with 15 atoms>,\n",
       " <AtomGroup with 21 atoms>,\n",
       " <AtomGroup with 17 atoms>,\n",
       " <AtomGroup with 17 atoms>,\n",
       " <AtomGroup with 17 atoms>,\n",
       " <AtomGroup with 14 atoms>,\n",
       " <AtomGroup with 10 atoms>,\n",
       " <AtomGroup with 14 atoms>,\n",
       " <AtomGroup with 19 atoms>,\n",
       " <AtomGroup with 19 atoms>,\n",
       " <AtomGroup with 7 atoms>,\n",
       " <AtomGroup with 21 atoms>,\n",
       " <AtomGroup with 21 atoms>,\n",
       " <AtomGroup with 11 atoms>,\n",
       " <AtomGroup with 22 atoms>,\n",
       " <AtomGroup with 15 atoms>,\n",
       " <AtomGroup with 10 atoms>,\n",
       " <AtomGroup with 15 atoms>,\n",
       " <AtomGroup with 10 atoms>,\n",
       " <AtomGroup with 7 atoms>,\n",
       " <AtomGroup with 14 atoms>,\n",
       " <AtomGroup with 14 atoms>,\n",
       " <AtomGroup with 22 atoms>,\n",
       " <AtomGroup with 21 atoms>,\n",
       " <AtomGroup with 10 atoms>,\n",
       " <AtomGroup with 22 atoms>,\n",
       " <AtomGroup with 16 atoms>,\n",
       " <AtomGroup with 12 atoms>,\n",
       " <AtomGroup with 7 atoms>,\n",
       " <AtomGroup with 14 atoms>,\n",
       " <AtomGroup with 22 atoms>,\n",
       " <AtomGroup with 14 atoms>,\n",
       " <AtomGroup with 16 atoms>,\n",
       " <AtomGroup with 10 atoms>,\n",
       " <AtomGroup with 15 atoms>,\n",
       " <AtomGroup with 16 atoms>,\n",
       " <AtomGroup with 24 atoms>,\n",
       " <AtomGroup with 10 atoms>,\n",
       " <AtomGroup with 12 atoms>,\n",
       " <AtomGroup with 19 atoms>,\n",
       " <AtomGroup with 15 atoms>,\n",
       " <AtomGroup with 22 atoms>,\n",
       " <AtomGroup with 19 atoms>,\n",
       " <AtomGroup with 19 atoms>,\n",
       " <AtomGroup with 8 atoms>]"
      ]
     },
     "execution_count": 55,
     "metadata": {},
     "output_type": "execute_result"
    }
   ],
   "source": [
    "u.atoms.split('residue')"
   ]
  },
  {
   "cell_type": "markdown",
   "metadata": {},
   "source": [
    "Another method is `groupby`. You use it to select for a topolgy attribute (*resnames*, *names*, *masses*, ...). `groupby` will return a dictionary where the keys are all unique values of a given topology attribute and the values are a group of atoms that have this value."
   ]
  },
  {
   "cell_type": "code",
   "execution_count": 57,
   "metadata": {},
   "outputs": [
    {
     "data": {
      "text/plain": [
       "{'ARG': <AtomGroup with 312 atoms>,\n",
       " 'GLU': <AtomGroup with 270 atoms>,\n",
       " 'VAL': <AtomGroup with 304 atoms>,\n",
       " 'ALA': <AtomGroup with 190 atoms>,\n",
       " 'SER': <AtomGroup with 55 atoms>,\n",
       " 'PHE': <AtomGroup with 100 atoms>,\n",
       " 'LYS': <AtomGroup with 396 atoms>,\n",
       " 'GLN': <AtomGroup with 136 atoms>,\n",
       " 'TYR': <AtomGroup with 147 atoms>,\n",
       " 'PRO': <AtomGroup with 140 atoms>,\n",
       " 'THR': <AtomGroup with 154 atoms>,\n",
       " 'CYS': <AtomGroup with 11 atoms>,\n",
       " 'GLY': <AtomGroup with 141 atoms>,\n",
       " 'ASP': <AtomGroup with 204 atoms>,\n",
       " 'ASN': <AtomGroup with 56 atoms>,\n",
       " 'HSE': <AtomGroup with 51 atoms>,\n",
       " 'MET': <AtomGroup with 104 atoms>,\n",
       " 'LEU': <AtomGroup with 304 atoms>,\n",
       " 'ILE': <AtomGroup with 266 atoms>}"
      ]
     },
     "execution_count": 57,
     "metadata": {},
     "output_type": "execute_result"
    }
   ],
   "source": [
    "u.atoms.groupby('resnames')"
   ]
  },
  {
   "cell_type": "markdown",
   "metadata": {},
   "source": [
    "Multiple topology attributes can also be given."
   ]
  },
  {
   "cell_type": "code",
   "execution_count": 61,
   "metadata": {},
   "outputs": [
    {
     "data": {
      "text/plain": [
       "{('ARG', 'O'): <AtomGroup with 13 atoms>,\n",
       " ('ARG', 'HN'): <AtomGroup with 13 atoms>,\n",
       " ('ARG', 'HG1'): <AtomGroup with 13 atoms>,\n",
       " ('ARG', 'CA'): <AtomGroup with 13 atoms>,\n",
       " ('ARG', 'HB1'): <AtomGroup with 13 atoms>,\n",
       " ('ARG', 'HG2'): <AtomGroup with 13 atoms>,\n",
       " ('ARG', 'HD2'): <AtomGroup with 13 atoms>,\n",
       " ('ARG', 'C'): <AtomGroup with 13 atoms>,\n",
       " ('ARG', 'HH12'): <AtomGroup with 13 atoms>,\n",
       " ('ARG', 'CG'): <AtomGroup with 13 atoms>,\n",
       " ('ARG', 'N'): <AtomGroup with 13 atoms>,\n",
       " ('ARG', 'HA'): <AtomGroup with 13 atoms>,\n",
       " ('ARG', 'NH2'): <AtomGroup with 13 atoms>,\n",
       " ('ARG', 'NH1'): <AtomGroup with 13 atoms>,\n",
       " ('ARG', 'HD1'): <AtomGroup with 13 atoms>,\n",
       " ('ARG', 'HE'): <AtomGroup with 13 atoms>,\n",
       " ('ARG', 'CZ'): <AtomGroup with 13 atoms>,\n",
       " ('ARG', 'HH21'): <AtomGroup with 13 atoms>,\n",
       " ('ARG', 'HH11'): <AtomGroup with 13 atoms>,\n",
       " ('ARG', 'HH22'): <AtomGroup with 13 atoms>,\n",
       " ('ARG', 'NE'): <AtomGroup with 13 atoms>,\n",
       " ('ARG', 'CB'): <AtomGroup with 13 atoms>,\n",
       " ('ARG', 'HB2'): <AtomGroup with 13 atoms>,\n",
       " ('ARG', 'CD'): <AtomGroup with 13 atoms>,\n",
       " ('GLU', 'HB1'): <AtomGroup with 18 atoms>,\n",
       " ('GLU', 'N'): <AtomGroup with 18 atoms>,\n",
       " ('GLU', 'O'): <AtomGroup with 18 atoms>,\n",
       " ('GLU', 'HA'): <AtomGroup with 18 atoms>,\n",
       " ('GLU', 'HG2'): <AtomGroup with 18 atoms>,\n",
       " ('GLU', 'C'): <AtomGroup with 18 atoms>,\n",
       " ('GLU', 'HN'): <AtomGroup with 18 atoms>,\n",
       " ('GLU', 'CB'): <AtomGroup with 18 atoms>,\n",
       " ('GLU', 'OE2'): <AtomGroup with 18 atoms>,\n",
       " ('GLU', 'OE1'): <AtomGroup with 18 atoms>,\n",
       " ('GLU', 'HG1'): <AtomGroup with 18 atoms>,\n",
       " ('GLU', 'HB2'): <AtomGroup with 18 atoms>,\n",
       " ('GLU', 'CD'): <AtomGroup with 18 atoms>,\n",
       " ('GLU', 'CG'): <AtomGroup with 18 atoms>,\n",
       " ('GLU', 'CA'): <AtomGroup with 18 atoms>,\n",
       " ('VAL', 'N'): <AtomGroup with 19 atoms>,\n",
       " ('VAL', 'CG1'): <AtomGroup with 19 atoms>,\n",
       " ('VAL', 'HG23'): <AtomGroup with 19 atoms>,\n",
       " ('VAL', 'HA'): <AtomGroup with 19 atoms>,\n",
       " ('VAL', 'O'): <AtomGroup with 19 atoms>,\n",
       " ('VAL', 'CG2'): <AtomGroup with 19 atoms>,\n",
       " ('VAL', 'C'): <AtomGroup with 19 atoms>,\n",
       " ('VAL', 'HG11'): <AtomGroup with 19 atoms>,\n",
       " ('VAL', 'HN'): <AtomGroup with 19 atoms>,\n",
       " ('VAL', 'CB'): <AtomGroup with 19 atoms>,\n",
       " ('VAL', 'HG13'): <AtomGroup with 19 atoms>,\n",
       " ('VAL', 'HG12'): <AtomGroup with 19 atoms>,\n",
       " ('VAL', 'HB'): <AtomGroup with 19 atoms>,\n",
       " ('VAL', 'HG21'): <AtomGroup with 19 atoms>,\n",
       " ('VAL', 'HG22'): <AtomGroup with 19 atoms>,\n",
       " ('VAL', 'CA'): <AtomGroup with 19 atoms>,\n",
       " ('ALA', 'HB1'): <AtomGroup with 19 atoms>,\n",
       " ('ALA', 'N'): <AtomGroup with 19 atoms>,\n",
       " ('ALA', 'O'): <AtomGroup with 19 atoms>,\n",
       " ('ALA', 'HA'): <AtomGroup with 19 atoms>,\n",
       " ('ALA', 'C'): <AtomGroup with 19 atoms>,\n",
       " ('ALA', 'HN'): <AtomGroup with 19 atoms>,\n",
       " ('ALA', 'CB'): <AtomGroup with 19 atoms>,\n",
       " ('ALA', 'HB2'): <AtomGroup with 19 atoms>,\n",
       " ('ALA', 'HB3'): <AtomGroup with 19 atoms>,\n",
       " ('ALA', 'CA'): <AtomGroup with 19 atoms>,\n",
       " ('SER', 'OG'): <AtomGroup with 5 atoms>,\n",
       " ('SER', 'HB1'): <AtomGroup with 5 atoms>,\n",
       " ('SER', 'N'): <AtomGroup with 5 atoms>,\n",
       " ('SER', 'O'): <AtomGroup with 5 atoms>,\n",
       " ('SER', 'HA'): <AtomGroup with 5 atoms>,\n",
       " ('SER', 'C'): <AtomGroup with 5 atoms>,\n",
       " ('SER', 'HN'): <AtomGroup with 5 atoms>,\n",
       " ('SER', 'CB'): <AtomGroup with 5 atoms>,\n",
       " ('SER', 'HB2'): <AtomGroup with 5 atoms>,\n",
       " ('SER', 'HG1'): <AtomGroup with 5 atoms>,\n",
       " ('SER', 'CA'): <AtomGroup with 5 atoms>,\n",
       " ('PHE', 'HD1'): <AtomGroup with 5 atoms>,\n",
       " ('PHE', 'HB1'): <AtomGroup with 5 atoms>,\n",
       " ('PHE', 'N'): <AtomGroup with 5 atoms>,\n",
       " ('PHE', 'HE1'): <AtomGroup with 5 atoms>,\n",
       " ('PHE', 'CE1'): <AtomGroup with 5 atoms>,\n",
       " ('PHE', 'HA'): <AtomGroup with 5 atoms>,\n",
       " ('PHE', 'CZ'): <AtomGroup with 5 atoms>,\n",
       " ('PHE', 'HZ'): <AtomGroup with 5 atoms>,\n",
       " ('PHE', 'HD2'): <AtomGroup with 5 atoms>,\n",
       " ('PHE', 'HE2'): <AtomGroup with 5 atoms>,\n",
       " ('PHE', 'C'): <AtomGroup with 5 atoms>,\n",
       " ('PHE', 'O'): <AtomGroup with 5 atoms>,\n",
       " ('PHE', 'CE2'): <AtomGroup with 5 atoms>,\n",
       " ('PHE', 'HN'): <AtomGroup with 5 atoms>,\n",
       " ('PHE', 'CB'): <AtomGroup with 5 atoms>,\n",
       " ('PHE', 'HB2'): <AtomGroup with 5 atoms>,\n",
       " ('PHE', 'CD1'): <AtomGroup with 5 atoms>,\n",
       " ('PHE', 'CD2'): <AtomGroup with 5 atoms>,\n",
       " ('PHE', 'CG'): <AtomGroup with 5 atoms>,\n",
       " ('PHE', 'CA'): <AtomGroup with 5 atoms>,\n",
       " ('LYS', 'O'): <AtomGroup with 18 atoms>,\n",
       " ('LYS', 'HN'): <AtomGroup with 18 atoms>,\n",
       " ('LYS', 'CD'): <AtomGroup with 18 atoms>,\n",
       " ('LYS', 'HG1'): <AtomGroup with 18 atoms>,\n",
       " ('LYS', 'CA'): <AtomGroup with 18 atoms>,\n",
       " ('LYS', 'HB1'): <AtomGroup with 18 atoms>,\n",
       " ('LYS', 'HZ2'): <AtomGroup with 18 atoms>,\n",
       " ('LYS', 'HG2'): <AtomGroup with 18 atoms>,\n",
       " ('LYS', 'HD2'): <AtomGroup with 18 atoms>,\n",
       " ('LYS', 'C'): <AtomGroup with 18 atoms>,\n",
       " ('LYS', 'NZ'): <AtomGroup with 18 atoms>,\n",
       " ('LYS', 'CG'): <AtomGroup with 18 atoms>,\n",
       " ('LYS', 'HE2'): <AtomGroup with 18 atoms>,\n",
       " ('LYS', 'N'): <AtomGroup with 18 atoms>,\n",
       " ('LYS', 'CE'): <AtomGroup with 18 atoms>,\n",
       " ('LYS', 'HA'): <AtomGroup with 18 atoms>,\n",
       " ('LYS', 'HZ1'): <AtomGroup with 18 atoms>,\n",
       " ('LYS', 'HD1'): <AtomGroup with 18 atoms>,\n",
       " ('LYS', 'HZ3'): <AtomGroup with 18 atoms>,\n",
       " ('LYS', 'CB'): <AtomGroup with 18 atoms>,\n",
       " ('LYS', 'HB2'): <AtomGroup with 18 atoms>,\n",
       " ('LYS', 'HE1'): <AtomGroup with 18 atoms>,\n",
       " ('GLN', 'HB1'): <AtomGroup with 8 atoms>,\n",
       " ('GLN', 'N'): <AtomGroup with 8 atoms>,\n",
       " ('GLN', 'HE21'): <AtomGroup with 8 atoms>,\n",
       " ('GLN', 'O'): <AtomGroup with 8 atoms>,\n",
       " ('GLN', 'HA'): <AtomGroup with 8 atoms>,\n",
       " ('GLN', 'HG2'): <AtomGroup with 8 atoms>,\n",
       " ('GLN', 'C'): <AtomGroup with 8 atoms>,\n",
       " ('GLN', 'HN'): <AtomGroup with 8 atoms>,\n",
       " ('GLN', 'CB'): <AtomGroup with 8 atoms>,\n",
       " ('GLN', 'OE1'): <AtomGroup with 8 atoms>,\n",
       " ('GLN', 'HG1'): <AtomGroup with 8 atoms>,\n",
       " ('GLN', 'HB2'): <AtomGroup with 8 atoms>,\n",
       " ('GLN', 'CD'): <AtomGroup with 8 atoms>,\n",
       " ('GLN', 'NE2'): <AtomGroup with 8 atoms>,\n",
       " ('GLN', 'HE22'): <AtomGroup with 8 atoms>,\n",
       " ('GLN', 'CG'): <AtomGroup with 8 atoms>,\n",
       " ('GLN', 'CA'): <AtomGroup with 8 atoms>,\n",
       " ('TYR', 'CE1'): <AtomGroup with 7 atoms>,\n",
       " ('TYR', 'O'): <AtomGroup with 7 atoms>,\n",
       " ('TYR', 'HN'): <AtomGroup with 7 atoms>,\n",
       " ('TYR', 'OH'): <AtomGroup with 7 atoms>,\n",
       " ('TYR', 'CA'): <AtomGroup with 7 atoms>,\n",
       " ('TYR', 'HB1'): <AtomGroup with 7 atoms>,\n",
       " ('TYR', 'HD2'): <AtomGroup with 7 atoms>,\n",
       " ('TYR', 'C'): <AtomGroup with 7 atoms>,\n",
       " ('TYR', 'CD2'): <AtomGroup with 7 atoms>,\n",
       " ('TYR', 'CG'): <AtomGroup with 7 atoms>,\n",
       " ('TYR', 'HE2'): <AtomGroup with 7 atoms>,\n",
       " ('TYR', 'HH'): <AtomGroup with 7 atoms>,\n",
       " ('TYR', 'N'): <AtomGroup with 7 atoms>,\n",
       " ('TYR', 'HA'): <AtomGroup with 7 atoms>,\n",
       " ('TYR', 'CD1'): <AtomGroup with 7 atoms>,\n",
       " ('TYR', 'HD1'): <AtomGroup with 7 atoms>,\n",
       " ('TYR', 'CZ'): <AtomGroup with 7 atoms>,\n",
       " ('TYR', 'CE2'): <AtomGroup with 7 atoms>,\n",
       " ('TYR', 'CB'): <AtomGroup with 7 atoms>,\n",
       " ('TYR', 'HB2'): <AtomGroup with 7 atoms>,\n",
       " ('TYR', 'HE1'): <AtomGroup with 7 atoms>,\n",
       " ('PRO', 'HD1'): <AtomGroup with 10 atoms>,\n",
       " ('PRO', 'HB1'): <AtomGroup with 10 atoms>,\n",
       " ('PRO', 'N'): <AtomGroup with 10 atoms>,\n",
       " ('PRO', 'O'): <AtomGroup with 10 atoms>,\n",
       " ('PRO', 'HA'): <AtomGroup with 10 atoms>,\n",
       " ('PRO', 'HG2'): <AtomGroup with 10 atoms>,\n",
       " ('PRO', 'HD2'): <AtomGroup with 10 atoms>,\n",
       " ('PRO', 'C'): <AtomGroup with 10 atoms>,\n",
       " ('PRO', 'CB'): <AtomGroup with 10 atoms>,\n",
       " ('PRO', 'HG1'): <AtomGroup with 10 atoms>,\n",
       " ('PRO', 'CD'): <AtomGroup with 10 atoms>,\n",
       " ('PRO', 'HB2'): <AtomGroup with 10 atoms>,\n",
       " ('PRO', 'CG'): <AtomGroup with 10 atoms>,\n",
       " ('PRO', 'CA'): <AtomGroup with 10 atoms>,\n",
       " ('THR', 'N'): <AtomGroup with 11 atoms>,\n",
       " ('THR', 'HG23'): <AtomGroup with 11 atoms>,\n",
       " ('THR', 'HA'): <AtomGroup with 11 atoms>,\n",
       " ('THR', 'O'): <AtomGroup with 11 atoms>,\n",
       " ('THR', 'CG2'): <AtomGroup with 11 atoms>,\n",
       " ('THR', 'C'): <AtomGroup with 11 atoms>,\n",
       " ('THR', 'HN'): <AtomGroup with 11 atoms>,\n",
       " ('THR', 'HG22'): <AtomGroup with 11 atoms>,\n",
       " ('THR', 'CB'): <AtomGroup with 11 atoms>,\n",
       " ('THR', 'OG1'): <AtomGroup with 11 atoms>,\n",
       " ('THR', 'HB'): <AtomGroup with 11 atoms>,\n",
       " ('THR', 'HG21'): <AtomGroup with 11 atoms>,\n",
       " ('THR', 'HG1'): <AtomGroup with 11 atoms>,\n",
       " ('THR', 'CA'): <AtomGroup with 11 atoms>,\n",
       " ('CYS', 'HB1'): <AtomGroup with 1 atom>,\n",
       " ('CYS', 'N'): <AtomGroup with 1 atom>,\n",
       " ('CYS', 'O'): <AtomGroup with 1 atom>,\n",
       " ('CYS', 'HA'): <AtomGroup with 1 atom>,\n",
       " ('CYS', 'C'): <AtomGroup with 1 atom>,\n",
       " ('CYS', 'HN'): <AtomGroup with 1 atom>,\n",
       " ('CYS', 'CB'): <AtomGroup with 1 atom>,\n",
       " ('CYS', 'HB2'): <AtomGroup with 1 atom>,\n",
       " ('CYS', 'SG'): <AtomGroup with 1 atom>,\n",
       " ('CYS', 'HG1'): <AtomGroup with 1 atom>,\n",
       " ('CYS', 'CA'): <AtomGroup with 1 atom>,\n",
       " ('GLY', 'N'): <AtomGroup with 20 atoms>,\n",
       " ('GLY', 'OT1'): <AtomGroup with 1 atom>,\n",
       " ('GLY', 'O'): <AtomGroup with 19 atoms>,\n",
       " ('GLY', 'OT2'): <AtomGroup with 1 atom>,\n",
       " ('GLY', 'C'): <AtomGroup with 20 atoms>,\n",
       " ('GLY', 'HN'): <AtomGroup with 20 atoms>,\n",
       " ('GLY', 'HA2'): <AtomGroup with 20 atoms>,\n",
       " ('GLY', 'CA'): <AtomGroup with 20 atoms>,\n",
       " ('GLY', 'HA1'): <AtomGroup with 20 atoms>,\n",
       " ('ASP', 'HB1'): <AtomGroup with 17 atoms>,\n",
       " ('ASP', 'N'): <AtomGroup with 17 atoms>,\n",
       " ('ASP', 'O'): <AtomGroup with 17 atoms>,\n",
       " ('ASP', 'HA'): <AtomGroup with 17 atoms>,\n",
       " ('ASP', 'C'): <AtomGroup with 17 atoms>,\n",
       " ('ASP', 'OD1'): <AtomGroup with 17 atoms>,\n",
       " ('ASP', 'HN'): <AtomGroup with 17 atoms>,\n",
       " ('ASP', 'CB'): <AtomGroup with 17 atoms>,\n",
       " ('ASP', 'HB2'): <AtomGroup with 17 atoms>,\n",
       " ('ASP', 'OD2'): <AtomGroup with 17 atoms>,\n",
       " ('ASP', 'CG'): <AtomGroup with 17 atoms>,\n",
       " ('ASP', 'CA'): <AtomGroup with 17 atoms>,\n",
       " ('ASN', 'HB1'): <AtomGroup with 4 atoms>,\n",
       " ('ASN', 'N'): <AtomGroup with 4 atoms>,\n",
       " ('ASN', 'O'): <AtomGroup with 4 atoms>,\n",
       " ('ASN', 'HA'): <AtomGroup with 4 atoms>,\n",
       " ('ASN', 'HD22'): <AtomGroup with 4 atoms>,\n",
       " ('ASN', 'HD21'): <AtomGroup with 4 atoms>,\n",
       " ('ASN', 'C'): <AtomGroup with 4 atoms>,\n",
       " ('ASN', 'ND2'): <AtomGroup with 4 atoms>,\n",
       " ('ASN', 'OD1'): <AtomGroup with 4 atoms>,\n",
       " ('ASN', 'HN'): <AtomGroup with 4 atoms>,\n",
       " ('ASN', 'CB'): <AtomGroup with 4 atoms>,\n",
       " ('ASN', 'HB2'): <AtomGroup with 4 atoms>,\n",
       " ('ASN', 'CG'): <AtomGroup with 4 atoms>,\n",
       " ('ASN', 'CA'): <AtomGroup with 4 atoms>,\n",
       " ('HSE', 'HB1'): <AtomGroup with 3 atoms>,\n",
       " ('HSE', 'N'): <AtomGroup with 3 atoms>,\n",
       " ('HSE', 'ND1'): <AtomGroup with 3 atoms>,\n",
       " ('HSE', 'CE1'): <AtomGroup with 3 atoms>,\n",
       " ('HSE', 'HA'): <AtomGroup with 3 atoms>,\n",
       " ('HSE', 'HE1'): <AtomGroup with 3 atoms>,\n",
       " ('HSE', 'HE2'): <AtomGroup with 3 atoms>,\n",
       " ('HSE', 'HD2'): <AtomGroup with 3 atoms>,\n",
       " ('HSE', 'O'): <AtomGroup with 3 atoms>,\n",
       " ('HSE', 'C'): <AtomGroup with 3 atoms>,\n",
       " ('HSE', 'HN'): <AtomGroup with 3 atoms>,\n",
       " ('HSE', 'CB'): <AtomGroup with 3 atoms>,\n",
       " ('HSE', 'NE2'): <AtomGroup with 3 atoms>,\n",
       " ('HSE', 'HB2'): <AtomGroup with 3 atoms>,\n",
       " ('HSE', 'CD2'): <AtomGroup with 3 atoms>,\n",
       " ('HSE', 'CG'): <AtomGroup with 3 atoms>,\n",
       " ('HSE', 'CA'): <AtomGroup with 3 atoms>,\n",
       " ('MET', 'HB1'): <AtomGroup with 6 atoms>,\n",
       " ('MET', 'N'): <AtomGroup with 6 atoms>,\n",
       " ('MET', 'SD'): <AtomGroup with 6 atoms>,\n",
       " ('MET', 'CE'): <AtomGroup with 6 atoms>,\n",
       " ('MET', 'HA'): <AtomGroup with 6 atoms>,\n",
       " ('MET', 'HG2'): <AtomGroup with 6 atoms>,\n",
       " ('MET', 'HE1'): <AtomGroup with 6 atoms>,\n",
       " ('MET', 'HE2'): <AtomGroup with 6 atoms>,\n",
       " ('MET', 'HE3'): <AtomGroup with 6 atoms>,\n",
       " ('MET', 'C'): <AtomGroup with 6 atoms>,\n",
       " ('MET', 'HT2'): <AtomGroup with 1 atom>,\n",
       " ('MET', 'O'): <AtomGroup with 6 atoms>,\n",
       " ('MET', 'HT1'): <AtomGroup with 1 atom>,\n",
       " ('MET', 'HN'): <AtomGroup with 5 atoms>,\n",
       " ('MET', 'CB'): <AtomGroup with 6 atoms>,\n",
       " ('MET', 'HG1'): <AtomGroup with 6 atoms>,\n",
       " ('MET', 'HT3'): <AtomGroup with 1 atom>,\n",
       " ('MET', 'HB2'): <AtomGroup with 6 atoms>,\n",
       " ('MET', 'CG'): <AtomGroup with 6 atoms>,\n",
       " ('MET', 'CA'): <AtomGroup with 6 atoms>,\n",
       " ('LEU', 'HB1'): <AtomGroup with 16 atoms>,\n",
       " ('LEU', 'N'): <AtomGroup with 16 atoms>,\n",
       " ('LEU', 'HD23'): <AtomGroup with 16 atoms>,\n",
       " ('LEU', 'HA'): <AtomGroup with 16 atoms>,\n",
       " ('LEU', 'HD11'): <AtomGroup with 16 atoms>,\n",
       " ('LEU', 'HD22'): <AtomGroup with 16 atoms>,\n",
       " ('LEU', 'HD21'): <AtomGroup with 16 atoms>,\n",
       " ('LEU', 'O'): <AtomGroup with 16 atoms>,\n",
       " ('LEU', 'C'): <AtomGroup with 16 atoms>,\n",
       " ('LEU', 'HN'): <AtomGroup with 16 atoms>,\n",
       " ('LEU', 'CB'): <AtomGroup with 16 atoms>,\n",
       " ('LEU', 'HG'): <AtomGroup with 16 atoms>,\n",
       " ('LEU', 'HD12'): <AtomGroup with 16 atoms>,\n",
       " ('LEU', 'HD13'): <AtomGroup with 16 atoms>,\n",
       " ('LEU', 'HB2'): <AtomGroup with 16 atoms>,\n",
       " ('LEU', 'CD1'): <AtomGroup with 16 atoms>,\n",
       " ('LEU', 'CD2'): <AtomGroup with 16 atoms>,\n",
       " ('LEU', 'CG'): <AtomGroup with 16 atoms>,\n",
       " ('LEU', 'CA'): <AtomGroup with 16 atoms>,\n",
       " ('ILE', 'HD1'): <AtomGroup with 14 atoms>,\n",
       " ('ILE', 'N'): <AtomGroup with 14 atoms>,\n",
       " ('ILE', 'CG1'): <AtomGroup with 14 atoms>,\n",
       " ('ILE', 'HG23'): <AtomGroup with 14 atoms>,\n",
       " ('ILE', 'HA'): <AtomGroup with 14 atoms>,\n",
       " ('ILE', 'HD3'): <AtomGroup with 14 atoms>,\n",
       " ('ILE', 'HD2'): <AtomGroup with 14 atoms>,\n",
       " ('ILE', 'O'): <AtomGroup with 14 atoms>,\n",
       " ('ILE', 'CG2'): <AtomGroup with 14 atoms>,\n",
       " ('ILE', 'C'): <AtomGroup with 14 atoms>,\n",
       " ('ILE', 'HG11'): <AtomGroup with 14 atoms>,\n",
       " ('ILE', 'HN'): <AtomGroup with 14 atoms>,\n",
       " ('ILE', 'CB'): <AtomGroup with 14 atoms>,\n",
       " ('ILE', 'HG12'): <AtomGroup with 14 atoms>,\n",
       " ('ILE', 'HB'): <AtomGroup with 14 atoms>,\n",
       " ('ILE', 'CD'): <AtomGroup with 14 atoms>,\n",
       " ('ILE', 'HG21'): <AtomGroup with 14 atoms>,\n",
       " ('ILE', 'HG22'): <AtomGroup with 14 atoms>,\n",
       " ('ILE', 'CA'): <AtomGroup with 14 atoms>}"
      ]
     },
     "execution_count": 61,
     "metadata": {},
     "output_type": "execute_result"
    }
   ],
   "source": [
    "u.atoms.groupby(['resnames', 'names'])"
   ]
  },
  {
   "cell_type": "markdown",
   "metadata": {},
   "source": [
    "### Example: domain movement of adenylate kinase (AdK)\n",
    "\n",
    "AdK has three domains: CORE, NMP, LID. The NMP and LID move relative to the CORE. Movements can be defined by two angles between the two domains, $\\theta_{\\text{NMP}}$ and $\\theta_{\\text{LID}}$.\n",
    "\n",
    "These angles are defined as:\n",
    "* CORE residues 1-29, 60-121, 160-214 (gray)\n",
    "* NMP residues 30-59 (blue)\n",
    "* LID residues 122-159 (yellow)"
   ]
  },
  {
   "cell_type": "code",
   "execution_count": null,
   "metadata": {},
   "outputs": [],
   "source": [
    "from IPython.core.display import Image\n",
    "\n",
    "Image(\"MDAnalysisTutorial/doc/sphinx/figs/angle_defs.png\")"
   ]
  },
  {
   "cell_type": "markdown",
   "metadata": {},
   "source": [
    "AdK undergoes a conformational transition during which the NMP and LID domain move relative to the CORE domain. The transition can be characterized by the angles between the domains:"
   ]
  },
  {
   "cell_type": "code",
   "execution_count": null,
   "metadata": {},
   "outputs": [],
   "source": [
    "Image(\"MDAnalysisTutorial/doc/sphinx/figs/6b_angle_def_open.png\", width=500)"
   ]
  },
  {
   "cell_type": "markdown",
   "metadata": {},
   "source": [
    "For simplicity, define $\\theta_{\\text{NMP}}$ and $\\theta_{\\text{LID}}$ between the centers of mass of *backbone* atoms of groups of the following atoms `A`, `B`, `C`:\n",
    "\n",
    "Definition of $\\theta_{\\text{NMP}}$\n",
    "\n",
    "A: 115-125, B: 90-100, C: 35-55\n",
    "\n",
    "Definition of $\\theta_{\\text{LID}}$\n",
    "\n",
    "A: 179-185, B: 115-125, C: 125-153\n",
    "\n",
    "The angle between vectors $\\vec{BA}$ and $\\vec{BC}$ is \\begin{equation*} \\theta = \\arccos\\left(\\frac{\\vec{BA}\\cdot\\vec{BC}}{|\\vec{BA}||\\vec{BC}|}\\right) \\end{equation*}\n",
    "\n",
    "With `numpy`:\n",
    "```python\n",
    "np.arccos(np.cdot(BA, BC))/(np.linalg.norm(BA) * np.linalg.norm(BC))\n",
    "```\n"
   ]
  },
  {
   "cell_type": "markdown",
   "metadata": {},
   "source": [
    "Write two functions `theta_NMP()` and `theta_LID()` that calculate these angles, given the universe.\n",
    "\n",
    "Hint:"
   ]
  },
  {
   "cell_type": "code",
   "execution_count": null,
   "metadata": {},
   "outputs": [],
   "source": [
    "A = u.select_atoms(\"resid 115:125 and backbone\").center_of_geometry()"
   ]
  },
  {
   "cell_type": "code",
   "execution_count": null,
   "metadata": {},
   "outputs": [],
   "source": [
    "import numpy as np\n",
    "from numpy.linalg import norm\n",
    "\n",
    "def theta_NMP(u):\n",
    "    \"\"\"Calculate the NMP-CORE angle for E. coli AdK in degrees\"\"\"\n",
    "    C = u.select_atoms(\"resid 115:125 and backbone\").center_of_geometry()\n",
    "    B = u.select_atoms(\"resid 90:100 and backbone\").center_of_geometry()\n",
    "    A = u.select_atoms(\"resid 35:55 and backbone\").center_of_geometry()\n",
    "    BA = A - B\n",
    "    BC = C - B\n",
    "    theta = np.arccos(np.dot(BA, BC)/(norm(BA)*norm(BC)))\n",
    "    return np.rad2deg(theta)\n",
    "\n",
    "def theta_LID(u):\n",
    "    \"\"\"Calculate the LID-CORE angle for E. coli AdK in degrees\"\"\"\n",
    "    C = u.select_atoms(\"resid 179:185 and backbone\").center_of_geometry()\n",
    "    B = u.select_atoms(\"resid 115:125 and backbone\").center_of_geometry()\n",
    "    A = u.select_atoms(\"resid 125:153 and backbone\").center_of_geometry()\n",
    "    BA = A - B\n",
    "    BC = C - B\n",
    "    theta = np.arccos(np.dot(BA, BC)/(norm(BA)*norm(BC)))\n",
    "    return np.rad2deg(theta)"
   ]
  },
  {
   "cell_type": "markdown",
   "metadata": {},
   "source": [
    "And now Oliver."
   ]
  },
  {
   "cell_type": "code",
   "execution_count": null,
   "metadata": {},
   "outputs": [],
   "source": []
  },
  {
   "cell_type": "code",
   "execution_count": null,
   "metadata": {},
   "outputs": [],
   "source": []
  },
  {
   "cell_type": "code",
   "execution_count": null,
   "metadata": {},
   "outputs": [],
   "source": []
  },
  {
   "cell_type": "code",
   "execution_count": null,
   "metadata": {},
   "outputs": [],
   "source": []
  },
  {
   "cell_type": "code",
   "execution_count": null,
   "metadata": {},
   "outputs": [],
   "source": []
  },
  {
   "cell_type": "code",
   "execution_count": null,
   "metadata": {},
   "outputs": [],
   "source": []
  }
 ],
 "metadata": {
  "kernelspec": {
   "display_name": "Python 3",
   "language": "python",
   "name": "python3"
  },
  "language_info": {
   "codemirror_mode": {
    "name": "ipython",
    "version": 3
   },
   "file_extension": ".py",
   "mimetype": "text/x-python",
   "name": "python",
   "nbconvert_exporter": "python",
   "pygments_lexer": "ipython3",
   "version": "3.6.5"
  }
 },
 "nbformat": 4,
 "nbformat_minor": 2
}
